{
  "nbformat": 4,
  "nbformat_minor": 0,
  "metadata": {
    "colab": {
      "provenance": [],
      "authorship_tag": "ABX9TyPCS6aNpUW6ItpDTVQkrPle",
      "include_colab_link": true
    },
    "kernelspec": {
      "name": "python3",
      "display_name": "Python 3"
    },
    "language_info": {
      "name": "python"
    }
  },
  "cells": [
    {
      "cell_type": "markdown",
      "metadata": {
        "id": "view-in-github",
        "colab_type": "text"
      },
      "source": [
        "<a href=\"https://colab.research.google.com/github/ykitaguchi77/Colab_Scripts/blob/master/DeepFace.ipynb\" target=\"_parent\"><img src=\"https://colab.research.google.com/assets/colab-badge.svg\" alt=\"Open In Colab\"/></a>"
      ]
    },
    {
      "cell_type": "markdown",
      "source": [
        "#**DeepFace**\n",
        "\n",
        "https://viso.ai/computer-vision/deepface/"
      ],
      "metadata": {
        "id": "BmF-ShKu6rzL"
      }
    },
    {
      "cell_type": "code",
      "source": [
        "!pip install deepface --q\n",
        "from deepface import DeepFace\n",
        "import glob\n",
        "import os\n",
        "import shutil\n",
        "import matplotlib.pyplot as plt\n",
        "from PIL import Image\n",
        "from IPython.display import display\n"
      ],
      "metadata": {
        "id": "hSfSdbM7IzG6"
      },
      "execution_count": 32,
      "outputs": []
    },
    {
      "cell_type": "code",
      "source": [
        "dataset_dir = \"/content/test_dataset\"\n",
        "if os.path.exists(dataset_dir):\n",
        "    shutil.rmtree(dataset_dir)\n",
        "os.makedirs(dataset_dir)\n",
        "%cd $dataset_dir\n",
        "!wget https://www.townnews.co.jp/0105/images/a000906181_01.jpg\n",
        "!wget https://img.sirabee.com/wp-content/uploads/2020/11/sirabee20201109degawatetsuro-scaled-1200x800.jpg\n",
        "!wget https://s3-ap-northeast-1.amazonaws.com/storage.withnews.jp/2020/07/16/5/3e/53ee9846-l.jpg\n",
        "!wget https://hochi.news/images/2022/09/25/20220925-OHT1I51425-T.jpg\n",
        "!wget https://encount.press/wp-content/uploads/2023/01/19204606/d17bbdbb3022d10400c3c2c53c53fcce.jpg\n",
        "!wget https://former-cdn.cinra.net/uploads/img/news/2017/20170123-horiuchiken_full.jpg"
      ],
      "metadata": {
        "id": "MImcD84eIzIl"
      },
      "execution_count": null,
      "outputs": []
    },
    {
      "cell_type": "code",
      "source": [
        "base_img = glob.glob(\"/content/test_dataset/*\")[3]\n",
        "img_PIL = Image.open(base_img)\n",
        "display(img_PIL)\n",
        "\n",
        "models = [\"VGG-Face\", \"Facenet\", \"OpenFace\", \"DeepFace\", \"DeepID\", \"Dlib\", \"ArcFace\"]\n",
        "\n",
        "for img in glob.glob(f\"{dataset_dir}/*\"):\n",
        "    img_PIL = Image.open(img)\n",
        "    display(img_PIL)\n",
        "    try:\n",
        "        verification = DeepFace.verify(img1_path = base_img, img2_path = img, model_name = models[6])\n",
        "        print(verification)\n",
        "    except:\n",
        "        print(\"顔が検出されませんでした\")\n"
      ],
      "metadata": {
        "id": "qqenwT_tIzK8"
      },
      "execution_count": null,
      "outputs": []
    },
    {
      "cell_type": "code",
      "source": [],
      "metadata": {
        "id": "OwS7OguVMZLs"
      },
      "execution_count": 40,
      "outputs": []
    }
  ]
}
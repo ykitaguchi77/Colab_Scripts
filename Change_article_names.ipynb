{
  "nbformat": 4,
  "nbformat_minor": 0,
  "metadata": {
    "colab": {
      "provenance": [],
      "authorship_tag": "ABX9TyNAqgoouhv97yjeKESqUzQa",
      "include_colab_link": true
    },
    "kernelspec": {
      "name": "python3",
      "display_name": "Python 3"
    },
    "language_info": {
      "name": "python"
    }
  },
  "cells": [
    {
      "cell_type": "markdown",
      "metadata": {
        "id": "view-in-github",
        "colab_type": "text"
      },
      "source": [
        "<a href=\"https://colab.research.google.com/github/ykitaguchi77/Colab_Scripts/blob/master/Change_article_names.ipynb\" target=\"_parent\"><img src=\"https://colab.research.google.com/assets/colab-badge.svg\" alt=\"Open In Colab\"/></a>"
      ]
    },
    {
      "cell_type": "code",
      "execution_count": 40,
      "metadata": {
        "colab": {
          "base_uri": "https://localhost:8080/"
        },
        "id": "I8Wf622ze1Ov",
        "outputId": "97f0b86e-a064-494b-b12e-28fdf1fd58be"
      },
      "outputs": [
        {
          "output_type": "stream",
          "name": "stdout",
          "text": [
            "文字列を入力してください: 10.1111/aos.14207\n",
            "https://doi.org/10.1111/aos.14207\n"
          ]
        }
      ],
      "source": [
        "input_str = input(\"文字列を入力してください: \")\n",
        "link_str = \"https://doi.org/\" + input_str\n",
        "print(link_str)"
      ]
    },
    {
      "cell_type": "code",
      "source": [
        "def reformat_names(names):\n",
        "    name_list = names.split(', ')   # 名前をカンマで分割してリストに格納\n",
        "    output = \"\"\n",
        "    for name in name_list:\n",
        "        name_parts = name.split()   # 名前をスペースで分割してリストに格納\n",
        "        first_initial = name_parts[-1][0] + \".\"   # first nameのイニシャル\n",
        "        last_name = name_parts[-2]   # family nameは文字列の最後から2番目の要素\n",
        "        last_name = ''.join([i for i in last_name if not i.isdigit()])  # 数字を削除\n",
        "        output += last_name + \", \" + first_initial   # family nameとfirst nameのイニシャルをカンマで区切って追加\n",
        "        if name == name_list[-1]:   # 最後の名前の前に&を入れる\n",
        "            output += \"& \"\n",
        "        else:\n",
        "            output += \", \"\n",
        "    return output[:-2]   # 最後のカンマとスペースを削除して返す"
      ],
      "metadata": {
        "id": "0eoj-EseqJz7"
      },
      "execution_count": 34,
      "outputs": []
    },
    {
      "cell_type": "code",
      "source": [
        "def convert_names(name):\n",
        "    name_list = name.split()\n",
        "    name_list = [i for i in name_list if not i.isdigit()]\n",
        "    name_list.insert(0, name_list.pop())\n",
        "    name_list = [elem[0] if index > 0 else elem for index, elem in enumerate(name_list)]\n",
        "    converted_name = \", \".join([name_list[0], \". \".join(name_list[1:])])\n",
        "    converted_name += \".\"\n",
        "    return converted_name\n",
        "\n",
        "def convert_name_string(names):\n",
        "    name_list = names.split(\",\")\n",
        "    name_list = [convert_names(name) for name in name_list]\n",
        "    converted = \", \".join(name_list[:-1]) + \" & \" + name_list[-1]\n",
        "    return converted\n",
        "\n",
        "\n",
        "def extract_strings(strings):\n",
        "    affiliations_index = strings.find(\"Affiliations\")\n",
        "    names = strings[:affiliations_index].strip()\n",
        "    doi_index = strings.find(\"DOI: \")\n",
        "    doi = strings[doi_index + len(\"DOI: \"):].strip()\n",
        "    return names, doi\n",
        "\n",
        "names = input(\"input strings\")\n",
        "\n",
        "names, doi = extract_strings(names)\n",
        "\n",
        "link_str = \"https://doi.org/\" + doi\n",
        "name_string = convert_name_string(names)\n",
        "\n",
        "print(\"\")\n",
        "print(link_str)\n",
        "print(\"\")\n",
        "print(name_string)\n"
      ],
      "metadata": {
        "colab": {
          "base_uri": "https://localhost:8080/"
        },
        "id": "3cbBVnhq4r0M",
        "outputId": "13a3e242-bfce-4448-bb04-68c3c548a833"
      },
      "execution_count": 84,
      "outputs": [
        {
          "output_type": "stream",
          "name": "stdout",
          "text": [
            "input stringsRongchang Zhao 1, Shuo Li 2 Affiliations expand PMID: 31731092 DOI: 10.1016/j.media.2019.101593\n",
            "\n",
            "https://doi.org/10.1016/j.media.2019.101593\n",
            "\n",
            "Zhao, R. & Li, S.\n"
          ]
        }
      ]
    },
    {
      "cell_type": "code",
      "source": [],
      "metadata": {
        "id": "tn0Ft7i-9j1p"
      },
      "execution_count": null,
      "outputs": []
    }
  ]
}
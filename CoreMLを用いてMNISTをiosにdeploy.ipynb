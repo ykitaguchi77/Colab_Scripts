{
  "nbformat": 4,
  "nbformat_minor": 0,
  "metadata": {
    "accelerator": "GPU",
    "colab": {
      "name": "Untitled76.ipynb",
      "provenance": [],
      "toc_visible": true,
      "authorship_tag": "ABX9TyMxwFZVNlZKoRqgSrKLEdWy",
      "include_colab_link": true
    },
    "kernelspec": {
      "display_name": "Python 3",
      "name": "python3"
    },
    "language_info": {
      "name": "python"
    },
    "widgets": {
      "application/vnd.jupyter.widget-state+json": {
        "ca571bd9b81e4e3183b97584d1c0379e": {
          "model_module": "@jupyter-widgets/controls",
          "model_name": "HBoxModel",
          "state": {
            "_view_name": "HBoxView",
            "_dom_classes": [],
            "_model_name": "HBoxModel",
            "_view_module": "@jupyter-widgets/controls",
            "_model_module_version": "1.5.0",
            "_view_count": null,
            "_view_module_version": "1.5.0",
            "box_style": "",
            "layout": "IPY_MODEL_cd8da6fcbe1444cc8c9bf600d5f58240",
            "_model_module": "@jupyter-widgets/controls",
            "children": [
              "IPY_MODEL_9c8f72f56a504837b53f9b29338d740b",
              "IPY_MODEL_c4172ea2fe0f470f988c7bf358d1e657"
            ]
          }
        },
        "cd8da6fcbe1444cc8c9bf600d5f58240": {
          "model_module": "@jupyter-widgets/base",
          "model_name": "LayoutModel",
          "state": {
            "_view_name": "LayoutView",
            "grid_template_rows": null,
            "right": null,
            "justify_content": null,
            "_view_module": "@jupyter-widgets/base",
            "overflow": null,
            "_model_module_version": "1.2.0",
            "_view_count": null,
            "flex_flow": null,
            "width": null,
            "min_width": null,
            "border": null,
            "align_items": null,
            "bottom": null,
            "_model_module": "@jupyter-widgets/base",
            "top": null,
            "grid_column": null,
            "overflow_y": null,
            "overflow_x": null,
            "grid_auto_flow": null,
            "grid_area": null,
            "grid_template_columns": null,
            "flex": null,
            "_model_name": "LayoutModel",
            "justify_items": null,
            "grid_row": null,
            "max_height": null,
            "align_content": null,
            "visibility": null,
            "align_self": null,
            "height": null,
            "min_height": null,
            "padding": null,
            "grid_auto_rows": null,
            "grid_gap": null,
            "max_width": null,
            "order": null,
            "_view_module_version": "1.2.0",
            "grid_template_areas": null,
            "object_position": null,
            "object_fit": null,
            "grid_auto_columns": null,
            "margin": null,
            "display": null,
            "left": null
          }
        },
        "9c8f72f56a504837b53f9b29338d740b": {
          "model_module": "@jupyter-widgets/controls",
          "model_name": "FloatProgressModel",
          "state": {
            "_view_name": "ProgressView",
            "style": "IPY_MODEL_3db6c0757c6649679ed6a48a9248f023",
            "_dom_classes": [],
            "description": "100%",
            "_model_name": "FloatProgressModel",
            "bar_style": "success",
            "max": 14212972,
            "_view_module": "@jupyter-widgets/controls",
            "_model_module_version": "1.5.0",
            "value": 14212972,
            "_view_count": null,
            "_view_module_version": "1.5.0",
            "orientation": "horizontal",
            "min": 0,
            "description_tooltip": null,
            "_model_module": "@jupyter-widgets/controls",
            "layout": "IPY_MODEL_4befa35c80a34d21ac3820914092fab9"
          }
        },
        "c4172ea2fe0f470f988c7bf358d1e657": {
          "model_module": "@jupyter-widgets/controls",
          "model_name": "HTMLModel",
          "state": {
            "_view_name": "HTMLView",
            "style": "IPY_MODEL_d1d60f975ce941a2bad7a3967e0e57fc",
            "_dom_classes": [],
            "description": "",
            "_model_name": "HTMLModel",
            "placeholder": "​",
            "_view_module": "@jupyter-widgets/controls",
            "_model_module_version": "1.5.0",
            "value": " 13.6M/13.6M [00:00&lt;00:00, 25.9MB/s]",
            "_view_count": null,
            "_view_module_version": "1.5.0",
            "description_tooltip": null,
            "_model_module": "@jupyter-widgets/controls",
            "layout": "IPY_MODEL_f2afef7f71b246ef8136f254bdcc2eda"
          }
        },
        "3db6c0757c6649679ed6a48a9248f023": {
          "model_module": "@jupyter-widgets/controls",
          "model_name": "ProgressStyleModel",
          "state": {
            "_view_name": "StyleView",
            "_model_name": "ProgressStyleModel",
            "description_width": "initial",
            "_view_module": "@jupyter-widgets/base",
            "_model_module_version": "1.5.0",
            "_view_count": null,
            "_view_module_version": "1.2.0",
            "bar_color": null,
            "_model_module": "@jupyter-widgets/controls"
          }
        },
        "4befa35c80a34d21ac3820914092fab9": {
          "model_module": "@jupyter-widgets/base",
          "model_name": "LayoutModel",
          "state": {
            "_view_name": "LayoutView",
            "grid_template_rows": null,
            "right": null,
            "justify_content": null,
            "_view_module": "@jupyter-widgets/base",
            "overflow": null,
            "_model_module_version": "1.2.0",
            "_view_count": null,
            "flex_flow": null,
            "width": null,
            "min_width": null,
            "border": null,
            "align_items": null,
            "bottom": null,
            "_model_module": "@jupyter-widgets/base",
            "top": null,
            "grid_column": null,
            "overflow_y": null,
            "overflow_x": null,
            "grid_auto_flow": null,
            "grid_area": null,
            "grid_template_columns": null,
            "flex": null,
            "_model_name": "LayoutModel",
            "justify_items": null,
            "grid_row": null,
            "max_height": null,
            "align_content": null,
            "visibility": null,
            "align_self": null,
            "height": null,
            "min_height": null,
            "padding": null,
            "grid_auto_rows": null,
            "grid_gap": null,
            "max_width": null,
            "order": null,
            "_view_module_version": "1.2.0",
            "grid_template_areas": null,
            "object_position": null,
            "object_fit": null,
            "grid_auto_columns": null,
            "margin": null,
            "display": null,
            "left": null
          }
        },
        "d1d60f975ce941a2bad7a3967e0e57fc": {
          "model_module": "@jupyter-widgets/controls",
          "model_name": "DescriptionStyleModel",
          "state": {
            "_view_name": "StyleView",
            "_model_name": "DescriptionStyleModel",
            "description_width": "",
            "_view_module": "@jupyter-widgets/base",
            "_model_module_version": "1.5.0",
            "_view_count": null,
            "_view_module_version": "1.2.0",
            "_model_module": "@jupyter-widgets/controls"
          }
        },
        "f2afef7f71b246ef8136f254bdcc2eda": {
          "model_module": "@jupyter-widgets/base",
          "model_name": "LayoutModel",
          "state": {
            "_view_name": "LayoutView",
            "grid_template_rows": null,
            "right": null,
            "justify_content": null,
            "_view_module": "@jupyter-widgets/base",
            "overflow": null,
            "_model_module_version": "1.2.0",
            "_view_count": null,
            "flex_flow": null,
            "width": null,
            "min_width": null,
            "border": null,
            "align_items": null,
            "bottom": null,
            "_model_module": "@jupyter-widgets/base",
            "top": null,
            "grid_column": null,
            "overflow_y": null,
            "overflow_x": null,
            "grid_auto_flow": null,
            "grid_area": null,
            "grid_template_columns": null,
            "flex": null,
            "_model_name": "LayoutModel",
            "justify_items": null,
            "grid_row": null,
            "max_height": null,
            "align_content": null,
            "visibility": null,
            "align_self": null,
            "height": null,
            "min_height": null,
            "padding": null,
            "grid_auto_rows": null,
            "grid_gap": null,
            "max_width": null,
            "order": null,
            "_view_module_version": "1.2.0",
            "grid_template_areas": null,
            "object_position": null,
            "object_fit": null,
            "grid_auto_columns": null,
            "margin": null,
            "display": null,
            "left": null
          }
        }
      }
    }
  },
  "cells": [
    {
      "cell_type": "markdown",
      "metadata": {
        "id": "view-in-github",
        "colab_type": "text"
      },
      "source": [
        "<a href=\"https://colab.research.google.com/github/ykitaguchi77/Colab_Scripts/blob/master/CoreML%E3%82%92%E7%94%A8%E3%81%84%E3%81%A6MNIST%E3%82%92ios%E3%81%ABdeploy.ipynb\" target=\"_parent\"><img src=\"https://colab.research.google.com/assets/colab-badge.svg\" alt=\"Open In Colab\"/></a>"
      ]
    },
    {
      "cell_type": "markdown",
      "metadata": {
        "id": "1MKxCoJf_Kzp"
      },
      "source": [
        "#**Conversion of Pytorch script to CoreML**"
      ]
    },
    {
      "cell_type": "markdown",
      "metadata": {
        "id": "_T5OXyxy_aaP"
      },
      "source": [
        "既存のモデルを変換する場合<br>\n",
        "https://coremltools.readme.io/docs/pytorch-conversion"
      ]
    },
    {
      "cell_type": "code",
      "metadata": {
        "colab": {
          "base_uri": "https://localhost:8080/",
          "height": 368,
          "referenced_widgets": [
            "ca571bd9b81e4e3183b97584d1c0379e",
            "cd8da6fcbe1444cc8c9bf600d5f58240",
            "9c8f72f56a504837b53f9b29338d740b",
            "c4172ea2fe0f470f988c7bf358d1e657",
            "3db6c0757c6649679ed6a48a9248f023",
            "4befa35c80a34d21ac3820914092fab9",
            "d1d60f975ce941a2bad7a3967e0e57fc",
            "f2afef7f71b246ef8136f254bdcc2eda"
          ]
        },
        "id": "vajtZlmj7lCa",
        "outputId": "3f9c8b98-46e4-4d14-d855-f9f30c6a04df"
      },
      "source": [
        "import torch\n",
        "import torchvision\n",
        "!pip install coremltools\n",
        "import coremltools as ct\n",
        "\n",
        "\n",
        "# Load a pre-trained version of MobileNetV2\n",
        "torch_model = torchvision.models.mobilenet_v2(pretrained=True)\n",
        "\n",
        "# Set the model in evaluation mode\n",
        "torch_model.eval()\n",
        "\n",
        "# Trace with random data\n",
        "example_input = torch.rand(1, 3, 224, 224) # after test, will get 'size mismatch' error message with size 256x256\n",
        "traced_model = torch.jit.trace(torch_model, example_input)\n",
        "\n",
        "\n",
        "# Download class labels (from a separate file)\n",
        "import urllib\n",
        "label_url = 'https://storage.googleapis.com/download.tensorflow.org/data/ImageNetLabels.txt'\n",
        "class_labels = urllib.request.urlopen(label_url).read().decode(\"utf-8\").splitlines()\n",
        "class_labels = class_labels[1:] # remove the first class which is background\n",
        "assert len(class_labels) == 1000\n",
        "\n",
        "\n",
        "\n",
        "# Convert to Core ML using the Unified Conversion API\n",
        "mlmmodel = ct.convert(\n",
        "    traced_model,\n",
        "    inputs=[ct.ImageType(name=\"input_1\", shape=example_input.shape)], #name \"input_1\" is used in 'quickstart'\n",
        "    classifier_config = ct.ClassifierConfig(class_labels) # provide only if step 2 was performed\n",
        ")\n",
        "\n",
        "# Save model\n",
        "mlmodel.save(\"MobileNetV2.mlmodel\")"
      ],
      "execution_count": null,
      "outputs": [
        {
          "output_type": "stream",
          "text": [
            "Requirement already satisfied: coremltools in /usr/local/lib/python3.7/dist-packages (4.1)\n",
            "Requirement already satisfied: attr in /usr/local/lib/python3.7/dist-packages (from coremltools) (0.3.1)\n",
            "Requirement already satisfied: sympy in /usr/local/lib/python3.7/dist-packages (from coremltools) (1.7.1)\n",
            "Requirement already satisfied: protobuf>=3.1.0 in /usr/local/lib/python3.7/dist-packages (from coremltools) (3.12.4)\n",
            "Requirement already satisfied: tqdm in /usr/local/lib/python3.7/dist-packages (from coremltools) (4.41.1)\n",
            "Requirement already satisfied: packaging in /usr/local/lib/python3.7/dist-packages (from coremltools) (20.9)\n",
            "Requirement already satisfied: numpy<1.20,>=1.14.5 in /usr/local/lib/python3.7/dist-packages (from coremltools) (1.19.5)\n",
            "Requirement already satisfied: scipy in /usr/local/lib/python3.7/dist-packages (from coremltools) (1.4.1)\n",
            "Requirement already satisfied: attrs in /usr/local/lib/python3.7/dist-packages (from coremltools) (20.3.0)\n",
            "Requirement already satisfied: six>=1.10.0 in /usr/local/lib/python3.7/dist-packages (from coremltools) (1.15.0)\n",
            "Requirement already satisfied: mpmath>=0.19 in /usr/local/lib/python3.7/dist-packages (from sympy->coremltools) (1.2.1)\n",
            "Requirement already satisfied: setuptools in /usr/local/lib/python3.7/dist-packages (from protobuf>=3.1.0->coremltools) (56.1.0)\n",
            "Requirement already satisfied: pyparsing>=2.0.2 in /usr/local/lib/python3.7/dist-packages (from packaging->coremltools) (2.4.7)\n"
          ],
          "name": "stdout"
        },
        {
          "output_type": "stream",
          "text": [
            "Downloading: \"https://download.pytorch.org/models/mobilenet_v2-b0353104.pth\" to /root/.cache/torch/hub/checkpoints/mobilenet_v2-b0353104.pth\n"
          ],
          "name": "stderr"
        },
        {
          "output_type": "display_data",
          "data": {
            "application/vnd.jupyter.widget-view+json": {
              "model_id": "ca571bd9b81e4e3183b97584d1c0379e",
              "version_minor": 0,
              "version_major": 2
            },
            "text/plain": [
              "HBox(children=(FloatProgress(value=0.0, max=14212972.0), HTML(value='')))"
            ]
          },
          "metadata": {
            "tags": []
          }
        },
        {
          "output_type": "stream",
          "text": [
            "\n"
          ],
          "name": "stdout"
        },
        {
          "output_type": "stream",
          "text": [
            "Converting Frontend ==> MIL Ops:  85%|████████▍ | 331/391 [00:00<00:00, 843.79 ops/s] \n",
            "Running MIL optimization passes: 100%|██████████| 18/18 [00:00<00:00, 81.75 passes/s]\n",
            "Translating MIL ==> MLModel Ops: 100%|██████████| 704/704 [00:00<00:00, 1233.26 ops/s]\n"
          ],
          "name": "stderr"
        }
      ]
    },
    {
      "cell_type": "code",
      "metadata": {
        "id": "vCMvM-cpHjyr"
      },
      "source": [
        "from torchsummary import summary\n",
        "torch_model.to(device)\n",
        "summary(torch_model, (3, 224, 224))"
      ],
      "execution_count": null,
      "outputs": []
    },
    {
      "cell_type": "markdown",
      "metadata": {
        "id": "9UTkwyDEAp-m"
      },
      "source": [
        "新しく学習を行う場合（MNISTの例）<br>\n",
        "参考サイト：<br>\n",
        "https://qiita.com/shu223/items/6ddfbedb4fdfb2059a11<br>\n",
        "https://chemicalfactory.hatenablog.com/entry/2020/01/26/230114"
      ]
    },
    {
      "cell_type": "code",
      "metadata": {
        "colab": {
          "base_uri": "https://localhost:8080/"
        },
        "id": "XzjlLwKWP2UP",
        "outputId": "cc8e4f7a-c136-4a36-cb0a-449838c1f37d"
      },
      "source": [
        "import torch\n",
        "import torchvision\n",
        "import torch.nn as nn\n",
        "import torch.optim as optim\n",
        "import torch.nn.functional as F\n",
        "import torchvision.transforms as transforms\n",
        "device = torch.device(\"cuda:0\" if torch.cuda.is_available() else \"cpu\")\n",
        "\n",
        "\n",
        "batch_size = 10\n",
        "\n",
        "trainset = torchvision.datasets.MNIST(root='./data', train=True,\n",
        "                                        download=True, transform=transforms.ToTensor())\n",
        "trainloader = torch.utils.data.DataLoader(trainset, batch_size=batch_size,\n",
        "                                            shuffle=True, num_workers=0)\n",
        "\n",
        "testset = torchvision.datasets.MNIST(root='./data', train=False, \n",
        "                                        download=True, transform=transforms.ToTensor())\n",
        "testloader = torch.utils.data.DataLoader(testset, batch_size=batch_size,\n",
        "                                            shuffle=False, num_workers=0)\n",
        "\n",
        "class MNIST_Conv_MN(nn.Module):\n",
        "    def __init__(self):\n",
        "        super(MNIST_Conv_MN, self).__init__()\n",
        "        self.conv1 = nn.Conv2d(1, 8, 3) \n",
        "        self.pooling = nn.MaxPool2d(2, 2) \n",
        "        self.fc1 = nn.Linear(13 * 13 * 8, 10)\n",
        "\n",
        "    def forward(self, x):\n",
        "        x = self.conv1(x)\n",
        "        x = F.relu(x)\n",
        "        x = self.pooling(x)\n",
        "        x = x.view(-1, 13 * 13 * 8)\n",
        "        x = self.fc1(x)\n",
        "        return x\n",
        "    \n",
        "model=MNIST_Conv_MN().to(device)\n",
        "criterion = nn.CrossEntropyLoss()\n",
        "optimizer = optim.Adam(model.parameters())\n",
        "\n",
        "num_epochs = 10\n",
        "\n",
        "for epoch in range(num_epochs):\n",
        "    \n",
        "    train_loss = 0\n",
        "    train_acc = 0\n",
        "    val_loss = 0\n",
        "    val_acc = 0\n",
        "    \n",
        "    model.train()\n",
        "    for i, (inputs, labels) in enumerate(trainloader):\n",
        "        inputs, labels = inputs.to(device), labels.to(device)\n",
        "\n",
        "        optimizer.zero_grad()\n",
        "        outputs = model(inputs)\n",
        "        loss = criterion(outputs, labels)\n",
        "        \n",
        "        train_loss += loss.item()\n",
        "        train_acc += (outputs.max(1)[1] == labels).sum().item()\n",
        "        loss.backward()\n",
        "        optimizer.step()\n",
        "    avg_train_loss = train_loss / len(trainloader.dataset)\n",
        "    avg_train_acc = train_acc / len(trainloader.dataset)\n",
        "\n",
        "    model.eval()\n",
        "    with torch.no_grad():\n",
        "        for inputs, labels in testloader:\n",
        "            inputs, labels = inputs.to(device), labels.to(device)\n",
        "            outputs = model(inputs)\n",
        "            loss = criterion(outputs, labels)\n",
        "            val_loss += loss.item()\n",
        "            val_acc += (outputs.max(1)[1] == labels).sum().item()\n",
        "        avg_val_loss = val_loss / len(testloader.dataset)\n",
        "        avg_val_acc = val_acc / len(testloader.dataset)\n",
        "        \n",
        "        print(\"Epoch [{}/{}], Loss: {loss:.4f}, val_loss: {val_loss:.4f}, val_acc: {val_acc:.4f}\"\\\n",
        "              .format(epoch+1, num_epochs, i+1, loss=avg_train_loss, val_loss=avg_val_loss, val_acc=avg_val_acc))\n",
        "        \n",
        "torch.save(model.state_dict(), \"MNIST.pth\")"
      ],
      "execution_count": 12,
      "outputs": [
        {
          "output_type": "stream",
          "text": [
            "Epoch [1/10], Loss: 0.0273, val_loss: 0.0136, val_acc: 0.9591\n",
            "Epoch [2/10], Loss: 0.0105, val_loss: 0.0081, val_acc: 0.9739\n",
            "Epoch [3/10], Loss: 0.0073, val_loss: 0.0073, val_acc: 0.9762\n",
            "Epoch [4/10], Loss: 0.0060, val_loss: 0.0063, val_acc: 0.9807\n",
            "Epoch [5/10], Loss: 0.0052, val_loss: 0.0059, val_acc: 0.9817\n",
            "Epoch [6/10], Loss: 0.0046, val_loss: 0.0061, val_acc: 0.9802\n",
            "Epoch [7/10], Loss: 0.0042, val_loss: 0.0067, val_acc: 0.9786\n",
            "Epoch [8/10], Loss: 0.0038, val_loss: 0.0061, val_acc: 0.9789\n",
            "Epoch [9/10], Loss: 0.0035, val_loss: 0.0065, val_acc: 0.9803\n",
            "Epoch [10/10], Loss: 0.0031, val_loss: 0.0073, val_acc: 0.9801\n"
          ],
          "name": "stdout"
        }
      ]
    },
    {
      "cell_type": "code",
      "metadata": {
        "colab": {
          "base_uri": "https://localhost:8080/"
        },
        "id": "-g9jCeFiA7uT",
        "outputId": "e6ece274-717e-43ae-98a8-37260e6385fb"
      },
      "source": [
        "#import coreML ver4.0\n",
        "!pip install -U coremltools\n",
        "import coremltools as ct\n",
        "\n",
        "\n",
        "class MNIST_Conv_MN(nn.Module):\n",
        "    def __init__(self):\n",
        "        super(MNIST_Conv_MN, self).__init__()\n",
        "        self.conv1 = nn.Conv2d(1, 8, 3) \n",
        "        self.pooling = nn.MaxPool2d(2, 2) \n",
        "        self.fc1 = nn.Linear(13 * 13 * 8, 10)\n",
        "\n",
        "    def forward(self, x):\n",
        "        x = self.conv1(x)\n",
        "        x = F.relu(x)\n",
        "        x = self.pooling(x)\n",
        "        x = x.view(-1, 13 * 13 * 8)\n",
        "        x = self.fc1(x)\n",
        "        return x\n",
        "    \n",
        "model = MNIST_Conv_MN()\n",
        "model.load_state_dict(torch.load('MNIST.pth'))\n",
        "model.eval()\n",
        "\n",
        "scripted_model = torch.jit.script(model)\n",
        "\n",
        "#サイズの合ったランダムな入力を行う\n",
        "example_input = torch.rand(1,1,28,28)\n",
        "traced = torch.jit.trace(model, example_input)\n",
        "\n",
        "#class_labelの設定\n",
        "class_labels = list(range(10))\n",
        "\n",
        "#traced.save(\"model.pt\")\n",
        "mlmodel = ct.convert(\n",
        "    traced, \n",
        "    inputs=[ct.ImageType(name=\"__input\", shape=example_input.shape)],\n",
        "    classifier_config = ct.ClassifierConfig(class_labels) ,\n",
        ")\n",
        "mlmodel.save('MNIST.mlmodel')"
      ],
      "execution_count": 23,
      "outputs": [
        {
          "output_type": "stream",
          "text": [
            "Requirement already up-to-date: coremltools in /usr/local/lib/python3.7/dist-packages (4.1)\n",
            "Requirement already satisfied, skipping upgrade: packaging in /usr/local/lib/python3.7/dist-packages (from coremltools) (20.9)\n",
            "Requirement already satisfied, skipping upgrade: protobuf>=3.1.0 in /usr/local/lib/python3.7/dist-packages (from coremltools) (3.12.4)\n",
            "Requirement already satisfied, skipping upgrade: sympy in /usr/local/lib/python3.7/dist-packages (from coremltools) (1.7.1)\n",
            "Requirement already satisfied, skipping upgrade: attrs in /usr/local/lib/python3.7/dist-packages (from coremltools) (20.3.0)\n",
            "Requirement already satisfied, skipping upgrade: six>=1.10.0 in /usr/local/lib/python3.7/dist-packages (from coremltools) (1.15.0)\n",
            "Requirement already satisfied, skipping upgrade: numpy<1.20,>=1.14.5 in /usr/local/lib/python3.7/dist-packages (from coremltools) (1.19.5)\n",
            "Requirement already satisfied, skipping upgrade: tqdm in /usr/local/lib/python3.7/dist-packages (from coremltools) (4.41.1)\n",
            "Requirement already satisfied, skipping upgrade: scipy in /usr/local/lib/python3.7/dist-packages (from coremltools) (1.4.1)\n",
            "Requirement already satisfied, skipping upgrade: attr in /usr/local/lib/python3.7/dist-packages (from coremltools) (0.3.1)\n",
            "Requirement already satisfied, skipping upgrade: pyparsing>=2.0.2 in /usr/local/lib/python3.7/dist-packages (from packaging->coremltools) (2.4.7)\n",
            "Requirement already satisfied, skipping upgrade: setuptools in /usr/local/lib/python3.7/dist-packages (from protobuf>=3.1.0->coremltools) (56.1.0)\n",
            "Requirement already satisfied, skipping upgrade: mpmath>=0.19 in /usr/local/lib/python3.7/dist-packages (from sympy->coremltools) (1.2.1)\n"
          ],
          "name": "stdout"
        },
        {
          "output_type": "stream",
          "text": [
            "Converting Frontend ==> MIL Ops:   0%|          | 0/26 [00:00<?, ? ops/s]\n",
            "Running MIL optimization passes: 100%|██████████| 18/18 [00:00<00:00, 925.99 passes/s]\n",
            "Translating MIL ==> MLModel Ops: 100%|██████████| 19/19 [00:00<00:00, 2975.91 ops/s]\n"
          ],
          "name": "stderr"
        }
      ]
    },
    {
      "cell_type": "markdown",
      "metadata": {
        "id": "Lb8AmoIBfkIF"
      },
      "source": [
        "#**サンプル文字をダウンロード**"
      ]
    },
    {
      "cell_type": "code",
      "metadata": {
        "id": "vw5EKaNZfpp5",
        "outputId": "681c16ea-c4c4-497f-83a6-6cf5e90c7e94",
        "colab": {
          "base_uri": "https://localhost:8080/"
        }
      },
      "source": [
        "import numpy as np\n",
        "from PIL import Image\n",
        "from tensorflow.keras.datasets import mnist\n",
        "import os\n",
        "from google.colab import files\n",
        "\n",
        "\"\"\"\n",
        "#google driveをcolabolatoryにマウント\n",
        "from google.colab import drive\n",
        "drive.mount('/content/drive')\n",
        "\n",
        "sample_dir = \"/content/drive/MyDrive/Deep_learning/MNIST_samples\"\n",
        "\"\"\"\n",
        "\n",
        "sample_dir = \"/content/MNIST_samples\"\n",
        "n_samples = 30\n",
        "\n",
        "#ダウンロード用のフォルダを作成\n",
        "\n",
        "os.makedirs(sample_dir, exist_ok=True)\n",
        "\n",
        "(x_train, y_train), (x_test, y_test) = mnist.load_data()\n",
        "# 画像データ\n",
        "# print(x_train[0])\n",
        "# ラベルの値\n",
        "for i in range(n_samples):\n",
        "  print(y_train[i])\n",
        "  img = Image.fromarray(np.uint8(x_train[i]))\n",
        "  img.save(sample_dir +'/' + str(i) +'.png')"
      ],
      "execution_count": 24,
      "outputs": [
        {
          "output_type": "stream",
          "text": [
            "Downloading data from https://storage.googleapis.com/tensorflow/tf-keras-datasets/mnist.npz\n",
            "11493376/11490434 [==============================] - 0s 0us/step\n",
            "5\n",
            "0\n",
            "4\n",
            "1\n",
            "9\n",
            "2\n",
            "1\n",
            "3\n",
            "1\n",
            "4\n",
            "3\n",
            "5\n",
            "3\n",
            "6\n",
            "1\n",
            "7\n",
            "2\n",
            "8\n",
            "6\n",
            "9\n",
            "4\n",
            "0\n",
            "9\n",
            "1\n",
            "1\n",
            "2\n",
            "4\n",
            "3\n",
            "2\n",
            "7\n"
          ],
          "name": "stdout"
        }
      ]
    },
    {
      "cell_type": "markdown",
      "metadata": {
        "id": "_PZVM0Tgfvfs"
      },
      "source": [
        "#**サンプル画像でテスト推論**"
      ]
    },
    {
      "cell_type": "code",
      "metadata": {
        "id": "uIcqAMmheqgN",
        "outputId": "7a7f5701-2f0c-4bea-e08f-f7dd6fa57f70",
        "colab": {
          "base_uri": "https://localhost:8080/",
          "height": 332
        }
      },
      "source": [
        "from PIL import Image\n",
        "\n",
        "# 推論して mlmodel に正しく変換できたか確認\n",
        "# https://coremltools.readme.io/docs/model-prediction\n",
        "test_image = Image.open(\"/content/MNIST_samples/1.png\").resize((28, 28))\n",
        "data = {'__input': test_image}\n",
        "out_dict = model.predict(data)\n",
        "print(out_dict['classLabel'])"
      ],
      "execution_count": 27,
      "outputs": [
        {
          "output_type": "error",
          "ename": "AttributeError",
          "evalue": "ignored",
          "traceback": [
            "\u001b[0;31m---------------------------------------------------------------------------\u001b[0m",
            "\u001b[0;31mAttributeError\u001b[0m                            Traceback (most recent call last)",
            "\u001b[0;32m<ipython-input-27-41be36e16808>\u001b[0m in \u001b[0;36m<module>\u001b[0;34m()\u001b[0m\n\u001b[1;32m      5\u001b[0m \u001b[0mtest_image\u001b[0m \u001b[0;34m=\u001b[0m \u001b[0mImage\u001b[0m\u001b[0;34m.\u001b[0m\u001b[0mopen\u001b[0m\u001b[0;34m(\u001b[0m\u001b[0;34m\"/content/MNIST_samples/1.png\"\u001b[0m\u001b[0;34m)\u001b[0m\u001b[0;34m.\u001b[0m\u001b[0mresize\u001b[0m\u001b[0;34m(\u001b[0m\u001b[0;34m(\u001b[0m\u001b[0;36m28\u001b[0m\u001b[0;34m,\u001b[0m \u001b[0;36m28\u001b[0m\u001b[0;34m)\u001b[0m\u001b[0;34m)\u001b[0m\u001b[0;34m\u001b[0m\u001b[0;34m\u001b[0m\u001b[0m\n\u001b[1;32m      6\u001b[0m \u001b[0mdata\u001b[0m \u001b[0;34m=\u001b[0m \u001b[0;34m{\u001b[0m\u001b[0;34m'__input'\u001b[0m\u001b[0;34m:\u001b[0m \u001b[0mtest_image\u001b[0m\u001b[0;34m}\u001b[0m\u001b[0;34m\u001b[0m\u001b[0;34m\u001b[0m\u001b[0m\n\u001b[0;32m----> 7\u001b[0;31m \u001b[0mout_dict\u001b[0m \u001b[0;34m=\u001b[0m \u001b[0mmodel\u001b[0m\u001b[0;34m.\u001b[0m\u001b[0mpredict\u001b[0m\u001b[0;34m(\u001b[0m\u001b[0mdata\u001b[0m\u001b[0;34m)\u001b[0m\u001b[0;34m\u001b[0m\u001b[0;34m\u001b[0m\u001b[0m\n\u001b[0m\u001b[1;32m      8\u001b[0m \u001b[0mprint\u001b[0m\u001b[0;34m(\u001b[0m\u001b[0mout_dict\u001b[0m\u001b[0;34m[\u001b[0m\u001b[0;34m'classLabel'\u001b[0m\u001b[0;34m]\u001b[0m\u001b[0;34m)\u001b[0m\u001b[0;34m\u001b[0m\u001b[0;34m\u001b[0m\u001b[0m\n",
            "\u001b[0;32m/usr/local/lib/python3.7/dist-packages/torch/nn/modules/module.py\u001b[0m in \u001b[0;36m__getattr__\u001b[0;34m(self, name)\u001b[0m\n\u001b[1;32m    946\u001b[0m                 \u001b[0;32mreturn\u001b[0m \u001b[0mmodules\u001b[0m\u001b[0;34m[\u001b[0m\u001b[0mname\u001b[0m\u001b[0;34m]\u001b[0m\u001b[0;34m\u001b[0m\u001b[0;34m\u001b[0m\u001b[0m\n\u001b[1;32m    947\u001b[0m         raise AttributeError(\"'{}' object has no attribute '{}'\".format(\n\u001b[0;32m--> 948\u001b[0;31m             type(self).__name__, name))\n\u001b[0m\u001b[1;32m    949\u001b[0m \u001b[0;34m\u001b[0m\u001b[0m\n\u001b[1;32m    950\u001b[0m     \u001b[0;32mdef\u001b[0m \u001b[0m__setattr__\u001b[0m\u001b[0;34m(\u001b[0m\u001b[0mself\u001b[0m\u001b[0;34m,\u001b[0m \u001b[0mname\u001b[0m\u001b[0;34m:\u001b[0m \u001b[0mstr\u001b[0m\u001b[0;34m,\u001b[0m \u001b[0mvalue\u001b[0m\u001b[0;34m:\u001b[0m \u001b[0mUnion\u001b[0m\u001b[0;34m[\u001b[0m\u001b[0mTensor\u001b[0m\u001b[0;34m,\u001b[0m \u001b[0;34m'Module'\u001b[0m\u001b[0;34m]\u001b[0m\u001b[0;34m)\u001b[0m \u001b[0;34m->\u001b[0m \u001b[0;32mNone\u001b[0m\u001b[0;34m:\u001b[0m\u001b[0;34m\u001b[0m\u001b[0;34m\u001b[0m\u001b[0m\n",
            "\u001b[0;31mAttributeError\u001b[0m: 'MNIST_Conv_MN' object has no attribute 'predict'"
          ]
        }
      ]
    }
  ]
}
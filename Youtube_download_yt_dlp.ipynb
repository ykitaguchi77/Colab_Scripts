{
  "nbformat": 4,
  "nbformat_minor": 0,
  "metadata": {
    "colab": {
      "name": "Untitled45.ipynb",
      "provenance": [],
      "include_colab_link": true
    },
    "kernelspec": {
      "name": "python3",
      "display_name": "Python 3"
    }
  },
  "cells": [
    {
      "cell_type": "markdown",
      "metadata": {
        "id": "view-in-github",
        "colab_type": "text"
      },
      "source": [
        "<a href=\"https://colab.research.google.com/github/ykitaguchi77/Colab_Scripts/blob/master/Youtube_download_yt_dlp.ipynb\" target=\"_parent\"><img src=\"https://colab.research.google.com/assets/colab-badge.svg\" alt=\"Open In Colab\"/></a>"
      ]
    },
    {
      "cell_type": "markdown",
      "metadata": {
        "id": "6wl1vpCIXVMI"
      },
      "source": [
        "#**YouTubeをダウンロードするスクリプト**\n",
        "\n",
        "## yt-dlpを使用\n"
      ]
    },
    {
      "cell_type": "code",
      "metadata": {
        "id": "gXx9kU8fBqbS",
        "colab": {
          "base_uri": "https://localhost:8080/"
        },
        "outputId": "f5b3964c-4bae-4735-d8cc-a160d2b4b349"
      },
      "source": [
        "#google driveをcolabolatoryにマウント\n",
        "from google.colab import drive\n",
        "drive.mount('/content/drive')"
      ],
      "execution_count": 1,
      "outputs": [
        {
          "output_type": "stream",
          "name": "stdout",
          "text": [
            "Mounted at /content/drive\n"
          ]
        }
      ]
    },
    {
      "cell_type": "code",
      "source": [
        "!pip install youtube-dl\n",
        "!pip install yt-dlp\n",
        "!pip install ffmpeg\n",
        "\n",
        "from __future__ import unicode_literals\n",
        "import youtube_dl\n",
        "import pandas as pd\n",
        "from yt_dlp import YoutubeDL\n",
        "\n"
      ],
      "metadata": {
        "colab": {
          "base_uri": "https://localhost:8080/"
        },
        "id": "Pjm1I-VfY4bh",
        "outputId": "bde18751-6145-4476-d353-a71b839c1ac2"
      },
      "execution_count": 2,
      "outputs": [
        {
          "output_type": "stream",
          "name": "stdout",
          "text": [
            "Looking in indexes: https://pypi.org/simple, https://us-python.pkg.dev/colab-wheels/public/simple/\n",
            "Collecting youtube-dl\n",
            "  Downloading youtube_dl-2021.12.17-py2.py3-none-any.whl (1.9 MB)\n",
            "\u001b[K     |████████████████████████████████| 1.9 MB 5.1 MB/s \n",
            "\u001b[?25hInstalling collected packages: youtube-dl\n",
            "Successfully installed youtube-dl-2021.12.17\n",
            "Looking in indexes: https://pypi.org/simple, https://us-python.pkg.dev/colab-wheels/public/simple/\n",
            "Collecting yt-dlp\n",
            "  Downloading yt_dlp-2022.6.22.1-py2.py3-none-any.whl (2.6 MB)\n",
            "\u001b[K     |████████████████████████████████| 2.6 MB 5.2 MB/s \n",
            "\u001b[?25hRequirement already satisfied: certifi in /usr/local/lib/python3.7/dist-packages (from yt-dlp) (2022.6.15)\n",
            "Collecting websockets\n",
            "  Downloading websockets-10.3-cp37-cp37m-manylinux_2_5_x86_64.manylinux1_x86_64.manylinux_2_12_x86_64.manylinux2010_x86_64.whl (112 kB)\n",
            "\u001b[K     |████████████████████████████████| 112 kB 62.0 MB/s \n",
            "\u001b[?25hCollecting mutagen\n",
            "  Downloading mutagen-1.45.1-py3-none-any.whl (218 kB)\n",
            "\u001b[K     |████████████████████████████████| 218 kB 52.4 MB/s \n",
            "\u001b[?25hCollecting brotli\n",
            "  Downloading Brotli-1.0.9-cp37-cp37m-manylinux1_x86_64.whl (357 kB)\n",
            "\u001b[K     |████████████████████████████████| 357 kB 63.5 MB/s \n",
            "\u001b[?25hCollecting pycryptodomex\n",
            "  Downloading pycryptodomex-3.14.1-cp35-abi3-manylinux2010_x86_64.whl (2.0 MB)\n",
            "\u001b[K     |████████████████████████████████| 2.0 MB 61.3 MB/s \n",
            "\u001b[?25hInstalling collected packages: websockets, pycryptodomex, mutagen, brotli, yt-dlp\n",
            "Successfully installed brotli-1.0.9 mutagen-1.45.1 pycryptodomex-3.14.1 websockets-10.3 yt-dlp-2022.6.22.1\n",
            "Looking in indexes: https://pypi.org/simple, https://us-python.pkg.dev/colab-wheels/public/simple/\n",
            "Collecting ffmpeg\n",
            "  Downloading ffmpeg-1.4.tar.gz (5.1 kB)\n",
            "Building wheels for collected packages: ffmpeg\n",
            "  Building wheel for ffmpeg (setup.py) ... \u001b[?25l\u001b[?25hdone\n",
            "  Created wheel for ffmpeg: filename=ffmpeg-1.4-py3-none-any.whl size=6084 sha256=22979731127157a978d3946128695b3681c70f80b68a736f145ef929719da353\n",
            "  Stored in directory: /root/.cache/pip/wheels/64/80/6e/caa3e16deb0267c3cbfd36862058a724144e19fdb9eb03af0f\n",
            "Successfully built ffmpeg\n",
            "Installing collected packages: ffmpeg\n",
            "Successfully installed ffmpeg-1.4\n"
          ]
        }
      ]
    },
    {
      "cell_type": "markdown",
      "metadata": {
        "id": "t9Q2DSd2RZpS"
      },
      "source": [
        "#**ダウンロードするスクリプト**"
      ]
    },
    {
      "cell_type": "code",
      "source": [
        "dst_path = \"/content/drive/MyDrive/副業/コンテンツビジネス/my work/input/ビジネス系動画書き起こし/おかポン\"\n",
        "\n",
        "csv_path = \"/content/drive/MyDrive/副業/コンテンツビジネス/my work/input/ビジネス系動画書き起こし/おかポン/download_list_okapon.csv\""
      ],
      "metadata": {
        "id": "xwHAMRL2e4gW"
      },
      "execution_count": 3,
      "outputs": []
    },
    {
      "cell_type": "code",
      "source": [
        "\n",
        "def videodl(url:str):\n",
        "    vdl_opts = {'outtmpl': dst_path+'/%(title)s_video.%(ext)s','format':'mp4'}\n",
        "\n",
        "    vdl = youtube_dl.YoutubeDL(vdl_opts)\n",
        "    vdl.extract_info(url,download=True)\n",
        "\n",
        "def audiodl(url:str):\n",
        "    adl_opts = {'outtmpl':dst_path+'/%(title)s_audio.%(ext)s', 'format':'bestaudio/best'}\n",
        "\n",
        "    adl = youtube_dl.YoutubeDL(adl_opts)\n",
        "    adl.extract_info(url, download=True)"
      ],
      "metadata": {
        "id": "A8oSocg3ZDtR"
      },
      "execution_count": 4,
      "outputs": []
    },
    {
      "cell_type": "code",
      "source": [
        "import pandas as pd\n",
        "df = pd.read_csv(csv_path, header=None, encoding=\"UTF-8\")\n",
        "df"
      ],
      "metadata": {
        "id": "SSvP-MVbc1tQ"
      },
      "execution_count": null,
      "outputs": []
    },
    {
      "cell_type": "code",
      "source": [
        "# for i in range(len(df)):\n",
        "#     url = df.iloc[i, 0]\n",
        "\n",
        "#     videodl(url)\n",
        "#     audiodl(url)\n",
        "# print(\"DL完了\")\n",
        "\n"
      ],
      "metadata": {
        "id": "0_TQPQPCZtNK"
      },
      "execution_count": null,
      "outputs": []
    },
    {
      "cell_type": "code",
      "source": [
        "ydl_opts = {\n",
        "        #'format': 'bestvideo+bestaudio/best',\n",
        "        'format': 'mp4',\n",
        "        'outtmpl': dst_path +\"/%(title)s.%(ext)s\"\n",
        "    }\n",
        "#ydl_opts = {'format': 'bestaudio'}\n",
        "with YoutubeDL(ydl_opts) as ydl:\n",
        "    url_list = [\"https://www.youtube.com/watch?v=u3m9ZhzfkLo\"] #リストを直接入力する場合\n",
        "    #url_list = df.iloc[:, 0] #CSV\n",
        "    ydl.download(url_list)\n",
        "print(\"DL完了\")"
      ],
      "metadata": {
        "colab": {
          "base_uri": "https://localhost:8080/"
        },
        "id": "cl3xhx3fkZEp",
        "outputId": "916c297c-628f-4b4e-8459-0499ae784f46"
      },
      "execution_count": 5,
      "outputs": [
        {
          "output_type": "stream",
          "name": "stdout",
          "text": [
            "[youtube] u3m9ZhzfkLo: Downloading webpage\n",
            "[youtube] u3m9ZhzfkLo: Downloading android player API JSON\n",
            "[info] u3m9ZhzfkLo: Downloading 1 format(s): 22\n",
            "[download] Destination: /content/drive/MyDrive/副業/コンテンツビジネス/my work/input/ビジネス系動画書き起こし/おかポン/コンテキストメイキングウェビナー.mp4\n",
            "[download] 100% of 99.53MiB in 00:22                   \n",
            "DL完了\n"
          ]
        }
      ]
    },
    {
      "cell_type": "code",
      "source": [
        ""
      ],
      "metadata": {
        "id": "ie3XPDEHZ54K"
      },
      "execution_count": null,
      "outputs": []
    }
  ]
}
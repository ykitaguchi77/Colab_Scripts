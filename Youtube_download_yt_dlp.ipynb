{
  "nbformat": 4,
  "nbformat_minor": 0,
  "metadata": {
    "colab": {
      "name": "Untitled45.ipynb",
      "provenance": [],
      "include_colab_link": true
    },
    "kernelspec": {
      "name": "python3",
      "display_name": "Python 3"
    }
  },
  "cells": [
    {
      "cell_type": "markdown",
      "metadata": {
        "id": "view-in-github",
        "colab_type": "text"
      },
      "source": [
        "<a href=\"https://colab.research.google.com/github/ykitaguchi77/Colab_Scripts/blob/master/Youtube_download_yt_dlp.ipynb\" target=\"_parent\"><img src=\"https://colab.research.google.com/assets/colab-badge.svg\" alt=\"Open In Colab\"/></a>"
      ]
    },
    {
      "cell_type": "markdown",
      "metadata": {
        "id": "6wl1vpCIXVMI"
      },
      "source": [
        "#**YouTubeをダウンロードするスクリプト**\n",
        "\n",
        "## yt-dlpを使用\n"
      ]
    },
    {
      "cell_type": "code",
      "metadata": {
        "id": "gXx9kU8fBqbS",
        "colab": {
          "base_uri": "https://localhost:8080/"
        },
        "outputId": "9dda1443-eb8d-45a3-9802-c13419fb7a87"
      },
      "source": [
        "#google driveをcolabolatoryにマウント\n",
        "from google.colab import drive\n",
        "drive.mount('/content/drive')"
      ],
      "execution_count": 1,
      "outputs": [
        {
          "output_type": "stream",
          "name": "stdout",
          "text": [
            "Mounted at /content/drive\n"
          ]
        }
      ]
    },
    {
      "cell_type": "code",
      "source": [
        "!pip install youtube-dl\n",
        "!pip install yt-dlp\n",
        "!pip install ffmpeg\n",
        "#!python -m pip install -U yt-dlp\n",
        "\n",
        "#from __future__ import unicode_literals\n",
        "import youtube_dl\n",
        "import pandas as pd\n",
        "from yt_dlp import YoutubeDL\n",
        "\n"
      ],
      "metadata": {
        "colab": {
          "base_uri": "https://localhost:8080/"
        },
        "id": "Pjm1I-VfY4bh",
        "outputId": "193c8889-9088-4ac6-b4ae-1b2642b290e8"
      },
      "execution_count": 2,
      "outputs": [
        {
          "output_type": "stream",
          "name": "stdout",
          "text": [
            "Looking in indexes: https://pypi.org/simple, https://us-python.pkg.dev/colab-wheels/public/simple/\n",
            "Collecting youtube-dl\n",
            "  Downloading youtube_dl-2021.12.17-py2.py3-none-any.whl (1.9 MB)\n",
            "\u001b[K     |████████████████████████████████| 1.9 MB 17.2 MB/s \n",
            "\u001b[?25hInstalling collected packages: youtube-dl\n",
            "Successfully installed youtube-dl-2021.12.17\n",
            "Looking in indexes: https://pypi.org/simple, https://us-python.pkg.dev/colab-wheels/public/simple/\n",
            "Collecting yt-dlp\n",
            "  Downloading yt_dlp-2022.11.11-py2.py3-none-any.whl (2.8 MB)\n",
            "\u001b[K     |████████████████████████████████| 2.8 MB 32.7 MB/s \n",
            "\u001b[?25hCollecting pycryptodomex\n",
            "  Downloading pycryptodomex-3.16.0-cp35-abi3-manylinux_2_5_x86_64.manylinux1_x86_64.manylinux_2_12_x86_64.manylinux2010_x86_64.whl (2.3 MB)\n",
            "\u001b[K     |████████████████████████████████| 2.3 MB 55.8 MB/s \n",
            "\u001b[?25hRequirement already satisfied: certifi in /usr/local/lib/python3.8/dist-packages (from yt-dlp) (2022.9.24)\n",
            "Collecting mutagen\n",
            "  Downloading mutagen-1.46.0-py3-none-any.whl (193 kB)\n",
            "\u001b[K     |████████████████████████████████| 193 kB 63.6 MB/s \n",
            "\u001b[?25hCollecting brotli\n",
            "  Downloading Brotli-1.0.9-cp38-cp38-manylinux1_x86_64.whl (357 kB)\n",
            "\u001b[K     |████████████████████████████████| 357 kB 39.7 MB/s \n",
            "\u001b[?25hCollecting websockets\n",
            "  Downloading websockets-10.4-cp38-cp38-manylinux_2_5_x86_64.manylinux1_x86_64.manylinux_2_17_x86_64.manylinux2014_x86_64.whl (106 kB)\n",
            "\u001b[K     |████████████████████████████████| 106 kB 60.3 MB/s \n",
            "\u001b[?25hInstalling collected packages: websockets, pycryptodomex, mutagen, brotli, yt-dlp\n",
            "Successfully installed brotli-1.0.9 mutagen-1.46.0 pycryptodomex-3.16.0 websockets-10.4 yt-dlp-2022.11.11\n",
            "Looking in indexes: https://pypi.org/simple, https://us-python.pkg.dev/colab-wheels/public/simple/\n",
            "Collecting ffmpeg\n",
            "  Downloading ffmpeg-1.4.tar.gz (5.1 kB)\n",
            "Building wheels for collected packages: ffmpeg\n",
            "  Building wheel for ffmpeg (setup.py) ... \u001b[?25l\u001b[?25hdone\n",
            "  Created wheel for ffmpeg: filename=ffmpeg-1.4-py3-none-any.whl size=6084 sha256=772b14f128242367570f52ea37c8d6b596fa55012db696f9b17d2dfd9fd833a9\n",
            "  Stored in directory: /root/.cache/pip/wheels/30/33/46/5ab7eca55b9490dddbf3441c68a29535996270ef1ce8b9b6d7\n",
            "Successfully built ffmpeg\n",
            "Installing collected packages: ffmpeg\n",
            "Successfully installed ffmpeg-1.4\n"
          ]
        }
      ]
    },
    {
      "cell_type": "markdown",
      "metadata": {
        "id": "t9Q2DSd2RZpS"
      },
      "source": [
        "#**ダウンロードするスクリプト**"
      ]
    },
    {
      "cell_type": "code",
      "source": [
        "dst_path = \"/content/drive/MyDrive/Hobby/Musics/手術用\"\n",
        "\n",
        "csv_path = \"/content/drive/MyDrive/Hobby/Musics/手術用/ope_music.csv\""
      ],
      "metadata": {
        "id": "xwHAMRL2e4gW"
      },
      "execution_count": 7,
      "outputs": []
    },
    {
      "cell_type": "code",
      "source": [
        "import pandas as pd\n",
        "df = pd.read_csv(csv_path, header=None, encoding=\"UTF-8\")\n",
        "df"
      ],
      "metadata": {
        "id": "SSvP-MVbc1tQ",
        "outputId": "e44fa983-eb26-49ca-a44b-7e66cdf7e613",
        "colab": {
          "base_uri": "https://localhost:8080/",
          "height": 175
        }
      },
      "execution_count": null,
      "outputs": [
        {
          "output_type": "execute_result",
          "data": {
            "text/plain": [
              "                                                   0\n",
              "0                       https://youtu.be/p40tTeB1KbU\n",
              "1  https://www.youtube.com/watch?v=4uiB3WVfE8w&t=...\n",
              "2        https://www.youtube.com/watch?v=uJwMI8-QBCk\n",
              "3  https://www.youtube.com/watch?v=yoeysY38Xjg&t=..."
            ],
            "text/html": [
              "\n",
              "  <div id=\"df-f543dd6b-34a7-4143-aa05-21f463c049b8\">\n",
              "    <div class=\"colab-df-container\">\n",
              "      <div>\n",
              "<style scoped>\n",
              "    .dataframe tbody tr th:only-of-type {\n",
              "        vertical-align: middle;\n",
              "    }\n",
              "\n",
              "    .dataframe tbody tr th {\n",
              "        vertical-align: top;\n",
              "    }\n",
              "\n",
              "    .dataframe thead th {\n",
              "        text-align: right;\n",
              "    }\n",
              "</style>\n",
              "<table border=\"1\" class=\"dataframe\">\n",
              "  <thead>\n",
              "    <tr style=\"text-align: right;\">\n",
              "      <th></th>\n",
              "      <th>0</th>\n",
              "    </tr>\n",
              "  </thead>\n",
              "  <tbody>\n",
              "    <tr>\n",
              "      <th>0</th>\n",
              "      <td>https://youtu.be/p40tTeB1KbU</td>\n",
              "    </tr>\n",
              "    <tr>\n",
              "      <th>1</th>\n",
              "      <td>https://www.youtube.com/watch?v=4uiB3WVfE8w&amp;t=...</td>\n",
              "    </tr>\n",
              "    <tr>\n",
              "      <th>2</th>\n",
              "      <td>https://www.youtube.com/watch?v=uJwMI8-QBCk</td>\n",
              "    </tr>\n",
              "    <tr>\n",
              "      <th>3</th>\n",
              "      <td>https://www.youtube.com/watch?v=yoeysY38Xjg&amp;t=...</td>\n",
              "    </tr>\n",
              "  </tbody>\n",
              "</table>\n",
              "</div>\n",
              "      <button class=\"colab-df-convert\" onclick=\"convertToInteractive('df-f543dd6b-34a7-4143-aa05-21f463c049b8')\"\n",
              "              title=\"Convert this dataframe to an interactive table.\"\n",
              "              style=\"display:none;\">\n",
              "        \n",
              "  <svg xmlns=\"http://www.w3.org/2000/svg\" height=\"24px\"viewBox=\"0 0 24 24\"\n",
              "       width=\"24px\">\n",
              "    <path d=\"M0 0h24v24H0V0z\" fill=\"none\"/>\n",
              "    <path d=\"M18.56 5.44l.94 2.06.94-2.06 2.06-.94-2.06-.94-.94-2.06-.94 2.06-2.06.94zm-11 1L8.5 8.5l.94-2.06 2.06-.94-2.06-.94L8.5 2.5l-.94 2.06-2.06.94zm10 10l.94 2.06.94-2.06 2.06-.94-2.06-.94-.94-2.06-.94 2.06-2.06.94z\"/><path d=\"M17.41 7.96l-1.37-1.37c-.4-.4-.92-.59-1.43-.59-.52 0-1.04.2-1.43.59L10.3 9.45l-7.72 7.72c-.78.78-.78 2.05 0 2.83L4 21.41c.39.39.9.59 1.41.59.51 0 1.02-.2 1.41-.59l7.78-7.78 2.81-2.81c.8-.78.8-2.07 0-2.86zM5.41 20L4 18.59l7.72-7.72 1.47 1.35L5.41 20z\"/>\n",
              "  </svg>\n",
              "      </button>\n",
              "      \n",
              "  <style>\n",
              "    .colab-df-container {\n",
              "      display:flex;\n",
              "      flex-wrap:wrap;\n",
              "      gap: 12px;\n",
              "    }\n",
              "\n",
              "    .colab-df-convert {\n",
              "      background-color: #E8F0FE;\n",
              "      border: none;\n",
              "      border-radius: 50%;\n",
              "      cursor: pointer;\n",
              "      display: none;\n",
              "      fill: #1967D2;\n",
              "      height: 32px;\n",
              "      padding: 0 0 0 0;\n",
              "      width: 32px;\n",
              "    }\n",
              "\n",
              "    .colab-df-convert:hover {\n",
              "      background-color: #E2EBFA;\n",
              "      box-shadow: 0px 1px 2px rgba(60, 64, 67, 0.3), 0px 1px 3px 1px rgba(60, 64, 67, 0.15);\n",
              "      fill: #174EA6;\n",
              "    }\n",
              "\n",
              "    [theme=dark] .colab-df-convert {\n",
              "      background-color: #3B4455;\n",
              "      fill: #D2E3FC;\n",
              "    }\n",
              "\n",
              "    [theme=dark] .colab-df-convert:hover {\n",
              "      background-color: #434B5C;\n",
              "      box-shadow: 0px 1px 3px 1px rgba(0, 0, 0, 0.15);\n",
              "      filter: drop-shadow(0px 1px 2px rgba(0, 0, 0, 0.3));\n",
              "      fill: #FFFFFF;\n",
              "    }\n",
              "  </style>\n",
              "\n",
              "      <script>\n",
              "        const buttonEl =\n",
              "          document.querySelector('#df-f543dd6b-34a7-4143-aa05-21f463c049b8 button.colab-df-convert');\n",
              "        buttonEl.style.display =\n",
              "          google.colab.kernel.accessAllowed ? 'block' : 'none';\n",
              "\n",
              "        async function convertToInteractive(key) {\n",
              "          const element = document.querySelector('#df-f543dd6b-34a7-4143-aa05-21f463c049b8');\n",
              "          const dataTable =\n",
              "            await google.colab.kernel.invokeFunction('convertToInteractive',\n",
              "                                                     [key], {});\n",
              "          if (!dataTable) return;\n",
              "\n",
              "          const docLinkHtml = 'Like what you see? Visit the ' +\n",
              "            '<a target=\"_blank\" href=https://colab.research.google.com/notebooks/data_table.ipynb>data table notebook</a>'\n",
              "            + ' to learn more about interactive tables.';\n",
              "          element.innerHTML = '';\n",
              "          dataTable['output_type'] = 'display_data';\n",
              "          await google.colab.output.renderOutput(dataTable, element);\n",
              "          const docLink = document.createElement('div');\n",
              "          docLink.innerHTML = docLinkHtml;\n",
              "          element.appendChild(docLink);\n",
              "        }\n",
              "      </script>\n",
              "    </div>\n",
              "  </div>\n",
              "  "
            ]
          },
          "metadata": {},
          "execution_count": 26
        }
      ]
    },
    {
      "cell_type": "code",
      "source": [
        "# ############################\n",
        "# # YouTube-dlを用いる場合\n",
        "# ############################\n",
        "\n",
        "# def videodl(url:str):\n",
        "#     vdl_opts = {'outtmpl': dst_path+'/%(title)s_video.%(ext)s','format':'mp4'}\n",
        "\n",
        "#     vdl = youtube_dl.YoutubeDL(vdl_opts)\n",
        "#     vdl.extract_info(url,download=True)\n",
        "\n",
        "# def audiodl(url:str):\n",
        "#     adl_opts = {'outtmpl':dst_path+'/%(title)s_audio.%(ext)s', 'format':'bestaudio/best'}\n",
        "\n",
        "#     adl = youtube_dl.YoutubeDL(adl_opts)\n",
        "#     adl.extract_info(url, download=True)\n",
        "\n",
        "# for i in range(len(df)):\n",
        "#     url = df.iloc[i, 0]\n",
        "\n",
        "#     videodl(url)\n",
        "#     audiodl(url)\n",
        "# print(\"DL完了\")"
      ],
      "metadata": {
        "id": "A8oSocg3ZDtR"
      },
      "execution_count": null,
      "outputs": []
    },
    {
      "cell_type": "code",
      "source": [
        "### 動画 mp4\n",
        "# ydl_opts = {\n",
        "#         #'format': 'bestvideo+bestaudio/best',\n",
        "#         'format': 'mp4',\n",
        "#         'outtmpl': dst_path +\"/%(title)s.%(ext)s\"\n",
        "#     }\n",
        "\n",
        "### 音声 mp3\n",
        "# ydl_opts = {\n",
        "#     'format': 'bestaudio/best', # choice of quality\n",
        "#     'extractaudio' : True,      # only keep the audio\n",
        "#     'audioformat' : 'mp3',      # convert to mp3\n",
        "#    'outtmpl': dst_path +\"/%(title)s.%(ext)s\",  # name the location\n",
        "#     'noplaylist': True,        # only download single song, not playlist\n",
        "# }\n",
        "\n",
        "ydl_opts = {\n",
        "    'format': 'bestaudio/best',\n",
        "    'postprocessors': [{\n",
        "        'key': 'FFmpegExtractAudio',\n",
        "        'preferredcodec': 'mp3',\n",
        "        'preferredquality': '192',\n",
        "    }],\n",
        "    'outtmpl': f\"{dst_path}/手術用%(title)s.%(ext)s\",  # name the location\n",
        "}\n",
        "\n",
        "\n",
        "    \n",
        "with YoutubeDL(ydl_opts) as ydl:\n",
        "    url_list = [\"https://www.youtube.com/watch?v=pnzbWLyO8G0&t=3s\"] #リストを直接入力する場合\n",
        "    #url_list = df.iloc[:, 0] #CSV\n",
        "    ydl.download(url_list)\n",
        "\n",
        "print(\"DL完了\")"
      ],
      "metadata": {
        "colab": {
          "base_uri": "https://localhost:8080/"
        },
        "id": "cl3xhx3fkZEp",
        "outputId": "9965fbfd-50c8-45b0-e102-a8ae2a890361"
      },
      "execution_count": null,
      "outputs": [
        {
          "output_type": "stream",
          "name": "stdout",
          "text": [
            "[youtube] pnzbWLyO8G0: Downloading webpage\n",
            "[youtube] pnzbWLyO8G0: Downloading android player API JSON\n",
            "[info] pnzbWLyO8G0: Downloading 1 format(s): 251\n",
            "[download] Destination: /content/drive/MyDrive/Hobby/Musics/手術用/手術用日本語Chill MIX『Hug Vol.3』HIPHOP R&B SOUL POPS.webm\n",
            "[download] 100% of   68.11MiB in 00:00:01 at 46.38MiB/s  \n",
            "[ExtractAudio] Destination: /content/drive/MyDrive/Hobby/Musics/手術用/手術用日本語Chill MIX『Hug Vol.3』HIPHOP R&B SOUL POPS.mp3\n"
          ]
        }
      ]
    }
  ]
}
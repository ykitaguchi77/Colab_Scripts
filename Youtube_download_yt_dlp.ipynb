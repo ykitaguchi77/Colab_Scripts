{
  "nbformat": 4,
  "nbformat_minor": 0,
  "metadata": {
    "colab": {
      "name": "Untitled45.ipynb",
      "provenance": [],
      "include_colab_link": true
    },
    "kernelspec": {
      "name": "python3",
      "display_name": "Python 3"
    }
  },
  "cells": [
    {
      "cell_type": "markdown",
      "metadata": {
        "id": "view-in-github",
        "colab_type": "text"
      },
      "source": [
        "<a href=\"https://colab.research.google.com/github/ykitaguchi77/Colab_Scripts/blob/master/Youtube_download_yt_dlp.ipynb\" target=\"_parent\"><img src=\"https://colab.research.google.com/assets/colab-badge.svg\" alt=\"Open In Colab\"/></a>"
      ]
    },
    {
      "cell_type": "markdown",
      "metadata": {
        "id": "6wl1vpCIXVMI"
      },
      "source": [
        "#**YouTubeをダウンロードするスクリプト**\n",
        "\n",
        "## yt-dlpを使用\n"
      ]
    },
    {
      "cell_type": "code",
      "metadata": {
        "id": "gXx9kU8fBqbS",
        "colab": {
          "base_uri": "https://localhost:8080/"
        },
        "outputId": "c63b96c4-3085-49e6-d873-7a02df98de08"
      },
      "source": [
        "#google driveをcolabolatoryにマウント\n",
        "from google.colab import drive\n",
        "drive.mount('/content/drive')"
      ],
      "execution_count": 6,
      "outputs": [
        {
          "output_type": "stream",
          "name": "stdout",
          "text": [
            "Drive already mounted at /content/drive; to attempt to forcibly remount, call drive.mount(\"/content/drive\", force_remount=True).\n"
          ]
        }
      ]
    },
    {
      "cell_type": "code",
      "source": [
        "!pip install youtube-dl\n",
        "!pip install yt-dlp\n",
        "!pip install ffmpeg\n",
        "\n",
        "from __future__ import unicode_literals\n",
        "import youtube_dl\n",
        "import pandas as pd\n",
        "from yt_dlp import YoutubeDL\n",
        "\n"
      ],
      "metadata": {
        "id": "Pjm1I-VfY4bh",
        "outputId": "1b0b90e5-6794-41dd-86bd-cbbca9d8189c",
        "colab": {
          "base_uri": "https://localhost:8080/"
        }
      },
      "execution_count": 18,
      "outputs": [
        {
          "output_type": "stream",
          "name": "stdout",
          "text": [
            "Looking in indexes: https://pypi.org/simple, https://us-python.pkg.dev/colab-wheels/public/simple/\n",
            "Requirement already satisfied: youtube-dl in /usr/local/lib/python3.7/dist-packages (2021.12.17)\n",
            "Looking in indexes: https://pypi.org/simple, https://us-python.pkg.dev/colab-wheels/public/simple/\n",
            "Requirement already satisfied: yt-dlp in /usr/local/lib/python3.7/dist-packages (2022.6.22.1)\n",
            "Requirement already satisfied: websockets in /usr/local/lib/python3.7/dist-packages (from yt-dlp) (10.3)\n",
            "Requirement already satisfied: brotli in /usr/local/lib/python3.7/dist-packages (from yt-dlp) (1.0.9)\n",
            "Requirement already satisfied: certifi in /usr/local/lib/python3.7/dist-packages (from yt-dlp) (2022.6.15)\n",
            "Requirement already satisfied: mutagen in /usr/local/lib/python3.7/dist-packages (from yt-dlp) (1.45.1)\n",
            "Requirement already satisfied: pycryptodomex in /usr/local/lib/python3.7/dist-packages (from yt-dlp) (3.14.1)\n",
            "Looking in indexes: https://pypi.org/simple, https://us-python.pkg.dev/colab-wheels/public/simple/\n",
            "Requirement already satisfied: ffmpeg in /usr/local/lib/python3.7/dist-packages (1.4)\n"
          ]
        }
      ]
    },
    {
      "cell_type": "markdown",
      "metadata": {
        "id": "t9Q2DSd2RZpS"
      },
      "source": [
        "#**ダウンロードするスクリプト**"
      ]
    },
    {
      "cell_type": "code",
      "source": [
        "dst_path = \"/content/drive/MyDrive/副業/コンテンツビジネス/my work/input/ビジネス系動画書き起こし/おかポン\"\n",
        "\n",
        "csv_path = \"/content/drive/MyDrive/副業/コンテンツビジネス/my work/input/ビジネス系動画書き起こし/おかポン/download_list_okapon.csv\""
      ],
      "metadata": {
        "id": "xwHAMRL2e4gW"
      },
      "execution_count": 9,
      "outputs": []
    },
    {
      "cell_type": "code",
      "source": [
        "\n",
        "def videodl(url:str):\n",
        "    vdl_opts = {'outtmpl': dst_path+'/%(title)s_video.%(ext)s','format':'mp4'}\n",
        "\n",
        "    vdl = youtube_dl.YoutubeDL(vdl_opts)\n",
        "    vdl.extract_info(url,download=True)\n",
        "\n",
        "def audiodl(url:str):\n",
        "    adl_opts = {'outtmpl':dst_path+'/%(title)s_audio.%(ext)s', 'format':'bestaudio/best'}\n",
        "\n",
        "    adl = youtube_dl.YoutubeDL(adl_opts)\n",
        "    adl.extract_info(url, download=True)"
      ],
      "metadata": {
        "id": "A8oSocg3ZDtR"
      },
      "execution_count": 15,
      "outputs": []
    },
    {
      "cell_type": "code",
      "source": [
        "import pandas as pd\n",
        "df = pd.read_csv(csv_path, header=None, encoding=\"UTF-8\")\n",
        "df"
      ],
      "metadata": {
        "id": "SSvP-MVbc1tQ"
      },
      "execution_count": null,
      "outputs": []
    },
    {
      "cell_type": "code",
      "source": [
        "# for i in range(len(df)):\n",
        "#     url = df.iloc[i, 0]\n",
        "\n",
        "#     videodl(url)\n",
        "#     audiodl(url)\n",
        "# print(\"DL完了\")\n",
        "\n"
      ],
      "metadata": {
        "id": "0_TQPQPCZtNK"
      },
      "execution_count": null,
      "outputs": []
    },
    {
      "cell_type": "code",
      "source": [
        "ydl_opts = {\n",
        "        #'format': 'bestvideo+bestaudio/best',\n",
        "        'format': 'mp4',\n",
        "        'outtmpl': dst_path +\"/%(title)s.%(ext)s\"\n",
        "    }\n",
        "#ydl_opts = {'format': 'bestaudio'}\n",
        "with YoutubeDL(ydl_opts) as ydl:\n",
        "    url_list = df.iloc[:, 0]\n",
        "    ydl.download(url_list)\n",
        "print(\"DL完了\")"
      ],
      "metadata": {
        "id": "cl3xhx3fkZEp",
        "outputId": "9337a416-f55c-4d71-eb00-195913778589",
        "colab": {
          "base_uri": "https://localhost:8080/"
        }
      },
      "execution_count": null,
      "outputs": [
        {
          "output_type": "stream",
          "name": "stdout",
          "text": [
            "[youtube] vAVmfaIimaY: Downloading webpage\n",
            "[youtube] vAVmfaIimaY: Downloading android player API JSON\n",
            "[youtube] vAVmfaIimaY: Downloading MPD manifest\n",
            "[youtube] vAVmfaIimaY: Downloading MPD manifest\n",
            "[info] vAVmfaIimaY: Downloading 1 format(s): 22\n",
            "[download] Destination: /content/drive/MyDrive/副業/コンテンツビジネス/my work/input/ビジネス系動画書き起こし/おかポン/専門家コンセプトメイク 前編.mp4\n",
            "[download] 100% of 41.33MiB in 00:10                   \n",
            "[youtube] 76pwD0XtXKs: Downloading webpage\n",
            "[youtube] 76pwD0XtXKs: Downloading android player API JSON\n",
            "[youtube] 76pwD0XtXKs: Downloading MPD manifest\n",
            "[youtube] 76pwD0XtXKs: Downloading MPD manifest\n",
            "[info] 76pwD0XtXKs: Downloading 1 format(s): 22\n",
            "[download] Destination: /content/drive/MyDrive/副業/コンテンツビジネス/my work/input/ビジネス系動画書き起こし/おかポン/構造化プロダクトメイク①.mp4\n",
            "[download] 100% of 71.99MiB in 00:08                   \n",
            "[youtube] k41vxaCuMfQ: Downloading webpage\n",
            "[youtube] k41vxaCuMfQ: Downloading android player API JSON\n",
            "[youtube] k41vxaCuMfQ: Downloading MPD manifest\n",
            "[youtube] k41vxaCuMfQ: Downloading MPD manifest\n",
            "[info] k41vxaCuMfQ: Downloading 1 format(s): 22\n",
            "[download] Destination: /content/drive/MyDrive/副業/コンテンツビジネス/my work/input/ビジネス系動画書き起こし/おかポン/専門家コンセプトメイク 後編.mp4\n",
            "[download] 100% of 58.22MiB in 00:17                   \n",
            "[youtube] 8OElZYPmM7k: Downloading webpage\n",
            "[youtube] 8OElZYPmM7k: Downloading android player API JSON\n",
            "[youtube] 8OElZYPmM7k: Downloading MPD manifest\n",
            "[youtube] 8OElZYPmM7k: Downloading MPD manifest\n",
            "[info] 8OElZYPmM7k: Downloading 1 format(s): 22\n",
            "[download] Destination: /content/drive/MyDrive/副業/コンテンツビジネス/my work/input/ビジネス系動画書き起こし/おかポン/誘引型Twitter運用.mp4\n",
            "[download] 100% of 55.57MiB in 00:07                   \n",
            "[youtube] rno2wtAq2Dw: Downloading webpage\n",
            "[youtube] rno2wtAq2Dw: Downloading android player API JSON\n",
            "[youtube] rno2wtAq2Dw: Downloading MPD manifest\n",
            "[youtube] rno2wtAq2Dw: Downloading MPD manifest\n",
            "[info] rno2wtAq2Dw: Downloading 1 format(s): 22\n",
            "[download] Destination: /content/drive/MyDrive/副業/コンテンツビジネス/my work/input/ビジネス系動画書き起こし/おかポン/無料企画 常駐企画.mp4\n",
            "[download] 100% of 25.95MiB in 00:07                   \n",
            "[youtube] wt-4McgIIU8: Downloading webpage\n",
            "[youtube] wt-4McgIIU8: Downloading android player API JSON\n",
            "[youtube] wt-4McgIIU8: Downloading MPD manifest\n",
            "[youtube] wt-4McgIIU8: Downloading MPD manifest\n",
            "[info] wt-4McgIIU8: Downloading 1 format(s): 22\n",
            "[download] Destination: /content/drive/MyDrive/副業/コンテンツビジネス/my work/input/ビジネス系動画書き起こし/おかポン/無料企画 プレゼント企画.mp4\n",
            "[download] 100% of 89.19MiB in 00:19                   \n",
            "[youtube] 5-JL2ibf7Es: Downloading webpage\n",
            "[youtube] 5-JL2ibf7Es: Downloading android player API JSON\n",
            "[youtube] 5-JL2ibf7Es: Downloading MPD manifest\n",
            "[youtube] 5-JL2ibf7Es: Downloading MPD manifest\n",
            "[info] 5-JL2ibf7Es: Downloading 1 format(s): 22\n",
            "[download] Destination: /content/drive/MyDrive/副業/コンテンツビジネス/my work/input/ビジネス系動画書き起こし/おかポン/フロントエンドローンチ 前編.mp4\n",
            "[download] 100% of 42.70MiB in 00:13                   \n",
            "[youtube] VllUJ3Janls: Downloading webpage\n",
            "[youtube] VllUJ3Janls: Downloading android player API JSON\n",
            "[youtube] VllUJ3Janls: Downloading MPD manifest\n",
            "[youtube] VllUJ3Janls: Downloading MPD manifest\n",
            "[info] VllUJ3Janls: Downloading 1 format(s): 22\n",
            "[download] Destination: /content/drive/MyDrive/副業/コンテンツビジネス/my work/input/ビジネス系動画書き起こし/おかポン/フロントエンドローンチ 後編.mp4\n",
            "[download] 100% of 45.17MiB in 00:11                   \n",
            "[youtube] bsDhUIWnGQE: Downloading webpage\n",
            "[youtube] bsDhUIWnGQE: Downloading android player API JSON\n",
            "[youtube] bsDhUIWnGQE: Downloading MPD manifest\n",
            "[youtube] bsDhUIWnGQE: Downloading MPD manifest\n",
            "[info] bsDhUIWnGQE: Downloading 1 format(s): 22\n",
            "[download] Destination: /content/drive/MyDrive/副業/コンテンツビジネス/my work/input/ビジネス系動画書き起こし/おかポン/VIPリスト化.mp4\n",
            "[download] 100% of 15.85MiB in 00:02                   \n",
            "[youtube] 4IcnHnkVxYM: Downloading webpage\n",
            "[youtube] 4IcnHnkVxYM: Downloading android player API JSON\n",
            "[youtube] 4IcnHnkVxYM: Downloading MPD manifest\n",
            "[youtube] 4IcnHnkVxYM: Downloading MPD manifest\n",
            "[info] 4IcnHnkVxYM: Downloading 1 format(s): 22\n",
            "[download] Destination: /content/drive/MyDrive/副業/コンテンツビジネス/my work/input/ビジネス系動画書き起こし/おかポン/バックエンド.mp4\n",
            "[download] 100% of 25.15MiB in 00:03                   \n",
            "[youtube] UtPDIUGX_r0: Downloading webpage\n",
            "[youtube] UtPDIUGX_r0: Downloading android player API JSON\n",
            "[youtube] UtPDIUGX_r0: Downloading MPD manifest\n",
            "[youtube] UtPDIUGX_r0: Downloading MPD manifest\n",
            "[info] UtPDIUGX_r0: Downloading 1 format(s): 22\n",
            "[download] Destination: /content/drive/MyDrive/副業/コンテンツビジネス/my work/input/ビジネス系動画書き起こし/おかポン/ファーストローンチゼロ【今すぐ破壊すべき思考法】.mp4\n",
            "[download] 100% of 31.15MiB in 00:04                   \n",
            "[youtube] xtTA7cxGbw8: Downloading webpage\n",
            "[youtube] xtTA7cxGbw8: Downloading android player API JSON\n",
            "[youtube] xtTA7cxGbw8: Downloading MPD manifest\n",
            "[youtube] xtTA7cxGbw8: Downloading MPD manifest\n",
            "[info] xtTA7cxGbw8: Downloading 1 format(s): 22\n",
            "[download] Destination: /content/drive/MyDrive/副業/コンテンツビジネス/my work/input/ビジネス系動画書き起こし/おかポン/ファーストローンチゼロ【ビジネスが知識ゲーが嘘だと思う人へ】.mp4\n",
            "[download] 100% of 18.52MiB in 00:06                   \n",
            "[youtube] 1exJJvXaOpU: Downloading webpage\n",
            "[youtube] 1exJJvXaOpU: Downloading android player API JSON\n",
            "[youtube] 1exJJvXaOpU: Downloading MPD manifest\n",
            "[youtube] 1exJJvXaOpU: Downloading MPD manifest\n",
            "[info] 1exJJvXaOpU: Downloading 1 format(s): 22\n",
            "[download] Destination: /content/drive/MyDrive/副業/コンテンツビジネス/my work/input/ビジネス系動画書き起こし/おかポン/ファーストローンチゼロ【情報を価値ある知識にする3つの思考法】.mp4\n",
            "[download] 100% of 36.66MiB in 00:04                   \n",
            "[youtube] iW6_pjzwLl4: Downloading webpage\n",
            "[youtube] iW6_pjzwLl4: Downloading android player API JSON\n",
            "[youtube] iW6_pjzwLl4: Downloading MPD manifest\n",
            "[youtube] iW6_pjzwLl4: Downloading MPD manifest\n",
            "[info] iW6_pjzwLl4: Downloading 1 format(s): 22\n",
            "[download] Destination: /content/drive/MyDrive/副業/コンテンツビジネス/my work/input/ビジネス系動画書き起こし/おかポン/高単価商品をガンガン売る文章を書く方法 前編.mp4\n",
            "[download] 100% of 126.70MiB in 00:16                   \n",
            "[youtube] J1BUuZenbzc: Downloading webpage\n",
            "[youtube] J1BUuZenbzc: Downloading android player API JSON\n",
            "[youtube] J1BUuZenbzc: Downloading MPD manifest\n",
            "[youtube] J1BUuZenbzc: Downloading MPD manifest\n",
            "[info] J1BUuZenbzc: Downloading 1 format(s): 22\n",
            "[download] Destination: /content/drive/MyDrive/副業/コンテンツビジネス/my work/input/ビジネス系動画書き起こし/おかポン/あなたが高単価商品をバカスカ売る文章を書く方法 後編.mp4\n",
            "[download] 100% of 118.23MiB in 00:24                   \n",
            "[youtube] d-XTQSCFGEg: Downloading webpage\n",
            "[youtube] d-XTQSCFGEg: Downloading android player API JSON\n",
            "[info] d-XTQSCFGEg: Downloading 1 format(s): 22\n",
            "[download] Destination: /content/drive/MyDrive/副業/コンテンツビジネス/my work/input/ビジネス系動画書き起こし/おかポン/あなたの年収をロンダリングする、プロダクトローンチマスターウェビナー.mp4\n",
            "[download] 100% of 130.50MiB in 00:15                   \n",
            "[youtube] yl50yHcrdfE: Downloading webpage\n",
            "[youtube] yl50yHcrdfE: Downloading android player API JSON\n",
            "[info] yl50yHcrdfE: Downloading 1 format(s): 22\n",
            "[download] Destination: /content/drive/MyDrive/副業/コンテンツビジネス/my work/input/ビジネス系動画書き起こし/おかポン/僕の実績をロンダリングしたローンチ完全解説.mp4\n",
            "[download] 100% of 84.08MiB in 00:18                   \n",
            "[youtube] d-XTQSCFGEg: Downloading webpage\n",
            "[youtube] d-XTQSCFGEg: Downloading android player API JSON\n",
            "[info] d-XTQSCFGEg: Downloading 1 format(s): 22\n",
            "[download] /content/drive/MyDrive/副業/コンテンツビジネス/my work/input/ビジネス系動画書き起こし/おかポン/あなたの年収をロンダリングする、プロダクトローンチマスターウェビナー.mp4 has already been downloaded\n",
            "[download] 100% of 130.50MiB\n",
            "[youtube] SL-_069Dyys: Downloading webpage\n",
            "[youtube] SL-_069Dyys: Downloading android player API JSON\n",
            "[info] SL-_069Dyys: Downloading 1 format(s): 22\n",
            "[download] Destination: /content/drive/MyDrive/副業/コンテンツビジネス/my work/input/ビジネス系動画書き起こし/おかポン/収入、信頼、時間ゼロから無限に『資産』を産み出す商品作成プログラム.mp4\n",
            "[download] 100% of 115.50MiB in 00:22                   \n",
            "[youtube] mfFlSatPXH8: Downloading webpage\n",
            "[youtube] mfFlSatPXH8: Downloading android player API JSON\n",
            "[info] mfFlSatPXH8: Downloading 1 format(s): 22\n",
            "[download] Destination: /content/drive/MyDrive/副業/コンテンツビジネス/my work/input/ビジネス系動画書き起こし/おかポン/戦う前から勝ちを確定させるコンセプト設計.mp4\n",
            "[download] 100% of 85.30MiB in 00:12                   \n",
            "[youtube] iT_lVTlU8q8: Downloading webpage\n",
            "[youtube] iT_lVTlU8q8: Downloading android player API JSON\n",
            "[info] iT_lVTlU8q8: Downloading 1 format(s): 22\n",
            "[download] Destination: /content/drive/MyDrive/副業/コンテンツビジネス/my work/input/ビジネス系動画書き起こし/おかポン/弱者のコンテンツビジネス必勝ルート.mp4\n",
            "[download] 100% of 57.59MiB in 00:08                   \n",
            "[youtube] bHJjsOfFeLI: Downloading webpage\n",
            "[youtube] bHJjsOfFeLI: Downloading android player API JSON\n",
            "[info] bHJjsOfFeLI: Downloading 1 format(s): 22\n",
            "[download] Destination: /content/drive/MyDrive/副業/コンテンツビジネス/my work/input/ビジネス系動画書き起こし/おかポン/圧巻の客単価“10万円”を生み出す、必殺の爪の研ぎ澄まし方.mp4\n",
            "[download] 100% of 62.55MiB in 00:15                   \n",
            "[youtube] M1hTb4ufN7g: Downloading webpage\n",
            "[youtube] M1hTb4ufN7g: Downloading android player API JSON\n",
            "[youtube] M1hTb4ufN7g: Downloading MPD manifest\n",
            "[youtube] M1hTb4ufN7g: Downloading MPD manifest\n",
            "[info] M1hTb4ufN7g: Downloading 1 format(s): 18\n",
            "[download] Destination: /content/drive/MyDrive/副業/コンテンツビジネス/my work/input/ビジネス系動画書き起こし/おかポン/やるぽんさんへのインタビュー.mp4\n",
            "[download] 100% of 22.06MiB in 00:02                   \n",
            "[youtube] v2Z5lPoh8-k: Downloading webpage\n",
            "[youtube] v2Z5lPoh8-k: Downloading android player API JSON\n",
            "[youtube] v2Z5lPoh8-k: Downloading MPD manifest\n",
            "[youtube] v2Z5lPoh8-k: Downloading MPD manifest\n",
            "[info] v2Z5lPoh8-k: Downloading 1 format(s): 22\n"
          ]
        }
      ]
    },
    {
      "cell_type": "code",
      "source": [
        ""
      ],
      "metadata": {
        "id": "ie3XPDEHZ54K"
      },
      "execution_count": null,
      "outputs": []
    }
  ]
}
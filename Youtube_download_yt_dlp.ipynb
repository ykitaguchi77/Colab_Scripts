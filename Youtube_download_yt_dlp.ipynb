{
  "nbformat": 4,
  "nbformat_minor": 0,
  "metadata": {
    "colab": {
      "name": "Untitled45.ipynb",
      "provenance": [],
      "include_colab_link": true
    },
    "kernelspec": {
      "name": "python3",
      "display_name": "Python 3"
    }
  },
  "cells": [
    {
      "cell_type": "markdown",
      "metadata": {
        "id": "view-in-github",
        "colab_type": "text"
      },
      "source": [
        "<a href=\"https://colab.research.google.com/github/ykitaguchi77/Colab_Scripts/blob/master/Youtube_download_yt_dlp.ipynb\" target=\"_parent\"><img src=\"https://colab.research.google.com/assets/colab-badge.svg\" alt=\"Open In Colab\"/></a>"
      ]
    },
    {
      "cell_type": "markdown",
      "metadata": {
        "id": "6wl1vpCIXVMI"
      },
      "source": [
        "#**YouTubeをダウンロードするスクリプト**\n",
        "\n",
        "## yt-dlpを使用\n"
      ]
    },
    {
      "cell_type": "code",
      "metadata": {
        "id": "gXx9kU8fBqbS",
        "colab": {
          "base_uri": "https://localhost:8080/"
        },
        "outputId": "9ca8e4d9-9024-484d-9d72-f1bce3a9c9b8"
      },
      "source": [
        "#google driveをcolabolatoryにマウント\n",
        "from google.colab import drive\n",
        "drive.mount('/content/drive')"
      ],
      "execution_count": 9,
      "outputs": [
        {
          "output_type": "stream",
          "name": "stdout",
          "text": [
            "Drive already mounted at /content/drive; to attempt to forcibly remount, call drive.mount(\"/content/drive\", force_remount=True).\n"
          ]
        }
      ]
    },
    {
      "cell_type": "code",
      "source": [
        "!pip install youtube-dl\n",
        "!pip install yt-dlp\n",
        "!pip install ffmpeg\n",
        "#!python -m pip install -U yt-dlp\n",
        "\n",
        "#from __future__ import unicode_literals\n",
        "import youtube_dl\n",
        "import pandas as pd\n",
        "from yt_dlp import YoutubeDL\n",
        "\n"
      ],
      "metadata": {
        "colab": {
          "base_uri": "https://localhost:8080/"
        },
        "id": "Pjm1I-VfY4bh",
        "outputId": "076d066b-bad0-4675-edf9-96e014548609"
      },
      "execution_count": 10,
      "outputs": [
        {
          "output_type": "stream",
          "name": "stdout",
          "text": [
            "Looking in indexes: https://pypi.org/simple, https://us-python.pkg.dev/colab-wheels/public/simple/\n",
            "Requirement already satisfied: youtube-dl in /usr/local/lib/python3.7/dist-packages (2021.12.17)\n",
            "Looking in indexes: https://pypi.org/simple, https://us-python.pkg.dev/colab-wheels/public/simple/\n",
            "Requirement already satisfied: yt-dlp in /usr/local/lib/python3.7/dist-packages (2022.9.1)\n",
            "Requirement already satisfied: brotli in /usr/local/lib/python3.7/dist-packages (from yt-dlp) (1.0.9)\n",
            "Requirement already satisfied: pycryptodomex in /usr/local/lib/python3.7/dist-packages (from yt-dlp) (3.15.0)\n",
            "Requirement already satisfied: certifi in /usr/local/lib/python3.7/dist-packages (from yt-dlp) (2022.6.15)\n",
            "Requirement already satisfied: websockets in /usr/local/lib/python3.7/dist-packages (from yt-dlp) (10.3)\n",
            "Requirement already satisfied: mutagen in /usr/local/lib/python3.7/dist-packages (from yt-dlp) (1.45.1)\n",
            "Looking in indexes: https://pypi.org/simple, https://us-python.pkg.dev/colab-wheels/public/simple/\n",
            "Requirement already satisfied: ffmpeg in /usr/local/lib/python3.7/dist-packages (1.4)\n"
          ]
        }
      ]
    },
    {
      "cell_type": "markdown",
      "metadata": {
        "id": "t9Q2DSd2RZpS"
      },
      "source": [
        "#**ダウンロードするスクリプト**"
      ]
    },
    {
      "cell_type": "code",
      "source": [
        "dst_path = \"/content/drive/MyDrive/Hobby/Musics/手術用\"\n",
        "\n",
        "csv_path = \"/content/drive/MyDrive/Hobby/Musics/手術用/ope_music.csv\""
      ],
      "metadata": {
        "id": "xwHAMRL2e4gW"
      },
      "execution_count": 18,
      "outputs": []
    },
    {
      "cell_type": "code",
      "source": [
        "import pandas as pd\n",
        "df = pd.read_csv(csv_path, header=None, encoding=\"UTF-8\")\n",
        "df"
      ],
      "metadata": {
        "id": "SSvP-MVbc1tQ"
      },
      "execution_count": null,
      "outputs": []
    },
    {
      "cell_type": "code",
      "source": [
        "# ############################\n",
        "# # YouTube-dlを用いる場合\n",
        "# ############################\n",
        "\n",
        "# def videodl(url:str):\n",
        "#     vdl_opts = {'outtmpl': dst_path+'/%(title)s_video.%(ext)s','format':'mp4'}\n",
        "\n",
        "#     vdl = youtube_dl.YoutubeDL(vdl_opts)\n",
        "#     vdl.extract_info(url,download=True)\n",
        "\n",
        "# def audiodl(url:str):\n",
        "#     adl_opts = {'outtmpl':dst_path+'/%(title)s_audio.%(ext)s', 'format':'bestaudio/best'}\n",
        "\n",
        "#     adl = youtube_dl.YoutubeDL(adl_opts)\n",
        "#     adl.extract_info(url, download=True)\n",
        "\n",
        "# for i in range(len(df)):\n",
        "#     url = df.iloc[i, 0]\n",
        "\n",
        "#     videodl(url)\n",
        "#     audiodl(url)\n",
        "# print(\"DL完了\")"
      ],
      "metadata": {
        "id": "A8oSocg3ZDtR"
      },
      "execution_count": 19,
      "outputs": []
    },
    {
      "cell_type": "code",
      "source": [
        "### 動画 mp4\n",
        "# ydl_opts = {\n",
        "#         #'format': 'bestvideo+bestaudio/best',\n",
        "#         'format': 'mp4',\n",
        "#         'outtmpl': dst_path +\"/%(title)s.%(ext)s\"\n",
        "#     }\n",
        "\n",
        "### 音声 mp3\n",
        "ydl_opts = {'format': 'bestaudio',\n",
        "    'outtmpl': dst_path +\"/%(title)s.%(ext)s\"}\n",
        "\n",
        "    \n",
        "with YoutubeDL(ydl_opts) as ydl:\n",
        "    #url_list = [\"https://www.youtube.com/watch?v=u3m9ZhzfkLo\"] #リストを直接入力する場合\n",
        "    url_list = df.iloc[:, 0] #CSV\n",
        "    ydl.download(url_list)\n",
        "\n",
        "print(\"DL完了\")"
      ],
      "metadata": {
        "colab": {
          "base_uri": "https://localhost:8080/"
        },
        "id": "cl3xhx3fkZEp",
        "outputId": "c8ba255c-3701-4a54-9756-fbeea687159b"
      },
      "execution_count": 23,
      "outputs": [
        {
          "output_type": "stream",
          "name": "stdout",
          "text": [
            "[youtube] p40tTeB1KbU: Downloading webpage\n",
            "[youtube] p40tTeB1KbU: Downloading android player API JSON\n",
            "[info] p40tTeB1KbU: Downloading 1 format(s): 251\n",
            "[download] Destination: /content/drive/MyDrive/Hobby/Musics/手術用/＜DJ MIX＞秋の休日にリラックスした「Cafe Time」シティポップ 日本語ラップ　HipHop カフェ BGM 作業用 citypop プレイリスト.webm\n",
            "[download] 100% of 36.38MiB in 00:01 at 31.04MiB/s     \n",
            "[youtube] 4uiB3WVfE8w: Downloading webpage\n",
            "[youtube] 4uiB3WVfE8w: Downloading android player API JSON\n",
            "[info] 4uiB3WVfE8w: Downloading 1 format(s): 251\n",
            "[download] Destination: /content/drive/MyDrive/Hobby/Musics/手術用/今すぐ都会の夜にドライブしたくなるChill mix（hiphop⧸citypop）.webm\n",
            "[download] 100% of 48.09MiB in 00:03 at 12.36MiB/s     \n",
            "[youtube] uJwMI8-QBCk: Downloading webpage\n",
            "[youtube] uJwMI8-QBCk: Downloading android player API JSON\n",
            "[info] uJwMI8-QBCk: Downloading 1 format(s): 251\n",
            "[download] Destination: /content/drive/MyDrive/Hobby/Musics/手術用/【洋楽playlist】部屋でかけ流したいお洒落な曲 ｜ Morning vibes chill【,作業用BGM】.webm\n",
            "[download] 100% of 32.21MiB in 00:01 at 28.20MiB/s     \n",
            "[youtube] yoeysY38Xjg: Downloading webpage\n",
            "[youtube] yoeysY38Xjg: Downloading android player API JSON\n",
            "[info] yoeysY38Xjg: Downloading 1 format(s): 251\n",
            "[download] Destination: /content/drive/MyDrive/Hobby/Musics/手術用/Taxiで夜の帰り道聴きたいヒップホップ⧸R&B Chill mix.webm\n",
            "[download] 100% of 32.68MiB in 00:01 at 26.14MiB/s     \n",
            "DL完了\n"
          ]
        }
      ]
    },
    {
      "cell_type": "code",
      "source": [],
      "metadata": {
        "id": "ie3XPDEHZ54K"
      },
      "execution_count": null,
      "outputs": []
    }
  ]
}
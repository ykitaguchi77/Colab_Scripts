{
  "nbformat": 4,
  "nbformat_minor": 0,
  "metadata": {
    "colab": {
      "name": "Untitled64.ipynb",
      "provenance": [],
      "include_colab_link": true
    },
    "kernelspec": {
      "name": "python3",
      "display_name": "Python 3"
    }
  },
  "cells": [
    {
      "cell_type": "markdown",
      "metadata": {
        "id": "view-in-github",
        "colab_type": "text"
      },
      "source": [
        "<a href=\"https://colab.research.google.com/github/ykitaguchi77/Colab_Scripts/blob/master/Pass_1h30min_limitation.ipynb\" target=\"_parent\"><img src=\"https://colab.research.google.com/assets/colab-badge.svg\" alt=\"Open In Colab\"/></a>"
      ]
    },
    {
      "cell_type": "markdown",
      "metadata": {
        "id": "pMni90Y0zKTI"
      },
      "source": [
        "#**Colabの1時間半制限対策**\n",
        "1時間毎に任意のサイトを開く"
      ]
    },
    {
      "cell_type": "code",
      "metadata": {
        "id": "bH8TbMaxu669",
        "colab": {
          "base_uri": "https://localhost:8080/"
        },
        "outputId": "8304a734-a86c-48b7-c162-8dc271a7e672"
      },
      "source": [
        "import time\n",
        "import datetime\n",
        "import webbrowser\n",
        "\n",
        "# 1時間毎に任意のノートブックを開く(1時間半制限対策)\n",
        "for i in range(12):\n",
        "    browse = webbrowser.get('\"C:\\Program Files (x86)\\Google\\Chrome\\Application\\chrome.exe\" %s')\n",
        "    browse.open('https://www.yahoo.co.jp/')\n",
        "    print(i, datetime.datetime.today())\n",
        "    time.sleep(60*60)\n"
      ],
      "execution_count": null,
      "outputs": [
        {
          "output_type": "stream",
          "text": [
            "Mounted at /content/drive\n"
          ],
          "name": "stdout"
        }
      ]
    }
  ]
}
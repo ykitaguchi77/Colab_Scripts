{
  "nbformat": 4,
  "nbformat_minor": 0,
  "metadata": {
    "colab": {
      "name": "Untitled64.ipynb",
      "provenance": [],
      "authorship_tag": "ABX9TyOiMAx5cRCE74lQgFbZoFUV",
      "include_colab_link": true
    },
    "kernelspec": {
      "name": "python3",
      "display_name": "Python 3"
    }
  },
  "cells": [
    {
      "cell_type": "markdown",
      "metadata": {
        "id": "view-in-github",
        "colab_type": "text"
      },
      "source": [
        "<a href=\"https://colab.research.google.com/github/ykitaguchi77/Colab_Scripts/blob/master/GravCont_2%E3%81%A4%E3%81%AE%E3%83%95%E3%82%A9%E3%83%AB%E3%83%80%E3%81%8B%E3%82%89csv%E3%83%AA%E3%82%B9%E3%83%88%E3%82%92%E4%BD%9C%E6%88%90.ipynb\" target=\"_parent\"><img src=\"https://colab.research.google.com/assets/colab-badge.svg\" alt=\"Open In Colab\"/></a>"
      ]
    },
    {
      "cell_type": "code",
      "metadata": {
        "id": "bH8TbMaxu669",
        "colab_type": "code",
        "colab": {
          "base_uri": "https://localhost:8080/",
          "height": 122
        },
        "outputId": "8b6414c5-fe77-4ef8-9354-f7c2edf8db3a"
      },
      "source": [
        "from google.colab import drive\n",
        "drive.mount('/content/drive')"
      ],
      "execution_count": 1,
      "outputs": [
        {
          "output_type": "stream",
          "text": [
            "Go to this URL in a browser: https://accounts.google.com/o/oauth2/auth?client_id=947318989803-6bn6qk8qdgf4n4g3pfee6491hc0brc4i.apps.googleusercontent.com&redirect_uri=urn%3aietf%3awg%3aoauth%3a2.0%3aoob&scope=email%20https%3a%2f%2fwww.googleapis.com%2fauth%2fdocs.test%20https%3a%2f%2fwww.googleapis.com%2fauth%2fdrive%20https%3a%2f%2fwww.googleapis.com%2fauth%2fdrive.photos.readonly%20https%3a%2f%2fwww.googleapis.com%2fauth%2fpeopleapi.readonly&response_type=code\n",
            "\n",
            "Enter your authorization code:\n",
            "4/3wHL49leUljSVeSdI3ljD5WNWzu6jk9jkZPJogFZAE1X3WUAQKcccIc\n",
            "Mounted at /content/drive\n"
          ],
          "name": "stdout"
        }
      ]
    },
    {
      "cell_type": "code",
      "metadata": {
        "id": "ZK5kFotHudRg",
        "colab_type": "code",
        "colab": {
          "base_uri": "https://localhost:8080/",
          "height": 1000
        },
        "outputId": "26175a4e-b575-41c9-fad1-65c9dd55961c"
      },
      "source": [
        "import pandas as pd\n",
        "import os\n",
        "import glob\n",
        "\n",
        "grav_dir = \"/content/drive/My Drive/Grav_bootcamp/Posttrain_250px_2/grav\"\n",
        "cont_dir = \"/content/drive/My Drive/Grav_bootcamp/Posttrain_250px_2/cont\"\n",
        "grav = os.listdir(grav_dir)\n",
        "cont = os.listdir(cont_dir)\n",
        "print(\"grav: \"+str(len(grav)))\n",
        "print(\"cont: \"+str(len(cont)))\n",
        "\n",
        "columns1 = [\"image_name\", \"Label\", \"Nakagawa\", \"kitaguchi\", \"inoue\", \"kohzaki\", \"EfficientNet\"]\n",
        "index1 = list(range(len(grav)+len(cont)))\n",
        "df = pd.DataFrame(index=index1, columns=columns1)\n",
        "df.iloc[0:len(grav), 0] = os.listdir(grav_dir)\n",
        "df.iloc[len(grav):len(grav)+len(cont), 0] = os.listdir(cont_dir)\n",
        "df.iloc[0:len(grav), 1] = \"grav\"\n",
        "df.iloc[len(grav):len(grav)+len(cont), 1] = \"cont\"\n",
        "\n",
        "for i in range(len(grav+cont)):  # 拡張子を削除する\n",
        "    name = df.iloc[i, 0]\n",
        "    df.iloc[i, 0] = int(os.path.splitext(name)[0])\n",
        "\n",
        "pd.set_option('display.max_rows', 800)  # 省略なしで表示\n",
        "df = df.sort_values(\"image_name\", ascending=True)  # 画像番号順に並び替え\n",
        "df = df.reset_index(drop=True)  # indexがばらばらになったので振りなおす\n",
        "print(df)\n",
        "\n",
        "# CSVとして出力\n",
        "df.to_csv(\"/content/drive/My Drive/Grav_bootcamp/Posttrain_eval_2.csv\",\n",
        "          encoding=\"shift_jis\")"
      ],
      "execution_count": 2,
      "outputs": [
        {
          "output_type": "stream",
          "text": [
            "grav: 54\n",
            "cont: 54\n",
            "    image_name Label Nakagawa kitaguchi inoue kohzaki EfficientNet\n",
            "0           57  grav      NaN       NaN   NaN     NaN          NaN\n",
            "1           66  cont      NaN       NaN   NaN     NaN          NaN\n",
            "2          118  cont      NaN       NaN   NaN     NaN          NaN\n",
            "3          122  grav      NaN       NaN   NaN     NaN          NaN\n",
            "4          132  cont      NaN       NaN   NaN     NaN          NaN\n",
            "5          149  cont      NaN       NaN   NaN     NaN          NaN\n",
            "6          229  cont      NaN       NaN   NaN     NaN          NaN\n",
            "7          259  cont      NaN       NaN   NaN     NaN          NaN\n",
            "8          385  grav      NaN       NaN   NaN     NaN          NaN\n",
            "9          513  cont      NaN       NaN   NaN     NaN          NaN\n",
            "10         555  grav      NaN       NaN   NaN     NaN          NaN\n",
            "11         782  grav      NaN       NaN   NaN     NaN          NaN\n",
            "12         806  cont      NaN       NaN   NaN     NaN          NaN\n",
            "13         818  grav      NaN       NaN   NaN     NaN          NaN\n",
            "14         861  cont      NaN       NaN   NaN     NaN          NaN\n",
            "15         969  cont      NaN       NaN   NaN     NaN          NaN\n",
            "16        1079  cont      NaN       NaN   NaN     NaN          NaN\n",
            "17        1094  cont      NaN       NaN   NaN     NaN          NaN\n",
            "18        1284  grav      NaN       NaN   NaN     NaN          NaN\n",
            "19        1336  grav      NaN       NaN   NaN     NaN          NaN\n",
            "20        1378  grav      NaN       NaN   NaN     NaN          NaN\n",
            "21        1381  cont      NaN       NaN   NaN     NaN          NaN\n",
            "22        1413  cont      NaN       NaN   NaN     NaN          NaN\n",
            "23        1457  grav      NaN       NaN   NaN     NaN          NaN\n",
            "24        1525  grav      NaN       NaN   NaN     NaN          NaN\n",
            "25        1768  cont      NaN       NaN   NaN     NaN          NaN\n",
            "26        1773  grav      NaN       NaN   NaN     NaN          NaN\n",
            "27        1786  grav      NaN       NaN   NaN     NaN          NaN\n",
            "28        1805  cont      NaN       NaN   NaN     NaN          NaN\n",
            "29        1841  grav      NaN       NaN   NaN     NaN          NaN\n",
            "30        1976  grav      NaN       NaN   NaN     NaN          NaN\n",
            "31        1994  cont      NaN       NaN   NaN     NaN          NaN\n",
            "32        2164  cont      NaN       NaN   NaN     NaN          NaN\n",
            "33        2169  cont      NaN       NaN   NaN     NaN          NaN\n",
            "34        2366  cont      NaN       NaN   NaN     NaN          NaN\n",
            "35        2371  cont      NaN       NaN   NaN     NaN          NaN\n",
            "36        2377  cont      NaN       NaN   NaN     NaN          NaN\n",
            "37        2384  cont      NaN       NaN   NaN     NaN          NaN\n",
            "38        2607  cont      NaN       NaN   NaN     NaN          NaN\n",
            "39        2684  grav      NaN       NaN   NaN     NaN          NaN\n",
            "40        2726  grav      NaN       NaN   NaN     NaN          NaN\n",
            "41        2762  grav      NaN       NaN   NaN     NaN          NaN\n",
            "42        2853  grav      NaN       NaN   NaN     NaN          NaN\n",
            "43        2969  cont      NaN       NaN   NaN     NaN          NaN\n",
            "44        3039  cont      NaN       NaN   NaN     NaN          NaN\n",
            "45        3144  grav      NaN       NaN   NaN     NaN          NaN\n",
            "46        3193  cont      NaN       NaN   NaN     NaN          NaN\n",
            "47        3209  grav      NaN       NaN   NaN     NaN          NaN\n",
            "48        3331  grav      NaN       NaN   NaN     NaN          NaN\n",
            "49        3511  grav      NaN       NaN   NaN     NaN          NaN\n",
            "50        3543  grav      NaN       NaN   NaN     NaN          NaN\n",
            "51        3588  cont      NaN       NaN   NaN     NaN          NaN\n",
            "52        3663  cont      NaN       NaN   NaN     NaN          NaN\n",
            "53        3695  grav      NaN       NaN   NaN     NaN          NaN\n",
            "54        4135  cont      NaN       NaN   NaN     NaN          NaN\n",
            "55        4292  grav      NaN       NaN   NaN     NaN          NaN\n",
            "56        4355  cont      NaN       NaN   NaN     NaN          NaN\n",
            "57        4372  cont      NaN       NaN   NaN     NaN          NaN\n",
            "58        4386  cont      NaN       NaN   NaN     NaN          NaN\n",
            "59        4456  cont      NaN       NaN   NaN     NaN          NaN\n",
            "60        4486  grav      NaN       NaN   NaN     NaN          NaN\n",
            "61        4540  grav      NaN       NaN   NaN     NaN          NaN\n",
            "62        4813  grav      NaN       NaN   NaN     NaN          NaN\n",
            "63        4817  cont      NaN       NaN   NaN     NaN          NaN\n",
            "64        4835  cont      NaN       NaN   NaN     NaN          NaN\n",
            "65        4947  cont      NaN       NaN   NaN     NaN          NaN\n",
            "66        4997  grav      NaN       NaN   NaN     NaN          NaN\n",
            "67        5015  grav      NaN       NaN   NaN     NaN          NaN\n",
            "68        5069  grav      NaN       NaN   NaN     NaN          NaN\n",
            "69        5214  cont      NaN       NaN   NaN     NaN          NaN\n",
            "70        5281  cont      NaN       NaN   NaN     NaN          NaN\n",
            "71        5299  grav      NaN       NaN   NaN     NaN          NaN\n",
            "72        5302  cont      NaN       NaN   NaN     NaN          NaN\n",
            "73        5335  grav      NaN       NaN   NaN     NaN          NaN\n",
            "74        5378  grav      NaN       NaN   NaN     NaN          NaN\n",
            "75        5466  cont      NaN       NaN   NaN     NaN          NaN\n",
            "76        5481  cont      NaN       NaN   NaN     NaN          NaN\n",
            "77        5551  grav      NaN       NaN   NaN     NaN          NaN\n",
            "78        5586  grav      NaN       NaN   NaN     NaN          NaN\n",
            "79        5599  cont      NaN       NaN   NaN     NaN          NaN\n",
            "80        5608  grav      NaN       NaN   NaN     NaN          NaN\n",
            "81        5646  grav      NaN       NaN   NaN     NaN          NaN\n",
            "82        5714  cont      NaN       NaN   NaN     NaN          NaN\n",
            "83        5749  cont      NaN       NaN   NaN     NaN          NaN\n",
            "84        5758  grav      NaN       NaN   NaN     NaN          NaN\n",
            "85        5763  grav      NaN       NaN   NaN     NaN          NaN\n",
            "86        5838  grav      NaN       NaN   NaN     NaN          NaN\n",
            "87        5989  grav      NaN       NaN   NaN     NaN          NaN\n",
            "88        6003  grav      NaN       NaN   NaN     NaN          NaN\n",
            "89        6060  cont      NaN       NaN   NaN     NaN          NaN\n",
            "90        6297  grav      NaN       NaN   NaN     NaN          NaN\n",
            "91        6361  cont      NaN       NaN   NaN     NaN          NaN\n",
            "92        6502  grav      NaN       NaN   NaN     NaN          NaN\n",
            "93        6513  grav      NaN       NaN   NaN     NaN          NaN\n",
            "94        6706  cont      NaN       NaN   NaN     NaN          NaN\n",
            "95        6855  grav      NaN       NaN   NaN     NaN          NaN\n",
            "96        6888  cont      NaN       NaN   NaN     NaN          NaN\n",
            "97        6913  cont      NaN       NaN   NaN     NaN          NaN\n",
            "98        7044  grav      NaN       NaN   NaN     NaN          NaN\n",
            "99        7193  cont      NaN       NaN   NaN     NaN          NaN\n",
            "100       7302  grav      NaN       NaN   NaN     NaN          NaN\n",
            "101       7428  grav      NaN       NaN   NaN     NaN          NaN\n",
            "102       7466  cont      NaN       NaN   NaN     NaN          NaN\n",
            "103       7726  cont      NaN       NaN   NaN     NaN          NaN\n",
            "104       7745  grav      NaN       NaN   NaN     NaN          NaN\n",
            "105       7763  grav      NaN       NaN   NaN     NaN          NaN\n",
            "106       8079  grav      NaN       NaN   NaN     NaN          NaN\n",
            "107       8120  cont      NaN       NaN   NaN     NaN          NaN\n"
          ],
          "name": "stdout"
        }
      ]
    }
  ]
}

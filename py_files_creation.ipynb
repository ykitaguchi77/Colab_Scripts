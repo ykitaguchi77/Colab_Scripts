{
  "nbformat": 4,
  "nbformat_minor": 0,
  "metadata": {
    "colab": {
      "provenance": [],
      "authorship_tag": "ABX9TyPU3TL0UKSV7Vvd8YE8lO67",
      "include_colab_link": true
    },
    "kernelspec": {
      "name": "python3",
      "display_name": "Python 3"
    },
    "language_info": {
      "name": "python"
    }
  },
  "cells": [
    {
      "cell_type": "markdown",
      "metadata": {
        "id": "view-in-github",
        "colab_type": "text"
      },
      "source": [
        "<a href=\"https://colab.research.google.com/github/ykitaguchi77/Colab_Scripts/blob/master/py_files_creation.ipynb\" target=\"_parent\"><img src=\"https://colab.research.google.com/assets/colab-badge.svg\" alt=\"Open In Colab\"/></a>"
      ]
    },
    {
      "cell_type": "code",
      "execution_count": 11,
      "metadata": {
        "colab": {
          "base_uri": "https://localhost:8080/"
        },
        "id": "NYK_OzSm0ltB",
        "outputId": "423139fb-61ef-477d-80ca-2d00f99bcd8d"
      },
      "outputs": [
        {
          "output_type": "stream",
          "name": "stdout",
          "text": [
            "print('Hello world!')\n",
            "\n",
            "for i in range(5):\n",
            "    print(i)\n",
            "\n",
            "a = input('好きな数を入力して下さい')\n",
            "print('あなたの好きな数は{}です'.format(a))\n",
            "\n"
          ]
        }
      ],
      "source": [
        "text = \"\"\"\\\n",
        "print('Hello world!')\n",
        "\n",
        "for i in range(5):\n",
        "    print(i)\n",
        "\n",
        "a = input('好きな数を入力して下さい')\n",
        "print('あなたの好きな数は{}です'.format(a))\n",
        "\"\"\"\n",
        "\n",
        "print(text)"
      ]
    },
    {
      "cell_type": "code",
      "source": [
        "path_w = '/content/HelloWorld.py'\n",
        "\n",
        "with open(path_w, mode='w') as f:\n",
        "    f.write(text)"
      ],
      "metadata": {
        "id": "TD-aK9ob1XPI"
      },
      "execution_count": 12,
      "outputs": []
    },
    {
      "cell_type": "code",
      "source": [
        "%cd /content\n",
        "!ls"
      ],
      "metadata": {
        "colab": {
          "base_uri": "https://localhost:8080/"
        },
        "id": "9s2nwxUQ1m0_",
        "outputId": "81e9ac7d-f60d-4e3f-b41c-cc7c6f7ed1da"
      },
      "execution_count": 13,
      "outputs": [
        {
          "output_type": "stream",
          "name": "stdout",
          "text": [
            "/content\n",
            "HelloWorld.py  sample_data\n"
          ]
        }
      ]
    },
    {
      "cell_type": "code",
      "source": [
        "!python HelloWorld.py"
      ],
      "metadata": {
        "colab": {
          "base_uri": "https://localhost:8080/"
        },
        "id": "-bgEVnpC1m2V",
        "outputId": "8950272d-ba19-45ee-dd7c-5c73b3cab57a"
      },
      "execution_count": 14,
      "outputs": [
        {
          "output_type": "stream",
          "name": "stdout",
          "text": [
            "Hello world!\n",
            "0\n",
            "1\n",
            "2\n",
            "3\n",
            "4\n",
            "好きな数を入力して下さい777\n",
            "あなたの好きな数は777です\n"
          ]
        }
      ]
    },
    {
      "cell_type": "code",
      "source": [],
      "metadata": {
        "id": "vOd5d5Jp7922"
      },
      "execution_count": null,
      "outputs": []
    },
    {
      "cell_type": "code",
      "source": [
        "with open('/content/HelloWorld.py') as f:\n",
        "      s = f.read()\n",
        "      print(s)"
      ],
      "metadata": {
        "colab": {
          "base_uri": "https://localhost:8080/"
        },
        "id": "Sk7uotYf7946",
        "outputId": "759cbd09-0610-4ca1-e7f5-686f85f1334a"
      },
      "execution_count": 17,
      "outputs": [
        {
          "output_type": "stream",
          "name": "stdout",
          "text": [
            "print('Hello world!')\n",
            "\n",
            "for i in range(5):\n",
            "    print(i)\n",
            "\n",
            "a = input('好きな数を入力して下さい')\n",
            "print('あなたの好きな数は{}です'.format(a))\n",
            "\n"
          ]
        }
      ]
    },
    {
      "cell_type": "code",
      "source": [],
      "metadata": {
        "id": "047z5ZhP8NSo"
      },
      "execution_count": null,
      "outputs": []
    }
  ]
}
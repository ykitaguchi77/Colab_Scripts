{
  "nbformat": 4,
  "nbformat_minor": 0,
  "metadata": {
    "colab": {
      "provenance": [],
      "authorship_tag": "ABX9TyOMD/WGnep01GOkhSt2bURN",
      "include_colab_link": true
    },
    "kernelspec": {
      "name": "python3",
      "display_name": "Python 3"
    },
    "language_info": {
      "name": "python"
    }
  },
  "cells": [
    {
      "cell_type": "markdown",
      "metadata": {
        "id": "view-in-github",
        "colab_type": "text"
      },
      "source": [
        "<a href=\"https://colab.research.google.com/github/ykitaguchi77/Colab_Scripts/blob/master/py_files_creation.ipynb\" target=\"_parent\"><img src=\"https://colab.research.google.com/assets/colab-badge.svg\" alt=\"Open In Colab\"/></a>"
      ]
    },
    {
      "cell_type": "code",
      "execution_count": null,
      "metadata": {
        "colab": {
          "base_uri": "https://localhost:8080/"
        },
        "id": "NYK_OzSm0ltB",
        "outputId": "423139fb-61ef-477d-80ca-2d00f99bcd8d"
      },
      "outputs": [
        {
          "output_type": "stream",
          "name": "stdout",
          "text": [
            "print('Hello world!')\n",
            "\n",
            "for i in range(5):\n",
            "    print(i)\n",
            "\n",
            "a = input('好きな数を入力して下さい')\n",
            "print('あなたの好きな数は{}です'.format(a))\n",
            "\n"
          ]
        }
      ],
      "source": [
        "text = \"\"\"\\\n",
        "print('Hello world!')\n",
        "\n",
        "for i in range(5):\n",
        "    print(i)\n",
        "\n",
        "a = input('好きな数を入力して下さい')\n",
        "print('あなたの好きな数は{}です'.format(a))\n",
        "\"\"\"\n",
        "\n",
        "path_w = '/content/HelloWorld.py'\n",
        "\n",
        "with open(path_w, mode='w') as f:\n",
        "    f.write(text)\n",
        "\n",
        "print(text)"
      ]
    },
    {
      "cell_type": "code",
      "source": [
        "#これでも可\n",
        "\n",
        "path_w = '/content/HelloWorld.py'\n",
        "\n",
        "with open(path_w, mode='w') as f:\n",
        "    f.write(\"\"\"\\\n",
        "print('Hello world!')\n",
        "\n",
        "for i in range(5):\n",
        "    print(i)\n",
        "\n",
        "a = input('好きな数を入力して下さい')\n",
        "print('あなたの好きな数は{}です'.format(a))\n",
        "\"\"\")\n",
        "\n",
        "with open(path_w) as f:\n",
        "    print(f.read())\n",
        "# New file"
      ],
      "metadata": {
        "id": "WHmMxwbmUo6P",
        "outputId": "bc32fe19-af37-4798-d281-c99c88146966",
        "colab": {
          "base_uri": "https://localhost:8080/"
        }
      },
      "execution_count": 8,
      "outputs": [
        {
          "output_type": "stream",
          "name": "stdout",
          "text": [
            "print('Hello world!')\n",
            "\n",
            "for i in range(5):\n",
            "    print(i)\n",
            "\n",
            "a = input('好きな数を入力して下さい')\n",
            "print('あなたの好きな数は{}です'.format(a))\n",
            "\n"
          ]
        }
      ]
    },
    {
      "cell_type": "code",
      "source": [
        "%cd /content\n",
        "!ls"
      ],
      "metadata": {
        "colab": {
          "base_uri": "https://localhost:8080/"
        },
        "id": "9s2nwxUQ1m0_",
        "outputId": "6cd3f508-e783-49f5-edec-d851ba29da51"
      },
      "execution_count": 9,
      "outputs": [
        {
          "output_type": "stream",
          "name": "stdout",
          "text": [
            "/content\n",
            "HelloWorld.py  sample_data  test_w.txt\n"
          ]
        }
      ]
    },
    {
      "cell_type": "code",
      "source": [
        "!python HelloWorld.py"
      ],
      "metadata": {
        "colab": {
          "base_uri": "https://localhost:8080/"
        },
        "id": "-bgEVnpC1m2V",
        "outputId": "b30b1021-b1a3-4da7-8450-3f30008581d8"
      },
      "execution_count": 10,
      "outputs": [
        {
          "output_type": "stream",
          "name": "stdout",
          "text": [
            "Hello world!\n",
            "0\n",
            "1\n",
            "2\n",
            "3\n",
            "4\n",
            "好きな数を入力して下さい3\n",
            "あなたの好きな数は3です\n"
          ]
        }
      ]
    },
    {
      "cell_type": "code",
      "source": [],
      "metadata": {
        "id": "vOd5d5Jp7922"
      },
      "execution_count": null,
      "outputs": []
    },
    {
      "cell_type": "code",
      "source": [
        "with open('/content/HelloWorld.py') as f:\n",
        "      s = f.read()\n",
        "      print(s)"
      ],
      "metadata": {
        "colab": {
          "base_uri": "https://localhost:8080/"
        },
        "id": "Sk7uotYf7946",
        "outputId": "759cbd09-0610-4ca1-e7f5-686f85f1334a"
      },
      "execution_count": null,
      "outputs": [
        {
          "output_type": "stream",
          "name": "stdout",
          "text": [
            "print('Hello world!')\n",
            "\n",
            "for i in range(5):\n",
            "    print(i)\n",
            "\n",
            "a = input('好きな数を入力して下さい')\n",
            "print('あなたの好きな数は{}です'.format(a))\n",
            "\n"
          ]
        }
      ]
    },
    {
      "cell_type": "code",
      "source": [],
      "metadata": {
        "id": "047z5ZhP8NSo"
      },
      "execution_count": null,
      "outputs": []
    }
  ]
}
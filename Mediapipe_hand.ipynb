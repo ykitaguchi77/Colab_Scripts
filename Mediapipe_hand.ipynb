{
  "nbformat": 4,
  "nbformat_minor": 0,
  "metadata": {
    "colab": {
      "name": "Untitled85.ipynb",
      "provenance": [],
      "authorship_tag": "ABX9TyMzvolXA7YeFfiFfro679bv",
      "include_colab_link": true
    },
    "kernelspec": {
      "name": "python3",
      "display_name": "Python 3"
    },
    "language_info": {
      "name": "python"
    }
  },
  "cells": [
    {
      "cell_type": "markdown",
      "metadata": {
        "id": "view-in-github",
        "colab_type": "text"
      },
      "source": [
        "<a href=\"https://colab.research.google.com/github/ykitaguchi77/Colab_Scripts/blob/master/Mediapipe_hand.ipynb\" target=\"_parent\"><img src=\"https://colab.research.google.com/assets/colab-badge.svg\" alt=\"Open In Colab\"/></a>"
      ]
    },
    {
      "cell_type": "code",
      "metadata": {
        "colab": {
          "base_uri": "https://localhost:8080/"
        },
        "id": "WwSN4-xwK_QZ",
        "outputId": "8558a83c-47bd-456f-87e1-2c1a14714863"
      },
      "source": [
        "!pip install mediapipe\n"
      ],
      "execution_count": 1,
      "outputs": [
        {
          "output_type": "stream",
          "text": [
            "Collecting mediapipe\n",
            "\u001b[?25l  Downloading https://files.pythonhosted.org/packages/5a/c6/cb43b4d35257270a428a7c8e8c10565bb9719eaa4a3a5f34442d77e02678/mediapipe-0.8.5-cp37-cp37m-manylinux_2_17_x86_64.manylinux2014_x86_64.whl (37.7MB)\n",
            "\u001b[K     |████████████████████████████████| 37.7MB 101kB/s \n",
            "\u001b[?25hRequirement already satisfied: attrs>=19.1.0 in /usr/local/lib/python3.7/dist-packages (from mediapipe) (21.2.0)\n",
            "Requirement already satisfied: absl-py in /usr/local/lib/python3.7/dist-packages (from mediapipe) (0.12.0)\n",
            "Requirement already satisfied: wheel in /usr/local/lib/python3.7/dist-packages (from mediapipe) (0.36.2)\n",
            "Requirement already satisfied: opencv-contrib-python in /usr/local/lib/python3.7/dist-packages (from mediapipe) (4.1.2.30)\n",
            "Requirement already satisfied: protobuf>=3.11.4 in /usr/local/lib/python3.7/dist-packages (from mediapipe) (3.12.4)\n",
            "Requirement already satisfied: numpy in /usr/local/lib/python3.7/dist-packages (from mediapipe) (1.19.5)\n",
            "Requirement already satisfied: six in /usr/local/lib/python3.7/dist-packages (from mediapipe) (1.15.0)\n",
            "Requirement already satisfied: setuptools in /usr/local/lib/python3.7/dist-packages (from protobuf>=3.11.4->mediapipe) (57.0.0)\n",
            "Installing collected packages: mediapipe\n",
            "Successfully installed mediapipe-0.8.5\n"
          ],
          "name": "stdout"
        }
      ]
    },
    {
      "cell_type": "code",
      "metadata": {
        "id": "us2fTL4bLE47"
      },
      "source": [
        "import mediapipe as mp\n",
        "mp_drawing = mp.solutions.drawing_utils\n",
        "mp_hands = mp.solutions.hands\n",
        "\n",
        "import cv2\n",
        "\n",
        "#サポートパッチのインポート\n",
        "from google.colab.patches import cv2_imshow"
      ],
      "execution_count": 20,
      "outputs": []
    },
    {
      "cell_type": "code",
      "metadata": {
        "id": "iXUndnyxLHY6"
      },
      "source": [
        "mp_hands = mp.solutions.hands\n",
        "hands = mp_hands.Hands(\n",
        "    min_detection_confidence=0.7,\n",
        "    min_tracking_confidence=0.5,\n",
        ")"
      ],
      "execution_count": 4,
      "outputs": []
    },
    {
      "cell_type": "code",
      "metadata": {
        "colab": {
          "base_uri": "https://localhost:8080/"
        },
        "id": "xhq49ESYLeka",
        "outputId": "78a69de9-1674-47a5-a36e-b28294896854"
      },
      "source": [
        "image = cv2.imread('/content/hand.jpg')\n",
        "image = cv2.cvtColor(image, cv2.COLOR_BGR2RGB)\n",
        "results = hands.process(image)\n",
        "\n",
        "print(results)"
      ],
      "execution_count": 18,
      "outputs": [
        {
          "output_type": "stream",
          "text": [
            "<class 'mediapipe.python.solution_base.SolutionOutputs'>\n"
          ],
          "name": "stdout"
        }
      ]
    },
    {
      "cell_type": "code",
      "metadata": {
        "colab": {
          "base_uri": "https://localhost:8080/",
          "height": 1000
        },
        "id": "80ee75_oORT8",
        "outputId": "71b40b36-cac1-4d89-f9b9-bd24e62205ac"
      },
      "source": [
        "# For static images:\n",
        "IMAGE_FILES = ['/content/hand.jpg']\n",
        "with mp_hands.Hands(\n",
        "    static_image_mode=True,\n",
        "    max_num_hands=2,\n",
        "    min_detection_confidence=0.5) as hands:\n",
        "  for idx, file in enumerate(IMAGE_FILES):\n",
        "    # Read an image, flip it around y-axis for correct handedness output (see\n",
        "    # above).\n",
        "    image = cv2.flip(cv2.imread(file), 1)\n",
        "    # Convert the BGR image to RGB before processing.\n",
        "    results = hands.process(cv2.cvtColor(image, cv2.COLOR_BGR2RGB))\n",
        "\n",
        "    # Print handedness and draw hand landmarks on the image.\n",
        "    print('Handedness:', results.multi_handedness)\n",
        "    if not results.multi_hand_landmarks:\n",
        "      continue\n",
        "    image_height, image_width, _ = image.shape\n",
        "    annotated_image = image.copy()\n",
        "    for hand_landmarks in results.multi_hand_landmarks:\n",
        "      print('hand_landmarks:', hand_landmarks)\n",
        "      print(\n",
        "          f'Index finger tip coordinates: (',\n",
        "          f'{hand_landmarks.landmark[mp_hands.HandLandmark.INDEX_FINGER_TIP].x * image_width}, '\n",
        "          f'{hand_landmarks.landmark[mp_hands.HandLandmark.INDEX_FINGER_TIP].y * image_height})'\n",
        "      )\n",
        "      mp_drawing.draw_landmarks(\n",
        "          annotated_image, hand_landmarks, mp_hands.HAND_CONNECTIONS)\n",
        "    cv2.imwrite(\n",
        "        '/tmp/annotated_image' + str(idx) + '.png', cv2.flip(annotated_image, 1))\n",
        "    \n",
        "cv2_imshow(annotated_image)"
      ],
      "execution_count": 23,
      "outputs": [
        {
          "output_type": "stream",
          "text": [
            "Handedness: [classification {\n",
            "  index: 1\n",
            "  score: 0.999992311000824\n",
            "  label: \"Right\"\n",
            "}\n",
            "]\n",
            "hand_landmarks: landmark {\n",
            "  x: 0.4505983591079712\n",
            "  y: 0.5806224942207336\n",
            "  z: -9.618875628802925e-05\n",
            "}\n",
            "landmark {\n",
            "  x: 0.48993730545043945\n",
            "  y: 0.37946122884750366\n",
            "  z: -0.04848950356245041\n",
            "}\n",
            "landmark {\n",
            "  x: 0.5586813688278198\n",
            "  y: 0.2364509403705597\n",
            "  z: -0.08064205199480057\n",
            "}\n",
            "landmark {\n",
            "  x: 0.6261841058731079\n",
            "  y: 0.1341598927974701\n",
            "  z: -0.11837640404701233\n",
            "}\n",
            "landmark {\n",
            "  x: 0.6667588353157043\n",
            "  y: 0.029990047216415405\n",
            "  z: -0.15869952738285065\n",
            "}\n",
            "landmark {\n",
            "  x: 0.7139483094215393\n",
            "  y: 0.44400084018707275\n",
            "  z: -0.015279348008334637\n",
            "}\n",
            "landmark {\n",
            "  x: 0.82192462682724\n",
            "  y: 0.4124504029750824\n",
            "  z: -0.031275033950805664\n",
            "}\n",
            "landmark {\n",
            "  x: 0.8875325322151184\n",
            "  y: 0.4087849259376526\n",
            "  z: -0.058060165494680405\n",
            "}\n",
            "landmark {\n",
            "  x: 0.9416887760162354\n",
            "  y: 0.4170078933238983\n",
            "  z: -0.07692423462867737\n",
            "}\n",
            "landmark {\n",
            "  x: 0.7218817472457886\n",
            "  y: 0.574507474899292\n",
            "  z: -0.018891066312789917\n",
            "}\n",
            "landmark {\n",
            "  x: 0.8422922492027283\n",
            "  y: 0.5959652066230774\n",
            "  z: -0.02073478512465954\n",
            "}\n",
            "landmark {\n",
            "  x: 0.915354311466217\n",
            "  y: 0.6125279664993286\n",
            "  z: -0.0532442182302475\n",
            "}\n",
            "landmark {\n",
            "  x: 0.975317120552063\n",
            "  y: 0.6346164345741272\n",
            "  z: -0.07953894138336182\n",
            "}\n",
            "landmark {\n",
            "  x: 0.7028543949127197\n",
            "  y: 0.6856623888015747\n",
            "  z: -0.030122829601168633\n",
            "}\n",
            "landmark {\n",
            "  x: 0.8108789920806885\n",
            "  y: 0.7352166771888733\n",
            "  z: -0.040542006492614746\n",
            "}\n",
            "landmark {\n",
            "  x: 0.8805233240127563\n",
            "  y: 0.7675594687461853\n",
            "  z: -0.07041074335575104\n",
            "}\n",
            "landmark {\n",
            "  x: 0.939577579498291\n",
            "  y: 0.7981083989143372\n",
            "  z: -0.09384172409772873\n",
            "}\n",
            "landmark {\n",
            "  x: 0.6612997651100159\n",
            "  y: 0.7898799180984497\n",
            "  z: -0.04506004601716995\n",
            "}\n",
            "landmark {\n",
            "  x: 0.7364746928215027\n",
            "  y: 0.873054027557373\n",
            "  z: -0.06985674053430557\n",
            "}\n",
            "landmark {\n",
            "  x: 0.786084771156311\n",
            "  y: 0.922183632850647\n",
            "  z: -0.09705685824155807\n",
            "}\n",
            "landmark {\n",
            "  x: 0.8310055732727051\n",
            "  y: 0.9616477489471436\n",
            "  z: -0.11747273802757263\n",
            "}\n",
            "\n",
            "Index finger tip coordinates: ( 287.2150766849518, 68.80630239844322)\n"
          ],
          "name": "stdout"
        },
        {
          "output_type": "display_data",
          "data": {
            "image/png": "[encoded data removed]",
            "text/plain": [
              "<PIL.Image.Image image mode=RGB size=305x165 at 0x7FC3522B4F90>"
            ]
          },
          "metadata": {
            "tags": []
          }
        }
      ]
    }
  ]
}
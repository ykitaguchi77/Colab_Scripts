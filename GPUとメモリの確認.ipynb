{
  "nbformat": 4,
  "nbformat_minor": 0,
  "metadata": {
    "colab": {
      "name": "Colab の定期購入を最大限に活用する",
      "provenance": [],
      "collapsed_sections": [],
      "include_colab_link": true
    },
    "kernelspec": {
      "display_name": "Python 3",
      "name": "python3"
    }
  },
  "cells": [
    {
      "cell_type": "markdown",
      "metadata": {
        "id": "view-in-github",
        "colab_type": "text"
      },
      "source": [
        "<a href=\"https://colab.research.google.com/github/ykitaguchi77/Colab_Scripts/blob/master/GPU%E3%81%A8%E3%83%A1%E3%83%A2%E3%83%AA%E3%81%AE%E7%A2%BA%E8%AA%8D.ipynb\" target=\"_parent\"><img src=\"https://colab.research.google.com/assets/colab-badge.svg\" alt=\"Open In Colab\"/></a>"
      ]
    },
    {
      "cell_type": "markdown",
      "metadata": {
        "id": "SKQ4bH7qMGrA"
      },
      "source": [
        "# Colab の定期購入を最大限に活用する\n",
        "\n"
      ]
    },
    {
      "cell_type": "markdown",
      "metadata": {
        "id": "QMMqmdiYMkvi"
      },
      "source": [
        "## より速い GPU\n",
        "\n",
        "Colab Pro を使用すると、Google の最速 GPU を優先的に利用できます。たとえば、標準の Colab ユーザーに K80 GPU が割り当てられているときでも、Colab Pro ユーザーはより速い T4 や P100 GPU を利用できます。次のセルを実行することで、割り当てられている GPU をいつでも確認できます。"
      ]
    },
    {
      "cell_type": "code",
      "metadata": {
        "id": "23TOba33L4qf"
      },
      "source": [
        "gpu_info = !nvidia-smi\n",
        "gpu_info = '\\n'.join(gpu_info)\n",
        "if gpu_info.find('failed') >= 0:\n",
        "  print('Select the Runtime > \"Change runtime type\" menu to enable a GPU accelerator, ')\n",
        "  print('and then re-execute this cell.')\n",
        "else:\n",
        "  print(gpu_info)"
      ],
      "execution_count": null,
      "outputs": []
    },
    {
      "cell_type": "markdown",
      "metadata": {
        "id": "Sa-IrJS1aRVJ"
      },
      "source": [
        "ノートパソコンで GPU を使用するには、&#91;ランタイム&#93; &#62; &#91;ランタイムのタイプを変更&#93; のメニューを選択してから、ハードウェア アクセラレーションのプルダウンを &#91;GPU&#93; に設定します。"
      ]
    },
    {
      "cell_type": "markdown",
      "metadata": {
        "id": "65MSuHKqNeBZ"
      },
      "source": [
        "## より多くのメモリ\n",
        "\n",
        "<p>Colab Pro でオプションを設定すれば、空き次第でハイメモリ VM にアクセスできます。ハイメモリ ランタイムを使用できるようにノートパソコンを設定する場合は、&#91;ランタイム&#93; &#62; &#91;ランタイムのタイプを変更&#93; のメニューを選択してから、ランタイムの仕様のプルダウンで &#91;ハイメモリ&#93; を選択します。</p><p>次のコードを実行することで、使用可能なメモリ量をいつでも確認できます。</p>"
      ]
    },
    {
      "cell_type": "code",
      "metadata": {
        "id": "V1G82GuO-tez"
      },
      "source": [
        "from psutil import virtual_memory\n",
        "ram_gb = virtual_memory().total / 1e9\n",
        "print('Your runtime has {:.1f} gigabytes of available RAM\\n'.format(ram_gb))\n",
        "\n",
        "if ram_gb < 20:\n",
        "  print('To enable a high-RAM runtime, select the Runtime > \"Change runtime type\"')\n",
        "  print('menu, and then select High-RAM in the Runtime shape dropdown. Then, ')\n",
        "  print('re-execute this cell.')\n",
        "else:\n",
        "  print('You are using a high-RAM runtime!')"
      ],
      "execution_count": null,
      "outputs": []
    },
    {
      "cell_type": "markdown",
      "metadata": {
        "id": "BJW8Qi-pPpep"
      },
      "source": [
        "## より長時間の使用\n",
        "\n",
        "すべての Colab のランタイムは一定時間後にリセットされます（ランタイムがコードを実行していない場合はより早くリセットされます）。Colab Pro の登録者にも時間制限がありますが、その長さは未登録ユーザーの約 2 倍になります。"
      ]
    },
    {
      "cell_type": "markdown",
      "metadata": {
        "id": "uLlTRcMM_h0k"
      },
      "source": [
        "## Colab Pro のリソース制限\n",
        "\n",
        "Colab Pro ではリソースの利用に制限があります。Colab Pro を最大限に活用するためには、必要のないリソースを使用するのは避けてください。たとえば、必要なときだけ GPU ランタイムまたは RAM 増量ランタイムを使用し、作業が完了したら Colab のタブを閉じてください。\n"
      ]
    },
    {
      "cell_type": "markdown",
      "metadata": {
        "id": "mm8FzEidvPs6"
      },
      "source": [
        "## フィードバックのお願い\n",
        "\n",
        "<p>ご意見がございましたら、Google までお問い合わせください。フィードバックを送信する場合は、&#91;ヘルプ&#93; &#62; &#91;フィードバックを送信&#93; をご使用ください。また、Colab Pro で使用量上限に達し、より使用量上限が高いサービスに関心がある場合は Google にぜひお知らせください。</p>\n",
        "<p>Colab Pro でご請求（お支払い）のエラーやその他の問題が発生した場合は、<a href=\"mailto:colab-billing@google.com\">colab-billing@google.com</a> までメールでご連絡ください。</p>"
      ]
    }
  ]
}
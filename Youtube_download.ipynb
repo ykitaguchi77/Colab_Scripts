{
  "nbformat": 4,
  "nbformat_minor": 0,
  "metadata": {
    "colab": {
      "name": "Untitled45.ipynb",
      "provenance": [],
      "include_colab_link": true
    },
    "kernelspec": {
      "name": "python3",
      "display_name": "Python 3"
    }
  },
  "cells": [
    {
      "cell_type": "markdown",
      "metadata": {
        "id": "view-in-github",
        "colab_type": "text"
      },
      "source": [
        "<a href=\"https://colab.research.google.com/github/ykitaguchi77/Colab_Scripts/blob/master/Youtube_download.ipynb\" target=\"_parent\"><img src=\"https://colab.research.google.com/assets/colab-badge.svg\" alt=\"Open In Colab\"/></a>"
      ]
    },
    {
      "cell_type": "markdown",
      "metadata": {
        "id": "6wl1vpCIXVMI"
      },
      "source": [
        "#**YouTubeをダウンロードするスクリプト**\n",
        "準備： <br>\n",
        "google driveに'INPUTS'フォルダを作る <br>\n",
        "フォルダ内に'input_list.csv'を作成し保存する\n"
      ]
    },
    {
      "cell_type": "code",
      "metadata": {
        "id": "O6QsDjcDIzNK",
        "colab": {
          "base_uri": "https://localhost:8080/"
        },
        "outputId": "d4e48f27-5083-4dcd-b289-58dd147e6db3"
      },
      "source": [
        "!pip install youtube_dl\n",
        "!pip install ffmpeg\n",
        "\n",
        "from __future__ import unicode_literals\n",
        "import youtube_dl\n",
        "import pandas as pd"
      ],
      "execution_count": 1,
      "outputs": [
        {
          "output_type": "stream",
          "name": "stdout",
          "text": [
            "Collecting youtube_dl\n",
            "  Downloading youtube_dl-2021.12.17-py2.py3-none-any.whl (1.9 MB)\n",
            "\u001b[?25l\r\u001b[K     |▏                               | 10 kB 25.9 MB/s eta 0:00:01\r\u001b[K     |▍                               | 20 kB 29.9 MB/s eta 0:00:01\r\u001b[K     |▌                               | 30 kB 32.9 MB/s eta 0:00:01\r\u001b[K     |▊                               | 40 kB 36.0 MB/s eta 0:00:01\r\u001b[K     |▉                               | 51 kB 27.8 MB/s eta 0:00:01\r\u001b[K     |█                               | 61 kB 29.9 MB/s eta 0:00:01\r\u001b[K     |█▏                              | 71 kB 29.4 MB/s eta 0:00:01\r\u001b[K     |█▍                              | 81 kB 30.4 MB/s eta 0:00:01\r\u001b[K     |█▌                              | 92 kB 32.5 MB/s eta 0:00:01\r\u001b[K     |█▊                              | 102 kB 29.7 MB/s eta 0:00:01\r\u001b[K     |██                              | 112 kB 29.7 MB/s eta 0:00:01\r\u001b[K     |██                              | 122 kB 29.7 MB/s eta 0:00:01\r\u001b[K     |██▎                             | 133 kB 29.7 MB/s eta 0:00:01\r\u001b[K     |██▍                             | 143 kB 29.7 MB/s eta 0:00:01\r\u001b[K     |██▋                             | 153 kB 29.7 MB/s eta 0:00:01\r\u001b[K     |██▊                             | 163 kB 29.7 MB/s eta 0:00:01\r\u001b[K     |███                             | 174 kB 29.7 MB/s eta 0:00:01\r\u001b[K     |███                             | 184 kB 29.7 MB/s eta 0:00:01\r\u001b[K     |███▎                            | 194 kB 29.7 MB/s eta 0:00:01\r\u001b[K     |███▌                            | 204 kB 29.7 MB/s eta 0:00:01\r\u001b[K     |███▋                            | 215 kB 29.7 MB/s eta 0:00:01\r\u001b[K     |███▉                            | 225 kB 29.7 MB/s eta 0:00:01\r\u001b[K     |████                            | 235 kB 29.7 MB/s eta 0:00:01\r\u001b[K     |████▏                           | 245 kB 29.7 MB/s eta 0:00:01\r\u001b[K     |████▎                           | 256 kB 29.7 MB/s eta 0:00:01\r\u001b[K     |████▌                           | 266 kB 29.7 MB/s eta 0:00:01\r\u001b[K     |████▋                           | 276 kB 29.7 MB/s eta 0:00:01\r\u001b[K     |████▉                           | 286 kB 29.7 MB/s eta 0:00:01\r\u001b[K     |█████                           | 296 kB 29.7 MB/s eta 0:00:01\r\u001b[K     |█████▏                          | 307 kB 29.7 MB/s eta 0:00:01\r\u001b[K     |█████▍                          | 317 kB 29.7 MB/s eta 0:00:01\r\u001b[K     |█████▌                          | 327 kB 29.7 MB/s eta 0:00:01\r\u001b[K     |█████▊                          | 337 kB 29.7 MB/s eta 0:00:01\r\u001b[K     |█████▉                          | 348 kB 29.7 MB/s eta 0:00:01\r\u001b[K     |██████                          | 358 kB 29.7 MB/s eta 0:00:01\r\u001b[K     |██████▏                         | 368 kB 29.7 MB/s eta 0:00:01\r\u001b[K     |██████▍                         | 378 kB 29.7 MB/s eta 0:00:01\r\u001b[K     |██████▌                         | 389 kB 29.7 MB/s eta 0:00:01\r\u001b[K     |██████▊                         | 399 kB 29.7 MB/s eta 0:00:01\r\u001b[K     |███████                         | 409 kB 29.7 MB/s eta 0:00:01\r\u001b[K     |███████                         | 419 kB 29.7 MB/s eta 0:00:01\r\u001b[K     |███████▎                        | 430 kB 29.7 MB/s eta 0:00:01\r\u001b[K     |███████▍                        | 440 kB 29.7 MB/s eta 0:00:01\r\u001b[K     |███████▋                        | 450 kB 29.7 MB/s eta 0:00:01\r\u001b[K     |███████▊                        | 460 kB 29.7 MB/s eta 0:00:01\r\u001b[K     |████████                        | 471 kB 29.7 MB/s eta 0:00:01\r\u001b[K     |████████                        | 481 kB 29.7 MB/s eta 0:00:01\r\u001b[K     |████████▎                       | 491 kB 29.7 MB/s eta 0:00:01\r\u001b[K     |████████▍                       | 501 kB 29.7 MB/s eta 0:00:01\r\u001b[K     |████████▋                       | 512 kB 29.7 MB/s eta 0:00:01\r\u001b[K     |████████▉                       | 522 kB 29.7 MB/s eta 0:00:01\r\u001b[K     |█████████                       | 532 kB 29.7 MB/s eta 0:00:01\r\u001b[K     |█████████▏                      | 542 kB 29.7 MB/s eta 0:00:01\r\u001b[K     |█████████▎                      | 552 kB 29.7 MB/s eta 0:00:01\r\u001b[K     |█████████▌                      | 563 kB 29.7 MB/s eta 0:00:01\r\u001b[K     |█████████▋                      | 573 kB 29.7 MB/s eta 0:00:01\r\u001b[K     |█████████▉                      | 583 kB 29.7 MB/s eta 0:00:01\r\u001b[K     |██████████                      | 593 kB 29.7 MB/s eta 0:00:01\r\u001b[K     |██████████▏                     | 604 kB 29.7 MB/s eta 0:00:01\r\u001b[K     |██████████▍                     | 614 kB 29.7 MB/s eta 0:00:01\r\u001b[K     |██████████▌                     | 624 kB 29.7 MB/s eta 0:00:01\r\u001b[K     |██████████▊                     | 634 kB 29.7 MB/s eta 0:00:01\r\u001b[K     |██████████▉                     | 645 kB 29.7 MB/s eta 0:00:01\r\u001b[K     |███████████                     | 655 kB 29.7 MB/s eta 0:00:01\r\u001b[K     |███████████▏                    | 665 kB 29.7 MB/s eta 0:00:01\r\u001b[K     |███████████▍                    | 675 kB 29.7 MB/s eta 0:00:01\r\u001b[K     |███████████▌                    | 686 kB 29.7 MB/s eta 0:00:01\r\u001b[K     |███████████▊                    | 696 kB 29.7 MB/s eta 0:00:01\r\u001b[K     |███████████▉                    | 706 kB 29.7 MB/s eta 0:00:01\r\u001b[K     |████████████                    | 716 kB 29.7 MB/s eta 0:00:01\r\u001b[K     |████████████▎                   | 727 kB 29.7 MB/s eta 0:00:01\r\u001b[K     |████████████▍                   | 737 kB 29.7 MB/s eta 0:00:01\r\u001b[K     |████████████▋                   | 747 kB 29.7 MB/s eta 0:00:01\r\u001b[K     |████████████▊                   | 757 kB 29.7 MB/s eta 0:00:01\r\u001b[K     |█████████████                   | 768 kB 29.7 MB/s eta 0:00:01\r\u001b[K     |█████████████                   | 778 kB 29.7 MB/s eta 0:00:01\r\u001b[K     |█████████████▎                  | 788 kB 29.7 MB/s eta 0:00:01\r\u001b[K     |█████████████▍                  | 798 kB 29.7 MB/s eta 0:00:01\r\u001b[K     |█████████████▋                  | 808 kB 29.7 MB/s eta 0:00:01\r\u001b[K     |█████████████▉                  | 819 kB 29.7 MB/s eta 0:00:01\r\u001b[K     |██████████████                  | 829 kB 29.7 MB/s eta 0:00:01\r\u001b[K     |██████████████▏                 | 839 kB 29.7 MB/s eta 0:00:01\r\u001b[K     |██████████████▎                 | 849 kB 29.7 MB/s eta 0:00:01\r\u001b[K     |██████████████▌                 | 860 kB 29.7 MB/s eta 0:00:01\r\u001b[K     |██████████████▋                 | 870 kB 29.7 MB/s eta 0:00:01\r\u001b[K     |██████████████▉                 | 880 kB 29.7 MB/s eta 0:00:01\r\u001b[K     |███████████████                 | 890 kB 29.7 MB/s eta 0:00:01\r\u001b[K     |███████████████▏                | 901 kB 29.7 MB/s eta 0:00:01\r\u001b[K     |███████████████▎                | 911 kB 29.7 MB/s eta 0:00:01\r\u001b[K     |███████████████▌                | 921 kB 29.7 MB/s eta 0:00:01\r\u001b[K     |███████████████▊                | 931 kB 29.7 MB/s eta 0:00:01\r\u001b[K     |███████████████▉                | 942 kB 29.7 MB/s eta 0:00:01\r\u001b[K     |████████████████                | 952 kB 29.7 MB/s eta 0:00:01\r\u001b[K     |████████████████▏               | 962 kB 29.7 MB/s eta 0:00:01\r\u001b[K     |████████████████▍               | 972 kB 29.7 MB/s eta 0:00:01\r\u001b[K     |████████████████▌               | 983 kB 29.7 MB/s eta 0:00:01\r\u001b[K     |████████████████▊               | 993 kB 29.7 MB/s eta 0:00:01\r\u001b[K     |████████████████▉               | 1.0 MB 29.7 MB/s eta 0:00:01\r\u001b[K     |█████████████████               | 1.0 MB 29.7 MB/s eta 0:00:01\r\u001b[K     |█████████████████▎              | 1.0 MB 29.7 MB/s eta 0:00:01\r\u001b[K     |█████████████████▍              | 1.0 MB 29.7 MB/s eta 0:00:01\r\u001b[K     |█████████████████▋              | 1.0 MB 29.7 MB/s eta 0:00:01\r\u001b[K     |█████████████████▊              | 1.1 MB 29.7 MB/s eta 0:00:01\r\u001b[K     |██████████████████              | 1.1 MB 29.7 MB/s eta 0:00:01\r\u001b[K     |██████████████████              | 1.1 MB 29.7 MB/s eta 0:00:01\r\u001b[K     |██████████████████▎             | 1.1 MB 29.7 MB/s eta 0:00:01\r\u001b[K     |██████████████████▍             | 1.1 MB 29.7 MB/s eta 0:00:01\r\u001b[K     |██████████████████▋             | 1.1 MB 29.7 MB/s eta 0:00:01\r\u001b[K     |██████████████████▊             | 1.1 MB 29.7 MB/s eta 0:00:01\r\u001b[K     |███████████████████             | 1.1 MB 29.7 MB/s eta 0:00:01\r\u001b[K     |███████████████████▏            | 1.1 MB 29.7 MB/s eta 0:00:01\r\u001b[K     |███████████████████▎            | 1.1 MB 29.7 MB/s eta 0:00:01\r\u001b[K     |███████████████████▌            | 1.2 MB 29.7 MB/s eta 0:00:01\r\u001b[K     |███████████████████▋            | 1.2 MB 29.7 MB/s eta 0:00:01\r\u001b[K     |███████████████████▉            | 1.2 MB 29.7 MB/s eta 0:00:01\r\u001b[K     |████████████████████            | 1.2 MB 29.7 MB/s eta 0:00:01\r\u001b[K     |████████████████████▏           | 1.2 MB 29.7 MB/s eta 0:00:01\r\u001b[K     |████████████████████▎           | 1.2 MB 29.7 MB/s eta 0:00:01\r\u001b[K     |████████████████████▌           | 1.2 MB 29.7 MB/s eta 0:00:01\r\u001b[K     |████████████████████▊           | 1.2 MB 29.7 MB/s eta 0:00:01\r\u001b[K     |████████████████████▉           | 1.2 MB 29.7 MB/s eta 0:00:01\r\u001b[K     |█████████████████████           | 1.2 MB 29.7 MB/s eta 0:00:01\r\u001b[K     |█████████████████████▏          | 1.3 MB 29.7 MB/s eta 0:00:01\r\u001b[K     |█████████████████████▍          | 1.3 MB 29.7 MB/s eta 0:00:01\r\u001b[K     |█████████████████████▌          | 1.3 MB 29.7 MB/s eta 0:00:01\r\u001b[K     |█████████████████████▊          | 1.3 MB 29.7 MB/s eta 0:00:01\r\u001b[K     |█████████████████████▉          | 1.3 MB 29.7 MB/s eta 0:00:01\r\u001b[K     |██████████████████████          | 1.3 MB 29.7 MB/s eta 0:00:01\r\u001b[K     |██████████████████████▏         | 1.3 MB 29.7 MB/s eta 0:00:01\r\u001b[K     |██████████████████████▍         | 1.3 MB 29.7 MB/s eta 0:00:01\r\u001b[K     |██████████████████████▋         | 1.3 MB 29.7 MB/s eta 0:00:01\r\u001b[K     |██████████████████████▊         | 1.4 MB 29.7 MB/s eta 0:00:01\r\u001b[K     |███████████████████████         | 1.4 MB 29.7 MB/s eta 0:00:01\r\u001b[K     |███████████████████████         | 1.4 MB 29.7 MB/s eta 0:00:01\r\u001b[K     |███████████████████████▎        | 1.4 MB 29.7 MB/s eta 0:00:01\r\u001b[K     |███████████████████████▍        | 1.4 MB 29.7 MB/s eta 0:00:01\r\u001b[K     |███████████████████████▋        | 1.4 MB 29.7 MB/s eta 0:00:01\r\u001b[K     |███████████████████████▊        | 1.4 MB 29.7 MB/s eta 0:00:01\r\u001b[K     |████████████████████████        | 1.4 MB 29.7 MB/s eta 0:00:01\r\u001b[K     |████████████████████████▏       | 1.4 MB 29.7 MB/s eta 0:00:01\r\u001b[K     |████████████████████████▎       | 1.4 MB 29.7 MB/s eta 0:00:01\r\u001b[K     |████████████████████████▌       | 1.5 MB 29.7 MB/s eta 0:00:01\r\u001b[K     |████████████████████████▋       | 1.5 MB 29.7 MB/s eta 0:00:01\r\u001b[K     |████████████████████████▉       | 1.5 MB 29.7 MB/s eta 0:00:01\r\u001b[K     |█████████████████████████       | 1.5 MB 29.7 MB/s eta 0:00:01\r\u001b[K     |█████████████████████████▏      | 1.5 MB 29.7 MB/s eta 0:00:01\r\u001b[K     |█████████████████████████▎      | 1.5 MB 29.7 MB/s eta 0:00:01\r\u001b[K     |█████████████████████████▌      | 1.5 MB 29.7 MB/s eta 0:00:01\r\u001b[K     |█████████████████████████▋      | 1.5 MB 29.7 MB/s eta 0:00:01\r\u001b[K     |█████████████████████████▉      | 1.5 MB 29.7 MB/s eta 0:00:01\r\u001b[K     |██████████████████████████      | 1.5 MB 29.7 MB/s eta 0:00:01\r\u001b[K     |██████████████████████████▏     | 1.6 MB 29.7 MB/s eta 0:00:01\r\u001b[K     |██████████████████████████▍     | 1.6 MB 29.7 MB/s eta 0:00:01\r\u001b[K     |██████████████████████████▌     | 1.6 MB 29.7 MB/s eta 0:00:01\r\u001b[K     |██████████████████████████▊     | 1.6 MB 29.7 MB/s eta 0:00:01\r\u001b[K     |██████████████████████████▉     | 1.6 MB 29.7 MB/s eta 0:00:01\r\u001b[K     |███████████████████████████     | 1.6 MB 29.7 MB/s eta 0:00:01\r\u001b[K     |███████████████████████████▏    | 1.6 MB 29.7 MB/s eta 0:00:01\r\u001b[K     |███████████████████████████▍    | 1.6 MB 29.7 MB/s eta 0:00:01\r\u001b[K     |███████████████████████████▋    | 1.6 MB 29.7 MB/s eta 0:00:01\r\u001b[K     |███████████████████████████▊    | 1.6 MB 29.7 MB/s eta 0:00:01\r\u001b[K     |████████████████████████████    | 1.7 MB 29.7 MB/s eta 0:00:01\r\u001b[K     |████████████████████████████    | 1.7 MB 29.7 MB/s eta 0:00:01\r\u001b[K     |████████████████████████████▎   | 1.7 MB 29.7 MB/s eta 0:00:01\r\u001b[K     |████████████████████████████▍   | 1.7 MB 29.7 MB/s eta 0:00:01\r\u001b[K     |████████████████████████████▋   | 1.7 MB 29.7 MB/s eta 0:00:01\r\u001b[K     |████████████████████████████▊   | 1.7 MB 29.7 MB/s eta 0:00:01\r\u001b[K     |█████████████████████████████   | 1.7 MB 29.7 MB/s eta 0:00:01\r\u001b[K     |█████████████████████████████   | 1.7 MB 29.7 MB/s eta 0:00:01\r\u001b[K     |█████████████████████████████▎  | 1.7 MB 29.7 MB/s eta 0:00:01\r\u001b[K     |█████████████████████████████▌  | 1.8 MB 29.7 MB/s eta 0:00:01\r\u001b[K     |█████████████████████████████▋  | 1.8 MB 29.7 MB/s eta 0:00:01\r\u001b[K     |█████████████████████████████▉  | 1.8 MB 29.7 MB/s eta 0:00:01\r\u001b[K     |██████████████████████████████  | 1.8 MB 29.7 MB/s eta 0:00:01\r\u001b[K     |██████████████████████████████▏ | 1.8 MB 29.7 MB/s eta 0:00:01\r\u001b[K     |██████████████████████████████▎ | 1.8 MB 29.7 MB/s eta 0:00:01\r\u001b[K     |██████████████████████████████▌ | 1.8 MB 29.7 MB/s eta 0:00:01\r\u001b[K     |██████████████████████████████▋ | 1.8 MB 29.7 MB/s eta 0:00:01\r\u001b[K     |██████████████████████████████▉ | 1.8 MB 29.7 MB/s eta 0:00:01\r\u001b[K     |███████████████████████████████ | 1.8 MB 29.7 MB/s eta 0:00:01\r\u001b[K     |███████████████████████████████▏| 1.9 MB 29.7 MB/s eta 0:00:01\r\u001b[K     |███████████████████████████████▍| 1.9 MB 29.7 MB/s eta 0:00:01\r\u001b[K     |███████████████████████████████▌| 1.9 MB 29.7 MB/s eta 0:00:01\r\u001b[K     |███████████████████████████████▊| 1.9 MB 29.7 MB/s eta 0:00:01\r\u001b[K     |███████████████████████████████▉| 1.9 MB 29.7 MB/s eta 0:00:01\r\u001b[K     |████████████████████████████████| 1.9 MB 29.7 MB/s \n",
            "\u001b[?25hInstalling collected packages: youtube-dl\n",
            "Successfully installed youtube-dl-2021.12.17\n",
            "Collecting ffmpeg\n",
            "  Downloading ffmpeg-1.4.tar.gz (5.1 kB)\n",
            "Building wheels for collected packages: ffmpeg\n",
            "  Building wheel for ffmpeg (setup.py) ... \u001b[?25l\u001b[?25hdone\n",
            "  Created wheel for ffmpeg: filename=ffmpeg-1.4-py3-none-any.whl size=6084 sha256=c882785af26b19d48ef1532f668b11d4c5880e1e07586c147d3fe78fec80edf3\n",
            "  Stored in directory: /root/.cache/pip/wheels/64/80/6e/caa3e16deb0267c3cbfd36862058a724144e19fdb9eb03af0f\n",
            "Successfully built ffmpeg\n",
            "Installing collected packages: ffmpeg\n",
            "Successfully installed ffmpeg-1.4\n"
          ]
        }
      ]
    },
    {
      "cell_type": "code",
      "metadata": {
        "id": "gXx9kU8fBqbS",
        "colab": {
          "base_uri": "https://localhost:8080/"
        },
        "outputId": "f4715f74-89fa-4f04-9a58-d33180708006"
      },
      "source": [
        "#google driveをcolabolatoryにマウント\n",
        "from google.colab import drive\n",
        "drive.mount('/content/drive')"
      ],
      "execution_count": 2,
      "outputs": [
        {
          "output_type": "stream",
          "name": "stdout",
          "text": [
            "Mounted at /content/drive\n"
          ]
        }
      ]
    },
    {
      "cell_type": "markdown",
      "metadata": {
        "id": "t9Q2DSd2RZpS"
      },
      "source": [
        "#**ダウンロードするスクリプト**"
      ]
    },
    {
      "cell_type": "code",
      "metadata": {
        "id": "G0OdSW6kCrir"
      },
      "source": [
        "#動画をダウンドロードするとき\n",
        "def Youtube_DL(url, num):\n",
        "\n",
        "    #outtmpl = str(num) +'%(title)s.%(ext)s'\n",
        "    outtmpl = '%(title)s.%(ext)s'\n",
        "    down_dir = \"/content/drive/MyDrive/INPUTS/ダウンロード済/\"\n",
        "    url = url\n",
        "\n",
        "    ydl_opts = {\n",
        "        #'format': 'bestvideo+bestaudio/best',\n",
        "        'format': 'mp4',\n",
        "        'outtmpl': down_dir + outtmpl\n",
        "    }\n",
        "    with youtube_dl.YoutubeDL(ydl_opts) as ydl:\n",
        "        ydl.download([url])"
      ],
      "execution_count": 3,
      "outputs": []
    },
    {
      "cell_type": "code",
      "source": [
        ""
      ],
      "metadata": {
        "id": "3mecu9SZayvN"
      },
      "execution_count": null,
      "outputs": []
    },
    {
      "cell_type": "code",
      "metadata": {
        "id": "fPfjWmF2XD99"
      },
      "source": [
        "#mp3をダウンロードするとき\n",
        "def Youtube_DL(url, num):\n",
        "\n",
        "    #outtmpl = str(num) +'%(title)s.%(ext)s'\n",
        "    outtmpl = '%(title)s.%(ext)s'\n",
        "    down_dir = \"/content/drive/MyDrive/INPUTS/ダウンロード済/\"\n",
        "    url = url\n",
        "\n",
        "    ydl_opts = {\n",
        "        'format': 'bestaudio/best',\n",
        "        'outtmpl': down_dir + outtmpl,\n",
        "        'postprocessors': [\n",
        "        {'key': 'FFmpegExtractAudio',\n",
        "        'preferredcodec': 'mp3',\n",
        "         'preferredquality': '192'},\n",
        "        {'key': 'FFmpegMetadata'},\n",
        "        ],\n",
        "    }\n",
        "\n",
        "    with youtube_dl.YoutubeDL(ydl_opts) as ydl:\n",
        "        ydl.download([url])"
      ],
      "execution_count": null,
      "outputs": []
    },
    {
      "cell_type": "markdown",
      "metadata": {
        "id": "n1A-bpn3PMNg"
      },
      "source": [
        "#**ダウンロードするアドレスのリストを取得**"
      ]
    },
    {
      "cell_type": "code",
      "metadata": {
        "id": "7jgZUtoDNudy"
      },
      "source": [
        "def get_url():\n",
        "\n",
        "    #データをdfに読み込み。pandasをpdとして利用。\n",
        "    #df = pd.read_csv(\"/content/drive/My Drive/INPUTS/input_list.csv\", encoding=\"shift-jis\")\n",
        "    df = pd.read_csv(\"/content/drive/My Drive/INPUTS/input_list.csv\", encoding=\"UTF-8\")\n",
        "\n",
        "    #dfの中身を確認\n",
        "    #print(df)\n",
        "    \n",
        "    url = df.iloc[:,2]\n",
        "\n",
        "    print('--Download_url_list--')\n",
        "    for i in url:\n",
        "        print(i)\n",
        "\n",
        "    return(url)"
      ],
      "execution_count": 4,
      "outputs": []
    },
    {
      "cell_type": "code",
      "metadata": {
        "id": "4pPyISbbOUFZ"
      },
      "source": [
        "def get_url():\n",
        "    #一つずつダウンロードするとき\n",
        "    url = [\"https://www.youtube.com/watch?v=tapYQfGRjsg\"]\n",
        "\n",
        "    print('--Download_url_list--')\n",
        "    for i in url:\n",
        "        print(i)\n",
        "\n",
        "    return(url)"
      ],
      "execution_count": 8,
      "outputs": []
    },
    {
      "cell_type": "markdown",
      "metadata": {
        "id": "hYYfkf5oSFW_"
      },
      "source": [
        "#**スクリプトを実行**"
      ]
    },
    {
      "cell_type": "code",
      "metadata": {
        "id": "4u5kAZ_ySEx6",
        "colab": {
          "base_uri": "https://localhost:8080/"
        },
        "outputId": "d45d04e0-39c2-439f-8f97-cee8234887dc"
      },
      "source": [
        "def main():\n",
        "    url = get_url()\n",
        "    \n",
        "    k=0\n",
        "    for i in url:\n",
        "        try:\n",
        "            print('')\n",
        "            k+=1\n",
        "            print('downloading '+ str(k) +'/' + str(len(url)) )\n",
        "            Youtube_DL(i,k)\n",
        "        except:\n",
        "            pass\n",
        "    \n",
        "main()"
      ],
      "execution_count": 9,
      "outputs": [
        {
          "output_type": "stream",
          "name": "stdout",
          "text": [
            "--Download_url_list--\n",
            "https://www.youtube.com/watch?v=tapYQfGRjsg\n",
            "\n",
            "downloading 1/1\n",
            "[youtube] tapYQfGRjsg: Downloading webpage\n",
            "[download] Destination: /content/drive/MyDrive/INPUTS/ダウンロード済Meibomian Gland Dysfunction (MGD).mp4\n",
            "[download] 100% of 11.30MiB in 02:25\n"
          ]
        }
      ]
    }
  ]
}
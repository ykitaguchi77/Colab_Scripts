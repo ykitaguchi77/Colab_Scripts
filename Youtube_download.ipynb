{
  "nbformat": 4,
  "nbformat_minor": 0,
  "metadata": {
    "colab": {
      "name": "Untitled45.ipynb",
      "provenance": [],
      "include_colab_link": true
    },
    "kernelspec": {
      "name": "python3",
      "display_name": "Python 3"
    }
  },
  "cells": [
    {
      "cell_type": "markdown",
      "metadata": {
        "id": "view-in-github",
        "colab_type": "text"
      },
      "source": [
        "<a href=\"https://colab.research.google.com/github/ykitaguchi77/Colab_Scripts/blob/master/Youtube_download.ipynb\" target=\"_parent\"><img src=\"https://colab.research.google.com/assets/colab-badge.svg\" alt=\"Open In Colab\"/></a>"
      ]
    },
    {
      "cell_type": "markdown",
      "metadata": {
        "id": "6wl1vpCIXVMI"
      },
      "source": [
        "#**YouTubeをダウンロードするスクリプト**\n",
        "準備： <br>\n",
        "google driveに'INPUTS'フォルダを作る <br>\n",
        "フォルダ内に'input_list.csv'を作成し保存する\n"
      ]
    },
    {
      "cell_type": "code",
      "metadata": {
        "id": "O6QsDjcDIzNK",
        "colab": {
          "base_uri": "https://localhost:8080/"
        },
        "outputId": "074e3b96-90b7-4991-c61f-e4acc4a16774"
      },
      "source": [
        "!pip install youtube_dl\n",
        "!pip install ffmpeg\n",
        "\n",
        "from __future__ import unicode_literals\n",
        "import youtube_dl\n",
        "import pandas as pd"
      ],
      "execution_count": 1,
      "outputs": [
        {
          "output_type": "stream",
          "name": "stdout",
          "text": [
            "Collecting youtube_dl\n",
            "  Downloading youtube_dl-2021.12.17-py2.py3-none-any.whl (1.9 MB)\n",
            "\u001b[K     |████████████████████████████████| 1.9 MB 5.1 MB/s \n",
            "\u001b[?25hInstalling collected packages: youtube-dl\n",
            "Successfully installed youtube-dl-2021.12.17\n",
            "Collecting ffmpeg\n",
            "  Downloading ffmpeg-1.4.tar.gz (5.1 kB)\n",
            "Building wheels for collected packages: ffmpeg\n",
            "  Building wheel for ffmpeg (setup.py) ... \u001b[?25l\u001b[?25hdone\n",
            "  Created wheel for ffmpeg: filename=ffmpeg-1.4-py3-none-any.whl size=6084 sha256=58f871bee84d49909ce090c45a58135a2a495a6605bc85986ed2bc809b658d30\n",
            "  Stored in directory: /root/.cache/pip/wheels/64/80/6e/caa3e16deb0267c3cbfd36862058a724144e19fdb9eb03af0f\n",
            "Successfully built ffmpeg\n",
            "Installing collected packages: ffmpeg\n",
            "Successfully installed ffmpeg-1.4\n"
          ]
        }
      ]
    },
    {
      "cell_type": "code",
      "metadata": {
        "id": "gXx9kU8fBqbS",
        "colab": {
          "base_uri": "https://localhost:8080/"
        },
        "outputId": "ffc9515d-b6e9-4d9c-8e84-7d928e57a9d2"
      },
      "source": [
        "#google driveをcolabolatoryにマウント\n",
        "from google.colab import drive\n",
        "drive.mount('/content/drive')"
      ],
      "execution_count": 2,
      "outputs": [
        {
          "output_type": "stream",
          "name": "stdout",
          "text": [
            "Mounted at /content/drive\n"
          ]
        }
      ]
    },
    {
      "cell_type": "markdown",
      "metadata": {
        "id": "t9Q2DSd2RZpS"
      },
      "source": [
        "#**ダウンロードするスクリプト**"
      ]
    },
    {
      "cell_type": "code",
      "metadata": {
        "id": "G0OdSW6kCrir"
      },
      "source": [
        "#動画をダウンドロードするとき\n",
        "def Youtube_DL(url, num):\n",
        "\n",
        "    #outtmpl = str(num) +'%(title)s.%(ext)s'\n",
        "    outtmpl = '%(title)s.%(ext)s'\n",
        "    down_dir = \"/content/drive/MyDrive/INPUTS/ダウンロード済\"\n",
        "    url = url\n",
        "\n",
        "    ydl_opts = {\n",
        "        #'format': 'bestvideo+bestaudio/best',\n",
        "        'format': 'mp4',\n",
        "        'outtmpl': down_dir + outtmpl\n",
        "    }\n",
        "    with youtube_dl.YoutubeDL(ydl_opts) as ydl:\n",
        "        ydl.download([url])"
      ],
      "execution_count": 5,
      "outputs": []
    },
    {
      "cell_type": "code",
      "metadata": {
        "id": "fPfjWmF2XD99"
      },
      "source": [
        "#mp3をダウンロードするとき\n",
        "def Youtube_DL(url, num):\n",
        "\n",
        "    #outtmpl = str(num) +'%(title)s.%(ext)s'\n",
        "    outtmpl = '%(title)s.%(ext)s'\n",
        "    down_dir = \"/content/drive/MyDrive/INPUTS/ダウンロード済\"\n",
        "    url = url\n",
        "\n",
        "    ydl_opts = {\n",
        "        'format': 'bestaudio/best',\n",
        "        'outtmpl': down_dir + outtmpl,\n",
        "        'postprocessors': [\n",
        "        {'key': 'FFmpegExtractAudio',\n",
        "        'preferredcodec': 'mp3',\n",
        "         'preferredquality': '192'},\n",
        "        {'key': 'FFmpegMetadata'},\n",
        "        ],\n",
        "    }\n",
        "\n",
        "    with youtube_dl.YoutubeDL(ydl_opts) as ydl:\n",
        "        ydl.download([url])"
      ],
      "execution_count": 4,
      "outputs": []
    },
    {
      "cell_type": "markdown",
      "metadata": {
        "id": "n1A-bpn3PMNg"
      },
      "source": [
        "#**ダウンロードするアドレスのリストを取得**"
      ]
    },
    {
      "cell_type": "code",
      "metadata": {
        "id": "7jgZUtoDNudy"
      },
      "source": [
        "def get_url():\n",
        "\n",
        "    #データをdfに読み込み。pandasをpdとして利用。\n",
        "    #df = pd.read_csv(\"/content/drive/My Drive/INPUTS/input_list.csv\", encoding=\"shift-jis\")\n",
        "    df = pd.read_csv(\"/content/drive/My Drive/INPUTS/input_list.csv\", encoding=\"UTF-8\")\n",
        "\n",
        "    #dfの中身を確認\n",
        "    #print(df)\n",
        "    \n",
        "    url = df.iloc[:,2]\n",
        "\n",
        "    print('--Download_url_list--')\n",
        "    for i in url:\n",
        "        print(i)\n",
        "\n",
        "    return(url)"
      ],
      "execution_count": 6,
      "outputs": []
    },
    {
      "cell_type": "code",
      "metadata": {
        "id": "4pPyISbbOUFZ"
      },
      "source": [
        "def get_url():\n",
        "    #一つずつダウンロードするとき\n",
        "    url = [\"https://www.youtube.com/watch?v=dch1O_lLL8I\", \"https://www.youtube.com/watch?v=Wsmlj-mRYfk\"]\n",
        "\n",
        "    print('--Download_url_list--')\n",
        "    for i in url:\n",
        "        print(i)\n",
        "\n",
        "    return(url)"
      ],
      "execution_count": null,
      "outputs": []
    },
    {
      "cell_type": "markdown",
      "metadata": {
        "id": "hYYfkf5oSFW_"
      },
      "source": [
        "#**スクリプトを実行**"
      ]
    },
    {
      "cell_type": "code",
      "metadata": {
        "id": "4u5kAZ_ySEx6",
        "colab": {
          "base_uri": "https://localhost:8080/"
        },
        "outputId": "83cd5eb4-5572-413f-ee7e-b6bca2427753"
      },
      "source": [
        "def main():\n",
        "    url = get_url()\n",
        "    \n",
        "    k=0\n",
        "    for i in url:\n",
        "        try:\n",
        "            print('')\n",
        "            k+=1\n",
        "            print('downloading '+ str(k) +'/' + str(len(url)) )\n",
        "            Youtube_DL(i,k)\n",
        "        except:\n",
        "            pass\n",
        "    \n",
        "main()"
      ],
      "execution_count": null,
      "outputs": [
        {
          "output_type": "stream",
          "name": "stdout",
          "text": [
            "--Download_url_list--\n",
            "https://www.youtube.com/watch?v=grzPDD29FoU\n",
            "https://www.youtube.com/watch?v=Kd3jvJNjsgA\n",
            "https://www.youtube.com/watch?v=mOHGHL_AVkU\n",
            "https://www.youtube.com/watch?v=WAWIqlbsVww\n",
            "https://www.youtube.com/watch?v=8ctFFmLN56U\n",
            "https://www.youtube.com/watch?v=5uL4kF4AjBk\n",
            "https://www.youtube.com/watch?v=Cy89RWkY2_M\n",
            "https://www.youtube.com/shorts/Hco3LOZ0BgE\n",
            "https://www.youtube.com/watch?v=Nx6oinev4Jc\n",
            "https://www.youtube.com/watch?v=3fiGUOa0Pek\n",
            "https://www.youtube.com/watch?v=9CWD4zPm2no\n",
            "https://www.youtube.com/watch?v=2R0xm2JOXFo\n",
            "https://www.youtube.com/watch?v=WZb1o4ez9AA\n",
            "https://www.youtube.com/watch?v=qYx1lDUB6YU\n",
            "https://www.youtube.com/watch?v=tapYQfGRjsg\n",
            "https://www.youtube.com/watch?v=7Vfj37YhSnc\n",
            "https://www.youtube.com/watch?v=7Nu7wWhsRQU\n",
            "\n",
            "downloading 1/17\n",
            "[youtube] grzPDD29FoU: Downloading webpage\n",
            "[download] /content/drive/MyDrive/INPUTS/ダウンロード済Cells & flare in the anterior chamber.mp4 has already been downloaded\n",
            "[download] 100% of 2.75MiB\n",
            "\n",
            "downloading 2/17\n",
            "[youtube] Kd3jvJNjsgA: Downloading webpage\n",
            "[download] /content/drive/MyDrive/INPUTS/ダウンロード済The Normal Tear Film.mp4 has already been downloaded\n",
            "[download] 100% of 24.35MiB\n",
            "\n",
            "downloading 3/17\n",
            "[youtube] mOHGHL_AVkU: Downloading webpage\n",
            "[youtube] mOHGHL_AVkU: Downloading MPD manifest\n",
            "[download] /content/drive/MyDrive/INPUTS/ダウンロード済The Slit Lamp Exam – Episode 7,  Specular Reflection.mp4 has already been downloaded\n",
            "[download] 100% of 9.02MiB\n",
            "\n",
            "downloading 4/17\n",
            "[youtube] WAWIqlbsVww: Downloading webpage\n",
            "[youtube] WAWIqlbsVww: Downloading MPD manifest\n",
            "[download] /content/drive/MyDrive/INPUTS/ダウンロード済The Slit Lamp Exam – Episode 3, Direct Illumination with Narrow Slit Width.mp4 has already been downloaded\n",
            "[download] 100% of 15.89MiB\n",
            "\n",
            "downloading 5/17\n",
            "[youtube] 8ctFFmLN56U: Downloading webpage\n",
            "[youtube] 8ctFFmLN56U: Downloading MPD manifest\n",
            "[download] /content/drive/MyDrive/INPUTS/ダウンロード済The Slit Lamp Exam – Episode 8, Indirect Illumination.mp4 has already been downloaded\n",
            "[download] 100% of 5.88MiB\n",
            "\n",
            "downloading 6/17\n",
            "[youtube] 5uL4kF4AjBk: Downloading webpage\n",
            "[youtube] 5uL4kF4AjBk: Downloading MPD manifest\n",
            "[download] /content/drive/MyDrive/INPUTS/ダウンロード済The Slit Lamp Exam – Episode 9, Sclerotic Scatter Illumination.mp4 has already been downloaded\n",
            "[download] 100% of 7.00MiB\n",
            "\n",
            "downloading 7/17\n",
            "[youtube] Cy89RWkY2_M: Downloading webpage\n",
            "[download] /content/drive/MyDrive/INPUTS/ダウンロード済The Slit Lamp Exam – Episode 5, Retro Illumination.mp4 has already been downloaded\n",
            "[download] 100% of 41.40MiB\n",
            "\n",
            "downloading 8/17\n",
            "[youtube:tab] shorts: Downloading webpage\n"
          ]
        },
        {
          "output_type": "stream",
          "name": "stderr",
          "text": [
            "ERROR: Unable to recognize tab page; please report this issue on https://yt-dl.org/bug . Make sure you are using the latest version; see  https://yt-dl.org/update  on how to update. Be sure to call youtube-dl with the --verbose flag and include its complete output.\n"
          ]
        },
        {
          "output_type": "stream",
          "name": "stdout",
          "text": [
            "\n",
            "downloading 9/17\n",
            "[youtube] Nx6oinev4Jc: Downloading webpage\n",
            "[download] Destination: /content/drive/MyDrive/INPUTS/ダウンロード済Slit Lamp Techniques   Optical Section of Crystalline Lens.mp4\n",
            "[download]   5.7% of 8.00MiB at 48.85KiB/s ETA 02:38\n",
            "downloading 10/17\n",
            "[youtube] 3fiGUOa0Pek: Downloading webpage\n",
            "[download] Destination: /content/drive/MyDrive/INPUTS/ダウンロード済Slit Lamp Techniques   Van Herick's.mp4\n",
            "[download]   2.4% of 18.60MiB at 48.90KiB/s ETA 06:20\n",
            "downloading 11/17\n",
            "[youtube] 9CWD4zPm2no: Downloading webpage\n",
            "\n",
            "downloading 12/17\n",
            "[youtube] 2R0xm2JOXFo: Downloading webpage\n",
            "[download] Destination: /content/drive/MyDrive/INPUTS/ダウンロード済Positive Seidel's Test - Leaking Trabeculectomy Bleb.mp4\n",
            "[download]  41.2% of 4.45MiB at 43.34KiB/s ETA 01:01"
          ]
        }
      ]
    }
  ]
}
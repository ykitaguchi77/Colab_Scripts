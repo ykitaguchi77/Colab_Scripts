{
  "nbformat": 4,
  "nbformat_minor": 0,
  "metadata": {
    "colab": {
      "name": "Untitled107.ipynb",
      "provenance": [],
      "authorship_tag": "ABX9TyNHgbB0tMuxKJoTsZQ/UTEz",
      "include_colab_link": true
    },
    "kernelspec": {
      "name": "python3",
      "display_name": "Python 3"
    },
    "language_info": {
      "name": "python"
    }
  },
  "cells": [
    {
      "cell_type": "markdown",
      "metadata": {
        "id": "view-in-github",
        "colab_type": "text"
      },
      "source": [
        "<a href=\"https://colab.research.google.com/github/ykitaguchi77/Colab_Scripts/blob/master/Open_GitHub_ipynb_on_Colab.ipynb\" target=\"_parent\"><img src=\"https://colab.research.google.com/assets/colab-badge.svg\" alt=\"Open In Colab\"/></a>"
      ]
    },
    {
      "cell_type": "markdown",
      "source": [
        "#**GitHub上のipynbファイルをGoogle Colab上で開く**"
      ],
      "metadata": {
        "id": "9UPts3YzKOe9"
      }
    },
    {
      "cell_type": "code",
      "source": [
        "import os\n",
        "\n",
        "#@title  { run: \"auto\", form-width: \"20%\", display-mode: \"form\" }\n",
        "\n",
        "\n",
        "#ここにGitHub上のipynbファイルのアドレスを入力する\n",
        "github_path = \"ここにipynbファイルのアドレスをコピぺ\"#@param {type:\"string\"} \n",
        "colab_path = \"https://colab.research.google.com/github\" + github_path.split(\".com\", 1)[1]\n",
        "print(colab_path)"
      ],
      "metadata": {
        "id": "cgPbQfPqJBqn"
      },
      "execution_count": null,
      "outputs": []
    }
  ]
}
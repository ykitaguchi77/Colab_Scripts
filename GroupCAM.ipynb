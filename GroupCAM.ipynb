{
  "nbformat": 4,
  "nbformat_minor": 0,
  "metadata": {
    "colab": {
      "name": "Untitled79.ipynb",
      "provenance": [],
      "machine_shape": "hm",
      "authorship_tag": "ABX9TyOW2NOgEtIQ3FRti7wCOvXZ",
      "include_colab_link": true
    },
    "kernelspec": {
      "name": "python3",
      "display_name": "Python 3"
    },
    "language_info": {
      "name": "python"
    },
    "accelerator": "GPU"
  },
  "cells": [
    {
      "cell_type": "markdown",
      "metadata": {
        "id": "view-in-github",
        "colab_type": "text"
      },
      "source": [
        "<a href=\"https://colab.research.google.com/github/ykitaguchi77/Colab_Scripts/blob/master/GroupCAM.ipynb\" target=\"_parent\"><img src=\"https://colab.research.google.com/assets/colab-badge.svg\" alt=\"Open In Colab\"/></a>"
      ]
    },
    {
      "cell_type": "code",
      "metadata": {
        "colab": {
          "base_uri": "https://localhost:8080/"
        },
        "id": "ny9dG8FHcqZM",
        "outputId": "6075f996-e22e-41fa-c5f6-89905c4272d7"
      },
      "source": [
        "!git clone https://github.com/wofmanaf/Group-CAM.git"
      ],
      "execution_count": 2,
      "outputs": [
        {
          "output_type": "stream",
          "name": "stdout",
          "text": [
            "Cloning into 'Group-CAM'...\n",
            "remote: Enumerating objects: 182, done.\u001b[K\n",
            "remote: Counting objects: 100% (182/182), done.\u001b[K\n",
            "remote: Compressing objects: 100% (128/128), done.\u001b[K\n",
            "remote: Total 182 (delta 84), reused 146 (delta 48), pack-reused 0\u001b[K\n",
            "Receiving objects: 100% (182/182), 1.18 MiB | 9.72 MiB/s, done.\n",
            "Resolving deltas: 100% (84/84), done.\n"
          ]
        }
      ]
    },
    {
      "cell_type": "code",
      "metadata": {
        "colab": {
          "base_uri": "https://localhost:8080/"
        },
        "id": "Vxi5gPbQcxtI",
        "outputId": "57de8a4e-681f-404c-aeec-0c5f1b95beee"
      },
      "source": [
        "!pip install kornia\n",
        "import os\n",
        "os.chdir(\"/content/Group-CAM\")"
      ],
      "execution_count": 3,
      "outputs": [
        {
          "output_type": "stream",
          "name": "stdout",
          "text": [
            "Collecting kornia\n",
            "  Downloading kornia-0.6.1-py2.py3-none-any.whl (367 kB)\n",
            "\u001b[?25l\r\u001b[K     |█                               | 10 kB 21.9 MB/s eta 0:00:01\r\u001b[K     |█▉                              | 20 kB 28.0 MB/s eta 0:00:01\r\u001b[K     |██▊                             | 30 kB 21.0 MB/s eta 0:00:01\r\u001b[K     |███▋                            | 40 kB 17.3 MB/s eta 0:00:01\r\u001b[K     |████▌                           | 51 kB 8.3 MB/s eta 0:00:01\r\u001b[K     |█████▍                          | 61 kB 8.5 MB/s eta 0:00:01\r\u001b[K     |██████▎                         | 71 kB 7.2 MB/s eta 0:00:01\r\u001b[K     |███████▏                        | 81 kB 8.1 MB/s eta 0:00:01\r\u001b[K     |████████                        | 92 kB 8.4 MB/s eta 0:00:01\r\u001b[K     |█████████                       | 102 kB 7.8 MB/s eta 0:00:01\r\u001b[K     |█████████▉                      | 112 kB 7.8 MB/s eta 0:00:01\r\u001b[K     |██████████▊                     | 122 kB 7.8 MB/s eta 0:00:01\r\u001b[K     |███████████▋                    | 133 kB 7.8 MB/s eta 0:00:01\r\u001b[K     |████████████▌                   | 143 kB 7.8 MB/s eta 0:00:01\r\u001b[K     |█████████████▍                  | 153 kB 7.8 MB/s eta 0:00:01\r\u001b[K     |██████████████▎                 | 163 kB 7.8 MB/s eta 0:00:01\r\u001b[K     |███████████████▏                | 174 kB 7.8 MB/s eta 0:00:01\r\u001b[K     |████████████████                | 184 kB 7.8 MB/s eta 0:00:01\r\u001b[K     |█████████████████               | 194 kB 7.8 MB/s eta 0:00:01\r\u001b[K     |█████████████████▉              | 204 kB 7.8 MB/s eta 0:00:01\r\u001b[K     |██████████████████▊             | 215 kB 7.8 MB/s eta 0:00:01\r\u001b[K     |███████████████████▋            | 225 kB 7.8 MB/s eta 0:00:01\r\u001b[K     |████████████████████▌           | 235 kB 7.8 MB/s eta 0:00:01\r\u001b[K     |█████████████████████▍          | 245 kB 7.8 MB/s eta 0:00:01\r\u001b[K     |██████████████████████▎         | 256 kB 7.8 MB/s eta 0:00:01\r\u001b[K     |███████████████████████▏        | 266 kB 7.8 MB/s eta 0:00:01\r\u001b[K     |████████████████████████        | 276 kB 7.8 MB/s eta 0:00:01\r\u001b[K     |█████████████████████████       | 286 kB 7.8 MB/s eta 0:00:01\r\u001b[K     |█████████████████████████▉      | 296 kB 7.8 MB/s eta 0:00:01\r\u001b[K     |██████████████████████████▊     | 307 kB 7.8 MB/s eta 0:00:01\r\u001b[K     |███████████████████████████▋    | 317 kB 7.8 MB/s eta 0:00:01\r\u001b[K     |████████████████████████████▌   | 327 kB 7.8 MB/s eta 0:00:01\r\u001b[K     |█████████████████████████████▍  | 337 kB 7.8 MB/s eta 0:00:01\r\u001b[K     |██████████████████████████████▎ | 348 kB 7.8 MB/s eta 0:00:01\r\u001b[K     |███████████████████████████████▏| 358 kB 7.8 MB/s eta 0:00:01\r\u001b[K     |████████████████████████████████| 367 kB 7.8 MB/s \n",
            "\u001b[?25hRequirement already satisfied: packaging in /usr/local/lib/python3.7/dist-packages (from kornia) (21.0)\n",
            "Requirement already satisfied: torch>=1.8.1 in /usr/local/lib/python3.7/dist-packages (from kornia) (1.9.0+cu111)\n",
            "Requirement already satisfied: typing-extensions in /usr/local/lib/python3.7/dist-packages (from torch>=1.8.1->kornia) (3.7.4.3)\n",
            "Requirement already satisfied: pyparsing>=2.0.2 in /usr/local/lib/python3.7/dist-packages (from packaging->kornia) (2.4.7)\n",
            "Installing collected packages: kornia\n",
            "Successfully installed kornia-0.6.1\n"
          ]
        }
      ]
    },
    {
      "cell_type": "code",
      "metadata": {
        "id": "rTcrpjrVdVNu"
      },
      "source": [
        "!python demo.py --arch vgg19 --target_layer features.35 --input Images/ILSVRC2012_val_00000073.JPEG --output base.png\n"
      ],
      "execution_count": 9,
      "outputs": []
    },
    {
      "cell_type": "code",
      "metadata": {
        "id": "BLP48_kbds0C"
      },
      "source": [
        "!python demo.py --arch vgg19 --target_layer features.35 --input Images/ILSVRC2012_val_00000073.JPEG --output base.png --ins_del\n"
      ],
      "execution_count": null,
      "outputs": []
    }
  ]
}
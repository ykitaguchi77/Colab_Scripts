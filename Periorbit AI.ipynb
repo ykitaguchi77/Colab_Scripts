{
  "nbformat": 4,
  "nbformat_minor": 0,
  "metadata": {
    "colab": {
      "name": "Untitled11.ipynb",
      "provenance": [],
      "authorship_tag": "ABX9TyOrSvqdyJ0ucrBeGwiZcCZA",
      "include_colab_link": true
    },
    "kernelspec": {
      "name": "python3",
      "display_name": "Python 3"
    },
    "accelerator": "GPU"
  },
  "cells": [
    {
      "cell_type": "markdown",
      "metadata": {
        "id": "view-in-github",
        "colab_type": "text"
      },
      "source": [
        "<a href=\"https://colab.research.google.com/github/ykitaguchi77/Colab_Scripts/blob/master/Periorbit%20AI.ipynb\" target=\"_parent\"><img src=\"https://colab.research.google.com/assets/colab-badge.svg\" alt=\"Open In Colab\"/></a>"
      ]
    },
    {
      "cell_type": "markdown",
      "metadata": {
        "id": "fTBpmxwwsGiG"
      },
      "source": [
        "#**Periorbit AI** <br>\n",
        "https://github.com/uw-biomedical-ml/periorbitAI <br>\n",
        "https://linkinghub.elsevier.com/retrieve/pii/S0002939421002816\n",
        "\n"
      ]
    },
    {
      "cell_type": "code",
      "metadata": {
        "id": "h56ThViusBCy",
        "colab": {
          "base_uri": "https://localhost:8080/"
        },
        "outputId": "3f809212-80d6-499f-dfa8-4b8d4f5457eb"
      },
      "source": [
        "#Githubよりリポジトリをcloneする\n",
        "!git clone https://github.com/uw-biomedical-ml/periorbitAI.git"
      ],
      "execution_count": 1,
      "outputs": [
        {
          "output_type": "stream",
          "text": [
            "Cloning into 'periorbitAI'...\n",
            "remote: Enumerating objects: 92, done.\u001b[K\n",
            "remote: Counting objects: 100% (92/92), done.\u001b[K\n",
            "remote: Compressing objects: 100% (84/84), done.\u001b[K\n",
            "remote: Total 92 (delta 42), reused 5 (delta 1), pack-reused 0\u001b[K\n",
            "Unpacking objects: 100% (92/92), done.\n"
          ],
          "name": "stdout"
        }
      ]
    },
    {
      "cell_type": "code",
      "metadata": {
        "colab": {
          "base_uri": "https://localhost:8080/"
        },
        "id": "W9JOTvGwXqVQ",
        "outputId": "4fdacc20-6919-4b03-8857-7c6d2546af2a"
      },
      "source": [
        "import numpy as np\n",
        "np.show_config()"
      ],
      "execution_count": 10,
      "outputs": [
        {
          "output_type": "stream",
          "text": [
            "blas_mkl_info:\n",
            "  NOT AVAILABLE\n",
            "blis_info:\n",
            "  NOT AVAILABLE\n",
            "openblas_info:\n",
            "    libraries = ['openblas', 'openblas']\n",
            "    library_dirs = ['/usr/local/lib']\n",
            "    language = c\n",
            "    define_macros = [('HAVE_CBLAS', None)]\n",
            "blas_opt_info:\n",
            "    libraries = ['openblas', 'openblas']\n",
            "    library_dirs = ['/usr/local/lib']\n",
            "    language = c\n",
            "    define_macros = [('HAVE_CBLAS', None)]\n",
            "lapack_mkl_info:\n",
            "  NOT AVAILABLE\n",
            "openblas_lapack_info:\n",
            "    libraries = ['openblas', 'openblas']\n",
            "    library_dirs = ['/usr/local/lib']\n",
            "    language = c\n",
            "    define_macros = [('HAVE_CBLAS', None)]\n",
            "lapack_opt_info:\n",
            "    libraries = ['openblas', 'openblas']\n",
            "    library_dirs = ['/usr/local/lib']\n",
            "    language = c\n",
            "    define_macros = [('HAVE_CBLAS', None)]\n"
          ],
          "name": "stdout"
        }
      ]
    },
    {
      "cell_type": "code",
      "metadata": {
        "id": "wxQ8U-OpzKPe",
        "outputId": "c3c42aab-e4c6-4f1c-aefd-2c991c942354",
        "colab": {
          "base_uri": "https://localhost:8080/"
        }
      },
      "source": [
        "!pip install psd-tools"
      ],
      "execution_count": 14,
      "outputs": [
        {
          "output_type": "stream",
          "text": [
            "Collecting psd-tools\n",
            "  Downloading psd_tools-1.9.17-cp37-cp37m-manylinux2014_x86_64.whl (539 kB)\n",
            "\u001b[?25l\r\u001b[K     |▋                               | 10 kB 25.8 MB/s eta 0:00:01\r\u001b[K     |█▏                              | 20 kB 27.9 MB/s eta 0:00:01\r\u001b[K     |█▉                              | 30 kB 20.4 MB/s eta 0:00:01\r\u001b[K     |██▍                             | 40 kB 16.8 MB/s eta 0:00:01\r\u001b[K     |███                             | 51 kB 7.4 MB/s eta 0:00:01\r\u001b[K     |███▋                            | 61 kB 8.6 MB/s eta 0:00:01\r\u001b[K     |████▎                           | 71 kB 8.1 MB/s eta 0:00:01\r\u001b[K     |████▉                           | 81 kB 8.8 MB/s eta 0:00:01\r\u001b[K     |█████▌                          | 92 kB 9.5 MB/s eta 0:00:01\r\u001b[K     |██████                          | 102 kB 7.7 MB/s eta 0:00:01\r\u001b[K     |██████▊                         | 112 kB 7.7 MB/s eta 0:00:01\r\u001b[K     |███████▎                        | 122 kB 7.7 MB/s eta 0:00:01\r\u001b[K     |████████                        | 133 kB 7.7 MB/s eta 0:00:01\r\u001b[K     |████████▌                       | 143 kB 7.7 MB/s eta 0:00:01\r\u001b[K     |█████████▏                      | 153 kB 7.7 MB/s eta 0:00:01\r\u001b[K     |█████████▊                      | 163 kB 7.7 MB/s eta 0:00:01\r\u001b[K     |██████████▎                     | 174 kB 7.7 MB/s eta 0:00:01\r\u001b[K     |███████████                     | 184 kB 7.7 MB/s eta 0:00:01\r\u001b[K     |███████████▌                    | 194 kB 7.7 MB/s eta 0:00:01\r\u001b[K     |████████████▏                   | 204 kB 7.7 MB/s eta 0:00:01\r\u001b[K     |████████████▊                   | 215 kB 7.7 MB/s eta 0:00:01\r\u001b[K     |█████████████▍                  | 225 kB 7.7 MB/s eta 0:00:01\r\u001b[K     |██████████████                  | 235 kB 7.7 MB/s eta 0:00:01\r\u001b[K     |██████████████▋                 | 245 kB 7.7 MB/s eta 0:00:01\r\u001b[K     |███████████████▏                | 256 kB 7.7 MB/s eta 0:00:01\r\u001b[K     |███████████████▉                | 266 kB 7.7 MB/s eta 0:00:01\r\u001b[K     |████████████████▍               | 276 kB 7.7 MB/s eta 0:00:01\r\u001b[K     |█████████████████               | 286 kB 7.7 MB/s eta 0:00:01\r\u001b[K     |█████████████████▋              | 296 kB 7.7 MB/s eta 0:00:01\r\u001b[K     |██████████████████▎             | 307 kB 7.7 MB/s eta 0:00:01\r\u001b[K     |██████████████████▉             | 317 kB 7.7 MB/s eta 0:00:01\r\u001b[K     |███████████████████▌            | 327 kB 7.7 MB/s eta 0:00:01\r\u001b[K     |████████████████████            | 337 kB 7.7 MB/s eta 0:00:01\r\u001b[K     |████████████████████▋           | 348 kB 7.7 MB/s eta 0:00:01\r\u001b[K     |█████████████████████▎          | 358 kB 7.7 MB/s eta 0:00:01\r\u001b[K     |█████████████████████▉          | 368 kB 7.7 MB/s eta 0:00:01\r\u001b[K     |██████████████████████▌         | 378 kB 7.7 MB/s eta 0:00:01\r\u001b[K     |███████████████████████         | 389 kB 7.7 MB/s eta 0:00:01\r\u001b[K     |███████████████████████▊        | 399 kB 7.7 MB/s eta 0:00:01\r\u001b[K     |████████████████████████▎       | 409 kB 7.7 MB/s eta 0:00:01\r\u001b[K     |█████████████████████████       | 419 kB 7.7 MB/s eta 0:00:01\r\u001b[K     |█████████████████████████▌      | 430 kB 7.7 MB/s eta 0:00:01\r\u001b[K     |██████████████████████████▏     | 440 kB 7.7 MB/s eta 0:00:01\r\u001b[K     |██████████████████████████▊     | 450 kB 7.7 MB/s eta 0:00:01\r\u001b[K     |███████████████████████████▍    | 460 kB 7.7 MB/s eta 0:00:01\r\u001b[K     |████████████████████████████    | 471 kB 7.7 MB/s eta 0:00:01\r\u001b[K     |████████████████████████████▋   | 481 kB 7.7 MB/s eta 0:00:01\r\u001b[K     |█████████████████████████████▏  | 491 kB 7.7 MB/s eta 0:00:01\r\u001b[K     |█████████████████████████████▊  | 501 kB 7.7 MB/s eta 0:00:01\r\u001b[K     |██████████████████████████████▍ | 512 kB 7.7 MB/s eta 0:00:01\r\u001b[K     |███████████████████████████████ | 522 kB 7.7 MB/s eta 0:00:01\r\u001b[K     |███████████████████████████████▋| 532 kB 7.7 MB/s eta 0:00:01\r\u001b[K     |████████████████████████████████| 539 kB 7.7 MB/s \n",
            "\u001b[?25hRequirement already satisfied: attrs>=19.2.0 in /usr/local/lib/python3.7/dist-packages (from psd-tools) (21.2.0)\n",
            "Requirement already satisfied: scipy in /usr/local/lib/python3.7/dist-packages (from psd-tools) (1.4.1)\n",
            "Requirement already satisfied: Pillow>=6.2.0 in /usr/local/lib/python3.7/dist-packages (from psd-tools) (7.1.2)\n",
            "Requirement already satisfied: numpy in /usr/local/lib/python3.7/dist-packages (from psd-tools) (1.19.5)\n",
            "Requirement already satisfied: docopt>=0.5 in /usr/local/lib/python3.7/dist-packages (from psd-tools) (0.6.2)\n",
            "Collecting aggdraw\n",
            "  Downloading aggdraw-1.3.12-cp37-cp37m-manylinux2010_x86_64.whl (795 kB)\n",
            "\u001b[K     |████████████████████████████████| 795 kB 52.1 MB/s \n",
            "\u001b[?25hRequirement already satisfied: scikit-image in /usr/local/lib/python3.7/dist-packages (from psd-tools) (0.16.2)\n",
            "Requirement already satisfied: networkx>=2.0 in /usr/local/lib/python3.7/dist-packages (from scikit-image->psd-tools) (2.5.1)\n",
            "Requirement already satisfied: matplotlib!=3.0.0,>=2.0.0 in /usr/local/lib/python3.7/dist-packages (from scikit-image->psd-tools) (3.2.2)\n",
            "Requirement already satisfied: PyWavelets>=0.4.0 in /usr/local/lib/python3.7/dist-packages (from scikit-image->psd-tools) (1.1.1)\n",
            "Requirement already satisfied: imageio>=2.3.0 in /usr/local/lib/python3.7/dist-packages (from scikit-image->psd-tools) (2.4.1)\n",
            "Requirement already satisfied: pyparsing!=2.0.4,!=2.1.2,!=2.1.6,>=2.0.1 in /usr/local/lib/python3.7/dist-packages (from matplotlib!=3.0.0,>=2.0.0->scikit-image->psd-tools) (2.4.7)\n",
            "Requirement already satisfied: kiwisolver>=1.0.1 in /usr/local/lib/python3.7/dist-packages (from matplotlib!=3.0.0,>=2.0.0->scikit-image->psd-tools) (1.3.1)\n",
            "Requirement already satisfied: cycler>=0.10 in /usr/local/lib/python3.7/dist-packages (from matplotlib!=3.0.0,>=2.0.0->scikit-image->psd-tools) (0.10.0)\n",
            "Requirement already satisfied: python-dateutil>=2.1 in /usr/local/lib/python3.7/dist-packages (from matplotlib!=3.0.0,>=2.0.0->scikit-image->psd-tools) (2.8.1)\n",
            "Requirement already satisfied: six in /usr/local/lib/python3.7/dist-packages (from cycler>=0.10->matplotlib!=3.0.0,>=2.0.0->scikit-image->psd-tools) (1.15.0)\n",
            "Requirement already satisfied: decorator<5,>=4.3 in /usr/local/lib/python3.7/dist-packages (from networkx>=2.0->scikit-image->psd-tools) (4.4.1)\n",
            "Installing collected packages: aggdraw, psd-tools\n",
            "Successfully installed aggdraw-1.3.12 psd-tools-1.9.17\n"
          ],
          "name": "stdout"
        }
      ]
    },
    {
      "cell_type": "markdown",
      "metadata": {
        "id": "gQ2cvzdNu3o2"
      },
      "source": [
        "#作業ディレクトリを移動"
      ]
    },
    {
      "cell_type": "code",
      "metadata": {
        "id": "Q1jLQf1YukIN",
        "colab": {
          "base_uri": "https://localhost:8080/"
        },
        "outputId": "00159339-8ac1-4a04-8e94-fd5cf36fcfe9"
      },
      "source": [
        "import os\n",
        "path = '/content/periorbitAI'\n",
        "\n",
        "#作業ディレクトリをpathに移動する\n",
        "os.chdir(path)\n",
        "\n",
        "#作業ディレクトリ直下のファイルを確認\n",
        "!ls"
      ],
      "execution_count": 2,
      "outputs": [
        {
          "output_type": "stream",
          "text": [
            "example_output\tnet_inference.py  pspnet.py  requirements.txt\n",
            "LICENSE\t\tphotos\t\t  README.md  run_periorbitAI.py\n"
          ],
          "name": "stdout"
        }
      ]
    },
    {
      "cell_type": "markdown",
      "metadata": {
        "id": "a2wGyFv7uWLu"
      },
      "source": [
        "#Pythonファイルを実行する"
      ]
    },
    {
      "cell_type": "code",
      "metadata": {
        "colab": {
          "base_uri": "https://localhost:8080/"
        },
        "id": "C3fraGt8JavT",
        "outputId": "1699d21a-69c4-470c-91e2-1b4a15c8ffdd"
      },
      "source": [
        "import pandas as pd\n",
        "\n",
        "file_name = \"requirements.txt\"\n",
        "\n",
        "df = pd.read_table(file_name)\n",
        "print(df)\n",
        "\n",
        "df.iloc[:,0] = df.iloc[:,0].str.rsplit('=',1).str[0]\n",
        "df.iloc[:,0] = df.iloc[:,0].str.replace('=','==')\n",
        "\n",
        "print(df)\n",
        "df.to_csv(\"requirements.txt\", index = False)"
      ],
      "execution_count": 3,
      "outputs": [
        {
          "output_type": "stream",
          "text": [
            "    # This file may be used to create an environment using:\n",
            "0     # $ conda create --name <env> --file <this file>     \n",
            "1                                   # platform: win-64     \n",
            "2                        aggdraw=1.3.11=py38h0f91c3a_0     \n",
            "3                                alabaster=0.7.12=py_0     \n",
            "4                                   argh=0.26.2=py38_0     \n",
            "..                                                 ...     \n",
            "172                                   yapf=0.28.0=py_0     \n",
            "173                            zeromq=4.3.1=h33f27b4_3     \n",
            "174                                    zipp=2.2.0=py_0     \n",
            "175                             zlib=1.2.11=h62dcd97_3     \n",
            "176                              zstd=1.3.7=h508b16e_0     \n",
            "\n",
            "[177 rows x 1 columns]\n",
            "    # This file may be used to create an environment using:\n",
            "0     # $ conda create --name <env> --file <this file>     \n",
            "1                                   # platform: win-64     \n",
            "2                                      aggdraw==1.3.11     \n",
            "3                                    alabaster==0.7.12     \n",
            "4                                         argh==0.26.2     \n",
            "..                                                 ...     \n",
            "172                                       yapf==0.28.0     \n",
            "173                                      zeromq==4.3.1     \n",
            "174                                        zipp==2.2.0     \n",
            "175                                       zlib==1.2.11     \n",
            "176                                        zstd==1.3.7     \n",
            "\n",
            "[177 rows x 1 columns]\n"
          ],
          "name": "stdout"
        }
      ]
    },
    {
      "cell_type": "code",
      "metadata": {
        "colab": {
          "base_uri": "https://localhost:8080/"
        },
        "id": "jfXBEAebH-6A",
        "outputId": "a8ac3c2a-7555-4a6f-a056-ef1f7c42a105"
      },
      "source": [
        "!pip install -r requirements.txt"
      ],
      "execution_count": 4,
      "outputs": [
        {
          "output_type": "stream",
          "text": [
            "Collecting aggdraw==1.3.11\n",
            "  Downloading aggdraw-1.3.11-cp37-cp37m-manylinux2010_x86_64.whl (795 kB)\n",
            "\u001b[K     |████████████████████████████████| 795 kB 7.0 MB/s \n",
            "\u001b[?25hRequirement already satisfied: alabaster==0.7.12 in /usr/local/lib/python3.7/dist-packages (from -r requirements.txt (line 5)) (0.7.12)\n",
            "Collecting argh==0.26.2\n",
            "  Downloading argh-0.26.2-py2.py3-none-any.whl (30 kB)\n",
            "Collecting asn1crypto==1.3.0\n",
            "  Downloading asn1crypto-1.3.0-py2.py3-none-any.whl (103 kB)\n",
            "\u001b[K     |████████████████████████████████| 103 kB 22.6 MB/s \n",
            "\u001b[?25hCollecting astroid==2.3.3\n",
            "  Downloading astroid-2.3.3-py3-none-any.whl (205 kB)\n",
            "\u001b[K     |████████████████████████████████| 205 kB 14.4 MB/s \n",
            "\u001b[?25hCollecting astropy==4.2\n",
            "  Downloading astropy-4.2-cp37-cp37m-manylinux1_x86_64.whl (9.7 MB)\n",
            "\u001b[K     |████████████████████████████████| 9.7 MB 12.3 MB/s \n",
            "\u001b[?25hCollecting atomicwrites==1.3.0\n",
            "  Downloading atomicwrites-1.3.0-py2.py3-none-any.whl (5.9 kB)\n",
            "Collecting attrs==19.3.0\n",
            "  Downloading attrs-19.3.0-py2.py3-none-any.whl (39 kB)\n",
            "Collecting autopep8==1.4.4\n",
            "  Downloading autopep8-1.4.4.tar.gz (114 kB)\n",
            "\u001b[K     |████████████████████████████████| 114 kB 78.3 MB/s \n",
            "\u001b[?25hCollecting babel==2.8.0\n",
            "  Downloading Babel-2.8.0-py2.py3-none-any.whl (8.6 MB)\n",
            "\u001b[K     |████████████████████████████████| 8.6 MB 47.9 MB/s \n",
            "\u001b[?25hCollecting backcall==0.1.0\n",
            "  Downloading backcall-0.1.0.zip (11 kB)\n",
            "Collecting bcrypt==3.1.7\n",
            "  Downloading bcrypt-3.1.7-cp34-abi3-manylinux1_x86_64.whl (56 kB)\n",
            "\u001b[K     |████████████████████████████████| 56 kB 5.3 MB/s \n",
            "\u001b[31mERROR: Could not find a version that satisfies the requirement blas==1.0 (from versions: none)\u001b[0m\n",
            "\u001b[31mERROR: No matching distribution found for blas==1.0\u001b[0m\n",
            "\u001b[?25h"
          ],
          "name": "stdout"
        }
      ]
    },
    {
      "cell_type": "code",
      "metadata": {
        "id": "ZVkx2nbruVjt",
        "colab": {
          "base_uri": "https://localhost:8080/"
        },
        "outputId": "8fe0ca89-c75a-4e37-84cc-52191c69d5c9"
      },
      "source": [
        "!python run_periorbitAI.py /content/periorbitAI/example_output /content/periorbitAI/photosv"
      ],
      "execution_count": 19,
      "outputs": [
        {
          "output_type": "stream",
          "text": [
            "run_periorbitAI.py:13: UserWarning: Viewer requires Qt\n",
            "  import skimage.viewer\n",
            "/content/periorbitAI/example_output\n",
            "/content/periorbitAI/example_output//content/periorbitAI/photosv\n",
            "/content/periorbitAI/example_output/periorbitAI_figures\n"
          ],
          "name": "stdout"
        }
      ]
    }
  ]
}
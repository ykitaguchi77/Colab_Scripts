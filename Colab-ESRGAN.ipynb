{
  "nbformat": 4,
  "nbformat_minor": 0,
  "metadata": {
    "colab": {
      "name": "Colab-ESRGAN.ipynb",
      "private_outputs": true,
      "provenance": [],
      "collapsed_sections": [
        "Vc-TQoDgVny5",
        "07qhXOj6Np2w"
      ],
      "include_colab_link": true
    },
    "kernelspec": {
      "name": "python3",
      "display_name": "Python 3"
    },
    "accelerator": "GPU"
  },
  "cells": [
    {
      "cell_type": "markdown",
      "metadata": {
        "id": "view-in-github",
        "colab_type": "text"
      },
      "source": [
        "<a href=\"https://colab.research.google.com/github/ykitaguchi77/Colab_Scripts/blob/master/Colab-ESRGAN.ipynb\" target=\"_parent\"><img src=\"https://colab.research.google.com/assets/colab-badge.svg\" alt=\"Open In Colab\"/></a>"
      ]
    },
    {
      "cell_type": "markdown",
      "metadata": {
        "id": "T3wGB80dBZMe"
      },
      "source": [
        "# Colab-ESRGAN\n",
        "\n",
        "**WARNING FOR USERS: IF YOU WANT TO SWITCH BETWEEN ATA4 (OLD USED CODE) AND JOEY, DELETE ``Colab-ESRGAN`` FROM GOOGLE DRIVE AND REDOWNLOAD. IF YOU USED COLAB IN THE PAST AND WANT TO SWITCH TO JOEY, ALSO REDOWNLOAD CODE.**\n",
        "\n",
        "Original Colab file created by shahidul56 can be found [here](https://github.com/xinntao/ESRGAN/pull/22) and [here](https://colab.research.google.com/github/shahidul56/ESRGAN/blob/master/ESRGAN.ipynb). This also uses modifications from [here](https://github.com/ata4/esrgan-launcher). Big thanks to [ata4](https://github.com/ata4) and [JoeyBallentine](https://github.com/JoeyBallentine).\n",
        "\n",
        "ESRGAN tutorials and custom models can be found in this [wiki page](https://upscale.wiki/wiki/Main_Page).\n",
        "\n",
        "I personally recommend [fatal anime](https://de-next.owncube.com/index.php/s/x99pKzS7TNaErrC), [fatal pixels](https://de-next.owncube.com/index.php/s/mDGmi7NgdyyQRXL) and [YandereNeo](https://icedrive.net/1/f0UAiRqz3N) for drawn art.\n",
        "\n",
        "I also included a [1x DeJPEG model for jpg compression](https://de-next.owncube.com/index.php/s/w82HLrLWmWi4SQ5). Also made by twittman.\n",
        "\n",
        "Here an [imgur example with fatal pixels](https://imgur.com/a/Eeirogg) and [here one with fatal anime](https://imgur.com/a/yhA21GC). Currently too lazy to do a proper comparison.\n",
        "\n",
        "----------------------------------------------------------------\n",
        "\n",
        "Brief Google Colab instructions:\n",
        "- Run cells with these play-buttons that are visible on the left side of the code/text. ```[ ]``` indicate a play-button. Or press ```shift + enter``` while you are inside a cell.\n",
        "- Run the needed cells in the correct order. (up to down)\n",
        "- Follow the provided instructions in these commands.\n",
        "- You don't need to change anything. The only thing that probably needs to be changed are the parameter for the main.py file. Examples are provided.\n",
        "\n",
        "\n",
        "**Warning: The notebook is split in two independent parts**. One that works with Google Drive and one that works locally on Colab. If you have many files, then it is recommended to run ESRGAN within Colab and to transfer images with one .tar/.tar.gz archive. Just use either \"Google Drive Code with individual transfer of images\" or \"Running ESRGAN within Colab and transferring data with archives\" **after** mounting gdrive."
      ]
    },
    {
      "cell_type": "code",
      "metadata": {
        "id": "--dIWjjM-4-w"
      },
      "source": [
        "#Check your GPU and your VRAM\n",
        "!nvidia-smi"
      ],
      "execution_count": null,
      "outputs": []
    },
    {
      "cell_type": "code",
      "source": [
        "#Mount Google Drive\n",
        "from google.colab import drive\n",
        "drive.mount('/content/drive')\n",
        "print('Google Drive connected.')"
      ],
      "metadata": {
        "id": "gRK5MigJ1QIN"
      },
      "execution_count": null,
      "outputs": []
    },
    {
      "cell_type": "markdown",
      "metadata": {
        "id": "gqLtTIwSSbnw"
      },
      "source": [
        "-----------------------------------------------"
      ]
    },
    {
      "cell_type": "markdown",
      "metadata": {
        "id": "Vc-TQoDgVny5"
      },
      "source": [
        "# [(Joey)](https://github.com/JoeyBallentine/ESRGAN) Google Drive Code with individual transfer of images"
      ]
    },
    {
      "cell_type": "code",
      "metadata": {
        "id": "lKaLwKHZVx-e"
      },
      "source": [
        "#Download stuff \n",
        "!pip install typer\n",
        "!pip install rich\n",
        "%cd \"/content\"\n",
        "!git clone https://github.com/JoeyBallentine/ESRGAN Colab-ESRGAN\n",
        "!mkdir \"/content/Colab-ESRGAN/input/\"\n",
        "!mkdir \"/content/Colab-ESRGAN/output/\"\n",
        "!mkdir \"/content/Colab-ESRGAN/models/\"\n",
        "%cd \"/content/Colab-ESRGAN\""
      ],
      "execution_count": null,
      "outputs": []
    },
    {
      "cell_type": "markdown",
      "metadata": {
        "id": "mC4E3BoIV4sv"
      },
      "source": [
        "#**モデルのダウンロード**"
      ]
    },
    {
      "cell_type": "code",
      "metadata": {
        "id": "50wGEJWwV7h-"
      },
      "source": [
        "#Download ESRGANx4 and PSNRx4\n",
        "%cd \"/content/Colab-ESRGAN\"\n",
        "!wget --no-check-certificate 'https://docs.google.com/uc?export=download&id=1MJFgqXJrMkPdKtiuy7C6xfsU1QIbXEb-' -O models/RRDB_ESRGAN_x4.pth\n",
        "!wget --no-check-certificate 'https://docs.google.com/uc?export=download&id=1mSJ6Z40weL-dnPvi390xDd3uZBCFMeqr' -O models/RRDB_PSNR_x4.pth\n",
        "#Downlaod fatal_anime (Model by twittman)\n",
        "!wget --no-check-certificate \"https://de-next.owncube.com/index.php/s/x99pKzS7TNaErrC/download\" -O models/4x_fatal_Anime_500000_G.pth\n",
        "#Download 4x_NMKD-YandereNeo-Lite_320k (Model by nmkd)\n",
        "!gdown --id 14lA-Ks5quxheNyVeXRvzeoSAOm6ISDHn -O \"/content/Colab-ESRGAN/models/4x_NMKD-YandereNeo-Lite_320k.pth\"\n",
        "#以下2つはdownsize(Models by twittman)\n",
        "!wget --no-check-certificate \"https://de-next.owncube.com/index.php/s/mDGmi7NgdyyQRXL/download?path=%2F&files=4x_FatalPixels_340000_G.pth&downloadStartSecret=r4q3aw60ijm\" -O models/4x_FatalPixels_340000_G.pth\n",
        "!wget --no-check-certificate \"https://de-next.owncube.com/index.php/s/w82HLrLWmWi4SQ5/download\" -O models/1x_DeJpeg_Fatality_PlusULTRA_200000_G.pth"
      ],
      "execution_count": null,
      "outputs": []
    },
    {
      "cell_type": "code",
      "source": [
        "# RRDB-ESRGAN\n",
        "%cd \"/content/Colab-ESRGAN\"\n",
        "!python upscale.py RRDB_ESRGAN_x4.pth --input input/ --output output/"
      ],
      "metadata": {
        "id": "qXns12BCBNzi"
      },
      "execution_count": null,
      "outputs": []
    },
    {
      "cell_type": "code",
      "metadata": {
        "id": "YKjBIHn8W4OR"
      },
      "source": [
        "# 4x_NMKD-YandereNeo-Lite_320k.pth\n",
        "%cd \"/content/Colab-ESRGAN\"\n",
        "!python upscale.py 4x_NMKD-YandereNeo-Lite_320k.pth --input input/ --output output/"
      ],
      "execution_count": null,
      "outputs": []
    },
    {
      "cell_type": "code",
      "source": [
        "# 4x_fatal_Anime_500000_G.pth\n",
        "%cd \"/content/Colab-ESRGAN\"\n",
        "!python upscale.py 4x_fatal_Anime_500000_G.pth --input input/ --output output/"
      ],
      "metadata": {
        "id": "mJO8Kqy1FerQ"
      },
      "execution_count": null,
      "outputs": []
    },
    {
      "cell_type": "code",
      "metadata": {
        "id": "FZ7DVHFRW54k"
      },
      "source": [
        "# test with chaining\n",
        "%cd \"/content/Colab-ESRGAN\"\n",
        "!python upscale.py \"4x_NMKD-YandereNeo-Lite_320k.pth>4x_fatal_Anime_500000_G.pth\" --input input/ --output output/"
      ],
      "execution_count": null,
      "outputs": []
    },
    {
      "cell_type": "code",
      "metadata": {
        "id": "7vK64AViezQN"
      },
      "source": [
        "# on the fly interpolation\n",
        "%cd \"/content/Colab-ESRGAN\"\n",
        "!python upscale.py \"4x_FatalPixels_340000_G.pth@50|4x_fatal_Anime_500000_G.pth@50\" --input input/ --output output/"
      ],
      "execution_count": null,
      "outputs": []
    },
    {
      "cell_type": "markdown",
      "metadata": {
        "id": "lvPwUny2W8X7"
      },
      "source": [
        "Other interesting parameter:\n",
        "```\n",
        "--seamless [tile|mirror|replicate|alpha_pad]\n",
        "\n",
        "--alpha-mode [no_alpha|bas|alpha_separately|swapping]\n",
        "\n",
        "--skip_existing\n",
        "\n",
        "-fp16\n",
        "```"
      ]
    },
    {
      "cell_type": "markdown",
      "source": [
        "#**オリジナルのイメージをoutputフォルダに移動**"
      ],
      "metadata": {
        "id": "PZA3qNgiP8Q0"
      }
    },
    {
      "cell_type": "code",
      "source": [
        "import shutil\n",
        "import os\n",
        "\n",
        "orig_path = \"/content/drive/MyDrive/Artworks/icon/VASapp/VAS.png\"\n",
        "\n",
        "#outputフォルダの中身を消去する\n",
        "target_dir = \"/content/Colab-ESRGAN/output\"\n",
        "shutil.rmtree(target_dir)\n",
        "os.makedirs(target_dir)\n",
        "\n",
        "#outputフォルダにファイルを移動\n",
        "shutil.copy(orig_path, target_dir)"
      ],
      "metadata": {
        "id": "vzkHfic7P8jO"
      },
      "execution_count": null,
      "outputs": []
    },
    {
      "cell_type": "markdown",
      "source": [
        "#**加工後のファイルを元に戻す**"
      ],
      "metadata": {
        "id": "EX2B8JIkRrn6"
      }
    },
    {
      "cell_type": "code",
      "source": [
        "basename = os.path.basename(orig_path)\n",
        "print(basename)"
      ],
      "metadata": {
        "id": "HJ3oxBcnRr0f"
      },
      "execution_count": null,
      "outputs": []
    },
    {
      "cell_type": "markdown",
      "metadata": {
        "id": "dPnw06LwRTUW"
      },
      "source": [
        "Other interesting parameter:\n",
        "```\n",
        "--seamless [tile|mirror|replicate|alpha_pad]\n",
        "\n",
        "--alpha-mode [no_alpha|bas|alpha_separately|swapping]\n",
        "\n",
        "--skip_existing\n",
        "\n",
        "-fp16\n",
        "```"
      ]
    }
  ]
}
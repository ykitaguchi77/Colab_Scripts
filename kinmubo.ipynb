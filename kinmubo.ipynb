{
  "nbformat": 4,
  "nbformat_minor": 0,
  "metadata": {
    "colab": {
      "name": "Untitled72.ipynb",
      "provenance": [],
      "authorship_tag": "ABX9TyPwwz30ckDgSWDznKPI+rn0",
      "include_colab_link": true
    },
    "kernelspec": {
      "name": "python3",
      "display_name": "Python 3"
    },
    "language_info": {
      "name": "python"
    }
  },
  "cells": [
    {
      "cell_type": "markdown",
      "metadata": {
        "id": "view-in-github",
        "colab_type": "text"
      },
      "source": [
        "<a href=\"https://colab.research.google.com/github/ykitaguchi77/Colab_Scripts/blob/master/kinmubo.ipynb\" target=\"_parent\"><img src=\"https://colab.research.google.com/assets/colab-badge.svg\" alt=\"Open In Colab\"/></a>"
      ]
    },
    {
      "cell_type": "code",
      "metadata": {
        "id": "O0q8_Z3wGzHC"
      },
      "source": [
        "import pandas as pd\n",
        "import openpyxl\n",
        "from openpyxl import load_workbook\n",
        "import xlwt\n",
        "from datetime import datetime\n",
        "\n",
        "pd.set_option('display.max_rows', 150)\n",
        "\n",
        "#勤務簿をアップロードして右クリック→パスをコピペ\n",
        "excel_path = '/content/診療等従事記録簿_令和3年度10月.xlsx'\n"
      ],
      "execution_count": 6,
      "outputs": []
    },
    {
      "cell_type": "code",
      "metadata": {
        "id": "DAl04vgPksLD"
      },
      "source": [
        "#エクセルを開く\n",
        "book = load_workbook(filename=excel_path, read_only=True)\n",
        "\n",
        "#1枚目のシートを指定\n",
        "sheets = book.sheetnames\n",
        "sheet = book[sheets[0]]\n",
        "\n",
        "#日付に関する変数の定義\n",
        "dt_now = datetime.now()\n",
        "year = dt_now.year\n",
        "month = sheet[\"S2\"].value"
      ],
      "execution_count": 7,
      "outputs": []
    },
    {
      "cell_type": "code",
      "metadata": {
        "colab": {
          "base_uri": "https://localhost:8080/",
          "height": 379
        },
        "id": "fh7ZzuJkRGkD",
        "outputId": "ec7d986d-6c5e-4765-c096-0aba859114f8"
      },
      "source": [
        "minB_col = 2\n",
        "minB_row = 5\n",
        "maxB_col = 2\n",
        "maxB_row = sheet.max_row\n",
        "first_wk = True\n",
        "p=0 #行数\n",
        "for row in sheet.iter_rows(min_col=minB_col, min_row=minB_row, max_col=maxB_col, max_row=maxB_row):\n",
        "    for cell in row:\n",
        "        p+=1\n",
        "        date = cell.value\n",
        "        if isinstance(date, int):\n",
        "                    \n",
        "            #日付から曜日を出す\n",
        "            d = str(year)+'/'+str(month)+'/'+str(date)\n",
        "            d = datetime.strptime(d, '%Y/%m/%d')\n",
        "            wkd = d.weekday()\n",
        "            if wkd == 5:\n",
        "                pass\n",
        "            elif wkd ==6:\n",
        "                if first_wk == True:\n",
        "                    sheet.cell(row=p, column=4).value = \"9:00\"\n",
        "                    sheet.cell(row=p, column=6).value = \"11:00\"\n",
        "                    not first_wk #Boolを反転\n",
        "            elif wkd == 0:\n",
        "                sheet.cell(row=p, column=4).value = \"13:00\"\n",
        "                sheet.cell(row=p, column=6).value = \"15:00\"\n",
        "            elif wkd == 1 or 2 or 3 or 4:\n",
        "                sheet.cell(row=p, column=4).value = \"ナンバー\"\n",
        "                sheet.cell(row=p, column=6).value = \"12:30\"\n",
        "                sheet.cell(row=p, column=4).value = \"13:00\"\n",
        "                sheet.cell(row=p, column=6).value = \"19:30\"\n",
        "\n",
        "book.save(\"kinmubo.xlsx\")"
      ],
      "execution_count": 14,
      "outputs": [
        {
          "output_type": "error",
          "ename": "ValueError",
          "evalue": "ignored",
          "traceback": [
            "\u001b[0;31m---------------------------------------------------------------------------\u001b[0m",
            "\u001b[0;31mValueError\u001b[0m                                Traceback (most recent call last)",
            "\u001b[0;32m<ipython-input-14-03888d434077>\u001b[0m in \u001b[0;36m<module>\u001b[0;34m()\u001b[0m\n\u001b[1;32m     26\u001b[0m                 \u001b[0msheet\u001b[0m\u001b[0;34m.\u001b[0m\u001b[0mcell\u001b[0m\u001b[0;34m(\u001b[0m\u001b[0mrow\u001b[0m\u001b[0;34m=\u001b[0m\u001b[0mp\u001b[0m\u001b[0;34m,\u001b[0m \u001b[0mcolumn\u001b[0m\u001b[0;34m=\u001b[0m\u001b[0;36m6\u001b[0m\u001b[0;34m)\u001b[0m\u001b[0;34m.\u001b[0m\u001b[0mvalue\u001b[0m \u001b[0;34m=\u001b[0m \u001b[0;34m\"15:00\"\u001b[0m\u001b[0;34m\u001b[0m\u001b[0;34m\u001b[0m\u001b[0m\n\u001b[1;32m     27\u001b[0m             \u001b[0;32melif\u001b[0m \u001b[0mwkd\u001b[0m \u001b[0;34m==\u001b[0m \u001b[0;36m1\u001b[0m \u001b[0;32mor\u001b[0m \u001b[0;36m2\u001b[0m \u001b[0;32mor\u001b[0m \u001b[0;36m3\u001b[0m \u001b[0;32mor\u001b[0m \u001b[0;36m4\u001b[0m\u001b[0;34m:\u001b[0m\u001b[0;34m\u001b[0m\u001b[0;34m\u001b[0m\u001b[0m\n\u001b[0;32m---> 28\u001b[0;31m                 \u001b[0msheet\u001b[0m\u001b[0;34m.\u001b[0m\u001b[0mcell\u001b[0m\u001b[0;34m(\u001b[0m\u001b[0mrow\u001b[0m\u001b[0;34m=\u001b[0m\u001b[0mp\u001b[0m\u001b[0;34m,\u001b[0m \u001b[0mcolumn\u001b[0m\u001b[0;34m=\u001b[0m\u001b[0;36m4\u001b[0m\u001b[0;34m)\u001b[0m\u001b[0;34m.\u001b[0m\u001b[0mvalue\u001b[0m \u001b[0;34m=\u001b[0m \u001b[0;34m\"ナンバー\"\u001b[0m\u001b[0;34m\u001b[0m\u001b[0;34m\u001b[0m\u001b[0m\n\u001b[0m\u001b[1;32m     29\u001b[0m                 \u001b[0msheet\u001b[0m\u001b[0;34m.\u001b[0m\u001b[0mcell\u001b[0m\u001b[0;34m(\u001b[0m\u001b[0mrow\u001b[0m\u001b[0;34m=\u001b[0m\u001b[0mp\u001b[0m\u001b[0;34m,\u001b[0m \u001b[0mcolumn\u001b[0m\u001b[0;34m=\u001b[0m\u001b[0;36m6\u001b[0m\u001b[0;34m)\u001b[0m\u001b[0;34m.\u001b[0m\u001b[0mvalue\u001b[0m \u001b[0;34m=\u001b[0m \u001b[0;34m\"12:30\"\u001b[0m\u001b[0;34m\u001b[0m\u001b[0;34m\u001b[0m\u001b[0m\n\u001b[1;32m     30\u001b[0m                 \u001b[0msheet\u001b[0m\u001b[0;34m.\u001b[0m\u001b[0mcell\u001b[0m\u001b[0;34m(\u001b[0m\u001b[0mrow\u001b[0m\u001b[0;34m=\u001b[0m\u001b[0mp\u001b[0m\u001b[0;34m,\u001b[0m \u001b[0mcolumn\u001b[0m\u001b[0;34m=\u001b[0m\u001b[0;36m4\u001b[0m\u001b[0;34m)\u001b[0m\u001b[0;34m.\u001b[0m\u001b[0mvalue\u001b[0m \u001b[0;34m=\u001b[0m \u001b[0;34m\"13:00\"\u001b[0m\u001b[0;34m\u001b[0m\u001b[0;34m\u001b[0m\u001b[0m\n",
            "\u001b[0;32m/usr/local/lib/python3.7/dist-packages/openpyxl/cell/read_only.py\u001b[0m in \u001b[0;36mvalue\u001b[0;34m(self, value)\u001b[0m\n\u001b[1;32m    132\u001b[0m             \u001b[0mself\u001b[0m\u001b[0;34m.\u001b[0m\u001b[0mdata_type\u001b[0m \u001b[0;34m=\u001b[0m \u001b[0;34m'n'\u001b[0m\u001b[0;34m\u001b[0m\u001b[0;34m\u001b[0m\u001b[0m\n\u001b[1;32m    133\u001b[0m         \u001b[0;32melif\u001b[0m \u001b[0mself\u001b[0m\u001b[0;34m.\u001b[0m\u001b[0mdata_type\u001b[0m \u001b[0;34m==\u001b[0m \u001b[0;34m'n'\u001b[0m\u001b[0;34m:\u001b[0m\u001b[0;34m\u001b[0m\u001b[0;34m\u001b[0m\u001b[0m\n\u001b[0;32m--> 134\u001b[0;31m             \u001b[0mvalue\u001b[0m \u001b[0;34m=\u001b[0m \u001b[0m_cast_number\u001b[0m\u001b[0;34m(\u001b[0m\u001b[0mvalue\u001b[0m\u001b[0;34m)\u001b[0m\u001b[0;34m\u001b[0m\u001b[0;34m\u001b[0m\u001b[0m\n\u001b[0m\u001b[1;32m    135\u001b[0m         \u001b[0mself\u001b[0m\u001b[0;34m.\u001b[0m\u001b[0m_value\u001b[0m \u001b[0;34m=\u001b[0m \u001b[0mvalue\u001b[0m\u001b[0;34m\u001b[0m\u001b[0;34m\u001b[0m\u001b[0m\n\u001b[1;32m    136\u001b[0m \u001b[0;34m\u001b[0m\u001b[0m\n",
            "\u001b[0;32m/usr/local/lib/python3.7/dist-packages/openpyxl/cell/read_only.py\u001b[0m in \u001b[0;36m_cast_number\u001b[0;34m(value)\u001b[0m\n\u001b[1;32m     21\u001b[0m     \u001b[0;32mif\u001b[0m \u001b[0mm\u001b[0m \u001b[0;32mis\u001b[0m \u001b[0;32mnot\u001b[0m \u001b[0;32mNone\u001b[0m\u001b[0;34m:\u001b[0m\u001b[0;34m\u001b[0m\u001b[0;34m\u001b[0m\u001b[0m\n\u001b[1;32m     22\u001b[0m         \u001b[0;32mreturn\u001b[0m \u001b[0mfloat\u001b[0m\u001b[0;34m(\u001b[0m\u001b[0mvalue\u001b[0m\u001b[0;34m)\u001b[0m\u001b[0;34m\u001b[0m\u001b[0;34m\u001b[0m\u001b[0m\n\u001b[0;32m---> 23\u001b[0;31m     \u001b[0;32mreturn\u001b[0m \u001b[0mlong\u001b[0m\u001b[0;34m(\u001b[0m\u001b[0mvalue\u001b[0m\u001b[0;34m)\u001b[0m\u001b[0;34m\u001b[0m\u001b[0;34m\u001b[0m\u001b[0m\n\u001b[0m\u001b[1;32m     24\u001b[0m \u001b[0;34m\u001b[0m\u001b[0m\n\u001b[1;32m     25\u001b[0m \u001b[0;34m\u001b[0m\u001b[0m\n",
            "\u001b[0;31mValueError\u001b[0m: invalid literal for int() with base 10: 'ナンバー'"
          ]
        }
      ]
    },
    {
      "cell_type": "code",
      "metadata": {
        "id": "RjvoLeBtHGNk"
      },
      "source": [
        "#sheet_namesメソッドでExcelブック内の各シートの名前をリストで取得できる\n",
        "input_sheet_name = input_book.sheet_names\n",
        "#lenでシートの総数を確認\n",
        "num_sheet = len(input_sheet_name)\n",
        "#シートの数とシートの名前のリストの表示\n",
        "print (\"Sheet の数:\", num_sheet)\n",
        "print (input_sheet_name)\n",
        "\n",
        "#シートの内容を表示\n",
        "df = input_book.parse(input_sheet_name[0])\n",
        "df.head(132)"
      ],
      "execution_count": null,
      "outputs": []
    },
    {
      "cell_type": "code",
      "metadata": {
        "id": "92cH8AudHgEB"
      },
      "source": [
        "df.loc[0,0] = \"aaaaaa\"\n",
        "#df.loc[df.iloc[:,3].str.contains(\"日\", na=False),4] = \"aaaaaaa\"\n",
        "print(df.iloc[3,4])\n",
        "df.iloc[3,4] = \"8:30 ～ 12:30\"\n",
        "print(df.iloc[3,4])\n",
        "\n"
      ],
      "execution_count": null,
      "outputs": []
    },
    {
      "cell_type": "code",
      "metadata": {
        "id": "p4zW3RjtJWO0"
      },
      "source": [
        "df.to_excel('/content/test.xlsx',\n",
        "            index=False, header=False)"
      ],
      "execution_count": 25,
      "outputs": []
    }
  ]
}
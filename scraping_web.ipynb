{
  "nbformat": 4,
  "nbformat_minor": 0,
  "metadata": {
    "colab": {
      "provenance": [],
      "authorship_tag": "ABX9TyN3mZpJBTVSEl6bpLHS4UNo",
      "include_colab_link": true
    },
    "kernelspec": {
      "name": "python3",
      "display_name": "Python 3"
    },
    "language_info": {
      "name": "python"
    }
  },
  "cells": [
    {
      "cell_type": "markdown",
      "metadata": {
        "id": "view-in-github",
        "colab_type": "text"
      },
      "source": [
        "<a href=\"https://colab.research.google.com/github/ykitaguchi77/Colab_Scripts/blob/master/scraping_web.ipynb\" target=\"_parent\"><img src=\"https://colab.research.google.com/assets/colab-badge.svg\" alt=\"Open In Colab\"/></a>"
      ]
    },
    {
      "cell_type": "markdown",
      "source": [
        "# **Google画像検索でスクレイピング**"
      ],
      "metadata": {
        "id": "u1CbWSfrqrKe"
      }
    },
    {
      "cell_type": "code",
      "execution_count": null,
      "metadata": {
        "id": "-K3kd9h7qqqa"
      },
      "outputs": [],
      "source": [
        "#Chromiumとseleniumをインストール\n",
        "print(\"前処理を開始\")\n",
        "!apt-get update\n",
        "!apt install chromium-chromedriver\n",
        "!cp /usr/lib/chromium-browser/chromedriver /usr/bin\n",
        "!pip install selenium"
      ]
    },
    {
      "cell_type": "code",
      "source": [
        "#ライブラリをインポート\n",
        "from selenium import webdriver\n",
        "import time\n",
        "\n",
        "#---------------------------------------------------------------------------------------\n",
        "# 処理開始\n",
        "#---------------------------------------------------------------------------------------\n",
        "# ブラウザをheadlessモード実行\n",
        "print(\"\\nブラウザを設定\")\n",
        "options = webdriver.ChromeOptions()\n",
        "options.add_argument('--headless')\n",
        "options.add_argument('--no-sandbox')\n",
        "options.add_argument('--disable-dev-shm-usage')\n",
        "driver = webdriver.Chrome('chromedriver',options=options)\n",
        "driver.implicitly_wait(10)\n",
        "\n",
        "# サイトにアクセス\n",
        "print(\"サイトにアクセス開始\")\n",
        "driver.get(\"https://www.google.com/?hl=ja\")\n",
        "time.sleep(3)\n",
        "\n",
        "# driver.find_elements_by_css_selector(\"xxx\") 的な処理を自由に\n",
        "\n",
        "print(\"サイトのタイトル：\", driver.title)\n",
        "\n",
        "print(\"\\nお疲れさまです。\\n処理が完了しました。\")"
      ],
      "metadata": {
        "colab": {
          "base_uri": "https://localhost:8080/"
        },
        "id": "LrI4FWnVq4_M",
        "outputId": "d937ec68-c100-4ae8-bb70-01e771a8c19e"
      },
      "execution_count": 2,
      "outputs": [
        {
          "output_type": "stream",
          "name": "stdout",
          "text": [
            "\n",
            "ブラウザを設定\n",
            "サイトにアクセス開始\n",
            "サイトのタイトル： Google\n",
            "\n",
            "お疲れさまです。\n",
            "処理が完了しました。\n"
          ]
        }
      ]
    }
  ]
}
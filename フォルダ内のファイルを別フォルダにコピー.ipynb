{
  "nbformat": 4,
  "nbformat_minor": 0,
  "metadata": {
    "colab": {
      "name": "Untitled64.ipynb",
      "provenance": [],
      "authorship_tag": "ABX9TyOflElZeLPNRrnDkfYCVzEp",
      "include_colab_link": true
    },
    "kernelspec": {
      "name": "python3",
      "display_name": "Python 3"
    }
  },
  "cells": [
    {
      "cell_type": "markdown",
      "metadata": {
        "id": "view-in-github",
        "colab_type": "text"
      },
      "source": [
        "<a href=\"https://colab.research.google.com/github/ykitaguchi77/Colab_Scripts/blob/master/%E3%83%95%E3%82%A9%E3%83%AB%E3%83%80%E5%86%85%E3%81%AE%E3%83%95%E3%82%A1%E3%82%A4%E3%83%AB%E3%82%92%E5%88%A5%E3%83%95%E3%82%A9%E3%83%AB%E3%83%80%E3%81%AB%E3%82%B3%E3%83%94%E3%83%BC.ipynb\" target=\"_parent\"><img src=\"https://colab.research.google.com/assets/colab-badge.svg\" alt=\"Open In Colab\"/></a>"
      ]
    },
    {
      "cell_type": "code",
      "metadata": {
        "id": "bH8TbMaxu669",
        "colab": {
          "base_uri": "https://localhost:8080/"
        },
        "outputId": "8304a734-a86c-48b7-c162-8dc271a7e672"
      },
      "source": [
        "from google.colab import drive\n",
        "drive.mount('/content/drive')"
      ],
      "execution_count": 1,
      "outputs": [
        {
          "output_type": "stream",
          "text": [
            "Mounted at /content/drive\n"
          ],
          "name": "stdout"
        }
      ]
    },
    {
      "cell_type": "markdown",
      "metadata": {
        "id": "W0EtjH0qUHtm"
      },
      "source": [
        "#**フォルダ内のファイルをリネームして別フォルダにコピーするスクリプト**\n"
      ]
    },
    {
      "cell_type": "code",
      "metadata": {
        "id": "ZK5kFotHudRg"
      },
      "source": [
        "import pandas as pd\n",
        "import os\n",
        "import glob\n",
        "import shutil\n",
        "import time\n",
        "\n",
        "orig_dir = \"/content/drive/MyDrive/Deep_learning/Olympia_dataset/treated_500px\"\n",
        "target_dir = \"/content/drive/MyDrive/Deep_learning/Olympia_dataset/treated_plus1000_500px\"\n",
        "filelist = os.listdir(orig_dir)\n",
        "\n",
        "#コピー元のパスをリストにする\n",
        "pathlist = []\n",
        "for i in filelist:\n",
        "    pathlist.append(orig_dir+ \"/\"+ i)\n",
        "\n",
        "#コピー先のパスリストにリネームする\n",
        "pathlist2 = []\n",
        "for i in filelist:\n",
        "    filenum = os.path.splitext(i)[0]\n",
        "    filenum2 = int(filenum) + 10000   #フォルダ名に1000をたす\n",
        "    pathlist2.append(target_dir+ \"/\"+ str(filenum2)+\".JPG\") \n",
        "\n",
        "#コピーする\n",
        "start = time.time()\n",
        "\n",
        "k=0\n",
        "for i in range(len(pathlist)):\n",
        "    shutil.copy(pathlist[i], pathlist2[i])\n",
        "    print(str(k))\n",
        "    k += 1\n",
        "\n",
        "elapsed_time = time.time() - start\n",
        "print (\"elapsed_time:{0}\".format(elapsed_time) + \"[sec]\")\n"
      ],
      "execution_count": null,
      "outputs": []
    },
    {
      "cell_type": "markdown",
      "metadata": {
        "id": "Sin42i2mUt33"
      },
      "source": [
        "#**フォルダ内のファイルをリネームせずにそのまま別フォルダにコピーするスクリプト**\n"
      ]
    },
    {
      "cell_type": "code",
      "metadata": {
        "id": "lNUpQlWKVIsO"
      },
      "source": [
        "import pandas as pd\n",
        "import os\n",
        "import glob\n",
        "import shutil\n",
        "import time\n",
        "\n",
        "orig_dir = \"/content/drive/MyDrive/Deep_learning/Olympia_dataset/treated_plus1000_500px\"\n",
        "target_dir = \"/content/drive/MyDrive/Deep_learning/gravcont_all_500px/grav\"\n",
        "filelist = os.listdir(orig_dir)\n",
        "\n",
        "#コピー元のパスをリストにする\n",
        "pathlist = []\n",
        "for i in filelist:\n",
        "    pathlist.append(orig_dir+ \"/\"+ i)\n",
        "\n",
        "#コピー先のパスリストにリネームする\n",
        "pathlist2 = []\n",
        "for i in filelist:\n",
        "    pathlist2.append(target_dir+ \"/\"+ i)\n",
        "\n",
        "#コピーする\n",
        "start = time.time()\n",
        "\n",
        "k=0\n",
        "for i in range(len(pathlist)):\n",
        "    shutil.copy(pathlist[i], pathlist2[i])\n",
        "    print(str(k) + \" done!\")\n",
        "    k += 1\n",
        "\n",
        "elapsed_time = time.time() - start\n",
        "print (\"elapsed_time:{0}\".format(elapsed_time) + \"[sec]\")\n"
      ],
      "execution_count": null,
      "outputs": []
    }
  ]
}
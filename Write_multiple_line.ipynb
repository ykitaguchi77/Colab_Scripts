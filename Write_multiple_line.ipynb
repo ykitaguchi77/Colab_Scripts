{
  "nbformat": 4,
  "nbformat_minor": 0,
  "metadata": {
    "colab": {
      "name": "Untitled12.ipynb",
      "provenance": [],
      "authorship_tag": "ABX9TyM78sTWN362kOiiJLyu9bw5",
      "include_colab_link": true
    },
    "kernelspec": {
      "name": "python3",
      "display_name": "Python 3"
    },
    "language_info": {
      "name": "python"
    }
  },
  "cells": [
    {
      "cell_type": "markdown",
      "metadata": {
        "id": "view-in-github",
        "colab_type": "text"
      },
      "source": [
        "<a href=\"https://colab.research.google.com/github/ykitaguchi77/Colab_Scripts/blob/master/Write_multiple_line.ipynb\" target=\"_parent\"><img src=\"https://colab.research.google.com/assets/colab-badge.svg\" alt=\"Open In Colab\"/></a>"
      ]
    },
    {
      "cell_type": "code",
      "execution_count": 1,
      "metadata": {
        "colab": {
          "base_uri": "https://localhost:8080/"
        },
        "id": "qoUbPbeWmdqZ",
        "outputId": "dae3fa28-0bf7-4f15-8749-0c9deb13cbc2"
      },
      "outputs": [
        {
          "output_type": "stream",
          "name": "stdout",
          "text": [
            "   \n",
            "    aaa\n",
            "    bbb\n",
            "    ccc\n",
            "    ddd\n"
          ]
        }
      ],
      "source": [
        "path_w = '/content/test_w.txt'\n",
        "s = 'New file'\n",
        "\n",
        "with open(path_w, mode='w') as f:\n",
        "    f.write(\"\"\"   \n",
        "    aaa\n",
        "    bbb\n",
        "    ccc\n",
        "    ddd\"\"\")\n",
        "\n",
        "with open(path_w) as f:\n",
        "    print(f.read())\n",
        "# New file"
      ]
    },
    {
      "cell_type": "code",
      "source": [
        ""
      ],
      "metadata": {
        "id": "H_4jYPHWmzWV"
      },
      "execution_count": null,
      "outputs": []
    }
  ]
}
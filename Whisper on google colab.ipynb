{
  "nbformat": 4,
  "nbformat_minor": 0,
  "metadata": {
    "colab": {
      "provenance": [],
      "authorship_tag": "ABX9TyOaPMtcrdFdJ7KktLSQENgZ",
      "include_colab_link": true
    },
    "kernelspec": {
      "name": "python3",
      "display_name": "Python 3"
    },
    "language_info": {
      "name": "python"
    },
    "accelerator": "GPU",
    "gpuClass": "standard"
  },
  "cells": [
    {
      "cell_type": "markdown",
      "metadata": {
        "id": "view-in-github",
        "colab_type": "text"
      },
      "source": [
        "<a href=\"https://colab.research.google.com/github/ykitaguchi77/Colab_Scripts/blob/master/Whisper%20on%20google%20colab.ipynb\" target=\"_parent\"><img src=\"https://colab.research.google.com/assets/colab-badge.svg\" alt=\"Open In Colab\"/></a>"
      ]
    },
    {
      "cell_type": "markdown",
      "source": [
        "#**Whisper on google colab**\n",
        "\n",
        "https://qiita.com/walnut-pro/items/0124a5a0c83c9b4e2669\n",
        "\n",
        "https://qiita.com/walnut-pro/items/69864b0a074bd773711f"
      ],
      "metadata": {
        "id": "Q2SG5eeJBuBD"
      }
    },
    {
      "cell_type": "code",
      "execution_count": 1,
      "metadata": {
        "id": "J6Z63l80BbWv",
        "colab": {
          "base_uri": "https://localhost:8080/"
        },
        "outputId": "833db955-d97a-41a4-ce5b-0f5a89710e6d"
      },
      "outputs": [
        {
          "output_type": "stream",
          "name": "stdout",
          "text": [
            "  Preparing metadata (setup.py) ... \u001b[?25l\u001b[?25hdone\n",
            "\u001b[2K     \u001b[90m━━━━━━━━━━━━━━━━━━━━━━━━━━━━━━━━━━━━━━━━\u001b[0m \u001b[32m6.3/6.3 MB\u001b[0m \u001b[31m53.0 MB/s\u001b[0m eta \u001b[36m0:00:00\u001b[0m\n",
            "\u001b[2K     \u001b[90m━━━━━━━━━━━━━━━━━━━━━━━━━━━━━━━━━━━━━━━━\u001b[0m \u001b[32m7.6/7.6 MB\u001b[0m \u001b[31m59.8 MB/s\u001b[0m eta \u001b[36m0:00:00\u001b[0m\n",
            "\u001b[2K     \u001b[90m━━━━━━━━━━━━━━━━━━━━━━━━━━━━━━━━━━━━━━━\u001b[0m \u001b[32m190.3/190.3 KB\u001b[0m \u001b[31m1.8 MB/s\u001b[0m eta \u001b[36m0:00:00\u001b[0m\n",
            "\u001b[?25h  Building wheel for openai-whisper (setup.py) ... \u001b[?25l\u001b[?25hdone\n"
          ]
        }
      ],
      "source": [
        "! pip install git+https://github.com/openai/whisper.git --q"
      ]
    },
    {
      "cell_type": "code",
      "source": [
        "!pip install whisper\n",
        "import whisper\n",
        "model = whisper.load_model(\"medium\")"
      ],
      "metadata": {
        "colab": {
          "base_uri": "https://localhost:8080/"
        },
        "id": "R_gauL4qB6HL",
        "outputId": "7bbb51a4-64e6-40c2-c35d-4373f4375a5b"
      },
      "execution_count": 5,
      "outputs": [
        {
          "output_type": "stream",
          "name": "stdout",
          "text": [
            "Looking in indexes: https://pypi.org/simple, https://us-python.pkg.dev/colab-wheels/public/simple/\n",
            "Requirement already satisfied: whisper in /usr/local/lib/python3.8/dist-packages (1.1.10)\n",
            "Requirement already satisfied: six in /usr/local/lib/python3.8/dist-packages (from whisper) (1.15.0)\n"
          ]
        },
        {
          "output_type": "stream",
          "name": "stderr",
          "text": [
            "100%|█████████████████████████████████████| 1.42G/1.42G [00:29<00:00, 52.0MiB/s]\n"
          ]
        }
      ]
    },
    {
      "cell_type": "code",
      "source": [
        "# confirm device \n",
        "model.device #device(type='cuda', index=0)"
      ],
      "metadata": {
        "colab": {
          "base_uri": "https://localhost:8080/"
        },
        "id": "e9tpi_qhB9p9",
        "outputId": "8be64e96-7350-4ea9-c667-e12ad0063dc2"
      },
      "execution_count": 6,
      "outputs": [
        {
          "output_type": "execute_result",
          "data": {
            "text/plain": [
              "device(type='cuda', index=0)"
            ]
          },
          "metadata": {},
          "execution_count": 6
        }
      ]
    },
    {
      "cell_type": "markdown",
      "source": [
        "# **保存用フォルダ作成**"
      ],
      "metadata": {
        "id": "qD9w54OaDGC6"
      }
    },
    {
      "cell_type": "code",
      "source": [
        "import os\n",
        "\n",
        "# Add directory into content folder\n",
        "checkDownLoadFolder = os.path.exists(\"download\")\n",
        "if not checkDownLoadFolder:\n",
        "  os.mkdir(\"download\")"
      ],
      "metadata": {
        "id": "HaNko2LSDC6r"
      },
      "execution_count": 7,
      "outputs": []
    },
    {
      "cell_type": "markdown",
      "source": [
        "# **YouTubeから音声をDL**"
      ],
      "metadata": {
        "id": "UR2izS0GEaIJ"
      }
    },
    {
      "cell_type": "code",
      "source": [
        "!pip install youtube-dl --q\n",
        "!pip install yt-dlp --q\n",
        "!pip install ffmpeg --q\n",
        "#!python -m pip install -U yt-dlp\n",
        "\n",
        "#from __future__ import unicode_literals\n",
        "import youtube_dl\n",
        "import pandas as pd\n",
        "from yt_dlp import YoutubeDL"
      ],
      "metadata": {
        "colab": {
          "base_uri": "https://localhost:8080/"
        },
        "id": "1pjCJ0e_EaWy",
        "outputId": "c0b58fa5-932a-4300-b465-0d1e901e6843"
      },
      "execution_count": 8,
      "outputs": [
        {
          "output_type": "stream",
          "name": "stdout",
          "text": [
            "\u001b[2K     \u001b[90m━━━━━━━━━━━━━━━━━━━━━━━━━━━━━━━━━━━━━━━━\u001b[0m \u001b[32m1.9/1.9 MB\u001b[0m \u001b[31m70.5 MB/s\u001b[0m eta \u001b[36m0:00:00\u001b[0m\n",
            "\u001b[2K     \u001b[90m━━━━━━━━━━━━━━━━━━━━━━━━━━━━━━━━━━━━━━━━\u001b[0m \u001b[32m2.9/2.9 MB\u001b[0m \u001b[31m40.3 MB/s\u001b[0m eta \u001b[36m0:00:00\u001b[0m\n",
            "\u001b[2K     \u001b[90m━━━━━━━━━━━━━━━━━━━━━━━━━━━━━━━━━━━━━━\u001b[0m \u001b[32m357.2/357.2 KB\u001b[0m \u001b[31m33.9 MB/s\u001b[0m eta \u001b[36m0:00:00\u001b[0m\n",
            "\u001b[2K     \u001b[90m━━━━━━━━━━━━━━━━━━━━━━━━━━━━━━━━━━━━━━\u001b[0m \u001b[32m107.0/107.0 KB\u001b[0m \u001b[31m11.6 MB/s\u001b[0m eta \u001b[36m0:00:00\u001b[0m\n",
            "\u001b[2K     \u001b[90m━━━━━━━━━━━━━━━━━━━━━━━━━━━━━━━━━━━━━━\u001b[0m \u001b[32m193.6/193.6 KB\u001b[0m \u001b[31m22.4 MB/s\u001b[0m eta \u001b[36m0:00:00\u001b[0m\n",
            "\u001b[2K     \u001b[90m━━━━━━━━━━━━━━━━━━━━━━━━━━━━━━━━━━━━━━━━\u001b[0m \u001b[32m2.1/2.1 MB\u001b[0m \u001b[31m83.8 MB/s\u001b[0m eta \u001b[36m0:00:00\u001b[0m\n",
            "\u001b[?25h  Preparing metadata (setup.py) ... \u001b[?25l\u001b[?25hdone\n",
            "  Building wheel for ffmpeg (setup.py) ... \u001b[?25l\u001b[?25hdone\n"
          ]
        }
      ]
    },
    {
      "cell_type": "code",
      "source": [
        "ydl_opts = {\n",
        "    'format': 'best',\n",
        "    'outtmpl': f\"orig.mp4\",  # name the location\n",
        "}\n",
        "\n",
        "\n",
        "\n",
        "with YoutubeDL(ydl_opts) as ydl:\n",
        "    url_list = [\"https://www.youtube.com/watch?v=N3vAAynw0G0\"] #リストを直接入力する場合\n",
        "    #url_list = df.iloc[:, 0] #CSV\n",
        "    ydl.download(url_list)\n"
      ],
      "metadata": {
        "colab": {
          "base_uri": "https://localhost:8080/"
        },
        "id": "IbG1DCaqEpxw",
        "outputId": "32e2b98a-6726-41b7-f3ee-7edb6e3e7047"
      },
      "execution_count": 9,
      "outputs": [
        {
          "output_type": "stream",
          "name": "stdout",
          "text": [
            "[youtube] Extracting URL: https://www.youtube.com/watch?v=N3vAAynw0G0\n",
            "[youtube] N3vAAynw0G0: Downloading webpage\n",
            "[youtube] N3vAAynw0G0: Downloading android player API JSON\n",
            "[info] N3vAAynw0G0: Downloading 1 format(s): 22\n",
            "[download] Destination: orig.mp4\n",
            "[download] 100% of  123.33MiB in 00:00:03 at 34.48MiB/s  \n"
          ]
        }
      ]
    },
    {
      "cell_type": "markdown",
      "source": [
        "# **文章を15分毎に分割する (GPTに入力しやすくするため）**\n",
        "\n",
        "\n",
        "\n"
      ],
      "metadata": {
        "id": "8xbngTrrO_58"
      }
    },
    {
      "cell_type": "code",
      "source": [
        "# mp4 --> mp3\n",
        "import ffmpeg \n",
        " \n",
        "# 入力 \n",
        "stream = ffmpeg.input(\"orig.mp4\") \n",
        "# 出力 \n",
        "stream = ffmpeg.output(stream, \"orig.mp3\") \n",
        "# 実行 \n",
        "ffmpeg.run(stream)"
      ],
      "metadata": {
        "colab": {
          "base_uri": "https://localhost:8080/"
        },
        "id": "uL8ihlNQPXn1",
        "outputId": "2d2f622d-4bea-4e35-e5e3-8cefb83aaf96"
      },
      "execution_count": 16,
      "outputs": [
        {
          "output_type": "execute_result",
          "data": {
            "text/plain": [
              "(None, None)"
            ]
          },
          "metadata": {},
          "execution_count": 16
        }
      ]
    },
    {
      "cell_type": "markdown",
      "source": [
        "# **文字起こし**"
      ],
      "metadata": {
        "id": "xbHUFxq6Eq4x"
      }
    },
    {
      "cell_type": "code",
      "source": [
        "fileName = \"orig.mp3\"\n",
        "\n",
        "# load audio and pad/trim it to fit 30 seconds\n",
        "audio = whisper.load_audio(f\"/content/{fileName}\")\n",
        "\n",
        "outputTextsArr = []\n",
        "while audio.size > 0:\n",
        "  tirmedAudio = whisper.pad_or_trim(audio)\n",
        "  # trimedArray.append(tirmedAudio)\n",
        "  startIdx = tirmedAudio.size\n",
        "  audio = audio[startIdx:]\n",
        "\n",
        "  # make log-Mel spectrogram and move to the same device as the model\n",
        "  mel = whisper.log_mel_spectrogram(tirmedAudio).to(model.device)\n",
        "\n",
        "  # detect the spoken language\n",
        "  _, probs = model.detect_language(mel)\n",
        "  # print(f\"Detected language: {max(probs, key=probs.get)}\")\n",
        "\n",
        "  # decode the audio\n",
        "  options = whisper.DecodingOptions()\n",
        "  result = whisper.decode(model, mel, options)\n",
        "\n",
        "  # print the recognized text\n",
        "  outputTextsArr.append(result.text)\n",
        "  print(result.text)\n",
        "\n",
        "outputTexts = ' '.join(outputTextsArr)\n",
        "print(outputTexts)\n",
        "\n",
        "# Write into a text file\n",
        "with open(f\"download/{fileName.split('.')[0]}.txt\", \"w\") as f:\n",
        "  f.write(f\"▼ Transcription of {fileName.split('.')[0]}\\n\")\n",
        "  f.write(outputTexts)"
      ],
      "metadata": {
        "id": "37SGfCkyDtJk"
      },
      "execution_count": null,
      "outputs": []
    },
    {
      "cell_type": "code",
      "source": [],
      "metadata": {
        "id": "Rt_-A-Mcdtak"
      },
      "execution_count": 35,
      "outputs": []
    },
    {
      "cell_type": "markdown",
      "source": [
        "# **Summarize on ChatGPT**"
      ],
      "metadata": {
        "id": "aZ_XeS3pXUxu"
      }
    },
    {
      "cell_type": "code",
      "source": [
        "from google.colab import drive\n",
        "drive.mount(\"/content/drive\")\n",
        "\n",
        "!pip install openai --q\n",
        "!pip install --upgrade deepl --q\n",
        "import openai\n",
        "import deepl\n",
        "import textwrap\n",
        "import pandas as pd\n",
        "\n",
        "with open(\"/content/drive/MyDrive/Deep_learning/api.txt\") as file:\n",
        "    #text = file.read()\n",
        "    i=1\n",
        "    key = []\n",
        "    while True:\n",
        "        include_break_line = file.readline() #改行が含まれた行\n",
        "        line = include_break_line.rstrip() #改行を取り除く\n",
        "        if line: #keyの読み込み\n",
        "            #print(f'{i}行目：{line}')\n",
        "            key.append(line)\n",
        "            i += 1\n",
        "        else:\n",
        "            break\n",
        "\n",
        "# APIキーの準備\n",
        "openai.api_key = key[3]\n",
        "deepl_auth_key = key[1]\n",
        "\n",
        "translator = deepl.Translator(deepl_auth_key)"
      ],
      "metadata": {
        "colab": {
          "base_uri": "https://localhost:8080/"
        },
        "id": "UCEg5PKiTTJ_",
        "outputId": "e9c46824-2137-4493-f3a1-3d53915b3c53"
      },
      "execution_count": 32,
      "outputs": [
        {
          "output_type": "stream",
          "name": "stdout",
          "text": [
            "Drive already mounted at /content/drive; to attempt to forcibly remount, call drive.mount(\"/content/drive\", force_remount=True).\n"
          ]
        }
      ]
    },
    {
      "cell_type": "code",
      "source": [
        "# テキストファイルを読み込み\n",
        "text_path = \"/content/drive/MyDrive/secondJob/Transcription/youshu_whisper_medium.txt\"\n",
        "with open(text_path, 'r') as f:\n",
        "    content = f.read()  # すべての行を読み込む\n",
        "print(content)"
      ],
      "metadata": {
        "colab": {
          "base_uri": "https://localhost:8080/"
        },
        "id": "lug5N9rddaqe",
        "outputId": "162e56bb-9bac-4fdf-d92d-e71cb2e10bd6"
      },
      "execution_count": 78,
      "outputs": [
        {
          "output_type": "stream",
          "name": "stdout",
          "text": [
            "▼ Transcription of orig.mp3\n",
            "ミラクルの大学恋愛順です。今回は男女の恋愛感の違い5点ということで、男女では実は恋愛感、恋愛の考え方、そして恋愛の本能です。これが全く違うわけです。皆さん、これ超重要なので覚えておいてください。これ本当に実感できればもうモテ男まっしぐらです。女性に困ることはなくなります。女性から寄ってくるようなめちゃめちゃカッコいい男になれる超重要ポイントです。 真逆です。これがね、僕はね、理解するのにね、もうほんとね、4、5年かかりましたけども男女ってシステムが真逆なんですよ。生物構造上ね。だってさ、男がさ、出てる側でさ、女の子が凹んでる側じゃないですか。なんとなくわかる。で、その構造を元に我々の本能っていうのは作られてるわけですよ。ってなった時に、基本的に性質は真逆です。真逆の性質なんですよ。 女の子はこうやったら嬉しいっていうのと女の子はこうやったら嬉しいっていうのが全然違うんですよということですじゃあよじゃあよじゃあよこれさこれさ知らないとできなくない?そうなんですよ知らないとね勉強しないとできないんですよじゃあ女の子はどうやったら好きになるのかどうやったら愛情を感じるのかとかねどんなプレゼントを渡したら喜ぶのかとかどんな関係性を望んでるんですかどうすれば浮気にするんですか とかねみんな気になるよねそうなんですよけどねこれさ われわれの感覚でやきっとこうやったら女の子って喜んでくれるに違いないと思ってやるでしょもうまとはずれも花はだしそして女性からはこう思われますああ こいつわかってねーなとね悲しいよねせっかく女の子を喜ばせようと思ってね幸せにしようと思ってやってることは知識不足によってもう水の泡ですすべてが水の泡 残念でしたってなるわけですなので今回はですね男性の恋愛感の違い ポイント5つバッチリお伝えします これ全部見て理解していただけたら女性を喜ばせる方法女性を好きにさせる方法そして付き合った女性とずっといい関係を続けていく方法なんだろうね 嫁さんになってから結婚してからもずっといい関係を築いていこう方だったりとかもちろん恋愛関係だけじゃなくて会社の中のね女性とか女友達とかね同じクラス同じサークルです という女の子からもこの人わかってるなとこの人モテるなこの人素敵だなって思わ いいことばっかりですのでぜひ全部抑えてそして女心が分かる最強のモテ男になって いきましょうでは行ってみましょうさあでは順番に行きましょう1つ目行為の最大値さあいつが一番好きになるんですかっていう ポイントですこれもあの生物的に本能的にね残念だから決まっております男抱く前ですねやる前が一番可愛く見えますはい で女性の場合はやった後ですね なのかっていうのを理解しておくのが大事です でそしたらどういうコミュニケーション女性と取ればいいのかがわかります でなんでなのかっていうことなんですがまず大前提として押さえておいてほしいのは なぜ僕たちは恋愛感情っていうのを持っているのかです なぜ人のことを好きになるのかです結論は一つです 子孫半栄 子孫を残したいです子供を残したい 自分と遺伝子のつながった自分と血のつながった個体が 高性に可能な限り増えて欲しいなって 人間もそうだし 猿とかボノボとかチンパンジとかいるでしょ 鳥とかキジとかいるでしょ植物もいるでしょ 碳細胞生物もいるよ 微生物もいるよ 全員の本能は子孫繁栄でございますこれをだいたい36億年間ずっと繰り返してきて僕たち生まれてるわけですよでじゃあ 子孫繁栄のために恋愛感情っていうものを使ったら 子孫増えたよねっていうことなんですよ タックス好きになれば子孫が最大半減するのかです男はやる前なんです直前なんですよで結局男ってね精子をたくさん作れますだいたい1日に5000万から1億個くらい作れますで男ってばらまくっていう精子なんですよ拡散精子ですなのでより多くの女性に対して自分の遺伝子をばらまいて多くの子供を作るっていうのが最適化になったりしますはいでじゃあ一方女性はというと女性ばらまけないでしょ 受け取る側なんですよ受け取る側の女性が考えることっていうのはたった2つです誰のやつ受け取るの?っていうのが1個ねもう1個は受け取って子供できるじゃんできた後この子供をちゃんと育てなきゃいけないんですよ大人になって孫を産むまで子孫繁栄だから孫を産めなきゃいけないんですよじゃあですよ男の場合は抱く前一番可愛いってなったらやりたいってなるじゃん そうやっていっぱいの女の子にねアプローチするねけど女の子の場合やった後にねじゃあ自分に遺伝子供給してくれた男のことを嫌いになったとするじゃんじゃあもうこいつうぜ気持ち悪いと言ってパッ離れんじゃんそしたら要はシングルマザーの状態になるわけだよねお母さんと子供一人で人間ってお母さん一人だけだったら育てられないんですよリソース足りないの人間の赤ちゃんって育てるのむちゃくちゃ大変だから出産もむっちゃ大変だからだから できた後っていうのは基本的に男側に守ってもらわなきゃいけませんというか男が守るっていう役割なんですよねなのでちゃんとこの男が私のことを守ってくれるようにちゃんとなんか天敵から身を守ってくれたりとかねなんか食料ちゃんとね外から取ってきてくれたりとかねしてもらわなきゃいけないつまり抱かれた男のことを嫌いになってはいけないんですよ 綺麗になるとシングルになっちゃうんで今はね色々社会保障ありますけど我々の本能が生まれた くらいですよ シングルになると死ぬんです残念ながら死ぬんだだから嫌いになっちゃいけないんですよ ねえっちした男のことを嫌いになってはいけないです女の子は困ったよねそうなんですよじゃあじゃあです はいこういうふうに違いがわかりましたねこんな風になってますよとじゃあじゃあ 持てる男はどうするのかです女性に対してどういうコミュニケーションを取るのかです はい女の子のことを大事にするのは 抱いた後でございますエッジした後ですね 挿入した後ですねここが一番重要そして多くの持てない男性が 間違ってるポイントなんですよもちろんね女性のことを大事にするというのは とっても重要まあこの大事にするっていうのはね 具体的に何ぞやっていうところはまあ多分この辺とかこの辺とかこの辺 ちょっと解説するんでまあ一旦ざっくり言うね よ ねっむちゃむちゃ連絡とっている毎日連絡取ったりとかね脱ぎしないよ僕は君だけだよみたいなことをするんですよけどね違う違う女の子は抱かれた後から好きになるんだよ だからやる前に好きでもない男からもう僕は丸丸ちゃんだけですとかやられてもね気持ち悪いだけなんですよ残念ながら困ったよねそうなんですよなのでやった後に 僕は丸丸ちゃんのこと大事にするよってやってあげるっていうこのコントラストですね よくモテますっていい遺伝子 ですって感じでいくんですよでやった後においこの男えめちゃ めちゃモテそうだのに私のことめっちゃ大事にしてくれるのは すげえってなりますこういう最大値の違いがあります そしてもう一個みんな気をつけといてね俺らは抱く前が一番 可愛く見えるんですよ一番好きになるんですよだから 僕の元にくる恋愛相談の99% 残りが1%言うよ やってから急に気持ちが冷めましたって言うんですよ皆さん 困った話ですねそう じゃあ我々は何を気を付けなきゃいけないかセックスのために付き合うなってことですやりたいかために付き合ったら わかります?やってから俺ら冷めるんですよ すぐにだって次の答えにね 遺伝子残さなきゃいけないって本能が入ってるんで冷めちゃうんですよ なので 本当にその子がいいなとかねこの子と一緒にいたら楽しいなとかねなんかお互いに学びがあるなとか尊敬できるなとか一緒の時間を過ごしたいなって思える女性と付き合った方が幸せになれますよっていうことでセックスのために付き合うとかもうまっしや結婚とかしちゃったらさもう地獄見るよまじでもうそういう相談あるからね地獄見るのでなので僕がおすすめしてるのはね そう思ったことを付き合ったら いいんじゃないですかっていうのが男の勝ち方ですこれも本能から見えてきますねだけた女の中から選ぶっていうのが男の勝ち方ですよということでございます2つ目でございますじゃあどうやったら女の子はああ大事にしてくれてるなと愛されてるなと思うのかでございますこの愛情の感じ方も男女で違いますねこちらでございます男性は行動で感じるそして女性は言葉で愛情を感じますさあ男はこういうことしてくれたとかね 作ってくれたとかねなんか優しくしてくれたとこういうね行動の部分で男は感じます ただ女性は言葉でございます好きだよとか愛してるよとか君君だけだよとかねそういう感じ言葉で感じるんですよ で男は行動で感じるんですよつまりどういうミスが起こるかっていうと男は愛情を伝えよう 残念ながらほとんど見てないもう全然見てくれたらもう悲しいよ悲しいぐらい見てないんだけどそれはこういう違いがあるからしょうがないんだよね女の子には言葉で言ってあげない好きだよって言わなきゃいけないです愛してるよって一番可愛い君だけだよって言わなきゃいけないです僕たちはその羽の浮くようなディズニー映画とかさこれは幾多東馬くんが言わないとね気持ち悪いだろみたいな本当に気持ち悪い台詞をガンガン言わなきゃいけないです はいつまりセリフで喜ばせるということです 何を言うかです何を言うかによって女性を喜ばせるというのが女性の喜ばせるポイントでございますさあなぜ なぜここが大事はいここが大事ここは魅力の大学でしか喋ってない僕しか喋れない特別な話でございますさあなんで違うのってことなんですけどこれ男女の役割とかコミュニケーションの方法の違いですねはい男っていうのは我々の本能が作られた数百万年前何をしてましたか で、群れの外とかに出てまあマンモスとかさ、カッティさんみたいななんかそんなイメージあるでしょで、我々は外に出てで、人狩り行ってたわけですよってなった時によあの、細かく喋ってる暇ないんですよなんなら遠隔でみんな離れてね獲物を飼ったりとかするわけですなので、基本的に男というのはお互いの行動を見てああ、なるほどこいつってこういうことやろうとしてんだなじゃあ俺こう行くわっていうのを遠隔でできたりするわけですよまあその狩りの延長線が スポーツっていう形になってますじゃあスポーツの時も全然喋んないじゃんやってる時って本当に一言二言とかめくばせとかね僕も高校時代バスケ部だったんですけどやっぱり手でピッて指示出したりとか番号でパッて出したりとか本当に先にボール投げて行けるっしょお前みたいな感じでやったりするわけですよ男って行動で動けるんですよで、じゃあ女性って何してたのっていうことなんですが男たちが狩りに行ってる間に 役割です この時って何が大事だったかというと 言葉で情報交換するんです昔の人間の群れは 100人から150人ぐらいの群れの単位だったので 情報をとにかく流通させてあそこ食料足りないとか あそこの人が病気になったらしいとか あそこで食料取れたらしいとかあの辺で災害が起こっているらしい とかとにかく情報が命なんです コミュニティの運営ってそのために女性はとにかく 言葉を通して きました なので女性ってさ奥さん方って一生井戸畑会議してるじゃんもうあんな感じずっとあれをやってたんだよ人間ってその結果コミュニティがうまくいくわけですね情報が流れてっていうことなので女性は言葉で基本的にコミュニケーションを取ろうとします男性は行動をお互いに見てコミュニケーションを取ろうとしますっていう性質があるよということですね なので女性は基本的に他人の行動っていうのを脳の中にあんまり入れないんですよ 男は逆だよ 言葉でなんて言ったかよりもこいつ何をやってるのかをよく見るんですけど女性は逆ですなんて言ったかなんすよ だから我々は女性に合わせてあげなきゃいけないだから言葉でコミュニケーションを取らなきゃいけないんですよ 好きだよっていう情報伝達です言葉による情報伝達っていうのが女性には無茶苦茶重要ですなので好きだよとか愛してるよとかね君だけだよってね言ってあげなきゃいけないわけです はい頑張ってね言ってみましょうねということです 3つ目 プレゼントの喜ばせ方です男大きさ 女回数ですね男はでけぇプレゼントが嬉しいです例えば時計もらったとか カバンもらったとかブランドの靴もらったとか 嬉しいわけじゃないですか欲しかったものをくれた 嬉しいわけです 男はじゃあそれを女性にやってみると 困った困ったなんですよ女性が喜ぶポイントというのは 一発のデカさじゃないです 細かく一回はちっちゃくていいんですよ ちっちゃいものをちっちゃいプレゼントをずっと断続的に与え続けるのが女性からすると嬉しいですよなんですよ ね男からすると意味わかんないです男からすると全く理解できない感情なんですけどもう本当にあった瞬間にあこれさあさっきさあコンビニ行った時に見つけたんだけど これ丸々ちゃん好きだったよねあげるわって本当にチョコとかでいいっ 寒いっしょはい帰ろうとか言ってね 渡してあげるなんかあったかい飲み物とか渡してあげる めっちゃちっちゃいんですよそんなんでいいのそんなんでいいんです そんなんでいいんですさあなぜかですなぜこっちの方がいいのかこれ理解できたら 行動できるようになります我々はで結局ねまあこの一番の時にも解説したんですけど 女の子っていうのはね関係を持った男性から なのでちゃんと男性から断続的にリソースをもらうっていうのがむっちゃ重要これね途切れると良くないんですよだって僕たち毎日ご飯食べなきゃいけないじゃん毎日安全を確保しなきゃいけないじゃんなので女性が喜ぶことって何かっていうと断続的なもんなんですよずーっと続く安定感なんですよ分かりますけど男っていうのはこれねなんで男は大きさ重視するかって言うと なのよ なんか仕事とかもそうじゃないですか1ヶ月に一発でけえ案件決めてきたら ok なんですよっていう風に男は一撃のでかい成果っていうのは求められますね 戦争で勝つとかもそうだね戦いに勝つもそうなんですよ 男は一撃でかい成果ですよけど女性の場合は断続的な安定感なんですよ これが子孫半年のために必要なんですじゃあつまり何をやらなきゃいけないかっていうと 女性に好かれる男性はこれなんですよ 毎日愛してるよ好きだよって言ってあげる可愛いって言ってあげるめっちゃ可愛いじゃん最高だね今日も話せてよかったって毎日言ってあげるこれが女性の喜ばせ方です男からすると意味分かんないと思うよ何このめんどくさいって思うかもしれないですけどいやもうそうなんですよ残念ながらね本能が違うので僕たちは勉強してまあ共感はできないけど理解はできる 僕がミスったことがあるんですけど、僕がミスってるからね、こんだけ力を入れて喋れるんですけど僕が一時期遠距離で付き合ってた女の子がいました。東京と大阪で離れてたんですけど僕は毎月その子のところに東京に会いに行ってたわけですよ。もちろん出張もあるけどわざわざ一日早く東京に入って ちゃんと旅行行っていろんなところ 時間を空けてっていうこともやってたわけです僕はそれで愛情が伝わっていると思ってたんですよいろいろ誕生日もやるし毎月行ってるんですよわざわざ2日とか3日なり予定を空けて 旅行行ったりしてるわけですよこれでちゃんと愛情伝わっているんだな大事にしてることを伝わっているなっていうことを思ってたわけですただしそんな時ですね大体付けて1年ぐらいかな1年ぐらいした時にね 本当に私のこと好きなのみたいなことを言い出したわけですよなんか本当に好きかどうかわからない伝わらないって言われたんですよねで僕それ言われた瞬間に殺してやろうかなこいつって思ったんですけどあのいや毎月行ってるぞとね俺は毎月行ったと誕生日もあそこまでね手間もかけて時間もお金もかけて準備もしたとねなんなら3ヶ月に1回ぐらいね2日3日ぐらいわざわざ予定を開けて何なら忙しいしね僕ね一応ね もちろんね、その彼女との旅行なんて会社稽費使えないわけですよ。個人の金から払うわけですね。はい。で、行ってるわけですよ。その期間は仕事をしないわけですよ。ちゃんと早めに終わらせて。はい。え、俺ここまでやってんだけど。伝わってないの?え、気持って思ったんですよ。その時は。で、そこからね、なかなか上手くいかなくなりましたみたいな経験があったんですけど、後々ね、ちゃんとこういう女性の本能を勉強すると分かりました。あー、なるほど。俺が間違ってたと。はい。 要は僕はわざわざ東京に行くとかね日程を明けて旅行に行くとか誕生日ちゃんとやるとか記念日ちゃんとやるっていう行動の一撃でかいのやってたんですよ伝わるわけがない残念残念恋愛野獣昔の残念でしたもうこの行動の一撃でかいのは女の子には1ミリも伝わらないだから本当に好きなのって言われたわけですよ違いましたねそんなことしなくてもよかったんですよ 毎日大変で好きだよって言ってればよかったんですよこの違いですこの違いわかりましたしかもちょっとお得なポイント言っとくよ毎日の言葉のプレゼントってお金かかんないんですよで時間かかんないんですよ素晴らしいじゃないですか素晴らしいんですよだから本当に知識芸です僕も無知だったなと思いますあの時はもう本当にその時の付き合ってくれた子には申し訳ないことしたなと思ってますよだって寂しい思いをさせたわけですこの知識を知らないだけでこうやったら愛情を感じるっていうことを 知らなかっただけでそのことの関係が パターンしちゃったわけですねということでございますので本当にこういったものは1個1個 勉強してやっていくしかないということでございます続いてうわきの原因ですね男は性欲 女性は寂しさを刺激これパターン分かれますうわきって何図だよとそもそもでうわきっていう単語自体が すげえふわふわしててわけ分からないなって個人的には 思ってるんですけどお付き合いしてる方がいたりとか パートナーがいたりする時に 出しちゃいましたみたいな感じとしましょう今回は男の場合はシンプル性欲です子孫ばらまかなきゃいけないんでっていう本能なんで男はシンプルにこれだけです女性の場合はですね女性の場合ってパターンが2つあるんですよじゃあ今ね大事にしてる女性がいるとか付き合った時に浮気されたくないという皆さんはねこれ両方ちゃんと気をつけておいてくださいパターンが違います1つ目が寂しさ2つ目が刺激ですね 子孫半芸に対して何が必要かというと要素2つなんですよはい、これね、僕のチャンネルでもよく出てくる話ですね1つ目、種、2つ目、育てこの2つの要素が必要です種って何?っていうと男性側から女性はね、遺伝子を受け取らなきゃいけないわけです精子もらってねで、この時にやっぱ子孫半芸に対して向いている要素を持った種が欲しいわけですDNA、遺伝子ね、遺伝子が欲しいわけですじゃあ、この種、優秀である必要があるよね ステップその1でその次 その次はもらった種から子供ができますじゃあこの子供は孫が埋めるようになるまでちゃんと育てなきゃいけないですさあ育てられますか 育てるために安全の確保食料の確保さああなたはできますか私にっていうのが育てですこの2つでこの2つ揃わんとあかんのですね 両方ないと子孫反映しませんでじゃあ1人のね例えば付き合ってる男性が じゃあ付き合ってる男が無茶無茶種ある 最強この遺伝子最強爆もて超健康イケメンあれじゃないですかけどけど いや全然言葉かけてくれないし全然回数ないとえっこの人私にリソースくれないんだ ってなった時にってなった時に他の男からリソースをもらおうとし始め はい、不安とか言いますこれ本能の中では育てのリソースを探しに行ってますけど、今の彼氏は会った時にはエッチして種をくれるわけですよ無茶苦茶優秀なじゃあ種を種でもらっとこうで、他に育てのリソースをくれるような安定感のあるいいパパになりそうな男とかを探し始めますこれが寂しさ起点の浮きで、刺激起点の浮きは逆ですこいつ育てはある 誠実で優しくてただし話は思わない男としての強さは感じないし結婚相手としてはいいかもしれないけど別にベッド入った時あんまり興奮しないしあんまりエッチする気にはなんないなとただ別に結婚相手としては悪くないみたいな感じがこの育てパターンその場合は女の子は種をもらいに他の男を探しに行きます に行きますねはいっていう感じこれが女性の浮気の原因でございますさあされないためにどうすればいいのかシンプルあの両方も通ねですはい 両方も通ねですシンプルちゃんと恋愛がうまくいくね幸せな結婚生活を手に入れる幸せなねカップル生活パートナーを手に入れるためには我々男はこの2つを備えればこの2個獲得すればハッピーでございますよという話ですさあでは最後 女性はオンリーワンになりたい 君だけ代用がいい男はあなたが一番代用がいい というこの二つの違いがございますなぜかという話を先にしますけど 男性というのは基本的に競争に勝つというのが子孫繁栄に必要 なんです子孫を残すために女性をゲット しなきゃいけないわけですそのためには競争に勝たなきゃ いけませんちなみに元々の人類は上位3%が 配偶者をゲットして っていう風になってます なので男は競争に勝って上位3割には入らなきゃいけないっていう 課題が重ねてるわけですねだったりとかコミュニティの中でも やっぱり上位に行けば行くほど安全も確保されるし食料も与えられる し周りの人たちが身を守ってくれたりするわけです つまり男は競争に勝てっていう本能がガッチリって入ってます で競争に勝った結果子孫が残せたんですよ我々の祖先は だからそういう本能がありますよ 一方女性の場合はというと 自分に種を与えてくれた男性のリソースを独占する 私がこの人からちゃんとリソースをもらえる っていう状態になると極めて子孫が残りやすかった だから女性はあなただけだよがいいんですよ 1番だよって言っちゃうとえ2番って3番っていいんの ってなるんですよじゃああなたのリソースって 全部私に来ないってことそれは困るなんですよ だからあなただけだよ 話せるの君だけだよ こんな心を開けるの君だけだよこんな付き合ってて楽しいの 君だけだよいう風に言ってあげてください ということですこれですね 口癖のようにしてください君だけだよです こういう風に言ってあげるとこの人は私のこと本当に大事に してくれてるんだなという風に感じるということですね 本当にこういう風にやっぱ男女って本能が違うわけですよ本能が違うので ちゃんと一個一個勉強して 一つ一つマスターしていくと本当にモテるようになります女性を喜ばせられるようなコミュニケーションが取れるようになりますでね結局みんなね思いはあるんですよ喜んでほしいとか大事にしたいとかねそういう思いはあるんだけど知識がないから間違えるんですよ間違えるし昔の僕みたいにその知識がないばっかりに女性に寂しい思いをさしちゃって悲しい思いさしちゃうこともあるんですよ思いはあるのにだよそれってもったいないじゃないですかなのでちゃんと勉強しようねって 知識をさえすればやり方がわかるんだからこのやり方がわかっている男が少ないのよ残念ながら学校で習わないから今こうやって魅力の大学とかに授業してるわけですよなのでちゃんと1個1個勉強しましょうねと1個1個女性に実践してみてくださいよそしたらあなたと出会えてよかったですって言われますよあなたが一番って言われるような男になりますよということでございます バチバチ超重要注意点最後に言っておきますはいあのこれねさっき説明したこれなんですけどあの順番なんですよで今回お伝えした話ってどっちかというと育て側の要素を提供するときにかなり重要になるポイントです要はエッチした後やった後に言葉で伝えてあげてねでしょ回数出してあげてねでしょ 提供してあげてるんでしょ そして君だけだよって言ってあげてるでしょすべての前提は大タート さあこれを間違えるなっていう話ですなんで今回の話はこっち こっちじゃあそもそも種遺伝子として優秀 この人の種を取り込みたいこれ女の子からするとこの人とエッチしたい やりたいムラムラするっていう状況にまず持っていかなきゃいけませんで今回はちょっとねこの話 話題とずれるんで割愛しましたけど できますはい抱くことができますはいで抱けたら 抱けたら後はこういう今回お伝えした育てのリソースっていうのをちゃんと女性に提供してあげると無茶無茶いい関係になれますよということですじゃあ 種どうやるんですかはい順さんそもそも僕ホテルまで全然行けないんですけど僕同亭なんですけど10年間ね女性 これに関してはですね、この動画ねちょっと長くなっちゃったので全4回の動画講義にまとめております概要欄を押していただけると僕のね公式ラインありますで、LINEぴょんって登録してもらえると全4本の動画講義が1日1本ずつ届きますで、それ見てもらえるとじゃあ具体的にこの種の要素って何とか何をやればこの種の要素を自分が獲得してそして女の子から抱かれたいなやりたいな素敵だなかっこいいな男として魅力的だなって思われるような男になるのかっていうのね これ絶対見といてください。ちゃんとね、この全4本完全に無料で見ることができますので、絶対に見逃さないようにしておいてください。さあ、ということで今回の動画いかがだったでしょうか。この動画面白かったよということはね、ぜひ高評価とチャンネル登録、そしてコメント欄に感想を残していただけると嬉しいです。ではまた次回の動画でお会いしましょう。恋愛野順でした。\n"
          ]
        }
      ]
    },
    {
      "cell_type": "code",
      "source": [
        "def split_string(string):\n",
        "    # 文字列を1000字ごとに分割する\n",
        "    return [string[i:i+1000] for i in range(0, len(string), 1000)]\n",
        "\n",
        "content_split = split_string(content)\n",
        "len(content_split)"
      ],
      "metadata": {
        "colab": {
          "base_uri": "https://localhost:8080/"
        },
        "id": "kj4xid5TfcVf",
        "outputId": "a60f956b-0e41-48fe-ba72-7a832fceed54"
      },
      "execution_count": 45,
      "outputs": [
        {
          "output_type": "execute_result",
          "data": {
            "text/plain": [
              "11"
            ]
          },
          "metadata": {},
          "execution_count": 45
        }
      ]
    },
    {
      "cell_type": "code",
      "source": [
        "def chatGPT(prompt):\n",
        "    #モデルを指定\n",
        "    model_engine = \"text-davinci-003\"\n",
        "\n",
        "    #指示（Prompt）を設定\n",
        "    prompt = prompt\n",
        "\n",
        "    #推論を実行\n",
        "    completions = openai.Completion.create(\n",
        "        engine=model_engine,\n",
        "        prompt=prompt,\n",
        "        max_tokens=1024,\n",
        "        n=1,\n",
        "        stop=None,\n",
        "        temperature=0.5,\n",
        "    )\n",
        "\n",
        "    #推論結果を出力\n",
        "    message = completions.choices[0].text\n",
        "    return message"
      ],
      "metadata": {
        "id": "NLpKxAByfu2P"
      },
      "execution_count": 47,
      "outputs": []
    },
    {
      "cell_type": "code",
      "source": [
        "revised = []\n",
        "\n",
        "for text in content_split:\n",
        "\n",
        "    reply = chatGPT(f\"\"\"\n",
        "    あなたはプロのスピーチ原稿ライターです。次の文章は会議における著名な教授の講演原稿草案です。日本語で句読点をつけて書き起こしてください。文脈が合わない箇所については語句を推測して修正してください。\n",
        "    内容は以下の通りです。\n",
        "    {text}\n",
        "    \"\"\")\n",
        "\n",
        "    revised.append(reply)\n",
        "\n",
        "    print(revised)\n",
        "\n",
        "print(revised,  sep = \"\", end = \"\\n\")"
      ],
      "metadata": {
        "id": "DTgtA74ocNky"
      },
      "execution_count": null,
      "outputs": []
    },
    {
      "cell_type": "code",
      "source": [
        "for text in revised:\n",
        "    print(text,  sep = \"\", end = \"\\n\")"
      ],
      "metadata": {
        "id": "etJiWlIXy_TG",
        "outputId": "61e2a9e8-dccc-4d02-f046-024b45bec81e",
        "colab": {
          "base_uri": "https://localhost:8080/"
        }
      },
      "execution_count": 88,
      "outputs": [
        {
          "output_type": "stream",
          "name": "stdout",
          "text": [
            "ミラクルの大学恋愛順です。今回は男女の恋愛感の違い5点ということで、男女では実は恋愛感、恋愛の考え方、そして恋愛の本能です。これが全く違うわけです。皆さん、これ超重要なので覚えておいてください。これ本当に実感できればもうモテ男まっしぐらです。女性に困ることはなくなります。女性から寄ってくるようなめちゃめちゃカッコいい男になれる超重要ポイントです。\n",
            "\n",
            "真逆です。これがね、僕はね、理解するのにね、もうほんとね、4、5年かかりましたけども男女ってシステムが真逆なんですよ。生物構造上ね。だってさ、男がさ、出てる側でさ、女の子が凹んでる側じゃないですか。なんとなくわかる。で、その構造を元に我々の本能っていうのは作られてるわけですよ。ってなった時に、基本的に性質は真逆です。真逆の性質なんですよ。\n",
            "\n",
            "女の子はこうやったら嬉しいっていうのと女の子はこうやったら嬉しいっていうのが全然違うんですよということですじゃあよじゃあよじゃあよこれさこれさ知らないとできなくない?そうなんですよ知らないとね勉強しないとできないんですよじゃあ女の子はどうやったら好きになるのかどうやったら愛情を感じるのかとかねどんなプレゼントを渡したら喜ぶのかとかどんな関係性を望んでるんですかどうすれば浮気にするんですか とかねみんな気になるよねそうなんですよけどねこれさ われわれの感覚でやきっとこうやったら女の子って喜んでくれるに違いないと思ってやるでしょもうまとはずれも花はだしそして女性からはこう思われますああ こいつわかってねーなとね悲しいよねせっかく女の子を喜ばせようと思ってね幸せにしようと思ってやってることは知識不足によってもう水の泡ですすべてが水の泡 残念でしたってなるわけですなので今回はですね男性の恋愛感の違い ポイント5つバッチリお\n"
          ]
        }
      ]
    },
    {
      "cell_type": "code",
      "source": [
        "# 作成したreviseを保存\n",
        "import os\n",
        "\n",
        "# リストの文字列を結合\n",
        "text_list = revised\n",
        "text = ' '.join(text_list)\n",
        "\n",
        "# 保存先のパスを指定\n",
        "save_path = '/content/drive/MyDrive/secondJob/Transcription/youshu_whisper_chatGPT_revised.txt'\n",
        "\n",
        "# テキストファイルを作成して、文字列を書き込む\n",
        "with open(save_path, 'w') as f:\n",
        "    f.write(text)\n",
        "\n",
        "# 保存が完了したことを確認する\n",
        "if os.path.exists(save_path):\n",
        "    print('テキストファイルが正常に保存されました。')\n",
        "else:\n",
        "    print('テキストファイルの保存に失敗しました。')\n",
        "\n",
        "# リスト内の要素数を取得して表示する\n",
        "num_items = len(text_list)\n",
        "print(f'リスト内の要素数は {num_items} です。')\n"
      ],
      "metadata": {
        "colab": {
          "base_uri": "https://localhost:8080/"
        },
        "id": "F5oxBmjnutfx",
        "outputId": "a2124fab-e98e-41a5-9474-08a2901ff5c5"
      },
      "execution_count": 89,
      "outputs": [
        {
          "output_type": "stream",
          "name": "stdout",
          "text": [
            "テキストファイルが正常に保存されました。\n",
            "リスト内の要素数は 1 です。\n"
          ]
        }
      ]
    },
    {
      "cell_type": "code",
      "source": [
        "from IPython.display import display, Markdown, Latex\n",
        "\n",
        "# 要約\n",
        "summarized = \"\"\n",
        "for text in revised:\n",
        "    \n",
        "    summarized = chatGPT(f\"\"\"\n",
        "\n",
        "    次の文章は著名な教授の講演の書き起こしを分割したものです。\n",
        "    話している内容を大見出しと小見出しをつけてまとめて下さい。\n",
        "    大見出しには#を、小見出しには##をつけてMarkdown形式にして下さい。\n",
        "    それぞれの小見出しの後に、それを説明する根拠となる文章を加えて下さい。\n",
        "\n",
        "    {summarized}\n",
        "    {text}\n",
        "\n",
        "    \"\"\")\n",
        "\n",
        "    display(Markdown(summarized))\n",
        "\n",
        "display(Markdown(summarized))\n"
      ],
      "metadata": {
        "colab": {
          "base_uri": "https://localhost:8080/",
          "height": 447
        },
        "id": "rvzPJgyUmocf",
        "outputId": "92ac20fd-8246-4c0f-a512-3134787a58a9"
      },
      "execution_count": 79,
      "outputs": [
        {
          "output_type": "error",
          "ename": "KeyboardInterrupt",
          "evalue": "ignored",
          "traceback": [
            "\u001b[0;31m---------------------------------------------------------------------------\u001b[0m",
            "\u001b[0;31mTypeError\u001b[0m                                 Traceback (most recent call last)",
            "\u001b[0;32m/usr/local/lib/python3.8/dist-packages/urllib3/connectionpool.py\u001b[0m in \u001b[0;36m_make_request\u001b[0;34m(self, conn, method, url, timeout, chunked, **httplib_request_kw)\u001b[0m\n\u001b[1;32m    376\u001b[0m             \u001b[0mcontrol\u001b[0m \u001b[0mover\u001b[0m \u001b[0myour\u001b[0m \u001b[0mtimeouts\u001b[0m\u001b[0;34m.\u001b[0m\u001b[0;34m\u001b[0m\u001b[0;34m\u001b[0m\u001b[0m\n\u001b[0;32m--> 377\u001b[0;31m         \"\"\"\n\u001b[0m\u001b[1;32m    378\u001b[0m         \u001b[0mself\u001b[0m\u001b[0;34m.\u001b[0m\u001b[0mnum_requests\u001b[0m \u001b[0;34m+=\u001b[0m \u001b[0;36m1\u001b[0m\u001b[0;34m\u001b[0m\u001b[0;34m\u001b[0m\u001b[0m\n",
            "\u001b[0;31mTypeError\u001b[0m: getresponse() got an unexpected keyword argument 'buffering'",
            "\nDuring handling of the above exception, another exception occurred:\n",
            "\u001b[0;31mKeyboardInterrupt\u001b[0m                         Traceback (most recent call last)",
            "\u001b[0;32m<ipython-input-79-becd7856445b>\u001b[0m in \u001b[0;36m<module>\u001b[0;34m\u001b[0m\n\u001b[1;32m      5\u001b[0m \u001b[0;32mfor\u001b[0m \u001b[0mtext\u001b[0m \u001b[0;32min\u001b[0m \u001b[0mrevised\u001b[0m\u001b[0;34m:\u001b[0m\u001b[0;34m\u001b[0m\u001b[0;34m\u001b[0m\u001b[0m\n\u001b[1;32m      6\u001b[0m \u001b[0;34m\u001b[0m\u001b[0m\n\u001b[0;32m----> 7\u001b[0;31m     summarized = chatGPT(f\"\"\"\n\u001b[0m\u001b[1;32m      8\u001b[0m \u001b[0;34m\u001b[0m\u001b[0m\n\u001b[1;32m      9\u001b[0m     \u001b[0m次の文章は著名な教授の講演の書き起こしを分割したものです\u001b[0m\u001b[0;31m。\u001b[0m\u001b[0;34m\u001b[0m\u001b[0;34m\u001b[0m\u001b[0m\n",
            "\u001b[0;32m<ipython-input-47-773180eed7db>\u001b[0m in \u001b[0;36mchatGPT\u001b[0;34m(text)\u001b[0m\n\u001b[1;32m     15\u001b[0m \u001b[0;34m\u001b[0m\u001b[0m\n\u001b[1;32m     16\u001b[0m     \u001b[0;31m#推論を実行\u001b[0m\u001b[0;34m\u001b[0m\u001b[0;34m\u001b[0m\u001b[0;34m\u001b[0m\u001b[0m\n\u001b[0;32m---> 17\u001b[0;31m     completions = openai.Completion.create(\n\u001b[0m\u001b[1;32m     18\u001b[0m         \u001b[0mengine\u001b[0m\u001b[0;34m=\u001b[0m\u001b[0mmodel_engine\u001b[0m\u001b[0;34m,\u001b[0m\u001b[0;34m\u001b[0m\u001b[0;34m\u001b[0m\u001b[0m\n\u001b[1;32m     19\u001b[0m         \u001b[0mprompt\u001b[0m\u001b[0;34m=\u001b[0m\u001b[0mprompt\u001b[0m\u001b[0;34m,\u001b[0m\u001b[0;34m\u001b[0m\u001b[0;34m\u001b[0m\u001b[0m\n",
            "\u001b[0;32m/usr/local/lib/python3.8/dist-packages/openai/api_resources/completion.py\u001b[0m in \u001b[0;36mcreate\u001b[0;34m(cls, *args, **kwargs)\u001b[0m\n\u001b[1;32m     23\u001b[0m         \u001b[0;32mwhile\u001b[0m \u001b[0;32mTrue\u001b[0m\u001b[0;34m:\u001b[0m\u001b[0;34m\u001b[0m\u001b[0;34m\u001b[0m\u001b[0m\n\u001b[1;32m     24\u001b[0m             \u001b[0;32mtry\u001b[0m\u001b[0;34m:\u001b[0m\u001b[0;34m\u001b[0m\u001b[0;34m\u001b[0m\u001b[0m\n\u001b[0;32m---> 25\u001b[0;31m                 \u001b[0;32mreturn\u001b[0m \u001b[0msuper\u001b[0m\u001b[0;34m(\u001b[0m\u001b[0;34m)\u001b[0m\u001b[0;34m.\u001b[0m\u001b[0mcreate\u001b[0m\u001b[0;34m(\u001b[0m\u001b[0;34m*\u001b[0m\u001b[0margs\u001b[0m\u001b[0;34m,\u001b[0m \u001b[0;34m**\u001b[0m\u001b[0mkwargs\u001b[0m\u001b[0;34m)\u001b[0m\u001b[0;34m\u001b[0m\u001b[0;34m\u001b[0m\u001b[0m\n\u001b[0m\u001b[1;32m     26\u001b[0m             \u001b[0;32mexcept\u001b[0m \u001b[0mTryAgain\u001b[0m \u001b[0;32mas\u001b[0m \u001b[0me\u001b[0m\u001b[0;34m:\u001b[0m\u001b[0;34m\u001b[0m\u001b[0;34m\u001b[0m\u001b[0m\n\u001b[1;32m     27\u001b[0m                 \u001b[0;32mif\u001b[0m \u001b[0mtimeout\u001b[0m \u001b[0;32mis\u001b[0m \u001b[0;32mnot\u001b[0m \u001b[0;32mNone\u001b[0m \u001b[0;32mand\u001b[0m \u001b[0mtime\u001b[0m\u001b[0;34m.\u001b[0m\u001b[0mtime\u001b[0m\u001b[0;34m(\u001b[0m\u001b[0;34m)\u001b[0m \u001b[0;34m>\u001b[0m \u001b[0mstart\u001b[0m \u001b[0;34m+\u001b[0m \u001b[0mtimeout\u001b[0m\u001b[0;34m:\u001b[0m\u001b[0;34m\u001b[0m\u001b[0;34m\u001b[0m\u001b[0m\n",
            "\u001b[0;32m/usr/local/lib/python3.8/dist-packages/openai/api_resources/abstract/engine_api_resource.py\u001b[0m in \u001b[0;36mcreate\u001b[0;34m(cls, api_key, api_base, api_type, request_id, api_version, organization, **params)\u001b[0m\n\u001b[1;32m    151\u001b[0m         )\n\u001b[1;32m    152\u001b[0m \u001b[0;34m\u001b[0m\u001b[0m\n\u001b[0;32m--> 153\u001b[0;31m         response, _, api_key = requestor.request(\n\u001b[0m\u001b[1;32m    154\u001b[0m             \u001b[0;34m\"post\"\u001b[0m\u001b[0;34m,\u001b[0m\u001b[0;34m\u001b[0m\u001b[0;34m\u001b[0m\u001b[0m\n\u001b[1;32m    155\u001b[0m             \u001b[0murl\u001b[0m\u001b[0;34m,\u001b[0m\u001b[0;34m\u001b[0m\u001b[0;34m\u001b[0m\u001b[0m\n",
            "\u001b[0;32m/usr/local/lib/python3.8/dist-packages/openai/api_requestor.py\u001b[0m in \u001b[0;36mrequest\u001b[0;34m(self, method, url, params, headers, files, stream, request_id, request_timeout)\u001b[0m\n\u001b[1;32m    214\u001b[0m         \u001b[0mrequest_timeout\u001b[0m\u001b[0;34m:\u001b[0m \u001b[0mOptional\u001b[0m\u001b[0;34m[\u001b[0m\u001b[0mUnion\u001b[0m\u001b[0;34m[\u001b[0m\u001b[0mfloat\u001b[0m\u001b[0;34m,\u001b[0m \u001b[0mTuple\u001b[0m\u001b[0;34m[\u001b[0m\u001b[0mfloat\u001b[0m\u001b[0;34m,\u001b[0m \u001b[0mfloat\u001b[0m\u001b[0;34m]\u001b[0m\u001b[0;34m]\u001b[0m\u001b[0;34m]\u001b[0m \u001b[0;34m=\u001b[0m \u001b[0;32mNone\u001b[0m\u001b[0;34m,\u001b[0m\u001b[0;34m\u001b[0m\u001b[0;34m\u001b[0m\u001b[0m\n\u001b[1;32m    215\u001b[0m     ) -> Tuple[Union[OpenAIResponse, Iterator[OpenAIResponse]], bool, str]:\n\u001b[0;32m--> 216\u001b[0;31m         result = self.request_raw(\n\u001b[0m\u001b[1;32m    217\u001b[0m             \u001b[0mmethod\u001b[0m\u001b[0;34m.\u001b[0m\u001b[0mlower\u001b[0m\u001b[0;34m(\u001b[0m\u001b[0;34m)\u001b[0m\u001b[0;34m,\u001b[0m\u001b[0;34m\u001b[0m\u001b[0;34m\u001b[0m\u001b[0m\n\u001b[1;32m    218\u001b[0m             \u001b[0murl\u001b[0m\u001b[0;34m,\u001b[0m\u001b[0;34m\u001b[0m\u001b[0;34m\u001b[0m\u001b[0m\n",
            "\u001b[0;32m/usr/local/lib/python3.8/dist-packages/openai/api_requestor.py\u001b[0m in \u001b[0;36mrequest_raw\u001b[0;34m(self, method, url, params, supplied_headers, files, stream, request_id, request_timeout)\u001b[0m\n\u001b[1;32m    514\u001b[0m             \u001b[0m_thread_context\u001b[0m\u001b[0;34m.\u001b[0m\u001b[0msession\u001b[0m \u001b[0;34m=\u001b[0m \u001b[0m_make_session\u001b[0m\u001b[0;34m(\u001b[0m\u001b[0;34m)\u001b[0m\u001b[0;34m\u001b[0m\u001b[0;34m\u001b[0m\u001b[0m\n\u001b[1;32m    515\u001b[0m         \u001b[0;32mtry\u001b[0m\u001b[0;34m:\u001b[0m\u001b[0;34m\u001b[0m\u001b[0;34m\u001b[0m\u001b[0m\n\u001b[0;32m--> 516\u001b[0;31m             result = _thread_context.session.request(\n\u001b[0m\u001b[1;32m    517\u001b[0m                 \u001b[0mmethod\u001b[0m\u001b[0;34m,\u001b[0m\u001b[0;34m\u001b[0m\u001b[0;34m\u001b[0m\u001b[0m\n\u001b[1;32m    518\u001b[0m                 \u001b[0mabs_url\u001b[0m\u001b[0;34m,\u001b[0m\u001b[0;34m\u001b[0m\u001b[0;34m\u001b[0m\u001b[0m\n",
            "\u001b[0;32m/usr/local/lib/python3.8/dist-packages/requests/sessions.py\u001b[0m in \u001b[0;36mrequest\u001b[0;34m(self, method, url, params, data, headers, cookies, files, auth, timeout, allow_redirects, proxies, hooks, stream, verify, cert, json)\u001b[0m\n\u001b[1;32m    540\u001b[0m         }\n\u001b[1;32m    541\u001b[0m         \u001b[0msend_kwargs\u001b[0m\u001b[0;34m.\u001b[0m\u001b[0mupdate\u001b[0m\u001b[0;34m(\u001b[0m\u001b[0msettings\u001b[0m\u001b[0;34m)\u001b[0m\u001b[0;34m\u001b[0m\u001b[0;34m\u001b[0m\u001b[0m\n\u001b[0;32m--> 542\u001b[0;31m         \u001b[0mresp\u001b[0m \u001b[0;34m=\u001b[0m \u001b[0mself\u001b[0m\u001b[0;34m.\u001b[0m\u001b[0msend\u001b[0m\u001b[0;34m(\u001b[0m\u001b[0mprep\u001b[0m\u001b[0;34m,\u001b[0m \u001b[0;34m**\u001b[0m\u001b[0msend_kwargs\u001b[0m\u001b[0;34m)\u001b[0m\u001b[0;34m\u001b[0m\u001b[0;34m\u001b[0m\u001b[0m\n\u001b[0m\u001b[1;32m    543\u001b[0m \u001b[0;34m\u001b[0m\u001b[0m\n\u001b[1;32m    544\u001b[0m         \u001b[0;32mreturn\u001b[0m \u001b[0mresp\u001b[0m\u001b[0;34m\u001b[0m\u001b[0;34m\u001b[0m\u001b[0m\n",
            "\u001b[0;32m/usr/local/lib/python3.8/dist-packages/requests/sessions.py\u001b[0m in \u001b[0;36msend\u001b[0;34m(self, request, **kwargs)\u001b[0m\n\u001b[1;32m    653\u001b[0m \u001b[0;34m\u001b[0m\u001b[0m\n\u001b[1;32m    654\u001b[0m         \u001b[0;31m# Send the request\u001b[0m\u001b[0;34m\u001b[0m\u001b[0;34m\u001b[0m\u001b[0;34m\u001b[0m\u001b[0m\n\u001b[0;32m--> 655\u001b[0;31m         \u001b[0mr\u001b[0m \u001b[0;34m=\u001b[0m \u001b[0madapter\u001b[0m\u001b[0;34m.\u001b[0m\u001b[0msend\u001b[0m\u001b[0;34m(\u001b[0m\u001b[0mrequest\u001b[0m\u001b[0;34m,\u001b[0m \u001b[0;34m**\u001b[0m\u001b[0mkwargs\u001b[0m\u001b[0;34m)\u001b[0m\u001b[0;34m\u001b[0m\u001b[0;34m\u001b[0m\u001b[0m\n\u001b[0m\u001b[1;32m    656\u001b[0m \u001b[0;34m\u001b[0m\u001b[0m\n\u001b[1;32m    657\u001b[0m         \u001b[0;31m# Total elapsed time of the request (approximately)\u001b[0m\u001b[0;34m\u001b[0m\u001b[0;34m\u001b[0m\u001b[0;34m\u001b[0m\u001b[0m\n",
            "\u001b[0;32m/usr/local/lib/python3.8/dist-packages/requests/adapters.py\u001b[0m in \u001b[0;36msend\u001b[0;34m(self, request, stream, timeout, verify, cert, proxies)\u001b[0m\n\u001b[1;32m    437\u001b[0m         \u001b[0;32mtry\u001b[0m\u001b[0;34m:\u001b[0m\u001b[0;34m\u001b[0m\u001b[0;34m\u001b[0m\u001b[0m\n\u001b[1;32m    438\u001b[0m             \u001b[0;32mif\u001b[0m \u001b[0;32mnot\u001b[0m \u001b[0mchunked\u001b[0m\u001b[0;34m:\u001b[0m\u001b[0;34m\u001b[0m\u001b[0;34m\u001b[0m\u001b[0m\n\u001b[0;32m--> 439\u001b[0;31m                 resp = conn.urlopen(\n\u001b[0m\u001b[1;32m    440\u001b[0m                     \u001b[0mmethod\u001b[0m\u001b[0;34m=\u001b[0m\u001b[0mrequest\u001b[0m\u001b[0;34m.\u001b[0m\u001b[0mmethod\u001b[0m\u001b[0;34m,\u001b[0m\u001b[0;34m\u001b[0m\u001b[0;34m\u001b[0m\u001b[0m\n\u001b[1;32m    441\u001b[0m                     \u001b[0murl\u001b[0m\u001b[0;34m=\u001b[0m\u001b[0murl\u001b[0m\u001b[0;34m,\u001b[0m\u001b[0;34m\u001b[0m\u001b[0;34m\u001b[0m\u001b[0m\n",
            "\u001b[0;32m/usr/local/lib/python3.8/dist-packages/urllib3/connectionpool.py\u001b[0m in \u001b[0;36murlopen\u001b[0;34m(self, method, url, body, headers, retries, redirect, assert_same_host, timeout, pool_timeout, release_conn, chunked, body_pos, **response_kw)\u001b[0m\n\u001b[1;32m    595\u001b[0m \u001b[0;34m\u001b[0m\u001b[0m\n\u001b[1;32m    596\u001b[0m         \u001b[0;34m:\u001b[0m\u001b[0mparam\u001b[0m \u001b[0mtimeout\u001b[0m\u001b[0;34m:\u001b[0m\u001b[0;34m\u001b[0m\u001b[0;34m\u001b[0m\u001b[0m\n\u001b[0;32m--> 597\u001b[0;31m             \u001b[0mIf\u001b[0m \u001b[0mspecified\u001b[0m\u001b[0;34m,\u001b[0m \u001b[0moverrides\u001b[0m \u001b[0mthe\u001b[0m \u001b[0mdefault\u001b[0m \u001b[0mtimeout\u001b[0m \u001b[0;32mfor\u001b[0m \u001b[0mthis\u001b[0m \u001b[0mone\u001b[0m\u001b[0;34m\u001b[0m\u001b[0;34m\u001b[0m\u001b[0m\n\u001b[0m\u001b[1;32m    598\u001b[0m             \u001b[0mrequest\u001b[0m\u001b[0;34m.\u001b[0m \u001b[0mIt\u001b[0m \u001b[0mmay\u001b[0m \u001b[0mbe\u001b[0m \u001b[0ma\u001b[0m \u001b[0mfloat\u001b[0m \u001b[0;34m(\u001b[0m\u001b[0;32min\u001b[0m \u001b[0mseconds\u001b[0m\u001b[0;34m)\u001b[0m \u001b[0;32mor\u001b[0m \u001b[0man\u001b[0m \u001b[0minstance\u001b[0m \u001b[0mof\u001b[0m\u001b[0;34m\u001b[0m\u001b[0;34m\u001b[0m\u001b[0m\n\u001b[1;32m    599\u001b[0m             \u001b[0;34m:\u001b[0m\u001b[0;32mclass\u001b[0m\u001b[0;34m:\u001b[0m\u001b[0;31m`\u001b[0m\u001b[0murllib3\u001b[0m\u001b[0;34m.\u001b[0m\u001b[0mutil\u001b[0m\u001b[0;34m.\u001b[0m\u001b[0mTimeout\u001b[0m\u001b[0;31m`\u001b[0m\u001b[0;34m.\u001b[0m\u001b[0;34m\u001b[0m\u001b[0;34m\u001b[0m\u001b[0m\n",
            "\u001b[0;32m/usr/local/lib/python3.8/dist-packages/urllib3/connectionpool.py\u001b[0m in \u001b[0;36m_make_request\u001b[0;34m(self, conn, method, url, timeout, chunked, **httplib_request_kw)\u001b[0m\n\u001b[1;32m    378\u001b[0m         \u001b[0mself\u001b[0m\u001b[0;34m.\u001b[0m\u001b[0mnum_requests\u001b[0m \u001b[0;34m+=\u001b[0m \u001b[0;36m1\u001b[0m\u001b[0;34m\u001b[0m\u001b[0;34m\u001b[0m\u001b[0m\n\u001b[1;32m    379\u001b[0m \u001b[0;34m\u001b[0m\u001b[0m\n\u001b[0;32m--> 380\u001b[0;31m         \u001b[0mtimeout_obj\u001b[0m \u001b[0;34m=\u001b[0m \u001b[0mself\u001b[0m\u001b[0;34m.\u001b[0m\u001b[0m_get_timeout\u001b[0m\u001b[0;34m(\u001b[0m\u001b[0mtimeout\u001b[0m\u001b[0;34m)\u001b[0m\u001b[0;34m\u001b[0m\u001b[0;34m\u001b[0m\u001b[0m\n\u001b[0m\u001b[1;32m    381\u001b[0m         \u001b[0mtimeout_obj\u001b[0m\u001b[0;34m.\u001b[0m\u001b[0mstart_connect\u001b[0m\u001b[0;34m(\u001b[0m\u001b[0;34m)\u001b[0m\u001b[0;34m\u001b[0m\u001b[0;34m\u001b[0m\u001b[0m\n\u001b[1;32m    382\u001b[0m         \u001b[0mconn\u001b[0m\u001b[0;34m.\u001b[0m\u001b[0mtimeout\u001b[0m \u001b[0;34m=\u001b[0m \u001b[0mtimeout_obj\u001b[0m\u001b[0;34m.\u001b[0m\u001b[0mconnect_timeout\u001b[0m\u001b[0;34m\u001b[0m\u001b[0;34m\u001b[0m\u001b[0m\n",
            "\u001b[0;32m/usr/lib/python3.8/http/client.py\u001b[0m in \u001b[0;36mgetresponse\u001b[0;34m(self)\u001b[0m\n\u001b[1;32m   1346\u001b[0m         \u001b[0;32mtry\u001b[0m\u001b[0;34m:\u001b[0m\u001b[0;34m\u001b[0m\u001b[0;34m\u001b[0m\u001b[0m\n\u001b[1;32m   1347\u001b[0m             \u001b[0;32mtry\u001b[0m\u001b[0;34m:\u001b[0m\u001b[0;34m\u001b[0m\u001b[0;34m\u001b[0m\u001b[0m\n\u001b[0;32m-> 1348\u001b[0;31m                 \u001b[0mresponse\u001b[0m\u001b[0;34m.\u001b[0m\u001b[0mbegin\u001b[0m\u001b[0;34m(\u001b[0m\u001b[0;34m)\u001b[0m\u001b[0;34m\u001b[0m\u001b[0;34m\u001b[0m\u001b[0m\n\u001b[0m\u001b[1;32m   1349\u001b[0m             \u001b[0;32mexcept\u001b[0m \u001b[0mConnectionError\u001b[0m\u001b[0;34m:\u001b[0m\u001b[0;34m\u001b[0m\u001b[0;34m\u001b[0m\u001b[0m\n\u001b[1;32m   1350\u001b[0m                 \u001b[0mself\u001b[0m\u001b[0;34m.\u001b[0m\u001b[0mclose\u001b[0m\u001b[0;34m(\u001b[0m\u001b[0;34m)\u001b[0m\u001b[0;34m\u001b[0m\u001b[0;34m\u001b[0m\u001b[0m\n",
            "\u001b[0;32m/usr/lib/python3.8/http/client.py\u001b[0m in \u001b[0;36mbegin\u001b[0;34m(self)\u001b[0m\n\u001b[1;32m    314\u001b[0m         \u001b[0;31m# read until we get a non-100 response\u001b[0m\u001b[0;34m\u001b[0m\u001b[0;34m\u001b[0m\u001b[0;34m\u001b[0m\u001b[0m\n\u001b[1;32m    315\u001b[0m         \u001b[0;32mwhile\u001b[0m \u001b[0;32mTrue\u001b[0m\u001b[0;34m:\u001b[0m\u001b[0;34m\u001b[0m\u001b[0;34m\u001b[0m\u001b[0m\n\u001b[0;32m--> 316\u001b[0;31m             \u001b[0mversion\u001b[0m\u001b[0;34m,\u001b[0m \u001b[0mstatus\u001b[0m\u001b[0;34m,\u001b[0m \u001b[0mreason\u001b[0m \u001b[0;34m=\u001b[0m \u001b[0mself\u001b[0m\u001b[0;34m.\u001b[0m\u001b[0m_read_status\u001b[0m\u001b[0;34m(\u001b[0m\u001b[0;34m)\u001b[0m\u001b[0;34m\u001b[0m\u001b[0;34m\u001b[0m\u001b[0m\n\u001b[0m\u001b[1;32m    317\u001b[0m             \u001b[0;32mif\u001b[0m \u001b[0mstatus\u001b[0m \u001b[0;34m!=\u001b[0m \u001b[0mCONTINUE\u001b[0m\u001b[0;34m:\u001b[0m\u001b[0;34m\u001b[0m\u001b[0;34m\u001b[0m\u001b[0m\n\u001b[1;32m    318\u001b[0m                 \u001b[0;32mbreak\u001b[0m\u001b[0;34m\u001b[0m\u001b[0;34m\u001b[0m\u001b[0m\n",
            "\u001b[0;32m/usr/lib/python3.8/http/client.py\u001b[0m in \u001b[0;36m_read_status\u001b[0;34m(self)\u001b[0m\n\u001b[1;32m    275\u001b[0m \u001b[0;34m\u001b[0m\u001b[0m\n\u001b[1;32m    276\u001b[0m     \u001b[0;32mdef\u001b[0m \u001b[0m_read_status\u001b[0m\u001b[0;34m(\u001b[0m\u001b[0mself\u001b[0m\u001b[0;34m)\u001b[0m\u001b[0;34m:\u001b[0m\u001b[0;34m\u001b[0m\u001b[0;34m\u001b[0m\u001b[0m\n\u001b[0;32m--> 277\u001b[0;31m         \u001b[0mline\u001b[0m \u001b[0;34m=\u001b[0m \u001b[0mstr\u001b[0m\u001b[0;34m(\u001b[0m\u001b[0mself\u001b[0m\u001b[0;34m.\u001b[0m\u001b[0mfp\u001b[0m\u001b[0;34m.\u001b[0m\u001b[0mreadline\u001b[0m\u001b[0;34m(\u001b[0m\u001b[0m_MAXLINE\u001b[0m \u001b[0;34m+\u001b[0m \u001b[0;36m1\u001b[0m\u001b[0;34m)\u001b[0m\u001b[0;34m,\u001b[0m \u001b[0;34m\"iso-8859-1\"\u001b[0m\u001b[0;34m)\u001b[0m\u001b[0;34m\u001b[0m\u001b[0;34m\u001b[0m\u001b[0m\n\u001b[0m\u001b[1;32m    278\u001b[0m         \u001b[0;32mif\u001b[0m \u001b[0mlen\u001b[0m\u001b[0;34m(\u001b[0m\u001b[0mline\u001b[0m\u001b[0;34m)\u001b[0m \u001b[0;34m>\u001b[0m \u001b[0m_MAXLINE\u001b[0m\u001b[0;34m:\u001b[0m\u001b[0;34m\u001b[0m\u001b[0;34m\u001b[0m\u001b[0m\n\u001b[1;32m    279\u001b[0m             \u001b[0;32mraise\u001b[0m \u001b[0mLineTooLong\u001b[0m\u001b[0;34m(\u001b[0m\u001b[0;34m\"status line\"\u001b[0m\u001b[0;34m)\u001b[0m\u001b[0;34m\u001b[0m\u001b[0;34m\u001b[0m\u001b[0m\n",
            "\u001b[0;32m/usr/lib/python3.8/socket.py\u001b[0m in \u001b[0;36mreadinto\u001b[0;34m(self, b)\u001b[0m\n\u001b[1;32m    667\u001b[0m         \u001b[0;32mwhile\u001b[0m \u001b[0;32mTrue\u001b[0m\u001b[0;34m:\u001b[0m\u001b[0;34m\u001b[0m\u001b[0;34m\u001b[0m\u001b[0m\n\u001b[1;32m    668\u001b[0m             \u001b[0;32mtry\u001b[0m\u001b[0;34m:\u001b[0m\u001b[0;34m\u001b[0m\u001b[0;34m\u001b[0m\u001b[0m\n\u001b[0;32m--> 669\u001b[0;31m                 \u001b[0;32mreturn\u001b[0m \u001b[0mself\u001b[0m\u001b[0;34m.\u001b[0m\u001b[0m_sock\u001b[0m\u001b[0;34m.\u001b[0m\u001b[0mrecv_into\u001b[0m\u001b[0;34m(\u001b[0m\u001b[0mb\u001b[0m\u001b[0;34m)\u001b[0m\u001b[0;34m\u001b[0m\u001b[0;34m\u001b[0m\u001b[0m\n\u001b[0m\u001b[1;32m    670\u001b[0m             \u001b[0;32mexcept\u001b[0m \u001b[0mtimeout\u001b[0m\u001b[0;34m:\u001b[0m\u001b[0;34m\u001b[0m\u001b[0;34m\u001b[0m\u001b[0m\n\u001b[1;32m    671\u001b[0m                 \u001b[0mself\u001b[0m\u001b[0;34m.\u001b[0m\u001b[0m_timeout_occurred\u001b[0m \u001b[0;34m=\u001b[0m \u001b[0;32mTrue\u001b[0m\u001b[0;34m\u001b[0m\u001b[0;34m\u001b[0m\u001b[0m\n",
            "\u001b[0;32m/usr/lib/python3.8/ssl.py\u001b[0m in \u001b[0;36mrecv_into\u001b[0;34m(self, buffer, nbytes, flags)\u001b[0m\n\u001b[1;32m   1239\u001b[0m                   \u001b[0;34m\"non-zero flags not allowed in calls to recv_into() on %s\"\u001b[0m \u001b[0;34m%\u001b[0m\u001b[0;34m\u001b[0m\u001b[0;34m\u001b[0m\u001b[0m\n\u001b[1;32m   1240\u001b[0m                   self.__class__)\n\u001b[0;32m-> 1241\u001b[0;31m             \u001b[0;32mreturn\u001b[0m \u001b[0mself\u001b[0m\u001b[0;34m.\u001b[0m\u001b[0mread\u001b[0m\u001b[0;34m(\u001b[0m\u001b[0mnbytes\u001b[0m\u001b[0;34m,\u001b[0m \u001b[0mbuffer\u001b[0m\u001b[0;34m)\u001b[0m\u001b[0;34m\u001b[0m\u001b[0;34m\u001b[0m\u001b[0m\n\u001b[0m\u001b[1;32m   1242\u001b[0m         \u001b[0;32melse\u001b[0m\u001b[0;34m:\u001b[0m\u001b[0;34m\u001b[0m\u001b[0;34m\u001b[0m\u001b[0m\n\u001b[1;32m   1243\u001b[0m             \u001b[0;32mreturn\u001b[0m \u001b[0msuper\u001b[0m\u001b[0;34m(\u001b[0m\u001b[0;34m)\u001b[0m\u001b[0;34m.\u001b[0m\u001b[0mrecv_into\u001b[0m\u001b[0;34m(\u001b[0m\u001b[0mbuffer\u001b[0m\u001b[0;34m,\u001b[0m \u001b[0mnbytes\u001b[0m\u001b[0;34m,\u001b[0m \u001b[0mflags\u001b[0m\u001b[0;34m)\u001b[0m\u001b[0;34m\u001b[0m\u001b[0;34m\u001b[0m\u001b[0m\n",
            "\u001b[0;32m/usr/lib/python3.8/ssl.py\u001b[0m in \u001b[0;36mread\u001b[0;34m(self, len, buffer)\u001b[0m\n\u001b[1;32m   1097\u001b[0m         \u001b[0;32mtry\u001b[0m\u001b[0;34m:\u001b[0m\u001b[0;34m\u001b[0m\u001b[0;34m\u001b[0m\u001b[0m\n\u001b[1;32m   1098\u001b[0m             \u001b[0;32mif\u001b[0m \u001b[0mbuffer\u001b[0m \u001b[0;32mis\u001b[0m \u001b[0;32mnot\u001b[0m \u001b[0;32mNone\u001b[0m\u001b[0;34m:\u001b[0m\u001b[0;34m\u001b[0m\u001b[0;34m\u001b[0m\u001b[0m\n\u001b[0;32m-> 1099\u001b[0;31m                 \u001b[0;32mreturn\u001b[0m \u001b[0mself\u001b[0m\u001b[0;34m.\u001b[0m\u001b[0m_sslobj\u001b[0m\u001b[0;34m.\u001b[0m\u001b[0mread\u001b[0m\u001b[0;34m(\u001b[0m\u001b[0mlen\u001b[0m\u001b[0;34m,\u001b[0m \u001b[0mbuffer\u001b[0m\u001b[0;34m)\u001b[0m\u001b[0;34m\u001b[0m\u001b[0;34m\u001b[0m\u001b[0m\n\u001b[0m\u001b[1;32m   1100\u001b[0m             \u001b[0;32melse\u001b[0m\u001b[0;34m:\u001b[0m\u001b[0;34m\u001b[0m\u001b[0;34m\u001b[0m\u001b[0m\n\u001b[1;32m   1101\u001b[0m                 \u001b[0;32mreturn\u001b[0m \u001b[0mself\u001b[0m\u001b[0;34m.\u001b[0m\u001b[0m_sslobj\u001b[0m\u001b[0;34m.\u001b[0m\u001b[0mread\u001b[0m\u001b[0;34m(\u001b[0m\u001b[0mlen\u001b[0m\u001b[0;34m)\u001b[0m\u001b[0;34m\u001b[0m\u001b[0;34m\u001b[0m\u001b[0m\n",
            "\u001b[0;31mKeyboardInterrupt\u001b[0m: "
          ]
        }
      ]
    },
    {
      "cell_type": "code",
      "source": [
        "from IPython.display import display, Markdown, Latex\n",
        "\n",
        "# 要約\n",
        "\n",
        "rewrite = chatGPT(f\"\"\"\n",
        "\n",
        "あなたはプロのシナリオライターです。次の文章は著名な教授の講演の概要です。\n",
        "\n",
        "それぞれの小見出しについての説明を、関連する内容を加えることにより、それぞれ1000文字程度にして下さい。\n",
        "もし文字数が足りなければ、概要に載っていない内容を付け加えても大丈夫です。\n",
        "\n",
        "概要は以下の通りです。\n",
        "{summarized}\n",
        "\n",
        "\"\"\")\n",
        "\n",
        "display(Markdown(rewrite))"
      ],
      "metadata": {
        "colab": {
          "base_uri": "https://localhost:8080/",
          "height": 233
        },
        "id": "oPPgiZYbhlKe",
        "outputId": "f032af7a-eef5-4f49-8a1b-05133ad8b679"
      },
      "execution_count": 77,
      "outputs": [
        {
          "output_type": "display_data",
          "data": {
            "text/plain": [
              "<IPython.core.display.Markdown object>"
            ],
            "text/markdown": " # 男女の恋愛感の違い\n     ## 男女では実は恋愛感、恋愛の考え方、そして恋愛の本能で全く違う\n     生物構造上では男性と女性の本能は全く異なっており、男女の恋愛感は真逆である。\n    \n     ## 男女の恋愛感を理解するのには時間がかかる\n     男性が女性を喜ばせようとする時、知識不足により、その行動が水の泡になってしまう可能性がある。\n    \n     ## 今回は、男性の恋愛感の違いについて話す\n     今回の講演では、男性の恋愛感の違いについて話す。男性が女性を喜ばせるためには、男女の恋愛感を理解し、本能を正しく理解する必要がある。これは、男性が女性を守るために生まれた本能であり、男性が女性のことを大事にすることが重要であることを示している。そのため、男性は女性に対して、抱いた後から好きになるような気持ちを持ち、毎日の連絡や、自分だけが女性を愛しているという気持ちを伝える必要がある。"
          },
          "metadata": {}
        }
      ]
    }
  ]
}
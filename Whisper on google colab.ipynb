{
  "nbformat": 4,
  "nbformat_minor": 0,
  "metadata": {
    "colab": {
      "provenance": [],
      "authorship_tag": "ABX9TyMwM/iwDlUHfAqLyGW73T9M",
      "include_colab_link": true
    },
    "kernelspec": {
      "name": "python3",
      "display_name": "Python 3"
    },
    "language_info": {
      "name": "python"
    },
    "accelerator": "GPU",
    "gpuClass": "standard"
  },
  "cells": [
    {
      "cell_type": "markdown",
      "metadata": {
        "id": "view-in-github",
        "colab_type": "text"
      },
      "source": [
        "<a href=\"https://colab.research.google.com/github/ykitaguchi77/Colab_Scripts/blob/master/Whisper%20on%20google%20colab.ipynb\" target=\"_parent\"><img src=\"https://colab.research.google.com/assets/colab-badge.svg\" alt=\"Open In Colab\"/></a>"
      ]
    },
    {
      "cell_type": "markdown",
      "source": [
        "#**Whisper on google colab**\n",
        "\n",
        "https://qiita.com/walnut-pro/items/0124a5a0c83c9b4e2669\n",
        "\n",
        "https://qiita.com/walnut-pro/items/69864b0a074bd773711f"
      ],
      "metadata": {
        "id": "Q2SG5eeJBuBD"
      }
    },
    {
      "cell_type": "code",
      "execution_count": 1,
      "metadata": {
        "id": "J6Z63l80BbWv",
        "outputId": "833db955-d97a-41a4-ce5b-0f5a89710e6d",
        "colab": {
          "base_uri": "https://localhost:8080/"
        }
      },
      "outputs": [
        {
          "output_type": "stream",
          "name": "stdout",
          "text": [
            "  Preparing metadata (setup.py) ... \u001b[?25l\u001b[?25hdone\n",
            "\u001b[2K     \u001b[90m━━━━━━━━━━━━━━━━━━━━━━━━━━━━━━━━━━━━━━━━\u001b[0m \u001b[32m6.3/6.3 MB\u001b[0m \u001b[31m53.0 MB/s\u001b[0m eta \u001b[36m0:00:00\u001b[0m\n",
            "\u001b[2K     \u001b[90m━━━━━━━━━━━━━━━━━━━━━━━━━━━━━━━━━━━━━━━━\u001b[0m \u001b[32m7.6/7.6 MB\u001b[0m \u001b[31m59.8 MB/s\u001b[0m eta \u001b[36m0:00:00\u001b[0m\n",
            "\u001b[2K     \u001b[90m━━━━━━━━━━━━━━━━━━━━━━━━━━━━━━━━━━━━━━━\u001b[0m \u001b[32m190.3/190.3 KB\u001b[0m \u001b[31m1.8 MB/s\u001b[0m eta \u001b[36m0:00:00\u001b[0m\n",
            "\u001b[?25h  Building wheel for openai-whisper (setup.py) ... \u001b[?25l\u001b[?25hdone\n"
          ]
        }
      ],
      "source": [
        "! pip install git+https://github.com/openai/whisper.git --q"
      ]
    },
    {
      "cell_type": "code",
      "source": [
        "!pip install whisper\n",
        "import whisper\n",
        "model = whisper.load_model(\"medium\")"
      ],
      "metadata": {
        "colab": {
          "base_uri": "https://localhost:8080/"
        },
        "id": "R_gauL4qB6HL",
        "outputId": "7bbb51a4-64e6-40c2-c35d-4373f4375a5b"
      },
      "execution_count": 5,
      "outputs": [
        {
          "output_type": "stream",
          "name": "stdout",
          "text": [
            "Looking in indexes: https://pypi.org/simple, https://us-python.pkg.dev/colab-wheels/public/simple/\n",
            "Requirement already satisfied: whisper in /usr/local/lib/python3.8/dist-packages (1.1.10)\n",
            "Requirement already satisfied: six in /usr/local/lib/python3.8/dist-packages (from whisper) (1.15.0)\n"
          ]
        },
        {
          "output_type": "stream",
          "name": "stderr",
          "text": [
            "100%|█████████████████████████████████████| 1.42G/1.42G [00:29<00:00, 52.0MiB/s]\n"
          ]
        }
      ]
    },
    {
      "cell_type": "code",
      "source": [
        "# confirm device \n",
        "model.device #device(type='cuda', index=0)"
      ],
      "metadata": {
        "colab": {
          "base_uri": "https://localhost:8080/"
        },
        "id": "e9tpi_qhB9p9",
        "outputId": "8be64e96-7350-4ea9-c667-e12ad0063dc2"
      },
      "execution_count": 6,
      "outputs": [
        {
          "output_type": "execute_result",
          "data": {
            "text/plain": [
              "device(type='cuda', index=0)"
            ]
          },
          "metadata": {},
          "execution_count": 6
        }
      ]
    },
    {
      "cell_type": "markdown",
      "source": [
        "# **保存用フォルダ作成**"
      ],
      "metadata": {
        "id": "qD9w54OaDGC6"
      }
    },
    {
      "cell_type": "code",
      "source": [
        "import os\n",
        "\n",
        "# Add directory into content folder\n",
        "checkDownLoadFolder = os.path.exists(\"download\")\n",
        "if not checkDownLoadFolder:\n",
        "  os.mkdir(\"download\")"
      ],
      "metadata": {
        "id": "HaNko2LSDC6r"
      },
      "execution_count": 7,
      "outputs": []
    },
    {
      "cell_type": "markdown",
      "source": [
        "# **YouTubeから音声をDL**"
      ],
      "metadata": {
        "id": "UR2izS0GEaIJ"
      }
    },
    {
      "cell_type": "code",
      "source": [
        "!pip install youtube-dl --q\n",
        "!pip install yt-dlp --q\n",
        "!pip install ffmpeg --q\n",
        "#!python -m pip install -U yt-dlp\n",
        "\n",
        "#from __future__ import unicode_literals\n",
        "import youtube_dl\n",
        "import pandas as pd\n",
        "from yt_dlp import YoutubeDL"
      ],
      "metadata": {
        "colab": {
          "base_uri": "https://localhost:8080/"
        },
        "id": "1pjCJ0e_EaWy",
        "outputId": "c0b58fa5-932a-4300-b465-0d1e901e6843"
      },
      "execution_count": 8,
      "outputs": [
        {
          "output_type": "stream",
          "name": "stdout",
          "text": [
            "\u001b[2K     \u001b[90m━━━━━━━━━━━━━━━━━━━━━━━━━━━━━━━━━━━━━━━━\u001b[0m \u001b[32m1.9/1.9 MB\u001b[0m \u001b[31m70.5 MB/s\u001b[0m eta \u001b[36m0:00:00\u001b[0m\n",
            "\u001b[2K     \u001b[90m━━━━━━━━━━━━━━━━━━━━━━━━━━━━━━━━━━━━━━━━\u001b[0m \u001b[32m2.9/2.9 MB\u001b[0m \u001b[31m40.3 MB/s\u001b[0m eta \u001b[36m0:00:00\u001b[0m\n",
            "\u001b[2K     \u001b[90m━━━━━━━━━━━━━━━━━━━━━━━━━━━━━━━━━━━━━━\u001b[0m \u001b[32m357.2/357.2 KB\u001b[0m \u001b[31m33.9 MB/s\u001b[0m eta \u001b[36m0:00:00\u001b[0m\n",
            "\u001b[2K     \u001b[90m━━━━━━━━━━━━━━━━━━━━━━━━━━━━━━━━━━━━━━\u001b[0m \u001b[32m107.0/107.0 KB\u001b[0m \u001b[31m11.6 MB/s\u001b[0m eta \u001b[36m0:00:00\u001b[0m\n",
            "\u001b[2K     \u001b[90m━━━━━━━━━━━━━━━━━━━━━━━━━━━━━━━━━━━━━━\u001b[0m \u001b[32m193.6/193.6 KB\u001b[0m \u001b[31m22.4 MB/s\u001b[0m eta \u001b[36m0:00:00\u001b[0m\n",
            "\u001b[2K     \u001b[90m━━━━━━━━━━━━━━━━━━━━━━━━━━━━━━━━━━━━━━━━\u001b[0m \u001b[32m2.1/2.1 MB\u001b[0m \u001b[31m83.8 MB/s\u001b[0m eta \u001b[36m0:00:00\u001b[0m\n",
            "\u001b[?25h  Preparing metadata (setup.py) ... \u001b[?25l\u001b[?25hdone\n",
            "  Building wheel for ffmpeg (setup.py) ... \u001b[?25l\u001b[?25hdone\n"
          ]
        }
      ]
    },
    {
      "cell_type": "code",
      "source": [
        "ydl_opts = {\n",
        "    'format': 'best',\n",
        "    'outtmpl': f\"orig.mp4\",  # name the location\n",
        "}\n",
        "\n",
        "\n",
        "\n",
        "with YoutubeDL(ydl_opts) as ydl:\n",
        "    url_list = [\"https://www.youtube.com/watch?v=N3vAAynw0G0\"] #リストを直接入力する場合\n",
        "    #url_list = df.iloc[:, 0] #CSV\n",
        "    ydl.download(url_list)\n"
      ],
      "metadata": {
        "colab": {
          "base_uri": "https://localhost:8080/"
        },
        "id": "IbG1DCaqEpxw",
        "outputId": "32e2b98a-6726-41b7-f3ee-7edb6e3e7047"
      },
      "execution_count": 9,
      "outputs": [
        {
          "output_type": "stream",
          "name": "stdout",
          "text": [
            "[youtube] Extracting URL: https://www.youtube.com/watch?v=N3vAAynw0G0\n",
            "[youtube] N3vAAynw0G0: Downloading webpage\n",
            "[youtube] N3vAAynw0G0: Downloading android player API JSON\n",
            "[info] N3vAAynw0G0: Downloading 1 format(s): 22\n",
            "[download] Destination: orig.mp4\n",
            "[download] 100% of  123.33MiB in 00:00:03 at 34.48MiB/s  \n"
          ]
        }
      ]
    },
    {
      "cell_type": "markdown",
      "source": [
        "# **文章を15分毎に分割する (GPTに入力しやすくするため）**\n",
        "\n",
        "\n",
        "\n"
      ],
      "metadata": {
        "id": "8xbngTrrO_58"
      }
    },
    {
      "cell_type": "code",
      "source": [
        "# mp4 --> mp3\n",
        "import ffmpeg \n",
        " \n",
        "# 入力 \n",
        "stream = ffmpeg.input(\"orig.mp4\") \n",
        "# 出力 \n",
        "stream = ffmpeg.output(stream, \"orig.mp3\") \n",
        "# 実行 \n",
        "ffmpeg.run(stream)"
      ],
      "metadata": {
        "id": "uL8ihlNQPXn1",
        "outputId": "2d2f622d-4bea-4e35-e5e3-8cefb83aaf96",
        "colab": {
          "base_uri": "https://localhost:8080/"
        }
      },
      "execution_count": 16,
      "outputs": [
        {
          "output_type": "execute_result",
          "data": {
            "text/plain": [
              "(None, None)"
            ]
          },
          "metadata": {},
          "execution_count": 16
        }
      ]
    },
    {
      "cell_type": "markdown",
      "source": [
        "# **文字起こし**"
      ],
      "metadata": {
        "id": "xbHUFxq6Eq4x"
      }
    },
    {
      "cell_type": "code",
      "source": [
        "fileName = \"orig.mp3\"\n",
        "\n",
        "# load audio and pad/trim it to fit 30 seconds\n",
        "audio = whisper.load_audio(f\"/content/{fileName}\")\n",
        "\n",
        "outputTextsArr = []\n",
        "while audio.size > 0:\n",
        "  tirmedAudio = whisper.pad_or_trim(audio)\n",
        "  # trimedArray.append(tirmedAudio)\n",
        "  startIdx = tirmedAudio.size\n",
        "  audio = audio[startIdx:]\n",
        "\n",
        "  # make log-Mel spectrogram and move to the same device as the model\n",
        "  mel = whisper.log_mel_spectrogram(tirmedAudio).to(model.device)\n",
        "\n",
        "  # detect the spoken language\n",
        "  _, probs = model.detect_language(mel)\n",
        "  # print(f\"Detected language: {max(probs, key=probs.get)}\")\n",
        "\n",
        "  # decode the audio\n",
        "  options = whisper.DecodingOptions()\n",
        "  result = whisper.decode(model, mel, options)\n",
        "\n",
        "  # print the recognized text\n",
        "  outputTextsArr.append(result.text)\n",
        "  print(result.text)\n",
        "\n",
        "outputTexts = ' '.join(outputTextsArr)\n",
        "print(outputTexts)\n",
        "\n",
        "# Write into a text file\n",
        "with open(f\"download/{fileName}.txt\", \"w\") as f:\n",
        "  f.write(f\"▼ Transcription of {fileName}\\n\")\n",
        "  f.write(outputTexts)"
      ],
      "metadata": {
        "colab": {
          "base_uri": "https://localhost:8080/"
        },
        "id": "37SGfCkyDtJk",
        "outputId": "0c746572-4bf5-4831-b554-31f9d48058a6"
      },
      "execution_count": null,
      "outputs": [
        {
          "output_type": "stream",
          "name": "stdout",
          "text": [
            "ミラクルの大学恋愛順です。今回は男女の恋愛感の違い5点ということで、男女では実は恋愛感、恋愛の考え方、そして恋愛の本能です。これが全く違うわけです。皆さん、これ超重要なので覚えておいてください。これ本当に実感できればもうモテ男まっしぐらです。女性に困ることはなくなります。女性から寄ってくるようなめちゃめちゃカッコいい男になれる超重要ポイントです。\n",
            "真逆です。これがね、僕はね、理解するのにね、もうほんとね、4、5年かかりましたけども男女ってシステムが真逆なんですよ。生物構造上ね。だってさ、男がさ、出てる側でさ、女の子が凹んでる側じゃないですか。なんとなくわかる。で、その構造を元に我々の本能っていうのは作られてるわけですよ。ってなった時に、基本的に性質は真逆です。真逆の性質なんですよ。\n",
            "女の子はこうやったら嬉しいっていうのと女の子はこうやったら嬉しいっていうのが全然違うんですよということですじゃあよじゃあよじゃあよこれさこれさ知らないとできなくない?そうなんですよ知らないとね勉強しないとできないんですよじゃあ女の子はどうやったら好きになるのかどうやったら愛情を感じるのかとかねどんなプレゼントを渡したら喜ぶのかとかどんな関係性を望んでるんですかどうすれば浮気にするんですか\n",
            "とかねみんな気になるよねそうなんですよけどねこれさ われわれの感覚でやきっとこうやったら女の子って喜んでくれるに違いないと思ってやるでしょもうまとはずれも花はだしそして女性からはこう思われますああ こいつわかってねーなとね悲しいよねせっかく女の子を喜ばせようと思ってね幸せにしようと思ってやってることは知識不足によってもう水の泡ですすべてが水の泡 残念でしたってなるわけですなので今回はですね男性の恋愛感の違い\n",
            "ポイント5つバッチリお伝えします これ全部見て理解していただけたら女性を喜ばせる方法女性を好きにさせる方法そして付き合った女性とずっといい関係を続けていく方法なんだろうね 嫁さんになってから結婚してからもずっといい関係を築いていこう方だったりとかもちろん恋愛関係だけじゃなくて会社の中のね女性とか女友達とかね同じクラス同じサークルです という女の子からもこの人わかってるなとこの人モテるなこの人素敵だなって思わ\n",
            "いいことばっかりですのでぜひ全部抑えてそして女心が分かる最強のモテ男になって いきましょうでは行ってみましょうさあでは順番に行きましょう1つ目行為の最大値さあいつが一番好きになるんですかっていう ポイントですこれもあの生物的に本能的にね残念だから決まっております男抱く前ですねやる前が一番可愛く見えますはい で女性の場合はやった後ですね\n",
            "なのかっていうのを理解しておくのが大事です でそしたらどういうコミュニケーション女性と取ればいいのかがわかります でなんでなのかっていうことなんですがまず大前提として押さえておいてほしいのは なぜ僕たちは恋愛感情っていうのを持っているのかです なぜ人のことを好きになるのかです結論は一つです 子孫半栄 子孫を残したいです子供を残したい 自分と遺伝子のつながった自分と血のつながった個体が 高性に可能な限り増えて欲しいなって\n"
          ]
        }
      ]
    },
    {
      "cell_type": "markdown",
      "source": [
        "# **Summarize on ChatGPT**"
      ],
      "metadata": {
        "id": "aZ_XeS3pXUxu"
      }
    },
    {
      "cell_type": "code",
      "source": [],
      "metadata": {
        "id": "UCEg5PKiTTJ_"
      },
      "execution_count": null,
      "outputs": []
    },
    {
      "cell_type": "code",
      "source": [],
      "metadata": {
        "id": "JI7Ga9QNTEa1"
      },
      "execution_count": null,
      "outputs": []
    }
  ]
}
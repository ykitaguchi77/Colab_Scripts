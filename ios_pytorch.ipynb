{
  "nbformat": 4,
  "nbformat_minor": 0,
  "metadata": {
    "colab": {
      "provenance": [],
      "authorship_tag": "ABX9TyPyZF9BfJr9r57STdC8bssi",
      "include_colab_link": true
    },
    "kernelspec": {
      "name": "python3",
      "display_name": "Python 3"
    },
    "language_info": {
      "name": "python"
    },
    "widgets": {
      "application/vnd.jupyter.widget-state+json": {
        "692f63beb82644ebb2e66fb31dffd038": {
          "model_module": "@jupyter-widgets/controls",
          "model_name": "HBoxModel",
          "model_module_version": "1.5.0",
          "state": {
            "_dom_classes": [],
            "_model_module": "@jupyter-widgets/controls",
            "_model_module_version": "1.5.0",
            "_model_name": "HBoxModel",
            "_view_count": null,
            "_view_module": "@jupyter-widgets/controls",
            "_view_module_version": "1.5.0",
            "_view_name": "HBoxView",
            "box_style": "",
            "children": [
              "IPY_MODEL_c22bfb6af53f4afd93d9a95dcca5353a",
              "IPY_MODEL_26a0fdb97de64e68a9b2cc9e88c9b014",
              "IPY_MODEL_7813d42ed0b14ffeb6489563a998c13a"
            ],
            "layout": "IPY_MODEL_ce709ba713fa43718f268cc61ef8c376"
          }
        },
        "c22bfb6af53f4afd93d9a95dcca5353a": {
          "model_module": "@jupyter-widgets/controls",
          "model_name": "HTMLModel",
          "model_module_version": "1.5.0",
          "state": {
            "_dom_classes": [],
            "_model_module": "@jupyter-widgets/controls",
            "_model_module_version": "1.5.0",
            "_model_name": "HTMLModel",
            "_view_count": null,
            "_view_module": "@jupyter-widgets/controls",
            "_view_module_version": "1.5.0",
            "_view_name": "HTMLView",
            "description": "",
            "description_tooltip": null,
            "layout": "IPY_MODEL_2ceb7a96492e48d1a9f5db1b10154e90",
            "placeholder": "​",
            "style": "IPY_MODEL_aeb2c192ca284bc2a8ca3912457ff0c6",
            "value": "100%"
          }
        },
        "26a0fdb97de64e68a9b2cc9e88c9b014": {
          "model_module": "@jupyter-widgets/controls",
          "model_name": "FloatProgressModel",
          "model_module_version": "1.5.0",
          "state": {
            "_dom_classes": [],
            "_model_module": "@jupyter-widgets/controls",
            "_model_module_version": "1.5.0",
            "_model_name": "FloatProgressModel",
            "_view_count": null,
            "_view_module": "@jupyter-widgets/controls",
            "_view_module_version": "1.5.0",
            "_view_name": "ProgressView",
            "bar_style": "success",
            "description": "",
            "description_tooltip": null,
            "layout": "IPY_MODEL_c5b6435ac2984278ab2a0e4407af7a5d",
            "max": 14212972,
            "min": 0,
            "orientation": "horizontal",
            "style": "IPY_MODEL_a0487cf66b2f4d4aa4b24c50c02b4607",
            "value": 14212972
          }
        },
        "7813d42ed0b14ffeb6489563a998c13a": {
          "model_module": "@jupyter-widgets/controls",
          "model_name": "HTMLModel",
          "model_module_version": "1.5.0",
          "state": {
            "_dom_classes": [],
            "_model_module": "@jupyter-widgets/controls",
            "_model_module_version": "1.5.0",
            "_model_name": "HTMLModel",
            "_view_count": null,
            "_view_module": "@jupyter-widgets/controls",
            "_view_module_version": "1.5.0",
            "_view_name": "HTMLView",
            "description": "",
            "description_tooltip": null,
            "layout": "IPY_MODEL_842fd20db1b449c4a2961395751cc204",
            "placeholder": "​",
            "style": "IPY_MODEL_4b7b01e2a6ca4a4e996c348b7e34d800",
            "value": " 13.6M/13.6M [00:00&lt;00:00, 85.4MB/s]"
          }
        },
        "ce709ba713fa43718f268cc61ef8c376": {
          "model_module": "@jupyter-widgets/base",
          "model_name": "LayoutModel",
          "model_module_version": "1.2.0",
          "state": {
            "_model_module": "@jupyter-widgets/base",
            "_model_module_version": "1.2.0",
            "_model_name": "LayoutModel",
            "_view_count": null,
            "_view_module": "@jupyter-widgets/base",
            "_view_module_version": "1.2.0",
            "_view_name": "LayoutView",
            "align_content": null,
            "align_items": null,
            "align_self": null,
            "border": null,
            "bottom": null,
            "display": null,
            "flex": null,
            "flex_flow": null,
            "grid_area": null,
            "grid_auto_columns": null,
            "grid_auto_flow": null,
            "grid_auto_rows": null,
            "grid_column": null,
            "grid_gap": null,
            "grid_row": null,
            "grid_template_areas": null,
            "grid_template_columns": null,
            "grid_template_rows": null,
            "height": null,
            "justify_content": null,
            "justify_items": null,
            "left": null,
            "margin": null,
            "max_height": null,
            "max_width": null,
            "min_height": null,
            "min_width": null,
            "object_fit": null,
            "object_position": null,
            "order": null,
            "overflow": null,
            "overflow_x": null,
            "overflow_y": null,
            "padding": null,
            "right": null,
            "top": null,
            "visibility": null,
            "width": null
          }
        },
        "2ceb7a96492e48d1a9f5db1b10154e90": {
          "model_module": "@jupyter-widgets/base",
          "model_name": "LayoutModel",
          "model_module_version": "1.2.0",
          "state": {
            "_model_module": "@jupyter-widgets/base",
            "_model_module_version": "1.2.0",
            "_model_name": "LayoutModel",
            "_view_count": null,
            "_view_module": "@jupyter-widgets/base",
            "_view_module_version": "1.2.0",
            "_view_name": "LayoutView",
            "align_content": null,
            "align_items": null,
            "align_self": null,
            "border": null,
            "bottom": null,
            "display": null,
            "flex": null,
            "flex_flow": null,
            "grid_area": null,
            "grid_auto_columns": null,
            "grid_auto_flow": null,
            "grid_auto_rows": null,
            "grid_column": null,
            "grid_gap": null,
            "grid_row": null,
            "grid_template_areas": null,
            "grid_template_columns": null,
            "grid_template_rows": null,
            "height": null,
            "justify_content": null,
            "justify_items": null,
            "left": null,
            "margin": null,
            "max_height": null,
            "max_width": null,
            "min_height": null,
            "min_width": null,
            "object_fit": null,
            "object_position": null,
            "order": null,
            "overflow": null,
            "overflow_x": null,
            "overflow_y": null,
            "padding": null,
            "right": null,
            "top": null,
            "visibility": null,
            "width": null
          }
        },
        "aeb2c192ca284bc2a8ca3912457ff0c6": {
          "model_module": "@jupyter-widgets/controls",
          "model_name": "DescriptionStyleModel",
          "model_module_version": "1.5.0",
          "state": {
            "_model_module": "@jupyter-widgets/controls",
            "_model_module_version": "1.5.0",
            "_model_name": "DescriptionStyleModel",
            "_view_count": null,
            "_view_module": "@jupyter-widgets/base",
            "_view_module_version": "1.2.0",
            "_view_name": "StyleView",
            "description_width": ""
          }
        },
        "c5b6435ac2984278ab2a0e4407af7a5d": {
          "model_module": "@jupyter-widgets/base",
          "model_name": "LayoutModel",
          "model_module_version": "1.2.0",
          "state": {
            "_model_module": "@jupyter-widgets/base",
            "_model_module_version": "1.2.0",
            "_model_name": "LayoutModel",
            "_view_count": null,
            "_view_module": "@jupyter-widgets/base",
            "_view_module_version": "1.2.0",
            "_view_name": "LayoutView",
            "align_content": null,
            "align_items": null,
            "align_self": null,
            "border": null,
            "bottom": null,
            "display": null,
            "flex": null,
            "flex_flow": null,
            "grid_area": null,
            "grid_auto_columns": null,
            "grid_auto_flow": null,
            "grid_auto_rows": null,
            "grid_column": null,
            "grid_gap": null,
            "grid_row": null,
            "grid_template_areas": null,
            "grid_template_columns": null,
            "grid_template_rows": null,
            "height": null,
            "justify_content": null,
            "justify_items": null,
            "left": null,
            "margin": null,
            "max_height": null,
            "max_width": null,
            "min_height": null,
            "min_width": null,
            "object_fit": null,
            "object_position": null,
            "order": null,
            "overflow": null,
            "overflow_x": null,
            "overflow_y": null,
            "padding": null,
            "right": null,
            "top": null,
            "visibility": null,
            "width": null
          }
        },
        "a0487cf66b2f4d4aa4b24c50c02b4607": {
          "model_module": "@jupyter-widgets/controls",
          "model_name": "ProgressStyleModel",
          "model_module_version": "1.5.0",
          "state": {
            "_model_module": "@jupyter-widgets/controls",
            "_model_module_version": "1.5.0",
            "_model_name": "ProgressStyleModel",
            "_view_count": null,
            "_view_module": "@jupyter-widgets/base",
            "_view_module_version": "1.2.0",
            "_view_name": "StyleView",
            "bar_color": null,
            "description_width": ""
          }
        },
        "842fd20db1b449c4a2961395751cc204": {
          "model_module": "@jupyter-widgets/base",
          "model_name": "LayoutModel",
          "model_module_version": "1.2.0",
          "state": {
            "_model_module": "@jupyter-widgets/base",
            "_model_module_version": "1.2.0",
            "_model_name": "LayoutModel",
            "_view_count": null,
            "_view_module": "@jupyter-widgets/base",
            "_view_module_version": "1.2.0",
            "_view_name": "LayoutView",
            "align_content": null,
            "align_items": null,
            "align_self": null,
            "border": null,
            "bottom": null,
            "display": null,
            "flex": null,
            "flex_flow": null,
            "grid_area": null,
            "grid_auto_columns": null,
            "grid_auto_flow": null,
            "grid_auto_rows": null,
            "grid_column": null,
            "grid_gap": null,
            "grid_row": null,
            "grid_template_areas": null,
            "grid_template_columns": null,
            "grid_template_rows": null,
            "height": null,
            "justify_content": null,
            "justify_items": null,
            "left": null,
            "margin": null,
            "max_height": null,
            "max_width": null,
            "min_height": null,
            "min_width": null,
            "object_fit": null,
            "object_position": null,
            "order": null,
            "overflow": null,
            "overflow_x": null,
            "overflow_y": null,
            "padding": null,
            "right": null,
            "top": null,
            "visibility": null,
            "width": null
          }
        },
        "4b7b01e2a6ca4a4e996c348b7e34d800": {
          "model_module": "@jupyter-widgets/controls",
          "model_name": "DescriptionStyleModel",
          "model_module_version": "1.5.0",
          "state": {
            "_model_module": "@jupyter-widgets/controls",
            "_model_module_version": "1.5.0",
            "_model_name": "DescriptionStyleModel",
            "_view_count": null,
            "_view_module": "@jupyter-widgets/base",
            "_view_module_version": "1.2.0",
            "_view_name": "StyleView",
            "description_width": ""
          }
        }
      }
    }
  },
  "cells": [
    {
      "cell_type": "markdown",
      "metadata": {
        "id": "view-in-github",
        "colab_type": "text"
      },
      "source": [
        "<a href=\"https://colab.research.google.com/github/ykitaguchi77/Colab_Scripts/blob/master/ios_pytorch.ipynb\" target=\"_parent\"><img src=\"https://colab.research.google.com/assets/colab-badge.svg\" alt=\"Open In Colab\"/></a>"
      ]
    },
    {
      "cell_type": "markdown",
      "source": [
        "#**Pytorch Mobile (use Pytorch in ios)**\n",
        "\n",
        "Reference:\n",
        "\n",
        "https://note.com/npaka/n/n5ebba8389a93\n",
        "\n",
        "https://github.com/pytorch/ios-demo-app/tree/master/HelloWorld"
      ],
      "metadata": {
        "id": "ezh72kJe5JjY"
      }
    },
    {
      "cell_type": "code",
      "execution_count": 2,
      "metadata": {
        "colab": {
          "base_uri": "https://localhost:8080/"
        },
        "id": "GPc8U-un157_",
        "outputId": "91f2d676-aae7-48ac-88f2-0bee59be0c93"
      },
      "outputs": [
        {
          "output_type": "stream",
          "name": "stdout",
          "text": [
            "Cloning into 'ios-demo-app'...\n",
            "remote: Enumerating objects: 1661, done.\u001b[K\n",
            "remote: Counting objects:   0% (1/504)\u001b[K\rremote: Counting objects:   1% (6/504)\u001b[K\rremote: Counting objects:   2% (11/504)\u001b[K\rremote: Counting objects:   3% (16/504)\u001b[K\rremote: Counting objects:   4% (21/504)\u001b[K\rremote: Counting objects:   5% (26/504)\u001b[K\rremote: Counting objects:   6% (31/504)\u001b[K\rremote: Counting objects:   7% (36/504)\u001b[K\rremote: Counting objects:   8% (41/504)\u001b[K\rremote: Counting objects:   9% (46/504)\u001b[K\rremote: Counting objects:  10% (51/504)\u001b[K\rremote: Counting objects:  11% (56/504)\u001b[K\rremote: Counting objects:  12% (61/504)\u001b[K\rremote: Counting objects:  13% (66/504)\u001b[K\rremote: Counting objects:  14% (71/504)\u001b[K\rremote: Counting objects:  15% (76/504)\u001b[K\rremote: Counting objects:  16% (81/504)\u001b[K\rremote: Counting objects:  17% (86/504)\u001b[K\rremote: Counting objects:  18% (91/504)\u001b[K\rremote: Counting objects:  19% (96/504)\u001b[K\rremote: Counting objects:  20% (101/504)\u001b[K\rremote: Counting objects:  21% (106/504)\u001b[K\rremote: Counting objects:  22% (111/504)\u001b[K\rremote: Counting objects:  23% (116/504)\u001b[K\rremote: Counting objects:  24% (121/504)\u001b[K\rremote: Counting objects:  25% (126/504)\u001b[K\rremote: Counting objects:  26% (132/504)\u001b[K\rremote: Counting objects:  27% (137/504)\u001b[K\rremote: Counting objects:  28% (142/504)\u001b[K\rremote: Counting objects:  29% (147/504)\u001b[K\rremote: Counting objects:  30% (152/504)\u001b[K\rremote: Counting objects:  31% (157/504)\u001b[K\rremote: Counting objects:  32% (162/504)\u001b[K\rremote: Counting objects:  33% (167/504)\u001b[K\rremote: Counting objects:  34% (172/504)\u001b[K\rremote: Counting objects:  35% (177/504)\u001b[K\rremote: Counting objects:  36% (182/504)\u001b[K\rremote: Counting objects:  37% (187/504)\u001b[K\rremote: Counting objects:  38% (192/504)\u001b[K\rremote: Counting objects:  39% (197/504)\u001b[K\rremote: Counting objects:  40% (202/504)\u001b[K\rremote: Counting objects:  41% (207/504)\u001b[K\rremote: Counting objects:  42% (212/504)\u001b[K\rremote: Counting objects:  43% (217/504)\u001b[K\rremote: Counting objects:  44% (222/504)\u001b[K\rremote: Counting objects:  45% (227/504)\u001b[K\rremote: Counting objects:  46% (232/504)\u001b[K\rremote: Counting objects:  47% (237/504)\u001b[K\rremote: Counting objects:  48% (242/504)\u001b[K\rremote: Counting objects:  49% (247/504)\u001b[K\rremote: Counting objects:  50% (252/504)\u001b[K\rremote: Counting objects:  51% (258/504)\u001b[K\rremote: Counting objects:  52% (263/504)\u001b[K\rremote: Counting objects:  53% (268/504)\u001b[K\rremote: Counting objects:  54% (273/504)\u001b[K\rremote: Counting objects:  55% (278/504)\u001b[K\rremote: Counting objects:  56% (283/504)\u001b[K\rremote: Counting objects:  57% (288/504)\u001b[K\rremote: Counting objects:  58% (293/504)\u001b[K\rremote: Counting objects:  59% (298/504)\u001b[K\rremote: Counting objects:  60% (303/504)\u001b[K\rremote: Counting objects:  61% (308/504)\u001b[K\rremote: Counting objects:  62% (313/504)\u001b[K\rremote: Counting objects:  63% (318/504)\u001b[K\rremote: Counting objects:  64% (323/504)\u001b[K\rremote: Counting objects:  65% (328/504)\u001b[K\rremote: Counting objects:  66% (333/504)\u001b[K\rremote: Counting objects:  67% (338/504)\u001b[K\rremote: Counting objects:  68% (343/504)\u001b[K\rremote: Counting objects:  69% (348/504)\u001b[K\rremote: Counting objects:  70% (353/504)\u001b[K\rremote: Counting objects:  71% (358/504)\u001b[K\rremote: Counting objects:  72% (363/504)\u001b[K\rremote: Counting objects:  73% (368/504)\u001b[K\rremote: Counting objects:  74% (373/504)\u001b[K\rremote: Counting objects:  75% (378/504)\u001b[K\rremote: Counting objects:  76% (384/504)\u001b[K\rremote: Counting objects:  77% (389/504)\u001b[K\rremote: Counting objects:  78% (394/504)\u001b[K\rremote: Counting objects:  79% (399/504)\u001b[K\rremote: Counting objects:  80% (404/504)\u001b[K\rremote: Counting objects:  81% (409/504)\u001b[K\rremote: Counting objects:  82% (414/504)\u001b[K\rremote: Counting objects:  83% (419/504)\u001b[K\rremote: Counting objects:  84% (424/504)\u001b[K\rremote: Counting objects:  85% (429/504)\u001b[K\rremote: Counting objects:  86% (434/504)\u001b[K\rremote: Counting objects:  87% (439/504)\u001b[K\rremote: Counting objects:  88% (444/504)\u001b[K\rremote: Counting objects:  89% (449/504)\u001b[K\rremote: Counting objects:  90% (454/504)\u001b[K\rremote: Counting objects:  91% (459/504)\u001b[K\rremote: Counting objects:  92% (464/504)\u001b[K\rremote: Counting objects:  93% (469/504)\u001b[K\rremote: Counting objects:  94% (474/504)\u001b[K\rremote: Counting objects:  95% (479/504)\u001b[K\rremote: Counting objects:  96% (484/504)\u001b[K\rremote: Counting objects:  97% (489/504)\u001b[K\rremote: Counting objects:  98% (494/504)\u001b[K\rremote: Counting objects:  99% (499/504)\u001b[K\rremote: Counting objects: 100% (504/504)\u001b[K\rremote: Counting objects: 100% (504/504), done.\u001b[K\n",
            "remote: Compressing objects: 100% (193/193), done.\u001b[K\n",
            "remote: Total 1661 (delta 356), reused 322 (delta 310), pack-reused 1157\u001b[K\n",
            "Receiving objects: 100% (1661/1661), 132.37 MiB | 33.80 MiB/s, done.\n",
            "Resolving deltas: 100% (1007/1007), done.\n"
          ]
        }
      ],
      "source": [
        "# ios Pytorch版 Hello world\n",
        "!git clone https://github.com/pytorch/ios-demo-app.git\n",
        "\n",
        "import os\n",
        "os.chdir(\"/content/ios-demo-app/HelloWorld\")"
      ]
    },
    {
      "cell_type": "code",
      "source": [
        "#import trace_model (trace_model.pyと同じ)\n",
        "\n",
        "import torch\n",
        "import torchvision\n",
        "from torch.utils.mobile_optimizer import optimize_for_mobile\n",
        "\n",
        "model = torchvision.models.mobilenet_v2(pretrained=True)\n",
        "model.eval()\n",
        "example = torch.rand(1, 3, 224, 224)\n",
        "traced_script_module = torch.jit.trace(model, example)\n",
        "torchscript_model_optimized = optimize_for_mobile(traced_script_module)\n",
        "torchscript_model_optimized._save_for_lite_interpreter(\"HelloWorld/HelloWorld/model/model.pt\")"
      ],
      "metadata": {
        "colab": {
          "base_uri": "https://localhost:8080/",
          "height": 158,
          "referenced_widgets": [
            "692f63beb82644ebb2e66fb31dffd038",
            "c22bfb6af53f4afd93d9a95dcca5353a",
            "26a0fdb97de64e68a9b2cc9e88c9b014",
            "7813d42ed0b14ffeb6489563a998c13a",
            "ce709ba713fa43718f268cc61ef8c376",
            "2ceb7a96492e48d1a9f5db1b10154e90",
            "aeb2c192ca284bc2a8ca3912457ff0c6",
            "c5b6435ac2984278ab2a0e4407af7a5d",
            "a0487cf66b2f4d4aa4b24c50c02b4607",
            "842fd20db1b449c4a2961395751cc204",
            "4b7b01e2a6ca4a4e996c348b7e34d800"
          ]
        },
        "id": "IDpBx3dm6v0Y",
        "outputId": "625bf1a5-5e75-4007-e9f2-9817728bc5a3"
      },
      "execution_count": 3,
      "outputs": [
        {
          "output_type": "stream",
          "name": "stderr",
          "text": [
            "/usr/local/lib/python3.7/dist-packages/torchvision/models/_utils.py:209: UserWarning: The parameter 'pretrained' is deprecated since 0.13 and will be removed in 0.15, please use 'weights' instead.\n",
            "  f\"The parameter '{pretrained_param}' is deprecated since 0.13 and will be removed in 0.15, \"\n",
            "/usr/local/lib/python3.7/dist-packages/torchvision/models/_utils.py:223: UserWarning: Arguments other than a weight enum or `None` for 'weights' are deprecated since 0.13 and will be removed in 0.15. The current behavior is equivalent to passing `weights=MobileNet_V2_Weights.IMAGENET1K_V1`. You can also use `weights=MobileNet_V2_Weights.DEFAULT` to get the most up-to-date weights.\n",
            "  warnings.warn(msg)\n",
            "Downloading: \"https://download.pytorch.org/models/mobilenet_v2-b0353104.pth\" to /root/.cache/torch/hub/checkpoints/mobilenet_v2-b0353104.pth\n"
          ]
        },
        {
          "output_type": "display_data",
          "data": {
            "text/plain": [
              "  0%|          | 0.00/13.6M [00:00<?, ?B/s]"
            ],
            "application/vnd.jupyter.widget-view+json": {
              "version_major": 2,
              "version_minor": 0,
              "model_id": "692f63beb82644ebb2e66fb31dffd038"
            }
          },
          "metadata": {}
        }
      ]
    },
    {
      "cell_type": "code",
      "source": [
        "#ios用のプログラムをダウンロード\n",
        "!zip -r ios_pytorch HelloWorld/HelloWorld\n",
        "\n",
        "from google.colab import files\n",
        "files.download(\"ios_pytorch.zip\")"
      ],
      "metadata": {
        "colab": {
          "base_uri": "https://localhost:8080/",
          "height": 499
        },
        "id": "v8fWAhc5Dvt0",
        "outputId": "d0549db9-ebff-4961-d455-cf6ef0deb446"
      },
      "execution_count": 4,
      "outputs": [
        {
          "output_type": "stream",
          "name": "stdout",
          "text": [
            "  adding: HelloWorld/HelloWorld/ (stored 0%)\n",
            "  adding: HelloWorld/HelloWorld/UIImage+Helper.swift (deflated 64%)\n",
            "  adding: HelloWorld/HelloWorld/Base.lproj/ (stored 0%)\n",
            "  adding: HelloWorld/HelloWorld/Base.lproj/LaunchScreen.storyboard (deflated 56%)\n",
            "  adding: HelloWorld/HelloWorld/Base.lproj/Main.storyboard (deflated 72%)\n",
            "  adding: HelloWorld/HelloWorld/Info.plist (deflated 63%)\n",
            "  adding: HelloWorld/HelloWorld/TorchBridge/ (stored 0%)\n",
            "  adding: HelloWorld/HelloWorld/TorchBridge/TorchModule.mm (deflated 49%)\n",
            "  adding: HelloWorld/HelloWorld/TorchBridge/TorchModule.h (deflated 36%)\n",
            "  adding: HelloWorld/HelloWorld/TorchBridge/HelloWorld-Bridging-Header.h (stored 0%)\n",
            "  adding: HelloWorld/HelloWorld/model/ (stored 0%)\n",
            "  adding: HelloWorld/HelloWorld/model/model.pt (deflated 7%)\n",
            "  adding: HelloWorld/HelloWorld/model/words.txt (deflated 55%)\n",
            "  adding: HelloWorld/HelloWorld/Assets.xcassets/ (stored 0%)\n",
            "  adding: HelloWorld/HelloWorld/Assets.xcassets/AppIcon.appiconset/ (stored 0%)\n",
            "  adding: HelloWorld/HelloWorld/Assets.xcassets/AppIcon.appiconset/Icon-Small@3x.png (stored 0%)\n",
            "  adding: HelloWorld/HelloWorld/Assets.xcassets/AppIcon.appiconset/Icon-60@3x.png (stored 0%)\n",
            "  adding: HelloWorld/HelloWorld/Assets.xcassets/AppIcon.appiconset/Icon-Small-60@2x.png (stored 0%)\n",
            "  adding: HelloWorld/HelloWorld/Assets.xcassets/AppIcon.appiconset/Icon-Small@2x-1.png (stored 0%)\n",
            "  adding: HelloWorld/HelloWorld/Assets.xcassets/AppIcon.appiconset/Icon-60@2x.png (stored 0%)\n",
            "  adding: HelloWorld/HelloWorld/Assets.xcassets/AppIcon.appiconset/Contents.json (deflated 85%)\n",
            "  adding: HelloWorld/HelloWorld/Assets.xcassets/AppIcon.appiconset/Icon-Small-40@2x.png (stored 0%)\n",
            "  adding: HelloWorld/HelloWorld/Assets.xcassets/Contents.json (deflated 16%)\n",
            "  adding: HelloWorld/HelloWorld/SceneDelegate.swift (deflated 62%)\n",
            "  adding: HelloWorld/HelloWorld/ViewController.swift (deflated 59%)\n",
            "  adding: HelloWorld/HelloWorld/image.png (deflated 0%)\n",
            "  adding: HelloWorld/HelloWorld/AppDelegate.swift (deflated 37%)\n"
          ]
        },
        {
          "output_type": "display_data",
          "data": {
            "text/plain": [
              "<IPython.core.display.Javascript object>"
            ],
            "application/javascript": [
              "\n",
              "    async function download(id, filename, size) {\n",
              "      if (!google.colab.kernel.accessAllowed) {\n",
              "        return;\n",
              "      }\n",
              "      const div = document.createElement('div');\n",
              "      const label = document.createElement('label');\n",
              "      label.textContent = `Downloading \"${filename}\": `;\n",
              "      div.appendChild(label);\n",
              "      const progress = document.createElement('progress');\n",
              "      progress.max = size;\n",
              "      div.appendChild(progress);\n",
              "      document.body.appendChild(div);\n",
              "\n",
              "      const buffers = [];\n",
              "      let downloaded = 0;\n",
              "\n",
              "      const channel = await google.colab.kernel.comms.open(id);\n",
              "      // Send a message to notify the kernel that we're ready.\n",
              "      channel.send({})\n",
              "\n",
              "      for await (const message of channel.messages) {\n",
              "        // Send a message to notify the kernel that we're ready.\n",
              "        channel.send({})\n",
              "        if (message.buffers) {\n",
              "          for (const buffer of message.buffers) {\n",
              "            buffers.push(buffer);\n",
              "            downloaded += buffer.byteLength;\n",
              "            progress.value = downloaded;\n",
              "          }\n",
              "        }\n",
              "      }\n",
              "      const blob = new Blob(buffers, {type: 'application/binary'});\n",
              "      const a = document.createElement('a');\n",
              "      a.href = window.URL.createObjectURL(blob);\n",
              "      a.download = filename;\n",
              "      div.appendChild(a);\n",
              "      a.click();\n",
              "      div.remove();\n",
              "    }\n",
              "  "
            ]
          },
          "metadata": {}
        },
        {
          "output_type": "display_data",
          "data": {
            "text/plain": [
              "<IPython.core.display.Javascript object>"
            ],
            "application/javascript": [
              "download(\"download_2f87ad3d-7dd3-4ed4-8055-9b8d45663f0f\", \"ios_pytorch.zip\", 13124919)"
            ]
          },
          "metadata": {}
        }
      ]
    }
  ]
}
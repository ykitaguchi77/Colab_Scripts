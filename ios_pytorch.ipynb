{
  "nbformat": 4,
  "nbformat_minor": 0,
  "metadata": {
    "colab": {
      "provenance": [],
      "authorship_tag": "ABX9TyMhcllTzEdEyw8m0ZgCxcLW",
      "include_colab_link": true
    },
    "kernelspec": {
      "name": "python3",
      "display_name": "Python 3"
    },
    "language_info": {
      "name": "python"
    },
    "widgets": {
      "application/vnd.jupyter.widget-state+json": {
        "88512aed5e9c438aad76180e9a4e1e1d": {
          "model_module": "@jupyter-widgets/controls",
          "model_name": "HBoxModel",
          "model_module_version": "1.5.0",
          "state": {
            "_dom_classes": [],
            "_model_module": "@jupyter-widgets/controls",
            "_model_module_version": "1.5.0",
            "_model_name": "HBoxModel",
            "_view_count": null,
            "_view_module": "@jupyter-widgets/controls",
            "_view_module_version": "1.5.0",
            "_view_name": "HBoxView",
            "box_style": "",
            "children": [
              "IPY_MODEL_363de2b1771d4a78afa7eb772e65d2f6",
              "IPY_MODEL_4e9f326197db4899a3588586a90ca85a",
              "IPY_MODEL_71dc52e8647948628bdde28d2f0790ca"
            ],
            "layout": "IPY_MODEL_e46a669f253a4f59a962535b04e65349"
          }
        },
        "363de2b1771d4a78afa7eb772e65d2f6": {
          "model_module": "@jupyter-widgets/controls",
          "model_name": "HTMLModel",
          "model_module_version": "1.5.0",
          "state": {
            "_dom_classes": [],
            "_model_module": "@jupyter-widgets/controls",
            "_model_module_version": "1.5.0",
            "_model_name": "HTMLModel",
            "_view_count": null,
            "_view_module": "@jupyter-widgets/controls",
            "_view_module_version": "1.5.0",
            "_view_name": "HTMLView",
            "description": "",
            "description_tooltip": null,
            "layout": "IPY_MODEL_e1ea1e1e40cd4b879f1e476d9e4eb5a3",
            "placeholder": "​",
            "style": "IPY_MODEL_f2de8ddca3954affbfb18a3f62ba9b64",
            "value": "100%"
          }
        },
        "4e9f326197db4899a3588586a90ca85a": {
          "model_module": "@jupyter-widgets/controls",
          "model_name": "FloatProgressModel",
          "model_module_version": "1.5.0",
          "state": {
            "_dom_classes": [],
            "_model_module": "@jupyter-widgets/controls",
            "_model_module_version": "1.5.0",
            "_model_name": "FloatProgressModel",
            "_view_count": null,
            "_view_module": "@jupyter-widgets/controls",
            "_view_module_version": "1.5.0",
            "_view_name": "ProgressView",
            "bar_style": "success",
            "description": "",
            "description_tooltip": null,
            "layout": "IPY_MODEL_77312a20969b464c81278bc01f172845",
            "max": 14212972,
            "min": 0,
            "orientation": "horizontal",
            "style": "IPY_MODEL_42930ea5c6a8465e848f59b6c0cfe342",
            "value": 14212972
          }
        },
        "71dc52e8647948628bdde28d2f0790ca": {
          "model_module": "@jupyter-widgets/controls",
          "model_name": "HTMLModel",
          "model_module_version": "1.5.0",
          "state": {
            "_dom_classes": [],
            "_model_module": "@jupyter-widgets/controls",
            "_model_module_version": "1.5.0",
            "_model_name": "HTMLModel",
            "_view_count": null,
            "_view_module": "@jupyter-widgets/controls",
            "_view_module_version": "1.5.0",
            "_view_name": "HTMLView",
            "description": "",
            "description_tooltip": null,
            "layout": "IPY_MODEL_45615bc5e65c47109867e3084d57fd4c",
            "placeholder": "​",
            "style": "IPY_MODEL_a081667df4ab47fc89f90caafd9f8182",
            "value": " 13.6M/13.6M [00:00&lt;00:00, 22.5MB/s]"
          }
        },
        "e46a669f253a4f59a962535b04e65349": {
          "model_module": "@jupyter-widgets/base",
          "model_name": "LayoutModel",
          "model_module_version": "1.2.0",
          "state": {
            "_model_module": "@jupyter-widgets/base",
            "_model_module_version": "1.2.0",
            "_model_name": "LayoutModel",
            "_view_count": null,
            "_view_module": "@jupyter-widgets/base",
            "_view_module_version": "1.2.0",
            "_view_name": "LayoutView",
            "align_content": null,
            "align_items": null,
            "align_self": null,
            "border": null,
            "bottom": null,
            "display": null,
            "flex": null,
            "flex_flow": null,
            "grid_area": null,
            "grid_auto_columns": null,
            "grid_auto_flow": null,
            "grid_auto_rows": null,
            "grid_column": null,
            "grid_gap": null,
            "grid_row": null,
            "grid_template_areas": null,
            "grid_template_columns": null,
            "grid_template_rows": null,
            "height": null,
            "justify_content": null,
            "justify_items": null,
            "left": null,
            "margin": null,
            "max_height": null,
            "max_width": null,
            "min_height": null,
            "min_width": null,
            "object_fit": null,
            "object_position": null,
            "order": null,
            "overflow": null,
            "overflow_x": null,
            "overflow_y": null,
            "padding": null,
            "right": null,
            "top": null,
            "visibility": null,
            "width": null
          }
        },
        "e1ea1e1e40cd4b879f1e476d9e4eb5a3": {
          "model_module": "@jupyter-widgets/base",
          "model_name": "LayoutModel",
          "model_module_version": "1.2.0",
          "state": {
            "_model_module": "@jupyter-widgets/base",
            "_model_module_version": "1.2.0",
            "_model_name": "LayoutModel",
            "_view_count": null,
            "_view_module": "@jupyter-widgets/base",
            "_view_module_version": "1.2.0",
            "_view_name": "LayoutView",
            "align_content": null,
            "align_items": null,
            "align_self": null,
            "border": null,
            "bottom": null,
            "display": null,
            "flex": null,
            "flex_flow": null,
            "grid_area": null,
            "grid_auto_columns": null,
            "grid_auto_flow": null,
            "grid_auto_rows": null,
            "grid_column": null,
            "grid_gap": null,
            "grid_row": null,
            "grid_template_areas": null,
            "grid_template_columns": null,
            "grid_template_rows": null,
            "height": null,
            "justify_content": null,
            "justify_items": null,
            "left": null,
            "margin": null,
            "max_height": null,
            "max_width": null,
            "min_height": null,
            "min_width": null,
            "object_fit": null,
            "object_position": null,
            "order": null,
            "overflow": null,
            "overflow_x": null,
            "overflow_y": null,
            "padding": null,
            "right": null,
            "top": null,
            "visibility": null,
            "width": null
          }
        },
        "f2de8ddca3954affbfb18a3f62ba9b64": {
          "model_module": "@jupyter-widgets/controls",
          "model_name": "DescriptionStyleModel",
          "model_module_version": "1.5.0",
          "state": {
            "_model_module": "@jupyter-widgets/controls",
            "_model_module_version": "1.5.0",
            "_model_name": "DescriptionStyleModel",
            "_view_count": null,
            "_view_module": "@jupyter-widgets/base",
            "_view_module_version": "1.2.0",
            "_view_name": "StyleView",
            "description_width": ""
          }
        },
        "77312a20969b464c81278bc01f172845": {
          "model_module": "@jupyter-widgets/base",
          "model_name": "LayoutModel",
          "model_module_version": "1.2.0",
          "state": {
            "_model_module": "@jupyter-widgets/base",
            "_model_module_version": "1.2.0",
            "_model_name": "LayoutModel",
            "_view_count": null,
            "_view_module": "@jupyter-widgets/base",
            "_view_module_version": "1.2.0",
            "_view_name": "LayoutView",
            "align_content": null,
            "align_items": null,
            "align_self": null,
            "border": null,
            "bottom": null,
            "display": null,
            "flex": null,
            "flex_flow": null,
            "grid_area": null,
            "grid_auto_columns": null,
            "grid_auto_flow": null,
            "grid_auto_rows": null,
            "grid_column": null,
            "grid_gap": null,
            "grid_row": null,
            "grid_template_areas": null,
            "grid_template_columns": null,
            "grid_template_rows": null,
            "height": null,
            "justify_content": null,
            "justify_items": null,
            "left": null,
            "margin": null,
            "max_height": null,
            "max_width": null,
            "min_height": null,
            "min_width": null,
            "object_fit": null,
            "object_position": null,
            "order": null,
            "overflow": null,
            "overflow_x": null,
            "overflow_y": null,
            "padding": null,
            "right": null,
            "top": null,
            "visibility": null,
            "width": null
          }
        },
        "42930ea5c6a8465e848f59b6c0cfe342": {
          "model_module": "@jupyter-widgets/controls",
          "model_name": "ProgressStyleModel",
          "model_module_version": "1.5.0",
          "state": {
            "_model_module": "@jupyter-widgets/controls",
            "_model_module_version": "1.5.0",
            "_model_name": "ProgressStyleModel",
            "_view_count": null,
            "_view_module": "@jupyter-widgets/base",
            "_view_module_version": "1.2.0",
            "_view_name": "StyleView",
            "bar_color": null,
            "description_width": ""
          }
        },
        "45615bc5e65c47109867e3084d57fd4c": {
          "model_module": "@jupyter-widgets/base",
          "model_name": "LayoutModel",
          "model_module_version": "1.2.0",
          "state": {
            "_model_module": "@jupyter-widgets/base",
            "_model_module_version": "1.2.0",
            "_model_name": "LayoutModel",
            "_view_count": null,
            "_view_module": "@jupyter-widgets/base",
            "_view_module_version": "1.2.0",
            "_view_name": "LayoutView",
            "align_content": null,
            "align_items": null,
            "align_self": null,
            "border": null,
            "bottom": null,
            "display": null,
            "flex": null,
            "flex_flow": null,
            "grid_area": null,
            "grid_auto_columns": null,
            "grid_auto_flow": null,
            "grid_auto_rows": null,
            "grid_column": null,
            "grid_gap": null,
            "grid_row": null,
            "grid_template_areas": null,
            "grid_template_columns": null,
            "grid_template_rows": null,
            "height": null,
            "justify_content": null,
            "justify_items": null,
            "left": null,
            "margin": null,
            "max_height": null,
            "max_width": null,
            "min_height": null,
            "min_width": null,
            "object_fit": null,
            "object_position": null,
            "order": null,
            "overflow": null,
            "overflow_x": null,
            "overflow_y": null,
            "padding": null,
            "right": null,
            "top": null,
            "visibility": null,
            "width": null
          }
        },
        "a081667df4ab47fc89f90caafd9f8182": {
          "model_module": "@jupyter-widgets/controls",
          "model_name": "DescriptionStyleModel",
          "model_module_version": "1.5.0",
          "state": {
            "_model_module": "@jupyter-widgets/controls",
            "_model_module_version": "1.5.0",
            "_model_name": "DescriptionStyleModel",
            "_view_count": null,
            "_view_module": "@jupyter-widgets/base",
            "_view_module_version": "1.2.0",
            "_view_name": "StyleView",
            "description_width": ""
          }
        }
      }
    }
  },
  "cells": [
    {
      "cell_type": "markdown",
      "metadata": {
        "id": "view-in-github",
        "colab_type": "text"
      },
      "source": [
        "<a href=\"https://colab.research.google.com/github/ykitaguchi77/Colab_Scripts/blob/master/ios_pytorch.ipynb\" target=\"_parent\"><img src=\"https://colab.research.google.com/assets/colab-badge.svg\" alt=\"Open In Colab\"/></a>"
      ]
    },
    {
      "cell_type": "markdown",
      "source": [
        "#**Pytorch Mobile (use Pytorch in ios)**\n",
        "\n",
        "Reference:\n",
        "\n",
        "https://note.com/npaka/n/n5ebba8389a93\n",
        "\n",
        "https://github.com/pytorch/ios-demo-app/tree/master/HelloWorld"
      ],
      "metadata": {
        "id": "ezh72kJe5JjY"
      }
    },
    {
      "cell_type": "code",
      "execution_count": 1,
      "metadata": {
        "colab": {
          "base_uri": "https://localhost:8080/"
        },
        "id": "GPc8U-un157_",
        "outputId": "ee88d8d1-c7d9-48e2-ec4f-583353ccc2f1"
      },
      "outputs": [
        {
          "output_type": "stream",
          "name": "stdout",
          "text": [
            "Cloning into 'ios-demo-app'...\n",
            "remote: Enumerating objects: 1661, done.\u001b[K\n",
            "remote: Counting objects: 100% (503/503), done.\u001b[K\n",
            "remote: Compressing objects: 100% (189/189), done.\u001b[K\n",
            "remote: Total 1661 (delta 355), reused 325 (delta 313), pack-reused 1158\u001b[K\n",
            "Receiving objects: 100% (1661/1661), 132.36 MiB | 27.45 MiB/s, done.\n",
            "Resolving deltas: 100% (1006/1006), done.\n",
            "/content/ios-demo-app/HelloWorld\n"
          ]
        }
      ],
      "source": [
        "# ios Pytorch版 Hello world\n",
        "!git clone https://github.com/pytorch/ios-demo-app.git\n",
        "\n",
        "import os\n",
        "#os.chdir(\"/content/ios-demo-app/HelloWorld\")\n",
        "%cd /content/ios-demo-app/HelloWorld"
      ]
    },
    {
      "cell_type": "code",
      "source": [
        "#import trace_model (trace_model.pyと同じ)\n",
        "\n",
        "import torch\n",
        "import torchvision\n",
        "from torch.utils.mobile_optimizer import optimize_for_mobile\n",
        "\n",
        "model = torchvision.models.mobilenet_v2(pretrained=True)\n",
        "model.eval()\n",
        "example = torch.rand(1, 3, 224, 224)\n",
        "traced_script_module = torch.jit.trace(model, example)\n",
        "torchscript_model_optimized = optimize_for_mobile(traced_script_module)\n",
        "torchscript_model_optimized._save_for_lite_interpreter(\"HelloWorld/HelloWorld/model/model.pt\")"
      ],
      "metadata": {
        "colab": {
          "base_uri": "https://localhost:8080/",
          "height": 158,
          "referenced_widgets": [
            "88512aed5e9c438aad76180e9a4e1e1d",
            "363de2b1771d4a78afa7eb772e65d2f6",
            "4e9f326197db4899a3588586a90ca85a",
            "71dc52e8647948628bdde28d2f0790ca",
            "e46a669f253a4f59a962535b04e65349",
            "e1ea1e1e40cd4b879f1e476d9e4eb5a3",
            "f2de8ddca3954affbfb18a3f62ba9b64",
            "77312a20969b464c81278bc01f172845",
            "42930ea5c6a8465e848f59b6c0cfe342",
            "45615bc5e65c47109867e3084d57fd4c",
            "a081667df4ab47fc89f90caafd9f8182"
          ]
        },
        "id": "IDpBx3dm6v0Y",
        "outputId": "7df1119b-f9a2-4122-9fa0-f3c649981f9b"
      },
      "execution_count": 2,
      "outputs": [
        {
          "output_type": "stream",
          "name": "stderr",
          "text": [
            "/usr/local/lib/python3.7/dist-packages/torchvision/models/_utils.py:209: UserWarning: The parameter 'pretrained' is deprecated since 0.13 and will be removed in 0.15, please use 'weights' instead.\n",
            "  f\"The parameter '{pretrained_param}' is deprecated since 0.13 and will be removed in 0.15, \"\n",
            "/usr/local/lib/python3.7/dist-packages/torchvision/models/_utils.py:223: UserWarning: Arguments other than a weight enum or `None` for 'weights' are deprecated since 0.13 and will be removed in 0.15. The current behavior is equivalent to passing `weights=MobileNet_V2_Weights.IMAGENET1K_V1`. You can also use `weights=MobileNet_V2_Weights.DEFAULT` to get the most up-to-date weights.\n",
            "  warnings.warn(msg)\n",
            "Downloading: \"https://download.pytorch.org/models/mobilenet_v2-b0353104.pth\" to /root/.cache/torch/hub/checkpoints/mobilenet_v2-b0353104.pth\n"
          ]
        },
        {
          "output_type": "display_data",
          "data": {
            "text/plain": [
              "  0%|          | 0.00/13.6M [00:00<?, ?B/s]"
            ],
            "application/vnd.jupyter.widget-view+json": {
              "version_major": 2,
              "version_minor": 0,
              "model_id": "88512aed5e9c438aad76180e9a4e1e1d"
            }
          },
          "metadata": {}
        }
      ]
    },
    {
      "cell_type": "code",
      "source": [
        "#@title Rename and Download\n",
        "folder_name = \"ios_pytorch\"#@param {type:\"string\"}\n",
        "\n",
        "os.rename(\"./HelloWorld\", folder_name)\n",
        "\n",
        "#ios用のプログラムが入ったフォルダをリネーム\n",
        "zip_name = \"/content/ios-demo-app/HelloWorld/\"+folder_name\n",
        "!zip -r ios_pytorch $zip_name\n",
        "\n",
        "#ダウンロード\n",
        "from google.colab import files\n",
        "files.download(\"ios_pytorch.zip\")"
      ],
      "metadata": {
        "colab": {
          "base_uri": "https://localhost:8080/",
          "height": 591
        },
        "id": "v8fWAhc5Dvt0",
        "outputId": "264d3822-ef46-49b7-ba02-3dcd92353a2c"
      },
      "execution_count": 8,
      "outputs": [
        {
          "output_type": "stream",
          "name": "stdout",
          "text": [
            "  adding: content/ios-demo-app/HelloWorld/ios_pytorch/ (stored 0%)\n",
            "  adding: content/ios-demo-app/HelloWorld/ios_pytorch/HelloWorld.xcodeproj/ (stored 0%)\n",
            "  adding: content/ios-demo-app/HelloWorld/ios_pytorch/HelloWorld.xcodeproj/project.pbxproj (deflated 81%)\n",
            "  adding: content/ios-demo-app/HelloWorld/ios_pytorch/HelloWorld/ (stored 0%)\n",
            "  adding: content/ios-demo-app/HelloWorld/ios_pytorch/HelloWorld/UIImage+Helper.swift (deflated 64%)\n",
            "  adding: content/ios-demo-app/HelloWorld/ios_pytorch/HelloWorld/Base.lproj/ (stored 0%)\n",
            "  adding: content/ios-demo-app/HelloWorld/ios_pytorch/HelloWorld/Base.lproj/LaunchScreen.storyboard (deflated 56%)\n",
            "  adding: content/ios-demo-app/HelloWorld/ios_pytorch/HelloWorld/Base.lproj/Main.storyboard (deflated 72%)\n",
            "  adding: content/ios-demo-app/HelloWorld/ios_pytorch/HelloWorld/Info.plist (deflated 63%)\n",
            "  adding: content/ios-demo-app/HelloWorld/ios_pytorch/HelloWorld/TorchBridge/ (stored 0%)\n",
            "  adding: content/ios-demo-app/HelloWorld/ios_pytorch/HelloWorld/TorchBridge/TorchModule.mm (deflated 49%)\n",
            "  adding: content/ios-demo-app/HelloWorld/ios_pytorch/HelloWorld/TorchBridge/TorchModule.h (deflated 36%)\n",
            "  adding: content/ios-demo-app/HelloWorld/ios_pytorch/HelloWorld/TorchBridge/HelloWorld-Bridging-Header.h (stored 0%)\n",
            "  adding: content/ios-demo-app/HelloWorld/ios_pytorch/HelloWorld/model/ (stored 0%)\n",
            "  adding: content/ios-demo-app/HelloWorld/ios_pytorch/HelloWorld/model/model.pt (deflated 7%)\n",
            "  adding: content/ios-demo-app/HelloWorld/ios_pytorch/HelloWorld/model/words.txt (deflated 55%)\n",
            "  adding: content/ios-demo-app/HelloWorld/ios_pytorch/HelloWorld/Assets.xcassets/ (stored 0%)\n",
            "  adding: content/ios-demo-app/HelloWorld/ios_pytorch/HelloWorld/Assets.xcassets/AppIcon.appiconset/ (stored 0%)\n",
            "  adding: content/ios-demo-app/HelloWorld/ios_pytorch/HelloWorld/Assets.xcassets/AppIcon.appiconset/Icon-Small@3x.png (stored 0%)\n",
            "  adding: content/ios-demo-app/HelloWorld/ios_pytorch/HelloWorld/Assets.xcassets/AppIcon.appiconset/Icon-60@3x.png (stored 0%)\n",
            "  adding: content/ios-demo-app/HelloWorld/ios_pytorch/HelloWorld/Assets.xcassets/AppIcon.appiconset/Icon-Small-60@2x.png (stored 0%)\n",
            "  adding: content/ios-demo-app/HelloWorld/ios_pytorch/HelloWorld/Assets.xcassets/AppIcon.appiconset/Icon-Small@2x-1.png (stored 0%)\n",
            "  adding: content/ios-demo-app/HelloWorld/ios_pytorch/HelloWorld/Assets.xcassets/AppIcon.appiconset/Icon-60@2x.png (stored 0%)\n",
            "  adding: content/ios-demo-app/HelloWorld/ios_pytorch/HelloWorld/Assets.xcassets/AppIcon.appiconset/Contents.json (deflated 85%)\n",
            "  adding: content/ios-demo-app/HelloWorld/ios_pytorch/HelloWorld/Assets.xcassets/AppIcon.appiconset/Icon-Small-40@2x.png (stored 0%)\n",
            "  adding: content/ios-demo-app/HelloWorld/ios_pytorch/HelloWorld/Assets.xcassets/Contents.json (deflated 16%)\n",
            "  adding: content/ios-demo-app/HelloWorld/ios_pytorch/HelloWorld/SceneDelegate.swift (deflated 62%)\n",
            "  adding: content/ios-demo-app/HelloWorld/ios_pytorch/HelloWorld/ViewController.swift (deflated 59%)\n",
            "  adding: content/ios-demo-app/HelloWorld/ios_pytorch/HelloWorld/image.png (deflated 0%)\n",
            "  adding: content/ios-demo-app/HelloWorld/ios_pytorch/HelloWorld/AppDelegate.swift (deflated 37%)\n",
            "  adding: content/ios-demo-app/HelloWorld/ios_pytorch/Podfile (deflated 3%)\n"
          ]
        },
        {
          "output_type": "display_data",
          "data": {
            "text/plain": [
              "<IPython.core.display.Javascript object>"
            ],
            "application/javascript": [
              "\n",
              "    async function download(id, filename, size) {\n",
              "      if (!google.colab.kernel.accessAllowed) {\n",
              "        return;\n",
              "      }\n",
              "      const div = document.createElement('div');\n",
              "      const label = document.createElement('label');\n",
              "      label.textContent = `Downloading \"${filename}\": `;\n",
              "      div.appendChild(label);\n",
              "      const progress = document.createElement('progress');\n",
              "      progress.max = size;\n",
              "      div.appendChild(progress);\n",
              "      document.body.appendChild(div);\n",
              "\n",
              "      const buffers = [];\n",
              "      let downloaded = 0;\n",
              "\n",
              "      const channel = await google.colab.kernel.comms.open(id);\n",
              "      // Send a message to notify the kernel that we're ready.\n",
              "      channel.send({})\n",
              "\n",
              "      for await (const message of channel.messages) {\n",
              "        // Send a message to notify the kernel that we're ready.\n",
              "        channel.send({})\n",
              "        if (message.buffers) {\n",
              "          for (const buffer of message.buffers) {\n",
              "            buffers.push(buffer);\n",
              "            downloaded += buffer.byteLength;\n",
              "            progress.value = downloaded;\n",
              "          }\n",
              "        }\n",
              "      }\n",
              "      const blob = new Blob(buffers, {type: 'application/binary'});\n",
              "      const a = document.createElement('a');\n",
              "      a.href = window.URL.createObjectURL(blob);\n",
              "      a.download = filename;\n",
              "      div.appendChild(a);\n",
              "      a.click();\n",
              "      div.remove();\n",
              "    }\n",
              "  "
            ]
          },
          "metadata": {}
        },
        {
          "output_type": "display_data",
          "data": {
            "text/plain": [
              "<IPython.core.display.Javascript object>"
            ],
            "application/javascript": [
              "download(\"download_2765492f-2622-4e40-bab1-090a05fb5389\", \"ios_pytorch.zip\", 13130695)"
            ]
          },
          "metadata": {}
        }
      ]
    }
  ]
}
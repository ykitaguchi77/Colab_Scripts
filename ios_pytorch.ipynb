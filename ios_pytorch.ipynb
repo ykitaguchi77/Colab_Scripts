{
  "nbformat": 4,
  "nbformat_minor": 0,
  "metadata": {
    "colab": {
      "provenance": [],
      "authorship_tag": "ABX9TyNA8nP/o9EtYKSB9E6EucKX",
      "include_colab_link": true
    },
    "kernelspec": {
      "name": "python3",
      "display_name": "Python 3"
    },
    "language_info": {
      "name": "python"
    }
  },
  "cells": [
    {
      "cell_type": "markdown",
      "metadata": {
        "id": "view-in-github",
        "colab_type": "text"
      },
      "source": [
        "<a href=\"https://colab.research.google.com/github/ykitaguchi77/Colab_Scripts/blob/master/ios_pytorch.ipynb\" target=\"_parent\"><img src=\"https://colab.research.google.com/assets/colab-badge.svg\" alt=\"Open In Colab\"/></a>"
      ]
    },
    {
      "cell_type": "markdown",
      "source": [
        "#**Pytorch Mobile (use Pytorch in ios)**\n",
        "\n",
        "Reference:\n",
        "\n",
        "https://note.com/npaka/n/n5ebba8389a93\n",
        "\n",
        "https://github.com/pytorch/ios-demo-app/tree/master/HelloWorld"
      ],
      "metadata": {
        "id": "ezh72kJe5JjY"
      }
    },
    {
      "cell_type": "code",
      "execution_count": 4,
      "metadata": {
        "colab": {
          "base_uri": "https://localhost:8080/"
        },
        "id": "GPc8U-un157_",
        "outputId": "758016f8-2fb5-4d07-c3b5-53593d091e60"
      },
      "outputs": [
        {
          "output_type": "stream",
          "name": "stdout",
          "text": [
            "Cloning into 'ios-demo-app'...\n",
            "remote: Enumerating objects: 1661, done.\u001b[K\n",
            "remote: Counting objects: 100% (504/504), done.\u001b[K\n",
            "remote: Compressing objects: 100% (193/193), done.\u001b[K\n",
            "remote: Total 1661 (delta 356), reused 322 (delta 310), pack-reused 1157\u001b[K\n",
            "Receiving objects: 100% (1661/1661), 132.37 MiB | 24.77 MiB/s, done.\n",
            "Resolving deltas: 100% (1007/1007), done.\n",
            "/content/ios-demo-app/HelloWorld\n"
          ]
        }
      ],
      "source": [
        "# ios Pytorch版 Hello world\n",
        "!git clone https://github.com/pytorch/ios-demo-app.git\n",
        "\n",
        "import os\n",
        "#os.chdir(\"/content/ios-demo-app/HelloWorld\")\n",
        "%cd /content/ios-demo-app/HelloWorld"
      ]
    },
    {
      "cell_type": "code",
      "source": [
        "#import trace_model (trace_model.pyと同じ)\n",
        "\n",
        "import torch\n",
        "import torchvision\n",
        "from torch.utils.mobile_optimizer import optimize_for_mobile\n",
        "\n",
        "model = torchvision.models.mobilenet_v2(pretrained=True)\n",
        "model.eval()\n",
        "example = torch.rand(1, 3, 224, 224)\n",
        "traced_script_module = torch.jit.trace(model, example)\n",
        "torchscript_model_optimized = optimize_for_mobile(traced_script_module)\n",
        "torchscript_model_optimized._save_for_lite_interpreter(\"HelloWorld/HelloWorld/model/model.pt\")"
      ],
      "metadata": {
        "id": "IDpBx3dm6v0Y"
      },
      "execution_count": null,
      "outputs": []
    },
    {
      "cell_type": "code",
      "source": [
        "#@title Rename and Download\n",
        "folder_name = \"ios_pytorch\"#@param {type:\"string\"}\n",
        "\n",
        "os.rename(\"./HelloWorld\", folder_name)\n",
        "\n",
        "#ios用のプログラムが入ったフォルダをリネーム\n",
        "zip_name = folder_name\n",
        "!zip -r ios_pytorch $folder_name\n",
        "\n",
        "#ダウンロード\n",
        "from google.colab import files\n",
        "files.download(\"ios_pytorch.zip\")"
      ],
      "metadata": {
        "id": "v8fWAhc5Dvt0"
      },
      "execution_count": null,
      "outputs": []
    }
  ]
}
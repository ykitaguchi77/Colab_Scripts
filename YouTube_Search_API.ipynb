{
  "nbformat": 4,
  "nbformat_minor": 0,
  "metadata": {
    "colab": {
      "provenance": [],
      "authorship_tag": "ABX9TyPo67va2+jiFteBDjJGzL5G",
      "include_colab_link": true
    },
    "kernelspec": {
      "name": "python3",
      "display_name": "Python 3"
    },
    "language_info": {
      "name": "python"
    }
  },
  "cells": [
    {
      "cell_type": "markdown",
      "metadata": {
        "id": "view-in-github",
        "colab_type": "text"
      },
      "source": [
        "<a href=\"https://colab.research.google.com/github/ykitaguchi77/Colab_Scripts/blob/master/YouTube_Search_API.ipynb\" target=\"_parent\"><img src=\"https://colab.research.google.com/assets/colab-badge.svg\" alt=\"Open In Colab\"/></a>"
      ]
    },
    {
      "cell_type": "markdown",
      "source": [
        "#**YouTube API**\n",
        "\n",
        "reference\n",
        "\n",
        "https://su-gi-rx.com/archives/4528\n",
        "\n",
        "https://diy-programming.site/youtube/channel-video-info-get/"
      ],
      "metadata": {
        "id": "hyq5UnIG4N6E"
      }
    },
    {
      "cell_type": "code",
      "execution_count": null,
      "metadata": {
        "id": "fBoOmffqd0rr"
      },
      "outputs": [],
      "source": [
        "!pip install google-api-python-client\n",
        "\n",
        "#!pip install apiclient.discovery\n",
        "from googleapiclient.discovery import build\n",
        "\n",
        "# API情報\n",
        "API_KEY = ''\n",
        "YOUTUBE_API_SERVICE_NAME = 'youtube'\n",
        "YOUTUBE_API_VERSION = 'v3'\n",
        "\n",
        "youtube = build(\n",
        "    YOUTUBE_API_SERVICE_NAME, \n",
        "    YOUTUBE_API_VERSION,\n",
        "    developerKey=API_KEY\n",
        "    )\n"
      ]
    },
    {
      "cell_type": "markdown",
      "source": [
        "#**キーワード検索**"
      ],
      "metadata": {
        "id": "EM--IAFHzuMt"
      }
    },
    {
      "cell_type": "code",
      "source": [
        "search_response = youtube.search().list(\n",
        "  q='[モテる]',\n",
        "  part='id,snippet',\n",
        "  maxResults=5\n",
        ").execute()\n",
        "\n",
        "\n",
        "channels = []\n",
        "\n",
        "\n",
        "for search_result in search_response.get(\"items\", []):\n",
        "    if search_result[\"id\"][\"kind\"] == \"youtube#video\":\n",
        "        channels.append([search_result[\"snippet\"][\"channelTitle\"],search_result[\"snippet\"][\"channelId\"],search_result[\"snippet\"][\"title\"]])\n",
        "                                  \n",
        "for channel in channels:\n",
        "    print(channel)\n",
        "\n",
        "\n",
        "print(\"done\")"
      ],
      "metadata": {
        "id": "Gtd2jQIizteW",
        "outputId": "cc0fbb24-5883-4ca5-a533-65eac445a4ab",
        "colab": {
          "base_uri": "https://localhost:8080/"
        }
      },
      "execution_count": 26,
      "outputs": [
        {
          "output_type": "stream",
          "name": "stdout",
          "text": [
            "['よきちゃんねる', 'UCAhJIkIlZN9YHLZI93eVXlA', 'やめるだけで男性にモテるようになる7つのこと']\n",
            "['フォーエイト48', 'UCjNrxV6lbQZHK8E5LfNHmUg', '目隠しして正直にどっちがモテる？と聞いたらつい本音が…\\u3000#shorts']\n",
            "['JURIのモテ男くん養成ch', 'UCCNdTWT_W0KDdZoZbPoSQWA', 'モテる男性の条件5選']\n",
            "['タップル恋ちゃんねる 恋愛リサーチメディア', 'UCK42WPNKdO9k9ipo4LYV26g', '実はモテるのに勿体無い男の特徴【タップル】']\n",
            "['小澤ゆうた【ゆうたの日記チャンネル】', 'UCJhautEc7JN6P6UFX-fBtTw', '顔は可愛くないのに謎にモテる女子の特徴。男の好みを教えよう']\n",
            "done\n"
          ]
        }
      ]
    },
    {
      "cell_type": "code",
      "source": [
        "# Example of API responce\n",
        "search_response.get(\"items\", [])[0]"
      ],
      "metadata": {
        "id": "U2xJDRp-nsDD"
      },
      "execution_count": null,
      "outputs": []
    },
    {
      "cell_type": "code",
      "source": [
        "search_response[\"items\"][0] "
      ],
      "metadata": {
        "id": "iVcqQtf36gla"
      },
      "execution_count": null,
      "outputs": []
    },
    {
      "cell_type": "markdown",
      "source": [
        "### **検索されたチャンネルのリストを表示**"
      ],
      "metadata": {
        "id": "jpshzJT26Xg6"
      }
    },
    {
      "cell_type": "code",
      "source": [
        "import pandas as pd\n",
        "# カラムがないindexだけ設定されているDataFrameを作成\n",
        "col_names = [\"channel_name\", \"channel_id\", \"example_movie\"]\n",
        "df_channels = pd.DataFrame(index=[], columns=col_names)\n",
        "df_channels\n",
        "\n",
        "#ChannelsのリストをDataframeに移す\n",
        "for i in channels:\n",
        "    df_channels.loc[len(df_channels.index)] = i #Adding new row\n",
        "\n",
        "# 重複を削除\n",
        "df_channels = df_channels.drop_duplicates(subset='channel_id')\n",
        "df_channels"
      ],
      "metadata": {
        "colab": {
          "base_uri": "https://localhost:8080/",
          "height": 206
        },
        "id": "1IiQv6xDntI0",
        "outputId": "eda9b67b-e312-4f28-929a-babdb6ce56ef"
      },
      "execution_count": 6,
      "outputs": [
        {
          "output_type": "execute_result",
          "data": {
            "text/plain": [
              "            channel_name                channel_id  \\\n",
              "0                よきちゃんねる  UCAhJIkIlZN9YHLZI93eVXlA   \n",
              "1               フォーエイト48  UCjNrxV6lbQZHK8E5LfNHmUg   \n",
              "2         JURIのモテ男くん養成ch  UCCNdTWT_W0KDdZoZbPoSQWA   \n",
              "3  タップル恋ちゃんねる 恋愛リサーチメディア  UCK42WPNKdO9k9ipo4LYV26g   \n",
              "4     小澤ゆうた【ゆうたの日記チャンネル】  UCJhautEc7JN6P6UFX-fBtTw   \n",
              "\n",
              "                         example_movie  \n",
              "0               やめるだけで男性にモテるようになる7つのこと  \n",
              "1  目隠しして正直にどっちがモテる？と聞いたらつい本音が…　#shorts  \n",
              "2                           モテる男性の条件5選  \n",
              "3                実はモテるのに勿体無い男の特徴【タップル】  \n",
              "4        顔は可愛くないのに謎にモテる女子の特徴。男の好みを教えよう  "
            ],
            "text/html": [
              "\n",
              "  <div id=\"df-ae4457d5-2b56-445b-a2fa-0098fa2433da\">\n",
              "    <div class=\"colab-df-container\">\n",
              "      <div>\n",
              "<style scoped>\n",
              "    .dataframe tbody tr th:only-of-type {\n",
              "        vertical-align: middle;\n",
              "    }\n",
              "\n",
              "    .dataframe tbody tr th {\n",
              "        vertical-align: top;\n",
              "    }\n",
              "\n",
              "    .dataframe thead th {\n",
              "        text-align: right;\n",
              "    }\n",
              "</style>\n",
              "<table border=\"1\" class=\"dataframe\">\n",
              "  <thead>\n",
              "    <tr style=\"text-align: right;\">\n",
              "      <th></th>\n",
              "      <th>channel_name</th>\n",
              "      <th>channel_id</th>\n",
              "      <th>example_movie</th>\n",
              "    </tr>\n",
              "  </thead>\n",
              "  <tbody>\n",
              "    <tr>\n",
              "      <th>0</th>\n",
              "      <td>よきちゃんねる</td>\n",
              "      <td>UCAhJIkIlZN9YHLZI93eVXlA</td>\n",
              "      <td>やめるだけで男性にモテるようになる7つのこと</td>\n",
              "    </tr>\n",
              "    <tr>\n",
              "      <th>1</th>\n",
              "      <td>フォーエイト48</td>\n",
              "      <td>UCjNrxV6lbQZHK8E5LfNHmUg</td>\n",
              "      <td>目隠しして正直にどっちがモテる？と聞いたらつい本音が…　#shorts</td>\n",
              "    </tr>\n",
              "    <tr>\n",
              "      <th>2</th>\n",
              "      <td>JURIのモテ男くん養成ch</td>\n",
              "      <td>UCCNdTWT_W0KDdZoZbPoSQWA</td>\n",
              "      <td>モテる男性の条件5選</td>\n",
              "    </tr>\n",
              "    <tr>\n",
              "      <th>3</th>\n",
              "      <td>タップル恋ちゃんねる 恋愛リサーチメディア</td>\n",
              "      <td>UCK42WPNKdO9k9ipo4LYV26g</td>\n",
              "      <td>実はモテるのに勿体無い男の特徴【タップル】</td>\n",
              "    </tr>\n",
              "    <tr>\n",
              "      <th>4</th>\n",
              "      <td>小澤ゆうた【ゆうたの日記チャンネル】</td>\n",
              "      <td>UCJhautEc7JN6P6UFX-fBtTw</td>\n",
              "      <td>顔は可愛くないのに謎にモテる女子の特徴。男の好みを教えよう</td>\n",
              "    </tr>\n",
              "  </tbody>\n",
              "</table>\n",
              "</div>\n",
              "      <button class=\"colab-df-convert\" onclick=\"convertToInteractive('df-ae4457d5-2b56-445b-a2fa-0098fa2433da')\"\n",
              "              title=\"Convert this dataframe to an interactive table.\"\n",
              "              style=\"display:none;\">\n",
              "        \n",
              "  <svg xmlns=\"http://www.w3.org/2000/svg\" height=\"24px\"viewBox=\"0 0 24 24\"\n",
              "       width=\"24px\">\n",
              "    <path d=\"M0 0h24v24H0V0z\" fill=\"none\"/>\n",
              "    <path d=\"M18.56 5.44l.94 2.06.94-2.06 2.06-.94-2.06-.94-.94-2.06-.94 2.06-2.06.94zm-11 1L8.5 8.5l.94-2.06 2.06-.94-2.06-.94L8.5 2.5l-.94 2.06-2.06.94zm10 10l.94 2.06.94-2.06 2.06-.94-2.06-.94-.94-2.06-.94 2.06-2.06.94z\"/><path d=\"M17.41 7.96l-1.37-1.37c-.4-.4-.92-.59-1.43-.59-.52 0-1.04.2-1.43.59L10.3 9.45l-7.72 7.72c-.78.78-.78 2.05 0 2.83L4 21.41c.39.39.9.59 1.41.59.51 0 1.02-.2 1.41-.59l7.78-7.78 2.81-2.81c.8-.78.8-2.07 0-2.86zM5.41 20L4 18.59l7.72-7.72 1.47 1.35L5.41 20z\"/>\n",
              "  </svg>\n",
              "      </button>\n",
              "      \n",
              "  <style>\n",
              "    .colab-df-container {\n",
              "      display:flex;\n",
              "      flex-wrap:wrap;\n",
              "      gap: 12px;\n",
              "    }\n",
              "\n",
              "    .colab-df-convert {\n",
              "      background-color: #E8F0FE;\n",
              "      border: none;\n",
              "      border-radius: 50%;\n",
              "      cursor: pointer;\n",
              "      display: none;\n",
              "      fill: #1967D2;\n",
              "      height: 32px;\n",
              "      padding: 0 0 0 0;\n",
              "      width: 32px;\n",
              "    }\n",
              "\n",
              "    .colab-df-convert:hover {\n",
              "      background-color: #E2EBFA;\n",
              "      box-shadow: 0px 1px 2px rgba(60, 64, 67, 0.3), 0px 1px 3px 1px rgba(60, 64, 67, 0.15);\n",
              "      fill: #174EA6;\n",
              "    }\n",
              "\n",
              "    [theme=dark] .colab-df-convert {\n",
              "      background-color: #3B4455;\n",
              "      fill: #D2E3FC;\n",
              "    }\n",
              "\n",
              "    [theme=dark] .colab-df-convert:hover {\n",
              "      background-color: #434B5C;\n",
              "      box-shadow: 0px 1px 3px 1px rgba(0, 0, 0, 0.15);\n",
              "      filter: drop-shadow(0px 1px 2px rgba(0, 0, 0, 0.3));\n",
              "      fill: #FFFFFF;\n",
              "    }\n",
              "  </style>\n",
              "\n",
              "      <script>\n",
              "        const buttonEl =\n",
              "          document.querySelector('#df-ae4457d5-2b56-445b-a2fa-0098fa2433da button.colab-df-convert');\n",
              "        buttonEl.style.display =\n",
              "          google.colab.kernel.accessAllowed ? 'block' : 'none';\n",
              "\n",
              "        async function convertToInteractive(key) {\n",
              "          const element = document.querySelector('#df-ae4457d5-2b56-445b-a2fa-0098fa2433da');\n",
              "          const dataTable =\n",
              "            await google.colab.kernel.invokeFunction('convertToInteractive',\n",
              "                                                     [key], {});\n",
              "          if (!dataTable) return;\n",
              "\n",
              "          const docLinkHtml = 'Like what you see? Visit the ' +\n",
              "            '<a target=\"_blank\" href=https://colab.research.google.com/notebooks/data_table.ipynb>data table notebook</a>'\n",
              "            + ' to learn more about interactive tables.';\n",
              "          element.innerHTML = '';\n",
              "          dataTable['output_type'] = 'display_data';\n",
              "          await google.colab.output.renderOutput(dataTable, element);\n",
              "          const docLink = document.createElement('div');\n",
              "          docLink.innerHTML = docLinkHtml;\n",
              "          element.appendChild(docLink);\n",
              "        }\n",
              "      </script>\n",
              "    </div>\n",
              "  </div>\n",
              "  "
            ]
          },
          "metadata": {},
          "execution_count": 6
        }
      ]
    },
    {
      "cell_type": "markdown",
      "source": [
        "#**URLから動画のIDを抜き出す**"
      ],
      "metadata": {
        "id": "eWqOAQ9t2oM9"
      }
    },
    {
      "cell_type": "code",
      "source": [
        "import json\n",
        "#################################################\n",
        "channel_url = \"https://www.youtube.com/watch?v=fgvowKm_ym8\" # ここにチャンネルURLを指定する\n",
        "#################################################\n",
        "\n",
        "response = youtube.search().list(\n",
        "    part = \"snippet\",\n",
        "    #type=\"channel\", # 検索対象をチャンネルのみに限定\n",
        "    q=channel_url, # 検索クエリ\n",
        ").execute()\n",
        "\n",
        "\n",
        "#print(json.dumps(response, indent=4, ensure_ascii=False))\n",
        "print(response)\n",
        "\n",
        "CHANNEL_ID = response[\"items\"][0][\"snippet\"]['channelId']"
      ],
      "metadata": {
        "id": "oLQWAVib2xAb",
        "outputId": "08bf581d-3847-47e8-d9bb-dccf2a2f4cf8",
        "colab": {
          "base_uri": "https://localhost:8080/",
          "height": 74
        }
      },
      "execution_count": 75,
      "outputs": [
        {
          "output_type": "stream",
          "name": "stdout",
          "text": [
            "{'kind': 'youtube#searchListResponse', 'etag': '-TUu7QpXbLlb5GXLdOclVYxIA8k', 'regionCode': 'US', 'pageInfo': {'totalResults': 2, 'resultsPerPage': 2}, 'items': [{'kind': 'youtube#searchResult', 'etag': '67tzKnqVVe62Y3DtGjxvzOyi4fI', 'id': {'kind': 'youtube#video', 'videoId': 'fgvowKm_ym8'}, 'snippet': {'publishedAt': '2020-10-25T14:30:02Z', 'channelId': 'UCPqGoVb55XeRrliyql_cmlQ', 'title': 'Do &quot;THIS&quot; to Make a Girl Chase You', 'description': 'Download 21 \"High Value\" Beliefs: https://highstatushabits.com/21beliefs/ In this video you\\'ll learn how to get a woman to chase ...', 'thumbnails': {'default': {'url': 'https://i.ytimg.com/vi/fgvowKm_ym8/default.jpg', 'width': 120, 'height': 90}, 'medium': {'url': 'https://i.ytimg.com/vi/fgvowKm_ym8/mqdefault.jpg', 'width': 320, 'height': 180}, 'high': {'url': 'https://i.ytimg.com/vi/fgvowKm_ym8/hqdefault.jpg', 'width': 480, 'height': 360}}, 'channelTitle': 'Bobby Rio', 'liveBroadcastContent': 'none', 'publishTime': '2020-10-25T14:30:02Z'}}, {'kind': 'youtube#searchResult', 'etag': '6p622Tfhx9Tg3oAVrAR42MUbEpo', 'id': {'kind': 'youtube#video', 'videoId': 'QgKzaQpeaRA'}, 'snippet': {'publishedAt': '2021-03-19T16:00:09Z', 'channelId': 'UCPqGoVb55XeRrliyql_cmlQ', 'title': '#1 Secret to Being a &quot;High Status&quot; Man #shorts', 'description': 'Take the Quiz: http://www.unlockthescrambler.com/attraction-quiz Watch the full video: ...', 'thumbnails': {'default': {'url': 'https://i.ytimg.com/vi/QgKzaQpeaRA/default.jpg', 'width': 120, 'height': 90}, 'medium': {'url': 'https://i.ytimg.com/vi/QgKzaQpeaRA/mqdefault.jpg', 'width': 320, 'height': 180}, 'high': {'url': 'https://i.ytimg.com/vi/QgKzaQpeaRA/hqdefault.jpg', 'width': 480, 'height': 360}}, 'channelTitle': 'Bobby Rio', 'liveBroadcastContent': 'none', 'publishTime': '2021-03-19T16:00:09Z'}}]}\n"
          ]
        },
        {
          "output_type": "execute_result",
          "data": {
            "text/plain": [
              "'UCPqGoVb55XeRrliyql_cmlQ'"
            ],
            "application/vnd.google.colaboratory.intrinsic+json": {
              "type": "string"
            }
          },
          "metadata": {},
          "execution_count": 75
        }
      ]
    },
    {
      "cell_type": "markdown",
      "source": [
        "#**特定のチャンネルの情報を表示**"
      ],
      "metadata": {
        "id": "9h7GF1qx8ei5"
      }
    },
    {
      "cell_type": "code",
      "source": [
        "###############################\n",
        "CHANNEL_ID = CHANNEL_ID\n",
        "#CHANNEL_ID = 'UCAhJIkIlZN9YHLZI93eVXlA\t'\n",
        "###############################\n",
        "\n",
        "channels = [] #チャンネル情報を格納する配列\n",
        "searches = [] #videoidを格納する配列\n",
        "videos = [] #各動画情報を格納する配列\n",
        "nextPagetoken = None\n",
        "nextpagetoken = None"
      ],
      "metadata": {
        "id": "6CtsynCh8ZJC"
      },
      "execution_count": 76,
      "outputs": []
    },
    {
      "cell_type": "code",
      "source": [
        "channel_response = youtube.channels().list(\n",
        "    part = 'snippet,statistics',\n",
        "    id = CHANNEL_ID\n",
        "    ).execute()\n",
        "\n",
        "channels = []\n",
        "\n",
        "#[タイトル、登録者数、ビュー数、ビデオ数]\n",
        "for channel_result in channel_response.get(\"items\", []):\n",
        "    if channel_result[\"kind\"] == \"youtube#channel\":\n",
        "        channels.append([channel_result[\"snippet\"][\"title\"],\n",
        "        channel_result[\"statistics\"][\"subscriberCount\"],\n",
        "        channel_result[\"statistics\"][\"videoCount\"],\n",
        "        channel_result[\"statistics\"][\"viewCount\"],\n",
        "        channel_result[\"snippet\"][\"publishedAt\"],\n",
        "        ])\n",
        "  \n",
        "print(\"Channel_name: {}\".format(channels[0][0]))\n",
        "print(\"Subscribers: {}\".format(channels[0][1]))\n",
        "print(\"Videos: {}\".format(channels[0][2]))\n",
        "print(\"Views: {}\".format(channels[0][3]))\n",
        "print(\"Published at: {}\".format(channels[0][4]))"
      ],
      "metadata": {
        "colab": {
          "base_uri": "https://localhost:8080/"
        },
        "id": "jgBmdENW86zw",
        "outputId": "31914277-bbb7-4b2a-8fee-3d6dccfcd60e"
      },
      "execution_count": 77,
      "outputs": [
        {
          "output_type": "stream",
          "name": "stdout",
          "text": [
            "Channel_name: Bobby Rio\n",
            "Subscribers: 267000\n",
            "Videos: 288\n",
            "Views: 32743328\n",
            "Published at: 2013-02-22T13:11:28Z\n"
          ]
        }
      ]
    },
    {
      "cell_type": "code",
      "source": [
        "#チャンネルに登録されているビデオの一覧を出す\n",
        "while True:\n",
        "    if nextPagetoken != None:\n",
        "        nextpagetoken = nextPagetoken\n",
        "\n",
        "    search_response = youtube.search().list(\n",
        "      part = \"snippet\",\n",
        "      channelId = CHANNEL_ID,\n",
        "      maxResults = 50,\n",
        "      order = \"date\", #日付順にソート\n",
        "      pageToken = nextpagetoken #再帰的に指定\n",
        "      ).execute()\n",
        " \n",
        "    for search_result in search_response.get(\"items\", []):\n",
        "        if search_result[\"id\"][\"kind\"] == \"youtube#video\":\n",
        "            searches.append(search_result[\"id\"][\"videoId\"])\n",
        "\n",
        "    try:\n",
        "        nextPagetoken =  search_response[\"nextPageToken\"]\n",
        "    except:\n",
        "        break"
      ],
      "metadata": {
        "id": "hZU16BsU9DS0"
      },
      "execution_count": 78,
      "outputs": []
    },
    {
      "cell_type": "code",
      "source": [
        "videos = []\n",
        "for result in searches:\n",
        "    video_response = youtube.videos().list(\n",
        "      part = 'snippet,statistics',\n",
        "      id = result\n",
        "      ).execute()\n",
        "\n",
        "    #[Title, viewCount, likeCount, commentCount, PublishDate]\n",
        "    for video_result in video_response.get(\"items\", []):\n",
        "        if video_result[\"kind\"] == \"youtube#video\":\n",
        "            videos.append([video_result[\"snippet\"][\"title\"],video_result[\"id\"],video_result[\"statistics\"][\"viewCount\"],video_result[\"statistics\"][\"likeCount\"],video_result[\"statistics\"][\"commentCount\"],video_result[\"snippet\"][\"publishedAt\"]])"
      ],
      "metadata": {
        "id": "7rTcNgNzArH2"
      },
      "execution_count": 79,
      "outputs": []
    },
    {
      "cell_type": "code",
      "source": [
        "import pandas as pd\n",
        "# カラムがないindexだけ設定されているDataFrameを作成\n",
        "col_names = [\"Title\", \"id\", \"viewCount\", \"likeCount\", \"commentCount\", \"publishDate\"]\n",
        "df_videos = pd.DataFrame(index=[], columns=col_names)\n",
        "\n",
        "#ChannelsのリストをDataframeに移す\n",
        "for i in videos:\n",
        "    df_videos.loc[len(df_videos.index)] = i #Adding new row\n",
        "\n",
        "#閲覧数をint型に変換して昇順に並べ替え\n",
        "df_videos['viewCount'] = pd.to_numeric(df_videos['viewCount'], errors='coerce')\n",
        "df_videos = df_videos.sort_values('viewCount', ascending=False)\n",
        "\n",
        "pd.set_option('display.max_rows', 1000)\n",
        "df_videos\n",
        "\n",
        "df_videos.to_csv('/content/'+channels[0][0]+'_list.csv')\n"
      ],
      "metadata": {
        "id": "GGGfw5MLCrC2"
      },
      "execution_count": 81,
      "outputs": []
    },
    {
      "cell_type": "code",
      "source": [
        "video_response.get(\"items\", [])"
      ],
      "metadata": {
        "colab": {
          "base_uri": "https://localhost:8080/"
        },
        "id": "qCq0cHWoAzNm",
        "outputId": "c43212c2-6cab-461a-fe20-5be1cbbebb7c"
      },
      "execution_count": null,
      "outputs": [
        {
          "output_type": "execute_result",
          "data": {
            "text/plain": [
              "[{'kind': 'youtube#video',\n",
              "  'etag': 'SXztAK_OIbrioS8Ra2D3mhkoHj4',\n",
              "  'id': 'l3lJWXcDzDw',\n",
              "  'snippet': {'publishedAt': '2022-09-30T12:33:28Z',\n",
              "   'channelId': 'UC7V2aN8aw_UaJ9xbBS5A2hg',\n",
              "   'title': '大学晒してみた。',\n",
              "   'description': '※これはまじ。\\n\\n▼SNS\\n･Instagram\\n  https://www.instagram.com/_smollq/\\n･Twitter\\n  https://mobile.twitter.com/_smollq\\n･TikTok\\n  https://vt.tiktok.com/ZSJXrNx46/',\n",
              "   'thumbnails': {'default': {'url': 'https://i.ytimg.com/vi/l3lJWXcDzDw/default.jpg',\n",
              "     'width': 120,\n",
              "     'height': 90},\n",
              "    'medium': {'url': 'https://i.ytimg.com/vi/l3lJWXcDzDw/mqdefault.jpg',\n",
              "     'width': 320,\n",
              "     'height': 180},\n",
              "    'high': {'url': 'https://i.ytimg.com/vi/l3lJWXcDzDw/hqdefault.jpg',\n",
              "     'width': 480,\n",
              "     'height': 360},\n",
              "    'standard': {'url': 'https://i.ytimg.com/vi/l3lJWXcDzDw/sddefault.jpg',\n",
              "     'width': 640,\n",
              "     'height': 480}},\n",
              "   'channelTitle': 'さすけ',\n",
              "   'tags': ['大学',\n",
              "    '高校',\n",
              "    '受験',\n",
              "    '大学生',\n",
              "    '高校生',\n",
              "    '受験生',\n",
              "    '明治大学',\n",
              "    '政治経済学部',\n",
              "    '政経',\n",
              "    '経済',\n",
              "    'MARCH',\n",
              "    '課題',\n",
              "    'レポート'],\n",
              "   'categoryId': '24',\n",
              "   'liveBroadcastContent': 'none',\n",
              "   'defaultLanguage': 'ja',\n",
              "   'localized': {'title': '大学晒してみた。',\n",
              "    'description': '※これはまじ。\\n\\n▼SNS\\n･Instagram\\n  https://www.instagram.com/_smollq/\\n･Twitter\\n  https://mobile.twitter.com/_smollq\\n･TikTok\\n  https://vt.tiktok.com/ZSJXrNx46/'},\n",
              "   'defaultAudioLanguage': 'ja'},\n",
              "  'statistics': {'viewCount': '98171',\n",
              "   'likeCount': '5346',\n",
              "   'favoriteCount': '0',\n",
              "   'commentCount': '589'}}]"
            ]
          },
          "metadata": {},
          "execution_count": 100
        }
      ]
    }
  ]
}